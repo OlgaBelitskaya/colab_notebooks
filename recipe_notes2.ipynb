{
  "nbformat": 4,
  "nbformat_minor": 0,
  "metadata": {
    "colab": {
      "name": "recipe_notes2.ipynb",
      "provenance": [],
      "collapsed_sections": []
    },
    "kernelspec": {
      "name": "python3",
      "display_name": "Python 3"
    }
  },
  "cells": [
    {
      "cell_type": "code",
      "metadata": {
        "id": "a8WG7DLLjMqz"
      },
      "source": [
        "from IPython.display import display,HTML\n",
        "import random\n",
        "f1,f2,f3,f4,f5,f6,f7,f8,f9=\\\n",
        "'Smokum','Akronim','Wallpoet','Orbitron','Ewert',\\\n",
        "'Lobster','Roboto','Miss Fajardose','Monoton'\n",
        "fs1,fs2,fs3,fs4,fs5,fs6,fs7,fs8,fs9,fs10,fs11=\\\n",
        "10,12,14,16,18,20,22,24,26,28,30\n",
        "def chtml(string,font_family=f2,font_size=fs9,font_color='#ff36ff'):\n",
        "    css_str=\"\"\"<style>@import \"\"\"+\\\n",
        "    \"\"\"'https://fonts.googleapis.com/css?family=\"\"\"+font_family+\"\"\"'; \n",
        "    .ch1 {color:\"\"\"+font_color+\"\"\"; font-family:\"\"\"+font_family+\"\"\"; \n",
        "    font-size:\"\"\"+str(font_size)+\"\"\"px;}</style>\"\"\"\n",
        "    h1_str=\"\"\"<h1 class='ch1'>\"\"\"+string+\"\"\"</h1>\"\"\"\n",
        "    display(HTML(css_str+h1_str))\n",
        "def idhtml(string,font_family=f5,\n",
        "           font_size=fs5,font_color='darkslategray'):\n",
        "    randi=random.randint(1,999999999)\n",
        "    css_str=\"\"\"<style>@import \"\"\"+\\\n",
        "    \"\"\"'https://fonts.googleapis.com/css?family=\"\"\"+font_family+\"\"\"'; \n",
        "    #ch1_\"\"\"+str(randi)+\"\"\" {font-family:\"\"\"+font_family+\"\"\"; \n",
        "    color:\"\"\"+font_color+\"\"\"; font-size:\"\"\"+str(font_size)+\"\"\"px;}</style>\"\"\"\n",
        "    h1_str=\"\"\"<h1 id='ch1_\"\"\"+str(randi)+\"\"\"'>\"\"\"+string+\"\"\"</h1>\"\"\"\n",
        "    scr_str=\"\"\"<script>\n",
        "    var idc=setInterval(function() {\n",
        "        var iddoc=document.getElementById('ch1_\"\"\"+str(randi)+\"\"\"'), \n",
        "            sec=Math.floor(new Date().getTime()%60000/1000); \n",
        "        var col='rgb('+(5+Math.abs(245-8*sec))+',0,'+\n",
        "                (250-Math.abs(245-8*sec))+')';  \n",
        "        iddoc.style.color=col;}, 1000);</script>\"\"\"\n",
        "    display(HTML(css_str+h1_str+scr_str))"
      ],
      "execution_count": 28,
      "outputs": []
    },
    {
      "cell_type": "code",
      "metadata": {
        "colab": {
          "base_uri": "https://localhost:8080/",
          "height": 105
        },
        "id": "BHKwMuFRktXx",
        "outputId": "cde1e709-e98b-44f4-eb1f-ec852e44f1f3"
      },
      "source": [
        "#this one looks fine in the working space\n",
        "chtml('Style Applying to Classes of Elements')\n",
        "#and this one looks fine in the working space and after notebooks' execution\n",
        "idhtml('Style Applying to Id of Elements')"
      ],
      "execution_count": 29,
      "outputs": [
        {
          "output_type": "display_data",
          "data": {
            "text/html": [
              "<style>@import 'https://fonts.googleapis.com/css?family=Akronim'; \n",
              "    .ch1 {color:#ff36ff; font-family:Akronim; \n",
              "    font-size:26px;}</style><h1 class='ch1'>Style Applying to Classes of Elements</h1>"
            ],
            "text/plain": [
              "<IPython.core.display.HTML object>"
            ]
          },
          "metadata": {
            "tags": []
          }
        },
        {
          "output_type": "display_data",
          "data": {
            "text/html": [
              "<style>@import 'https://fonts.googleapis.com/css?family=Ewert'; \n",
              "    #ch1_97742278 {font-family:Ewert; \n",
              "    color:darkslategray; font-size:18px;}</style><h1 id='ch1_97742278'>Style Applying to Id of Elements</h1><script>\n",
              "    var idc=setInterval(function() {\n",
              "        var iddoc=document.getElementById('ch1_97742278'), \n",
              "            sec=Math.floor(new Date().getTime()%60000/1000); \n",
              "        var col='rgb('+(5+Math.abs(245-8*sec))+',0,'+\n",
              "                (250-Math.abs(245-8*sec))+')';  \n",
              "        iddoc.style.color=col;}, 1000);</script>"
            ],
            "text/plain": [
              "<IPython.core.display.HTML object>"
            ]
          },
          "metadata": {
            "tags": []
          }
        }
      ]
    },
    {
      "cell_type": "code",
      "metadata": {
        "id": "Ny5QnkIkAzWz"
      },
      "source": [
        "from IPython.display import display,HTML\n",
        "import random\n",
        "def d3barchart_list(num_list1,num_list2,background_color='silver',\n",
        "                    width=600,height=400):\n",
        "    num_list1,num_list2=str(num_list1),str(num_list2) \n",
        "    randi=random.randint(1,999999999)\n",
        "    css_str=\"\"\"<style>#run_update \n",
        "    {fill:slategray;stroke:#fff; fill-opacity:.7}</style>\"\"\"\n",
        "    html_str=\"\"\"<script src='https://d3js.org/d3.v6.min.js'>\n",
        "    <\"\"\"+\"\"\"/script><svg id='svg\"\"\"+str(randi)+\"\"\"' \n",
        "    style='background-color:\"\"\"+background_color+\"\"\";'></svg><br/><br/>\"\"\"\n",
        "    scr_str=\"\"\"<script>\n",
        "        var data=\"\"\"+num_list1+\"\"\",m=20; \n",
        "        var n=data.length,ymax=1.2*d3.max(data),\n",
        "            margin={top:m,right:m,bottom:m,left:m},\n",
        "            width=\"\"\"+str(width)+\"\"\"-margin.left-margin.right,\n",
        "            height=\"\"\"+str(height)+\"\"\"-margin.top-margin.bottom;\n",
        "        var trans='translate('+margin.left+','+margin.top+')'; \n",
        "        var xScale=d3.scaleBand().domain(d3.range(n))\n",
        "                     .rangeRound([0,width]).paddingInner(.1),\n",
        "            yScale=d3.scaleLinear().domain([0,ymax]).range([0,height]);\n",
        "        var svg=d3.select('#svg\"\"\"+str(randi)+\"\"\"')\n",
        "                  .attr('width',width).attr('height',height)\n",
        "                  .attr('transform',trans); \n",
        "        svg.selectAll('rect').data(data).enter().append('rect')\n",
        "           .attr('x',function(d,i) {return xScale(i);})\n",
        "           .attr('y',function(d) {return height-yScale(d);})\n",
        "           .attr('width',xScale.bandwidth())\n",
        "           .attr('height',function(d) {return yScale(d);})\n",
        "           .attr('fill',function(d) { \n",
        "               return 'rgb('+Math.round(d*50/ymax)+',0,'+\n",
        "                       Math.round(d*255/ymax)+')';}); \n",
        "        function newData() {\n",
        "            var n=data.length; \n",
        "            while (data.length>0) {data.pop();}; \n",
        "            for (var i=0; i<n; i++) {data.push(\"\"\"+num_list2+\"\"\"[i]);}; \n",
        "            return data}; \n",
        "        function updateBar() {\n",
        "            svg.selectAll('rect').data(data).transition().duration(3000)\n",
        "               .attr('y',function(d) {return height-yScale(d);})\n",
        "               .attr('height',function(d) {return yScale(d);})\n",
        "               .attr('fill',function(d) {\n",
        "                   return 'rgb('+Math.round(d*50/ymax)+',0,'+\n",
        "                          Math.round(d*255/ymax)+')';}); }; \n",
        "        svg.append('circle').attr('id','run_update')\n",
        "           .attr('cx',m).attr('cy',1.25*m).attr('r',15)\n",
        "           .on('click',function() {newData(); updateBar();}); \n",
        "        svg.append('text').text(' <<< UPDATE')\n",
        "           .attr('x',2*m).attr('y',1.25*m).attr('fill','#fff');\n",
        "    </script>\"\"\"\n",
        "    display(HTML(css_str+html_str+scr_str))"
      ],
      "execution_count": 30,
      "outputs": []
    },
    {
      "cell_type": "code",
      "metadata": {
        "id": "3Ct0oMY9CLnC",
        "colab": {
          "base_uri": "https://localhost:8080/",
          "height": 398
        },
        "outputId": "a562bd13-ddd2-4f0c-f4ce-35e1b8bdcdd5"
      },
      "source": [
        "import numpy as np\n",
        "num_list1=list(np.random.randint(1,100,50))\n",
        "num_list2=list(np.random.randint(1,100,50))\n",
        "d3barchart_list(num_list1,num_list2)"
      ],
      "execution_count": 32,
      "outputs": [
        {
          "output_type": "display_data",
          "data": {
            "text/html": [
              "<style>#run_update \n",
              "    {fill:slategray;stroke:#fff; fill-opacity:.7}</style><script src='https://d3js.org/d3.v6.min.js'>\n",
              "    </script><svg id='svg958364345' \n",
              "    style='background-color:silver;'></svg><br/><br/><script>\n",
              "        var data=[36, 11, 36, 24, 65, 71, 7, 80, 8, 29, 97, 70, 56, 77, 46, 63, 28, 76, 71, 63, 81, 65, 54, 12, 41, 35, 22, 65, 93, 58, 15, 43, 77, 8, 93, 64, 62, 97, 90, 50, 58, 98, 72, 8, 20, 37, 67, 15, 74, 49],m=20; \n",
              "        var n=data.length,ymax=1.2*d3.max(data),\n",
              "            margin={top:m,right:m,bottom:m,left:m},\n",
              "            width=600-margin.left-margin.right,\n",
              "            height=400-margin.top-margin.bottom;\n",
              "        var trans='translate('+margin.left+','+margin.top+')'; \n",
              "        var xScale=d3.scaleBand().domain(d3.range(n))\n",
              "                     .rangeRound([0,width]).paddingInner(.1),\n",
              "            yScale=d3.scaleLinear().domain([0,ymax]).range([0,height]);\n",
              "        var svg=d3.select('#svg958364345')\n",
              "                  .attr('width',width).attr('height',height)\n",
              "                  .attr('transform',trans); \n",
              "        svg.selectAll('rect').data(data).enter().append('rect')\n",
              "           .attr('x',function(d,i) {return xScale(i);})\n",
              "           .attr('y',function(d) {return height-yScale(d);})\n",
              "           .attr('width',xScale.bandwidth())\n",
              "           .attr('height',function(d) {return yScale(d);})\n",
              "           .attr('fill',function(d) { \n",
              "               return 'rgb('+Math.round(d*50/ymax)+',0,'+\n",
              "                       Math.round(d*255/ymax)+')';}); \n",
              "        function newData() {\n",
              "            var n=data.length; \n",
              "            while (data.length>0) {data.pop();}; \n",
              "            for (var i=0; i<n; i++) {data.push([8, 51, 76, 33, 42, 17, 76, 88, 77, 31, 95, 87, 47, 13, 95, 83, 55, 54, 64, 4, 18, 15, 54, 95, 95, 36, 29, 54, 6, 95, 6, 73, 32, 98, 77, 59, 62, 87, 62, 97, 22, 7, 58, 57, 95, 2, 88, 64, 64, 38][i]);}; \n",
              "            return data}; \n",
              "        function updateBar() {\n",
              "            svg.selectAll('rect').data(data).transition().duration(3000)\n",
              "               .attr('y',function(d) {return height-yScale(d);})\n",
              "               .attr('height',function(d) {return yScale(d);})\n",
              "               .attr('fill',function(d) {\n",
              "                   return 'rgb('+Math.round(d*50/ymax)+',0,'+\n",
              "                          Math.round(d*255/ymax)+')';}); }; \n",
              "        svg.append('circle').attr('id','run_update')\n",
              "           .attr('cx',m).attr('cy',1.25*m).attr('r',15)\n",
              "           .on('click',function() {newData(); updateBar();}); \n",
              "        svg.append('text').text(' <<< UPDATE')\n",
              "           .attr('x',2*m).attr('y',1.25*m).attr('fill','#fff');\n",
              "    </script>"
            ],
            "text/plain": [
              "<IPython.core.display.HTML object>"
            ]
          },
          "metadata": {
            "tags": []
          }
        }
      ]
    },
    {
      "cell_type": "code",
      "metadata": {
        "id": "dp3uUHeSaFsP"
      },
      "source": [
        "from IPython.display import display,HTML\n",
        "import random\n",
        "def d3scatter2d_csv(csv_url,x='x',y='y',marker_size=3,\n",
        "                    background_color='silver',grid_color='black',\n",
        "                    width=500,height=500):\n",
        "    randi=random.randint(1,999999999)\n",
        "    css_str=\"\"\"<style>.grid1 line,.grid1 path,.xaxis1,.yaxis1 \n",
        "    {stroke:\"\"\"+grid_color+\"\"\"; stroke-opacity:.5;}</style>\"\"\"\n",
        "    html_str=\"\"\"<script src='https://d3js.org/d3.v4.min.js'>\n",
        "    </\"\"\"+\"\"\"script><svg id='svg\"\"\"+str(randi)+\"\"\"' \n",
        "    style='background-color:\"\"\"+background_color+\"\"\"'></svg><br/>\"\"\"\n",
        "    scr_str=\"\"\"<script>\n",
        "    var url='\"\"\"+csv_url+\"\"\"'; \n",
        "    d3.csv(url,function(data) {\n",
        "        var xmin=d3.min(data,function(d) {return parseFloat(d.\"\"\"+x+\"\"\");}),\n",
        "            xmax=d3.max(data,function(d) {return parseFloat(d.\"\"\"+x+\"\"\");});\n",
        "        var ymin=d3.min(data,function(d) {return parseFloat(d.\"\"\"+y+\"\"\");}),\n",
        "            ymax=d3.max(data,function(d) {return parseFloat(d.\"\"\"+y+\"\"\");});\n",
        "        var n=data.length,m=20,margin={top:m,right:m,bottom:m,left:m},\n",
        "            width=\"\"\"+str(width)+\"\"\"-margin.left-margin.right,\n",
        "            height=\"\"\"+str(height)+\"\"\"-margin.top-margin.bottom;\n",
        "        var xScale=d3.scaleLinear()\n",
        "                     .domain([1.1*xmin,1.1*xmax]).range([0,width]),\n",
        "            yScale=d3.scaleLinear()\n",
        "                     .domain([1.1*ymin,1.1*ymax]).range([height,0]); \n",
        "        function make_x_gridlines() {\n",
        "            return d3.axisBottom(xScale).ticks(11)}; \n",
        "        function make_y_gridlines() { \n",
        "            return d3.axisLeft(yScale).ticks(11)};  \n",
        "        var pointColor=d3.scaleSequential().domain([0,n]) \n",
        "                         .interpolator(d3.interpolateRainbow);  \n",
        "        var tr1='translate('+margin.left+','+margin.top+')',\n",
        "            tr2='translate(0,'+height+')';  \n",
        "        var svg=d3.select('#svg\"\"\"+str(randi)+\"\"\"') \n",
        "                  .attr('width',width+margin.left+margin.right) \n",
        "                  .attr('height',height+margin.top+margin.bottom) \n",
        "                  .append('g').attr('transform',tr1);  \n",
        "        svg.append('g').attr('class','xaxis1') \n",
        "           .call(d3.axisBottom(xScale).tickSize(.5)).attr('transform',tr2);  \n",
        "        svg.append('g').attr('class','yaxis1') \n",
        "           .call(d3.axisLeft(yScale).tickSize(.5)); \n",
        "        svg.append('g').attr('class','grid1').attr('transform',tr2)\n",
        "           .call(make_x_gridlines().tickSize(-height).tickFormat(''));\n",
        "        svg.append('g').attr('class','grid1').call(make_y_gridlines()\n",
        "           .tickSize(-width).tickFormat(''));\n",
        "        svg.selectAll('.point').data(data).enter()\n",
        "           .append('circle').attr('class','point')\n",
        "           .attr('fill',function(d,i){return pointColor(i)})\n",
        "           .attr('r',\"\"\"+str(marker_size)+\"\"\")\n",
        "           .attr('stroke','#fff')\n",
        "           .attr('stroke-width',\"\"\"+str(.1*marker_size)+\"\"\")\n",
        "           .attr('cx',function(d) {return xScale(d.\"\"\"+x+\"\"\")})\n",
        "           .attr('cy',function(d) {return yScale(d.\"\"\"+y+\"\"\")}); \n",
        "    });</script>\"\"\"\n",
        "    display(HTML(css_str+html_str+scr_str))"
      ],
      "execution_count": 44,
      "outputs": []
    },
    {
      "cell_type": "code",
      "metadata": {
        "colab": {
          "base_uri": "https://localhost:8080/",
          "height": 321
        },
        "id": "g0Wf7lLgCRFT",
        "outputId": "fdc38ad1-8237-4daf-ec57-7ac2b4389554"
      },
      "source": [
        "csv_url='https://olgabelitskaya.github.io/castle.csv'\n",
        "d3scatter2d_csv(csv_url,'x','z',2,'ghostwhite','steelblue',600,300)"
      ],
      "execution_count": 45,
      "outputs": [
        {
          "output_type": "display_data",
          "data": {
            "text/html": [
              "<style>.grid1 line,.grid1 path,.xaxis1,.yaxis1 \n",
              "    {stroke:steelblue; stroke-opacity:.5;}</style><script src='https://d3js.org/d3.v4.min.js'>\n",
              "    </script><svg id='svg14533325' \n",
              "    style='background-color:ghostwhite'></svg><br/><script>\n",
              "    var url='https://olgabelitskaya.github.io/castle.csv'; \n",
              "    d3.csv(url,function(data) {\n",
              "        var xmin=d3.min(data,function(d) {return parseFloat(d.x);}),\n",
              "            xmax=d3.max(data,function(d) {return parseFloat(d.x);});\n",
              "        var ymin=d3.min(data,function(d) {return parseFloat(d.z);}),\n",
              "            ymax=d3.max(data,function(d) {return parseFloat(d.z);});\n",
              "        var n=data.length,m=20,margin={top:m,right:m,bottom:m,left:m},\n",
              "            width=600-margin.left-margin.right,\n",
              "            height=300-margin.top-margin.bottom;\n",
              "        var xScale=d3.scaleLinear()\n",
              "                     .domain([1.1*xmin,1.1*xmax]).range([0,width]),\n",
              "            yScale=d3.scaleLinear()\n",
              "                     .domain([1.1*ymin,1.1*ymax]).range([height,0]); \n",
              "        function make_x_gridlines() {\n",
              "            return d3.axisBottom(xScale).ticks(11)}; \n",
              "        function make_y_gridlines() { \n",
              "            return d3.axisLeft(yScale).ticks(11)};  \n",
              "        var pointColor=d3.scaleSequential().domain([0,n]) \n",
              "                         .interpolator(d3.interpolateRainbow);  \n",
              "        var tr1='translate('+margin.left+','+margin.top+')',\n",
              "            tr2='translate(0,'+height+')';  \n",
              "        var svg=d3.select('#svg14533325') \n",
              "                  .attr('width',width+margin.left+margin.right) \n",
              "                  .attr('height',height+margin.top+margin.bottom) \n",
              "                  .append('g').attr('transform',tr1);  \n",
              "        svg.append('g').attr('class','xaxis1') \n",
              "           .call(d3.axisBottom(xScale).tickSize(.5)).attr('transform',tr2);  \n",
              "        svg.append('g').attr('class','yaxis1') \n",
              "           .call(d3.axisLeft(yScale).tickSize(.5)); \n",
              "        svg.append('g').attr('class','grid1').attr('transform',tr2)\n",
              "           .call(make_x_gridlines().tickSize(-height).tickFormat(''));\n",
              "        svg.append('g').attr('class','grid1').call(make_y_gridlines()\n",
              "           .tickSize(-width).tickFormat(''));\n",
              "        svg.selectAll('.point').data(data).enter()\n",
              "           .append('circle').attr('class','point')\n",
              "           .attr('fill',function(d,i){return pointColor(i)})\n",
              "           .attr('r',2)\n",
              "           .attr('stroke','#fff')\n",
              "           .attr('stroke-width',0.2)\n",
              "           .attr('cx',function(d) {return xScale(d.x)})\n",
              "           .attr('cy',function(d) {return yScale(d.z)}); \n",
              "    });</script>"
            ],
            "text/plain": [
              "<IPython.core.display.HTML object>"
            ]
          },
          "metadata": {
            "tags": []
          }
        }
      ]
    },
    {
      "cell_type": "code",
      "metadata": {
        "colab": {
          "base_uri": "https://localhost:8080/",
          "height": 721
        },
        "id": "soaChIosCkp-",
        "outputId": "c63952a2-4545-4136-f7a8-8a31f6ea98e6"
      },
      "source": [
        "csv_url='https://olgabelitskaya.github.io/beethoven.csv'\n",
        "d3scatter2d_csv(csv_url,'x','z',.7,'black','slategray',600,700)"
      ],
      "execution_count": 49,
      "outputs": [
        {
          "output_type": "display_data",
          "data": {
            "text/html": [
              "<style>.grid1 line,.grid1 path,.xaxis1,.yaxis1 \n",
              "    {stroke:slategray; stroke-opacity:.5;}</style><script src='https://d3js.org/d3.v4.min.js'>\n",
              "    </script><svg id='svg34319970' \n",
              "    style='background-color:black'></svg><br/><script>\n",
              "    var url='https://olgabelitskaya.github.io/beethoven.csv'; \n",
              "    d3.csv(url,function(data) {\n",
              "        var xmin=d3.min(data,function(d) {return parseFloat(d.x);}),\n",
              "            xmax=d3.max(data,function(d) {return parseFloat(d.x);});\n",
              "        var ymin=d3.min(data,function(d) {return parseFloat(d.z);}),\n",
              "            ymax=d3.max(data,function(d) {return parseFloat(d.z);});\n",
              "        var n=data.length,m=20,margin={top:m,right:m,bottom:m,left:m},\n",
              "            width=600-margin.left-margin.right,\n",
              "            height=700-margin.top-margin.bottom;\n",
              "        var xScale=d3.scaleLinear()\n",
              "                     .domain([1.1*xmin,1.1*xmax]).range([0,width]),\n",
              "            yScale=d3.scaleLinear()\n",
              "                     .domain([1.1*ymin,1.1*ymax]).range([height,0]); \n",
              "        function make_x_gridlines() {\n",
              "            return d3.axisBottom(xScale).ticks(11)}; \n",
              "        function make_y_gridlines() { \n",
              "            return d3.axisLeft(yScale).ticks(11)};  \n",
              "        var pointColor=d3.scaleSequential().domain([0,n]) \n",
              "                         .interpolator(d3.interpolateRainbow);  \n",
              "        var tr1='translate('+margin.left+','+margin.top+')',\n",
              "            tr2='translate(0,'+height+')';  \n",
              "        var svg=d3.select('#svg34319970') \n",
              "                  .attr('width',width+margin.left+margin.right) \n",
              "                  .attr('height',height+margin.top+margin.bottom) \n",
              "                  .append('g').attr('transform',tr1);  \n",
              "        svg.append('g').attr('class','xaxis1') \n",
              "           .call(d3.axisBottom(xScale).tickSize(.5)).attr('transform',tr2);  \n",
              "        svg.append('g').attr('class','yaxis1') \n",
              "           .call(d3.axisLeft(yScale).tickSize(.5)); \n",
              "        svg.append('g').attr('class','grid1').attr('transform',tr2)\n",
              "           .call(make_x_gridlines().tickSize(-height).tickFormat(''));\n",
              "        svg.append('g').attr('class','grid1').call(make_y_gridlines()\n",
              "           .tickSize(-width).tickFormat(''));\n",
              "        svg.selectAll('.point').data(data).enter()\n",
              "           .append('circle').attr('class','point')\n",
              "           .attr('fill',function(d,i){return pointColor(i)})\n",
              "           .attr('r',0.7)\n",
              "           .attr('stroke','#fff')\n",
              "           .attr('stroke-width',0.06999999999999999)\n",
              "           .attr('cx',function(d) {return xScale(d.x)})\n",
              "           .attr('cy',function(d) {return yScale(d.z)}); \n",
              "    });</script>"
            ],
            "text/plain": [
              "<IPython.core.display.HTML object>"
            ]
          },
          "metadata": {
            "tags": []
          }
        }
      ]
    },
    {
      "cell_type": "code",
      "metadata": {
        "colab": {
          "base_uri": "https://localhost:8080/",
          "height": 58
        },
        "id": "hYSe5Vaqk4iH",
        "outputId": "32ff43d6-4589-4f51-b744-194601c7ec1f"
      },
      "source": [
        "from IPython.display import display,HTML\n",
        "import random\n",
        "def js_color_print(string,font_size):\n",
        "    randi=str(random.randint(0,99999))\n",
        "    html_str=\"\"\"<p id='color_timer\"\"\"+randi+\"\"\"' \n",
        "    style='font-size:\"\"\"+str(font_size)+\"\"\"px;'>\n",
        "    \"\"\"+string+\"\"\"</p>\n",
        "    <script>\n",
        "    var tc=setInterval(function() {\n",
        "        var doc=document.getElementById('color_timer\"\"\"+randi+\"\"\"');\n",
        "        var sec=Math.floor(new Date().getTime()%60000/1000);\n",
        "        var col='rgb(0,'+(5+Math.abs(245-8*sec))+','+\n",
        "                (250-Math.abs(245-8*sec))+')';\n",
        "        doc.style.color=col},1);\n",
        "    </\"\"\"+\"\"\"script>\"\"\"\n",
        "    display(HTML(html_str))\n",
        "js_color_print('string printing',24)"
      ],
      "execution_count": 80,
      "outputs": [
        {
          "output_type": "display_data",
          "data": {
            "text/html": [
              "<p id='color_timer78392' \n",
              "    style='font-size:24px;'>\n",
              "    string printing</p>\n",
              "    <script>\n",
              "    var tc=setInterval(function() {\n",
              "        var doc=document.getElementById('color_timer78392');\n",
              "        var sec=Math.floor(new Date().getTime()%60000/1000);\n",
              "        var col='rgb(0,'+(5+Math.abs(245-8*sec))+','+\n",
              "                (250-Math.abs(245-8*sec))+')';\n",
              "        doc.style.color=col},1);\n",
              "    </script>"
            ],
            "text/plain": [
              "<IPython.core.display.HTML object>"
            ]
          },
          "metadata": {
            "tags": []
          }
        }
      ]
    },
    {
      "cell_type": "code",
      "metadata": {
        "colab": {
          "base_uri": "https://localhost:8080/",
          "height": 218
        },
        "id": "i1Uy9-tMS2Nj",
        "outputId": "9e35fb97-d4d5-42b2-d347-2f4b6bc49d0e"
      },
      "source": [
        "%%javascript\n",
        "var out=document.querySelector('#output-area'),\n",
        "    p1=document.createElement('p'),\n",
        "    p2=document.createElement('p'),\n",
        "    p3=document.createElement('p'),\n",
        "    str1='🕒 <<<<< this html element has id=\"color_timer\" >>>>> 🕒',\n",
        "    str2='😍 <<<<< this html element has id=\"color_timer\" >>>>> 😍',\n",
        "    str3='😋 <<<<< this html element has id=\"new_year_countdown\" >>>>> 😋';\n",
        "out.style.border='double'; out.style.width='50%';  \n",
        "p1.appendChild(document.createTextNode(str1));\n",
        "p2.appendChild(document.createTextNode(str2));\n",
        "p3.appendChild(document.createTextNode(str3));\n",
        "out.appendChild(p1); out.appendChild(p2); out.appendChild(p3);\n",
        "p1.id='simple_timer'; p1.style.padding='20px';\n",
        "p2.id='color_timer'; p2.style.padding='20px';\n",
        "p3.id='new_year_countdown'; p3.style.padding='20px';\n",
        "var t=setInterval(function() {\n",
        "  var doc=document.getElementById('simple_timer');\n",
        "  var now=new Date().getTime();\n",
        "  var sec=Math.floor(now%60000/1000);\n",
        "  doc.innerHTML='🕒 '+sec;\n",
        "  doc.style.color='rgb('+4*(sec+1)+',0,'+4*(sec+1)+')'},1000);\n",
        "var tc=setInterval(function() {\n",
        "  var doc=document.getElementById('color_timer');\n",
        "  var now=new Date().getTime();\n",
        "  var sec=Math.floor(now%60000/1000);\n",
        "  var col='rgb(0,'+(5+Math.abs(245-8*sec))+','+\n",
        "          (250-Math.abs(245-8*sec))+')';\n",
        "  doc.style.color=col},1);\n",
        "var countDownDate=new Date('Jan 1, 2022 00:00:00').getTime();\n",
        "var cdd=setInterval(function() {\n",
        "  var doc=document.getElementById('new_year_countdown');\n",
        "  var now=new Date().getTime();\n",
        "  var distance=countDownDate-now;\n",
        "  var days=Math.floor(distance/(1000*60*60*24)),\n",
        "      hours=Math.floor(distance%(1000*60*60*24)/(1000*60*60)),\n",
        "      minutes=Math.floor(distance%(1000*60*60)/(1000*60)),\n",
        "      seconds=Math.floor(distance%(1000*60)/1000);\n",
        "  doc.innerHTML=days+' days '+hours+' hours '+minutes+\n",
        "                ' minutes '+seconds+' seconds';\n",
        "  if (distance<0) {\n",
        "    clearInterval(x); doc.innerHTML='Happy New Year!';}},3000);"
      ],
      "execution_count": 77,
      "outputs": [
        {
          "output_type": "display_data",
          "data": {
            "application/javascript": [
              "var out=document.querySelector('#output-area'),\n",
              "    p1=document.createElement('p'),\n",
              "    p2=document.createElement('p'),\n",
              "    p3=document.createElement('p'),\n",
              "    str1='🕒 <<<<< this html element has id=\"color_timer\" >>>>> 🕒',\n",
              "    str2='😍 <<<<< this html element has id=\"color_timer\" >>>>> 😍',\n",
              "    str3='😋 <<<<< this html element has id=\"new_year_countdown\" >>>>> 😋';\n",
              "out.style.border='double'; out.style.width='50%';  \n",
              "p1.appendChild(document.createTextNode(str1));\n",
              "p2.appendChild(document.createTextNode(str2));\n",
              "p3.appendChild(document.createTextNode(str3));\n",
              "out.appendChild(p1); out.appendChild(p2); out.appendChild(p3);\n",
              "p1.id='simple_timer'; p1.style.padding='20px';\n",
              "p2.id='color_timer'; p2.style.padding='20px';\n",
              "p3.id='new_year_countdown'; p3.style.padding='20px';\n",
              "var t=setInterval(function() {\n",
              "  var doc=document.getElementById('simple_timer');\n",
              "  var now=new Date().getTime();\n",
              "  var sec=Math.floor(now%60000/1000);\n",
              "  doc.innerHTML='🕒 '+sec;\n",
              "  doc.style.color='rgb('+4*(sec+1)+',0,'+4*(sec+1)+')'},1000);\n",
              "var tc=setInterval(function() {\n",
              "  var doc=document.getElementById('color_timer');\n",
              "  var now=new Date().getTime();\n",
              "  var sec=Math.floor(now%60000/1000);\n",
              "  var col='rgb(0,'+(5+Math.abs(245-8*sec))+','+\n",
              "          (250-Math.abs(245-8*sec))+')';\n",
              "  doc.style.color=col},1);\n",
              "var countDownDate=new Date('Jan 1, 2022 00:00:00').getTime();\n",
              "var cdd=setInterval(function() {\n",
              "  var doc=document.getElementById('new_year_countdown');\n",
              "  var now=new Date().getTime();\n",
              "  var distance=countDownDate-now;\n",
              "  var days=Math.floor(distance/(1000*60*60*24)),\n",
              "      hours=Math.floor(distance%(1000*60*60*24)/(1000*60*60)),\n",
              "      minutes=Math.floor(distance%(1000*60*60)/(1000*60)),\n",
              "      seconds=Math.floor(distance%(1000*60)/1000);\n",
              "  doc.innerHTML=days+' days '+hours+' hours '+minutes+\n",
              "                ' minutes '+seconds+' seconds';\n",
              "  if (distance<0) {\n",
              "    clearInterval(x); doc.innerHTML='Happy New Year!';}},3000);"
            ],
            "text/plain": [
              "<IPython.core.display.Javascript object>"
            ]
          },
          "metadata": {
            "tags": []
          }
        }
      ]
    }
  ]
}