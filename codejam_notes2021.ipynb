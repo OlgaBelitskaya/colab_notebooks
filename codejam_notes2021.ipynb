{
  "nbformat": 4,
  "nbformat_minor": 0,
  "metadata": {
    "colab": {
      "name": "codejam_notes2021.ipynb",
      "provenance": [],
      "collapsed_sections": []
    },
    "kernelspec": {
      "name": "python3",
      "display_name": "Python 3"
    },
    "language_info": {
      "name": "python"
    }
  },
  "cells": [
    {
      "cell_type": "markdown",
      "metadata": {
        "id": "i3l6JJEj2hXE"
      },
      "source": [
        "# Codejam Qualification Round 2021\n",
        "https://codingcompetitions.withgoogle.com/codejam"
      ]
    },
    {
      "cell_type": "markdown",
      "metadata": {
        "id": "GFeytC06bDG_"
      },
      "source": [
        "## TASK 1 REVERSORT\n",
        "\n",
        "Problem\n",
        "\n",
        "Note: The main parts of the statements of the problems \"Reversort\" and \"Reversort Engineering\" are identical, except for the last paragraph. \n",
        "\n",
        "The problems can otherwise be solved independently.\n",
        "\n",
        "Reversort is an algorithm to sort a list of distinct integers in increasing order. \n",
        "\n",
        "The algorithm is based on the \"Reverse\" operation. \n",
        "\n",
        "Each application of this operation reverses the order of some contiguous part of the list.\n",
        "\n",
        "The pseudocode of the algorithm is the following:\n",
        "\n",
        "Reversort(L):\n",
        "\n",
        "  for i := 1 to length(L) - 1\n",
        "  \n",
        "    j := position with the minimum value in L between i and length(L), inclusive Reverse(L[i..j])\n",
        "    \n",
        "After i−1 iterations, the positions 1,2,…,i−1 of the list contain the i−1 smallest elements of L, in increasing order. \n",
        "\n",
        "During the i-th iteration, the process reverses the sublist going from the i-th position to the current position of the i-th minimum element. \n",
        "\n",
        "That makes the i-th minimum element end up in the i-th position.\n",
        "\n",
        "For example, for a list with 4 elements, the algorithm would perform 3 iterations. \n",
        "\n",
        "Here is how it would process L=[4,2,1,3]:\n",
        "\n",
        "i=1, j=3⟶L=[1,2,4,3]\n",
        "\n",
        "i=2, j=2⟶L=[1,2,4,3]\n",
        "\n",
        "i=3, j=4⟶L=[1,2,3,4]\n",
        "\n",
        "The most expensive part of executing the algorithm on our architecture is the Reverse operation. \n",
        "\n",
        "Therefore, our measure for the cost of each iteration is simply the length of the sublist passed to Reverse, that is, the value j−i+1. \n",
        "\n",
        "The cost of the whole algorithm is the sum of the costs of each iteration.\n",
        "\n",
        "In the example above, the iterations cost 3, 1, and 2, in that order, for a total of 6.\n",
        "\n",
        "Given the initial list, compute the cost of executing Reversort on it.\n",
        "\n",
        "Input\n",
        "\n",
        "The first line of the input gives the number of test cases, T. T test cases follow. \n",
        "\n",
        "Each test case consists of 2 lines. \n",
        "\n",
        "The first line contains a single integer N, representing the number of elements in the input list. \n",
        "\n",
        "The second line contains N distinct integers L1, L2, ..., LN, representing the elements of the input list L, in order.\n",
        "\n",
        "Output\n",
        "\n",
        "For each test case, output one line containing Case #x: y, \n",
        "\n",
        "where x is the test case number (starting from 1) and \n",
        "\n",
        "y is the total cost of executing Reversort on the list given as input.\n",
        "\n",
        "Limits\n",
        "\n",
        "Time limit: 10 seconds.\n",
        "\n",
        "Memory limit: 1 GB.\n",
        "\n",
        "Test Set 1 (Visible Verdict)\n",
        "\n",
        "1≤T≤100.\n",
        "\n",
        "2≤N≤100.\n",
        "\n",
        "1≤Li≤N, for all i.\n",
        "\n",
        "Li≠Lj, for all i≠j.\n",
        "\n",
        "Sample\n",
        "\n",
        "Sample Input\n",
        "\n",
        "3\n",
        "\n",
        "4\n",
        "\n",
        "4 2 1 3\n",
        "\n",
        "2\n",
        "\n",
        "1 2\n",
        "\n",
        "7\n",
        "\n",
        "7 6 5 4 3 2 1\n",
        "\n",
        "Sample Output\n",
        "\n",
        "Case #1: 6\n",
        "\n",
        "Case #2: 1\n",
        "\n",
        "Case #3: 12\n",
        "\n",
        "Sample Case #1 is described in the statement above.\n",
        "\n",
        "In Sample Case #2, there is a single iteration, in which Reverse is applied to a sublist of size 1. \n",
        "\n",
        "Therefore, the total cost is 1.\n",
        "\n",
        "In Sample Case #3, the first iteration reverses the full list, for a cost of 7. \n",
        "\n",
        "After that, the list is already sorted, but there are 5 more iterations, each of which contributes a cost of 1."
      ]
    },
    {
      "cell_type": "code",
      "metadata": {
        "colab": {
          "base_uri": "https://localhost:8080/"
        },
        "id": "9ndItlyIYmRv",
        "outputId": "9296ddd3-e81e-4dbf-90bd-99af200de2cd"
      },
      "source": [
        "T=int(input())\n",
        "for t in range(T):\n",
        "    COST=0\n",
        "    I=int(input())\n",
        "    N=input()\n",
        "    N=[int(n) for n in N.split()]\n",
        "    print(t,I,N)\n",
        "    for i in range(I-1):\n",
        "        j=i+N[i:].index(min(N[i:]))\n",
        "        print(i,j)\n",
        "        if i==j:\n",
        "            COST+=1 \n",
        "        else:\n",
        "            L=[N[k] for k in range(i)]\n",
        "            L+=[N[j-k] for k in range(j-i+1)]\n",
        "            L+=[N[k] for k in range(j+1,I)]\n",
        "            COST+=j-i+1\n",
        "            N=L\n",
        "        print(N,COST)\n",
        "    print('Case #{}: {}'.format(t+1,COST))"
      ],
      "execution_count": 6,
      "outputs": [
        {
          "output_type": "stream",
          "text": [
            "3\n",
            "4\n",
            "4 2 1 3\n",
            "0 4 [4, 2, 1, 3]\n",
            "0 2\n",
            "[1, 2, 4, 3] 3\n",
            "1 1\n",
            "[1, 2, 4, 3] 4\n",
            "2 3\n",
            "[1, 2, 3, 4] 6\n",
            "Case #1: 6\n",
            "2\n",
            "1 2\n",
            "1 2 [1, 2]\n",
            "0 0\n",
            "[1, 2] 1\n",
            "Case #2: 1\n",
            "7\n",
            "7 6 5 4 3 2 1\n",
            "2 7 [7, 6, 5, 4, 3, 2, 1]\n",
            "0 6\n",
            "[1, 2, 3, 4, 5, 6, 7] 7\n",
            "1 1\n",
            "[1, 2, 3, 4, 5, 6, 7] 8\n",
            "2 2\n",
            "[1, 2, 3, 4, 5, 6, 7] 9\n",
            "3 3\n",
            "[1, 2, 3, 4, 5, 6, 7] 10\n",
            "4 4\n",
            "[1, 2, 3, 4, 5, 6, 7] 11\n",
            "5 5\n",
            "[1, 2, 3, 4, 5, 6, 7] 12\n",
            "Case #3: 12\n"
          ],
          "name": "stdout"
        }
      ]
    },
    {
      "cell_type": "code",
      "metadata": {
        "id": "cUq3f6GXY9uC",
        "colab": {
          "base_uri": "https://localhost:8080/"
        },
        "outputId": "ba9f0406-efc6-4386-b1cd-4fa1ad631ee1"
      },
      "source": [
        "T=int(input())\n",
        "for t in range(T):\n",
        "    COST=0\n",
        "    I=int(input())\n",
        "    N=input()\n",
        "    N=[int(n) for n in N.split()]\n",
        "    for i in range(I-1):\n",
        "        j=i+N[i:].index(min(N[i:]))\n",
        "        if i==j:\n",
        "            COST+=1 \n",
        "        else:\n",
        "            L=[N[k] for k in range(i)]\n",
        "            L+=[N[j-k] for k in range(j-i+1)]\n",
        "            L+=[N[k] for k in range(j+1,I)]\n",
        "            COST+=j-i+1\n",
        "            N=L\n",
        "    print('Case #{}: {}'.format(t+1,COST))"
      ],
      "execution_count": 7,
      "outputs": [
        {
          "output_type": "stream",
          "text": [
            "3\n",
            "4\n",
            "4 2 1 3\n",
            "Case #1: 6\n",
            "2\n",
            "1 2\n",
            "Case #2: 1\n",
            "7\n",
            "7 6 5 4 3 2 1\n",
            "Case #3: 12\n"
          ],
          "name": "stdout"
        }
      ]
    },
    {
      "cell_type": "markdown",
      "metadata": {
        "id": "qwA7xOaD47TK"
      },
      "source": [
        "## TASK 2 MOONS AND UMBRELLAS\n",
        "\n",
        "Problem\n",
        "\n",
        "Cody-Jamal is working on his latest piece of abstract art: a mural consisting of a row of waning moons and closed umbrellas. \n",
        "\n",
        "Unfortunately, greedy copyright trolls are claiming that \n",
        "\n",
        "waning moons look like an uppercase C and closed umbrellas look like a J, and they have a copyright on CJ and JC.\n",
        "\n",
        "Therefore, for each time CJ appears in the mural, Cody-Jamal must pay X, and for each time JC appears in the mural, he must pay Y.\n",
        "\n",
        "Cody-Jamal is unwilling to let them compromise his art, so he will not change anything already painted. \n",
        "\n",
        "He decided, however, that the empty spaces he still has could be filled strategically, to minimize the copyright expenses.\n",
        "\n",
        "For example, if CJ?CC? represents the current state of the mural, \n",
        "\n",
        "with C representing a waning moon, J representing a closed umbrella, \n",
        "\n",
        "and ? representing a space that still needs to be painted with either a waning moon or a closed umbrella, \n",
        "\n",
        "he could finish the mural as CJCCCC, CJCCCJ, CJJCCC, or CJJCCJ. \n",
        "\n",
        "The first and third options would require paying X+Y in copyrights, \n",
        "\n",
        "while the second and fourth would require paying 2⋅X+Y.\n",
        "\n",
        "Given the costs X and Y and a string representing the current state of the mural, \n",
        "\n",
        "how much does Cody-Jamal need to pay in copyrights if he finishes his mural in a way that minimizes that cost?\n",
        "\n",
        "Input\n",
        "\n",
        "The first line of the input gives the number of test cases, T. T lines follow. \n",
        "\n",
        "Each line contains two integers X and Y and a string S representing the two costs and the current state of the mural, respectively.\n",
        "\n",
        "Output\n",
        "\n",
        "For each test case, output one line containing Case #x: y, \n",
        "\n",
        "where x is the test case number (starting from 1) and y is the minimum cost that Cody-Jamal needs to pay in copyrights for a finished mural.\n",
        "\n",
        "Limits\n",
        "\n",
        "Time limit: 10 seconds.\n",
        "\n",
        "Memory limit: 1 GB.\n",
        "\n",
        "1≤T≤100.\n",
        "\n",
        "Each character of S is either C, J, or ?.\n",
        "\n",
        "Test Set 1 (Visible Verdict)\n",
        "\n",
        "1≤ the length of S ≤10.\n",
        "\n",
        "1≤X≤100.\n",
        "\n",
        "1≤Y≤100.\n",
        "\n",
        "Test Set 2 (Visible Verdict)\n",
        "\n",
        "1≤ the length of S ≤1000.\n",
        "\n",
        "1≤X≤100.\n",
        "\n",
        "1≤Y≤100.\n",
        "\n",
        "Extra credit!\n",
        "\n",
        "What if some copyright holders could pay Cody-Jamal for the advertisement instead of being paid? \n",
        "\n",
        "Cody-Jamal getting paid is represented by a negative cost.\n",
        "\n",
        "Test Set 3 (Hidden Verdict)\n",
        "\n",
        "1≤ the length of S ≤1000.\n",
        "\n",
        "−100≤X≤100.\n",
        "\n",
        "−100≤Y≤100.\n",
        "\n",
        "Sample\n",
        "\n",
        "Note: there are additional samples that are not run on submissions down below.\n",
        "\n",
        "Sample Input\n",
        "\n",
        "4\n",
        "\n",
        "2 3 CJ?CC?\n",
        "\n",
        "4 2 CJCJ\n",
        "\n",
        "1 3 C?J\n",
        "\n",
        "2 5 ??J???\n",
        "\n",
        "Sample Output\n",
        "\n",
        "Case #1: 5\n",
        "\n",
        "Case #2: 10\n",
        "\n",
        "Case #3: 1\n",
        "\n",
        "Case #4: 0\n",
        "\n",
        "Sample Case #1 is the one explained in the problem statement. The minimum cost is X+Y=2+3=5.\n",
        "\n",
        "In Sample Case #2, Cody-Jamal is already finished, so he does not have a choice. \n",
        "\n",
        "There are two CJs and one JC in his mural.\n",
        "\n",
        "In Sample Case #3, substituting either C or J results in one CJ either from the second and third characters \n",
        "\n",
        "or the first and second characters, respectively.\n",
        "\n",
        "In Sample Case #4, Cody-Jamal can finish his mural with all Js. \n",
        "\n",
        "Since that contains no instance of CJ nor JC, it yields no copyright cost.\n",
        "\n",
        "\n",
        "Additional Sample - Test Set 3\n",
        "\n",
        "The following additional sample fits the limits of Test Set 3. \n",
        "\n",
        "It will not be run against your submitted solutions.\n",
        "\n",
        "Sample Input\n",
        "\n",
        "1\n",
        "\n",
        "2 -5 ??JJ??\n",
        "\n",
        "Sample Output\n",
        "\n",
        "Case #1: -8\n",
        "\n",
        "In Sample Case #1 for Test Set 3, Cody-Jamal can finish his mural optimally as JCJJCC or JCJJJC. \n",
        "\n",
        "Either way, there is one CJ and two JCs in his mural."
      ]
    },
    {
      "cell_type": "code",
      "metadata": {
        "colab": {
          "base_uri": "https://localhost:8080/"
        },
        "id": "Ne929Oq244_q",
        "outputId": "4ae257c3-4626-4c4c-d129-447374eaabc5"
      },
      "source": [
        "def cost(X,Y,S):\n",
        "    KCJ,KJC=0,0\n",
        "    for i in range(len(S)-1):\n",
        "        if S[i]!=S[i+1]:\n",
        "            if S[i]=='C': KCJ+=1\n",
        "            else: KJC+=1\n",
        "    print('number of CJ: %d'%KCJ+\\\n",
        "          '; number of JC: %d'%KJC+\\\n",
        "          '; cost: %d'%(X*KCJ+Y*KJC))\n",
        "    return X*KCJ+Y*KJC\n",
        "def min_cost(X,Y,S):\n",
        "    SS1,SS2='',''\n",
        "    S1='CJ'*(len(S)//2)+'C'*(len(S)%2)\n",
        "    S2='JC'*(len(S)//2)+'J'*(len(S)%2)\n",
        "    for i in range(len(S)):\n",
        "        if S[i]=='?': SS1+=S1[i]; SS2+=S2[i]\n",
        "        else: SS1+=S[i]; SS2+=S[i]\n",
        "    print(S,SS1,SS2)\n",
        "    return min(cost(X,Y,SS1),cost(X,Y,SS2))\n",
        "cost(1,5,'JJCCJCCCJCCCJJJCJ')\n",
        "print('\\n'+10*'<=>'+'\\n')\n",
        "min_cost(2,-5,'??JJ??')"
      ],
      "execution_count": 8,
      "outputs": [
        {
          "output_type": "stream",
          "text": [
            "number of CJ: 4; number of JC: 4; cost: 24\n",
            "\n",
            "<=><=><=><=><=><=><=><=><=><=>\n",
            "\n",
            "??JJ?? CJJJCJ JCJJJC\n",
            "number of CJ: 2; number of JC: 1; cost: -1\n",
            "number of CJ: 1; number of JC: 2; cost: -8\n"
          ],
          "name": "stdout"
        },
        {
          "output_type": "execute_result",
          "data": {
            "text/plain": [
              "-8"
            ]
          },
          "metadata": {
            "tags": []
          },
          "execution_count": 8
        }
      ]
    },
    {
      "cell_type": "code",
      "metadata": {
        "colab": {
          "base_uri": "https://localhost:8080/"
        },
        "id": "HQ891cEV8w6s",
        "outputId": "8c9b3979-15c9-42ef-e810-1ccc4eb1039f"
      },
      "source": [
        "T=int(input())\n",
        "def cost(X,Y,S):\n",
        "    KCJ,KJC=0,0\n",
        "    for i in range(len(S)-1):\n",
        "        if S[i]!=S[i+1]:\n",
        "            if S[i]=='C': KCJ+=1\n",
        "            else: KJC+=1\n",
        "    return X*KCJ+Y*KJC\n",
        "def min_cost(X,Y,S):\n",
        "    SS1,SS2='',''\n",
        "    S1='CJ'*(len(S)//2)+'C'*(len(S)%2)\n",
        "    S2='JC'*(len(S)//2)+'J'*(len(S)%2)\n",
        "    for i in range(len(S)):\n",
        "        if S[i]=='?': SS1+=S1[i]; SS2+=S2[i]\n",
        "        else: SS1+=S[i]; SS2+=S[i]\n",
        "    return min(cost(X,Y,SS1),cost(X,Y,SS2))\n",
        "for t in range(T):\n",
        "    XYS=input().split()\n",
        "    X=int(XYS[0])\n",
        "    Y=int(XYS[1])\n",
        "    S=XYS[2]\n",
        "    COST=0\n",
        "    cond1=(X<0 and Y>=0 and abs(X)<Y) or (X>=0 and Y<0 and abs(Y)<X) \\\n",
        "          or (X>=0 and Y>=0)\n",
        "    cond2=(X<0 and Y>=0 and abs(X)>Y) or (X>=0 and Y<0 and abs(Y)>X) \\\n",
        "          or (X<0 and Y<0)\n",
        "    if len(S)>1:\n",
        "        if cond1:\n",
        "            S=S.replace('?','')\n",
        "            if not(('C' not in S) or ('J' not in S) or (len(S)==0)):\n",
        "                COST=cost(X,Y,S)\n",
        "        elif cond2:\n",
        "            COST=min_cost(X,Y,S)\n",
        "    print('Case #{}: {}'.format(t+1,COST))"
      ],
      "execution_count": 9,
      "outputs": [
        {
          "output_type": "stream",
          "text": [
            "5\n",
            "2 3 CJ?CC?\n",
            "Case #1: 5\n",
            "4 2 CJCJ\n",
            "Case #2: 10\n",
            "1 3 C?J\n",
            "Case #3: 1\n",
            "2 5 ??J???\n",
            "Case #4: 0\n",
            "2 -5 ??JJ??\n",
            "Case #5: -8\n"
          ],
          "name": "stdout"
        }
      ]
    },
    {
      "cell_type": "markdown",
      "metadata": {
        "id": "-bF3p8VH-0IB"
      },
      "source": [
        "## TASK 3 REVERSORT ENGINEERING\n",
        "\n",
        "Problem\n",
        "\n",
        "Note: The main parts of the statements of the problems \"Reversort\" and \"Reversort Engineering\" are identical, except for the last paragraph. \n",
        "\n",
        "The problems can otherwise be solved independently.\n",
        "\n",
        "Reversort is an algorithm to sort a list of distinct integers in increasing order. \n",
        "\n",
        "The algorithm is based on the \"Reverse\" operation. \n",
        "\n",
        "Each application of this operation reverses the order of some contiguous part of the list.\n",
        "\n",
        "The pseudocode of the algorithm is the following:\n",
        "\n",
        "Reversort(L):\n",
        "\n",
        "  for i := 1 to length(L) - 1\n",
        "  \n",
        "    j := position with the minimum value in L between i and length(L), inclusive Reverse(L[i..j])\n",
        "    \n",
        "After i−1 iterations, the positions 1,2,…,i−1 of the list contain the i−1 smallest elements of L, in increasing order. \n",
        "\n",
        "During the i-th iteration, the process reverses the sublist going from the i-th position to the current position of the i-th minimum element. \n",
        "\n",
        "That makes the i-th minimum element end up in the i-th position.\n",
        "\n",
        "For example, for a list with 4 elements, the algorithm would perform 3 iterations. \n",
        "\n",
        "Here is how it would process L=[4,2,1,3]:\n",
        "\n",
        "i=1, j=3⟶L=[1,2,4,3]\n",
        "\n",
        "i=2, j=2⟶L=[1,2,4,3]\n",
        "\n",
        "i=3, j=4⟶L=[1,2,3,4]\n",
        "\n",
        "The most expensive part of executing the algorithm on our architecture is the Reverse operation. \n",
        "\n",
        "Therefore, our measure for the cost of each iteration is simply the length of the sublist passed to Reverse, that is, the value j−i+1. \n",
        "\n",
        "The cost of the whole algorithm is the sum of the costs of each iteration.\n",
        "\n",
        "In the example above, the iterations cost 3, 1, and 2, in that order, for a total of 6.\n",
        "\n",
        "You are given a size N and a cost C. \n",
        "\n",
        "Find a list of N distinct integers between 1 and N such that the cost of applying Reversort to it is exactly C, or say that there is no such list.\n",
        "\n",
        "Input\n",
        "\n",
        "The first line of the input gives the number of test cases, T. T lines follow. \n",
        "\n",
        "Each line describes a test case with two integers N and C, the size of the wanted list and the desired cost, respectively.\n",
        "\n",
        "Output\n",
        "\n",
        "For each test case, if there is no list of size N such that applying Reversort to it costs exactly C, \n",
        "\n",
        "output one line containing Case #x: IMPOSSIBLE, where x is the test case number (starting from 1). \n",
        "\n",
        "Otherwise, output one line containing Case #x: y1 y2 ... yN, where x is the test case number (starting from 1) \n",
        "\n",
        "and each yi is a distinct integer between 1 and N, representing the i-th element of one such possible list.\n",
        "\n",
        "If there are multiple solutions, you may output any one of them. \n",
        "\n",
        "(See \"What if a test case has multiple correct solutions?\" in the Competing section of the FAQ.) \n",
        "\n",
        "This information about multiple solutions will not be explicitly stated in the remainder of the 2021 contest.\n",
        "\n",
        "Limits\n",
        "\n",
        "Time limit: 10 seconds.\n",
        "\n",
        "Memory limit: 1 GB.\n",
        "\n",
        "1≤T≤100.\n",
        "\n",
        "1≤C≤1000.\n",
        "\n",
        "Test Set 1 (Visible Verdict)\n",
        "\n",
        "2≤N≤7.\n",
        "\n",
        "Test Set 2 (Visible Verdict)\n",
        "\n",
        "2≤N≤100.\n",
        "\n",
        "Sample\n",
        "\n",
        "Sample Input\n",
        "\n",
        "5\n",
        "\n",
        "4 6\n",
        "\n",
        "2 1\n",
        "\n",
        "7 12\n",
        "\n",
        "7 2\n",
        "\n",
        "2 1000\n",
        "\n",
        "Sample Output\n",
        "\n",
        "Case #1: 4 2 1 3\n",
        "\n",
        "Case #2: 1 2\n",
        "\n",
        "Case #3: 7 6 5 4 3 2 1\n",
        "\n",
        "Case #4: IMPOSSIBLE\n",
        "\n",
        "Case #5: IMPOSSIBLE\n",
        "\n",
        "Sample Case #1 is described in the statement above.\n",
        "\n",
        "In Sample Case #2, the algorithm runs for only one iteration on the proposed output. \n",
        "\n",
        "In that iteration, reverse is applied to a sublist of size 1, therefore, its cost is 1.\n",
        "\n",
        "In Sample Case #3, the first iteration reverses the full list, for a cost of 7. \n",
        "\n",
        "After that, the list is already sorted, but there are 5 more iterations, each of which contributes a cost of 1.\n",
        "\n",
        "Another valid output would be 7 5 4 3 2 1 6. \n",
        "\n",
        "For that output, the first iteration has a cost of 6, the last one has a cost of 2, and all others have a cost of 1.\n",
        "\n",
        "In Sample Case #4, Reversort will necessarily perform 6 iterations, each of which will have a cost of at least 1, \n",
        "\n",
        "so there is no way the total cost can be as low as required."
      ]
    },
    {
      "cell_type": "code",
      "metadata": {
        "id": "L_FVcxWZASle"
      },
      "source": [
        "import itertools,numpy,sympy\n",
        "from sympy.utilities.iterables import multiset_permutations\n",
        "sympy.init_printing(use_unicode=True)"
      ],
      "execution_count": 70,
      "outputs": []
    },
    {
      "cell_type": "code",
      "metadata": {
        "colab": {
          "base_uri": "https://localhost:8080/"
        },
        "id": "125hfXaIAU8L",
        "outputId": "f2ea0edd-1673-4107-c771-4e5b9cf3ff3d"
      },
      "source": [
        "C=0; S=['☜','☞','☝︎','☟']\n",
        "S=multiset_permutations(S)\n",
        "for s in S: print(s); C+=1\n",
        "C==sympy.factorial(4)"
      ],
      "execution_count": 71,
      "outputs": [
        {
          "output_type": "stream",
          "text": [
            "['☜', '☝︎', '☞', '☟']\n",
            "['☜', '☝︎', '☟', '☞']\n",
            "['☜', '☞', '☝︎', '☟']\n",
            "['☜', '☞', '☟', '☝︎']\n",
            "['☜', '☟', '☝︎', '☞']\n",
            "['☜', '☟', '☞', '☝︎']\n",
            "['☝︎', '☜', '☞', '☟']\n",
            "['☝︎', '☜', '☟', '☞']\n",
            "['☝︎', '☞', '☜', '☟']\n",
            "['☝︎', '☞', '☟', '☜']\n",
            "['☝︎', '☟', '☜', '☞']\n",
            "['☝︎', '☟', '☞', '☜']\n",
            "['☞', '☜', '☝︎', '☟']\n",
            "['☞', '☜', '☟', '☝︎']\n",
            "['☞', '☝︎', '☜', '☟']\n",
            "['☞', '☝︎', '☟', '☜']\n",
            "['☞', '☟', '☜', '☝︎']\n",
            "['☞', '☟', '☝︎', '☜']\n",
            "['☟', '☜', '☝︎', '☞']\n",
            "['☟', '☜', '☞', '☝︎']\n",
            "['☟', '☝︎', '☜', '☞']\n",
            "['☟', '☝︎', '☞', '☜']\n",
            "['☟', '☞', '☜', '☝︎']\n",
            "['☟', '☞', '☝︎', '☜']\n"
          ],
          "name": "stdout"
        },
        {
          "output_type": "execute_result",
          "data": {
            "text/plain": [
              "True"
            ]
          },
          "metadata": {
            "tags": []
          },
          "execution_count": 71
        }
      ]
    },
    {
      "cell_type": "code",
      "metadata": {
        "id": "LmIkX3VWBTLF"
      },
      "source": [
        "def permutate(input_list):\n",
        "    if len(input_list)<=1:\n",
        "        yield input_list\n",
        "    else:\n",
        "        for p in permutate(input_list[1:]):\n",
        "            for i in range(len(input_list)):\n",
        "                yield p[:i]+input_list[0:1]+p[i:]"
      ],
      "execution_count": 72,
      "outputs": []
    },
    {
      "cell_type": "code",
      "metadata": {
        "colab": {
          "base_uri": "https://localhost:8080/"
        },
        "id": "hJxWKQClB0Sm",
        "outputId": "5e8b75cf-61ea-4918-8cd9-8552e28cc140"
      },
      "source": [
        "C=0; S=['☜','☞','☝︎','☟']\n",
        "S=list(permutate(S))\n",
        "for s in S: print(s); C+=1\n",
        "C==sympy.factorial(4)"
      ],
      "execution_count": 73,
      "outputs": [
        {
          "output_type": "stream",
          "text": [
            "['☜', '☞', '☝︎', '☟']\n",
            "['☞', '☜', '☝︎', '☟']\n",
            "['☞', '☝︎', '☜', '☟']\n",
            "['☞', '☝︎', '☟', '☜']\n",
            "['☜', '☝︎', '☞', '☟']\n",
            "['☝︎', '☜', '☞', '☟']\n",
            "['☝︎', '☞', '☜', '☟']\n",
            "['☝︎', '☞', '☟', '☜']\n",
            "['☜', '☝︎', '☟', '☞']\n",
            "['☝︎', '☜', '☟', '☞']\n",
            "['☝︎', '☟', '☜', '☞']\n",
            "['☝︎', '☟', '☞', '☜']\n",
            "['☜', '☞', '☟', '☝︎']\n",
            "['☞', '☜', '☟', '☝︎']\n",
            "['☞', '☟', '☜', '☝︎']\n",
            "['☞', '☟', '☝︎', '☜']\n",
            "['☜', '☟', '☞', '☝︎']\n",
            "['☟', '☜', '☞', '☝︎']\n",
            "['☟', '☞', '☜', '☝︎']\n",
            "['☟', '☞', '☝︎', '☜']\n",
            "['☜', '☟', '☝︎', '☞']\n",
            "['☟', '☜', '☝︎', '☞']\n",
            "['☟', '☝︎', '☜', '☞']\n",
            "['☟', '☝︎', '☞', '☜']\n"
          ],
          "name": "stdout"
        },
        {
          "output_type": "execute_result",
          "data": {
            "text/plain": [
              "True"
            ]
          },
          "metadata": {
            "tags": []
          },
          "execution_count": 73
        }
      ]
    },
    {
      "cell_type": "code",
      "metadata": {
        "id": "bLo9LrpR5V8A"
      },
      "source": [
        "def cost(N):\n",
        "    COST=0\n",
        "    for i in range(len(N)-1):\n",
        "        j=i+N[i:].index(min(N[i:]))\n",
        "        if i==j:\n",
        "            COST+=1 \n",
        "        else:\n",
        "            L=[N[k] for k in range(i)]\n",
        "            L+=[N[j-k] for k in range(j-i+1)]\n",
        "            L+=[N[k] for k in range(j+1,len(N))]\n",
        "            COST+=j-i+1\n",
        "            N=L\n",
        "    return COST\n",
        "def max_cost(L):\n",
        "    if L==2: return 2\n",
        "    else: return L+max_cost(L-1)\n",
        "def max_res(L):    \n",
        "    res=[2,1]\n",
        "    for i in range(3,L+1):\n",
        "        p=len(res)//2\n",
        "        res=res[:p]+[i]+res[p:]\n",
        "    return res    "
      ],
      "execution_count": 74,
      "outputs": []
    },
    {
      "cell_type": "code",
      "metadata": {
        "colab": {
          "base_uri": "https://localhost:8080/"
        },
        "id": "XdTjYVMk5okv",
        "outputId": "bb88b182-4ab6-4944-8ed0-57a21ab291e9"
      },
      "source": [
        "for i in range(2,15):\n",
        "    print(max_res(i),cost(max_res(i)),max_cost(i))"
      ],
      "execution_count": 75,
      "outputs": [
        {
          "output_type": "stream",
          "text": [
            "[2, 1] 2 2\n",
            "[2, 3, 1] 5 5\n",
            "[2, 4, 3, 1] 9 9\n",
            "[2, 4, 5, 3, 1] 14 14\n",
            "[2, 4, 6, 5, 3, 1] 20 20\n",
            "[2, 4, 6, 7, 5, 3, 1] 27 27\n",
            "[2, 4, 6, 8, 7, 5, 3, 1] 35 35\n",
            "[2, 4, 6, 8, 9, 7, 5, 3, 1] 44 44\n",
            "[2, 4, 6, 8, 10, 9, 7, 5, 3, 1] 54 54\n",
            "[2, 4, 6, 8, 10, 11, 9, 7, 5, 3, 1] 65 65\n",
            "[2, 4, 6, 8, 10, 12, 11, 9, 7, 5, 3, 1] 77 77\n",
            "[2, 4, 6, 8, 10, 12, 13, 11, 9, 7, 5, 3, 1] 90 90\n",
            "[2, 4, 6, 8, 10, 12, 14, 13, 11, 9, 7, 5, 3, 1] 104 104\n"
          ],
          "name": "stdout"
        }
      ]
    },
    {
      "cell_type": "code",
      "metadata": {
        "colab": {
          "base_uri": "https://localhost:8080/",
          "height": 1000
        },
        "id": "1MM7nQdd6w8x",
        "outputId": "2d8d662d-58c4-445f-c711-3b8d83c1f35f"
      },
      "source": [
        "import numpy as np,pylab as pl\n",
        "def n_matrix_plot(L):\n",
        "    M=max_cost(L)\n",
        "    N=list(range(1,L+1))\n",
        "    SN=list(permutate(N))\n",
        "    for m in range(L-1,M+1):\n",
        "        SM=[]\n",
        "        for el in SN:\n",
        "            if cost(el)==m: \n",
        "                SM.append(el)\n",
        "        SM=np.array(SM)\n",
        "        print('cost==%d \\n'%m,SM,'\\n',SM.shape)\n",
        "        pl.figure(figsize=(L,SM.shape[0]//2+1))\n",
        "        pl.imshow(SM,cmap='jet'); pl.axis('off')\n",
        "        pl.tight_layout(); pl.show()\n",
        "n_matrix_plot(4)"
      ],
      "execution_count": 76,
      "outputs": [
        {
          "output_type": "stream",
          "text": [
            "cost==3 \n",
            " [[1 2 3 4]] \n",
            " (1, 4)\n"
          ],
          "name": "stdout"
        },
        {
          "output_type": "display_data",
          "data": {
            "image/png": "[encoded data removed]",
            "text/plain": [
              "<Figure size 288x72 with 1 Axes>"
            ]
          },
          "metadata": {
            "tags": [],
            "needs_background": "light"
          }
        },
        {
          "output_type": "stream",
          "text": [
            "cost==4 \n",
            " [[2 1 3 4]\n",
            " [1 3 2 4]\n",
            " [1 2 4 3]] \n",
            " (3, 4)\n"
          ],
          "name": "stdout"
        },
        {
          "output_type": "display_data",
          "data": {
            "image/png": "[encoded data removed]",
            "text/plain": [
              "<Figure size 288x144 with 1 Axes>"
            ]
          },
          "metadata": {
            "tags": [],
            "needs_background": "light"
          }
        },
        {
          "output_type": "stream",
          "text": [
            "cost==5 \n",
            " [[3 1 2 4]\n",
            " [3 2 1 4]\n",
            " [2 1 4 3]\n",
            " [1 4 2 3]\n",
            " [1 4 3 2]] \n",
            " (5, 4)\n"
          ],
          "name": "stdout"
        },
        {
          "output_type": "display_data",
          "data": {
            "image/png": "[encoded data removed]",
            "text/plain": [
              "<Figure size 288x216 with 1 Axes>"
            ]
          },
          "metadata": {
            "tags": [],
            "needs_background": "light"
          }
        },
        {
          "output_type": "stream",
          "text": [
            "cost==6 \n",
            " [[2 3 1 4]\n",
            " [1 3 4 2]\n",
            " [4 1 2 3]\n",
            " [4 2 1 3]\n",
            " [4 1 3 2]\n",
            " [4 3 2 1]] \n",
            " (6, 4)\n"
          ],
          "name": "stdout"
        },
        {
          "output_type": "display_data",
          "data": {
            "image/png": "[encoded data removed]",
            "text/plain": [
              "<Figure size 288x288 with 1 Axes>"
            ]
          },
          "metadata": {
            "tags": [],
            "needs_background": "light"
          }
        },
        {
          "output_type": "stream",
          "text": [
            "cost==7 \n",
            " [[3 1 4 2]\n",
            " [3 4 1 2]\n",
            " [3 4 2 1]\n",
            " [2 4 1 3]\n",
            " [4 2 3 1]] \n",
            " (5, 4)\n"
          ],
          "name": "stdout"
        },
        {
          "output_type": "display_data",
          "data": {
            "image/png": "[encoded data removed]",
            "text/plain": [
              "<Figure size 288x216 with 1 Axes>"
            ]
          },
          "metadata": {
            "tags": [],
            "needs_background": "light"
          }
        },
        {
          "output_type": "stream",
          "text": [
            "cost==8 \n",
            " [[2 3 4 1]\n",
            " [3 2 4 1]\n",
            " [4 3 1 2]] \n",
            " (3, 4)\n"
          ],
          "name": "stdout"
        },
        {
          "output_type": "display_data",
          "data": {
            "image/png": "[encoded data removed]",
            "text/plain": [
              "<Figure size 288x144 with 1 Axes>"
            ]
          },
          "metadata": {
            "tags": [],
            "needs_background": "light"
          }
        },
        {
          "output_type": "stream",
          "text": [
            "cost==9 \n",
            " [[2 4 3 1]] \n",
            " (1, 4)\n"
          ],
          "name": "stdout"
        },
        {
          "output_type": "display_data",
          "data": {
            "image/png": "[encoded data removed]",
            "text/plain": [
              "<Figure size 288x72 with 1 Axes>"
            ]
          },
          "metadata": {
            "tags": [],
            "needs_background": "light"
          }
        }
      ]
    },
    {
      "cell_type": "code",
      "metadata": {
        "colab": {
          "base_uri": "https://localhost:8080/",
          "height": 441
        },
        "id": "MRwMM-5FBIAg",
        "outputId": "4e961914-bd79-41f5-8976-0af2262717ea"
      },
      "source": [
        "def cost_plot(L):\n",
        "    N=list(range(1,L+1))\n",
        "    SN=list(permutate(N))\n",
        "    M=[cost(s) for s in SN]\n",
        "    pl.figure(figsize=(9,6))\n",
        "    pl.plot(M,'o',ms=2)\n",
        "    pl.title(str([max_cost(L),max_res(L)]))\n",
        "    pl.tight_layout(); pl.show()\n",
        "cost_plot(5)"
      ],
      "execution_count": 77,
      "outputs": [
        {
          "output_type": "display_data",
          "data": {
            "image/png": "[encoded data removed]",
            "text/plain": [
              "<Figure size 648x432 with 1 Axes>"
            ]
          },
          "metadata": {
            "tags": [],
            "needs_background": "light"
          }
        }
      ]
    },
    {
      "cell_type": "code",
      "metadata": {
        "colab": {
          "base_uri": "https://localhost:8080/"
        },
        "id": "G9VMrW3UDRGh",
        "outputId": "2cc6eb6c-5cef-4de0-ca0c-6eeb795704f5"
      },
      "source": [
        "def find_list(L,COST):\n",
        "    input_list=list(range(1,L+1))\n",
        "    gen=permutate(input_list)\n",
        "    curr_list=next(gen)\n",
        "    curr_cost=cost(curr_list)\n",
        "    while cost(curr_list)!=COST:\n",
        "        curr_list=next(gen)\n",
        "    return curr_list\n",
        "for c in range(4,14):\n",
        "    print(c,find_list(5,c),cost(find_list(5,c))) "
      ],
      "execution_count": 78,
      "outputs": [
        {
          "output_type": "stream",
          "text": [
            "4 [1, 2, 3, 4, 5] 4\n",
            "5 [2, 1, 3, 4, 5] 5\n",
            "6 [3, 1, 2, 4, 5] 6\n",
            "7 [2, 3, 1, 4, 5] 7\n",
            "8 [3, 1, 4, 2, 5] 8\n",
            "9 [2, 3, 4, 1, 5] 9\n",
            "10 [3, 1, 4, 5, 2] 10\n",
            "11 [2, 3, 4, 5, 1] 11\n",
            "12 [2, 4, 3, 5, 1] 12\n",
            "13 [3, 2, 4, 5, 1] 13\n"
          ],
          "name": "stdout"
        }
      ]
    },
    {
      "cell_type": "code",
      "metadata": {
        "id": "COvB_G77DiPh",
        "colab": {
          "base_uri": "https://localhost:8080/"
        },
        "outputId": "2eec81b7-923f-4dda-d682-058afc6bafd1"
      },
      "source": [
        "def permutate(input_list):\n",
        "    if len(input_list)<=1:\n",
        "        yield input_list\n",
        "    else:\n",
        "        for p in permutate(input_list[1:]):\n",
        "            for i in range(len(input_list)):\n",
        "                yield p[:i]+input_list[0:1]+p[i:]\n",
        "def cost(N):\n",
        "    COST=0\n",
        "    for i in range(len(N)-1):\n",
        "        j=i+N[i:].index(min(N[i:]))\n",
        "        if i==j:\n",
        "            COST+=1 \n",
        "        else:\n",
        "            L=[N[k] for k in range(i)]\n",
        "            L+=[N[j-k] for k in range(j-i+1)]\n",
        "            L+=[N[k] for k in range(j+1,len(N))]\n",
        "            COST+=j-i+1\n",
        "            N=L\n",
        "    return COST\n",
        "def max_cost(L):\n",
        "    if L==2: return 2\n",
        "    else: return L+max_cost(L-1)\n",
        "def max_res(L):    \n",
        "    res=[2,1]\n",
        "    for i in range(3,L+1):\n",
        "        p=len(res)//2\n",
        "        res=res[:p]+[i]+res[p:]\n",
        "    return res\n",
        "def find_list(L,COST):\n",
        "    input_list=list(range(1,L+1))\n",
        "    gen=permutate(input_list)\n",
        "    curr_list=next(gen)\n",
        "    curr_cost=cost(curr_list)\n",
        "    while cost(curr_list)!=COST:\n",
        "        curr_list=next(gen)\n",
        "    return curr_list\n",
        "T=int(input())\n",
        "for t in range(T):\n",
        "    S=input().split()\n",
        "    L=int(S[0])\n",
        "    COST=int(S[1])\n",
        "    BASE=list(range(1,L+1))\n",
        "    if COST<L-1 or COST>max_cost(L):\n",
        "        RES='IMPOSSIBLE'\n",
        "    elif COST==max_cost(L):\n",
        "        RES=max_res(L)\n",
        "    elif COST in range(L-1,2*L-1):\n",
        "        RES=BASE[:COST-L+2][::-1]+BASE[COST-L+2:]\n",
        "    else:\n",
        "        RES=find_list(L,COST)\n",
        "    if RES!='IMPOSSIBLE':\n",
        "        RES=' '.join(str(el) for el in RES)\n",
        "    print('Case #{}: {}'.format(t+1,RES))"
      ],
      "execution_count": 79,
      "outputs": [
        {
          "output_type": "stream",
          "text": [
            "5\n",
            "4 6\n",
            "Case #1: 4 3 2 1\n",
            "2 1\n",
            "Case #2: 1 2\n",
            "7 12\n",
            "Case #3: 7 6 5 4 3 2 1\n",
            "7 2\n",
            "Case #4: IMPOSSIBLE\n",
            "2 1000\n",
            "Case #5: IMPOSSIBLE\n"
          ],
          "name": "stdout"
        }
      ]
    },
    {
      "cell_type": "markdown",
      "metadata": {
        "id": "jFMUuJ-oD65u"
      },
      "source": [
        "## TASK 4 MEDIAN SORT\n",
        "\n",
        "Problem\n",
        "\n",
        "You want to sort N distinct items, x1,x2,…,xN. Unfortunately, you do not have a way of comparing two of these items. \n",
        "\n",
        "You only have a way to, given three of them, find out which one is the median, that is, which one is neither the minimum nor the maximum among the three.\n",
        "\n",
        "For example, suppose N=5 and you know that:\n",
        "\n",
        "x1 is the median of {x1,x2,x3}\n",
        "\n",
        "x2 is the median of {x2,x3,x4}\n",
        "\n",
        "x3 is the median of {x3,x4,x5}\n",
        "\n",
        "Then, it is guaranteed that the sorted order of the elements is either x4,x2,x1,x3,x5 or its reverse x5,x3,x1,x2,x4.\n",
        "\n",
        "Notice that by knowing only medians, it is impossible to distinguish the order of any list from its reverse, \n",
        "\n",
        "since the median question has the same result for any three elements in both cases.\n",
        "\n",
        "Your program will have to find the order of T lists of N elements using at most Q median questions in total (or Q/T queries per list on average). \n",
        "\n",
        "In each case, finding either the right order or its reverse is considered correct. The order for each case is generated uniformly at random from all possible orders, and independently of any other information.\n",
        "\n",
        "Input and output\n",
        "\n",
        "This is an interactive problem. \n",
        "\n",
        "You should make sure you have read the information in the Interactive Problems section of our FAQ.\n",
        "\n",
        "Initially, the judge will send you a single line containing three integers T, N, and Q: \n",
        "\n",
        "the number of test cases, the number of elements to sort within each test case, and the total number of questions you are allowed across all test cases, respectively.\n",
        "\n",
        "Then, you must process T test cases. \n",
        "\n",
        "Each test case consists of a series of question exchanges plus an additional exchange to provide the answer.\n",
        "\n",
        "For a question exchange, your program must print a single line containing three distinct integers i,j,k all between 1 and N, inclusive, \n",
        "\n",
        "which corresponds to asking the judge \"which element is the median of the set {xi,xj,xk}?\" \n",
        "\n",
        "The judge will respond with a single line containing a single integer L, \n",
        "\n",
        "meaning that the median of that set is xL (L is always equal to one of i, j, or k). \n",
        "\n",
        "If you try to perform a (Q+1)-th question exchange, the judge will simply output -1.\n",
        "\n",
        "Once you are ready to state the result, print a line containing N integers representing the indices of the elements in sorted or reverse sorted order. \n",
        "\n",
        "The judge will respond with a single integer 1 if your answer is correct or -1 if it is not. \n",
        "\n",
        "After receiving the judge's answer for the T-th case, your program must finish in time in order to not receive a Time Limit Exceeded error. \n",
        "\n",
        "In addition, if you print additional information after receiving the result for the T-th case, you will get a Wrong Answer judgment.\n",
        "\n",
        "If the judge receives an invalidly formatted line or invalid values from your program at any moment, the judge will print a single number -1. \n",
        "\n",
        "After the judge prints -1 for any of the reasons explained above, it will not print any further output. \n",
        "\n",
        "If your program continues to wait for the judge after receiving a -1, your program will time out, resulting in a Time Limit Exceeded error. \n",
        "\n",
        "Notice that it is your responsibility to have your program exit in time to receive a Wrong Answer judgment instead of a Time Limit Exceeded error. \n",
        "\n",
        "As usual, if the memory limit is exceeded, or your program gets a runtime error, you will receive the appropriate judgment.\n",
        "\n",
        "Limits\n",
        "\n",
        "Time limit: 40 seconds.\n",
        "\n",
        "Memory limit: 1 GB.\n",
        "\n",
        "T=100.\n",
        "\n",
        "Test Set 1 (Visible Verdict)\n",
        "\n",
        "N=10.\n",
        "\n",
        "Q=300⋅T.\n",
        "\n",
        "Test Set 2 (Visible Verdict)\n",
        "\n",
        "N=50.\n",
        "\n",
        "Q=300⋅T.\n",
        "\n",
        "Test Set 3 (Hidden Verdict)\n",
        "\n",
        "N=50.\n",
        "\n",
        "Q=170⋅T.\n",
        "\n",
        "Testing Tool\n",
        "\n",
        "You can use this testing tool to test locally or on our platform. \n",
        "To test locally, you will need to run the tool in parallel with your code; you can use our interactive runner for that. \n",
        "For more information, read the instructions in comments in that file, and also check out the Interactive Problems section of the FAQ.\n",
        "\n",
        "Instructions for the testing tool are included in comments within the tool. \n",
        "\n",
        "We encourage you to add your own test cases. Please be advised that although the testing tool is intended to simulate the judging system, \n",
        "\n",
        "it is NOT the real judging system and might behave differently. \n",
        "\n",
        "If your code passes the testing tool but fails the real judge, please check the Coding section of the FAQ to make sure that you are using the same compiler as us."
      ]
    }
  ]
}