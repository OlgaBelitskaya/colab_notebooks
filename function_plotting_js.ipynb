{
  "nbformat": 4,
  "nbformat_minor": 0,
  "metadata": {
    "colab": {
      "name": "function_plotting_js.ipynb",
      "provenance": [],
      "collapsed_sections": []
    },
    "kernelspec": {
      "name": "python3",
      "display_name": "Python 3"
    },
    "accelerator": "GPU"
  },
  "cells": [
    {
      "cell_type": "code",
      "metadata": {
        "id": "qKV5jl17UKb4",
        "colab": {
          "base_uri": "https://localhost:8080/",
          "height": 721
        },
        "outputId": "c25d8859-cb0e-4a0e-bd5d-20aa0cf628eb"
      },
      "source": [
        "from IPython.display import HTML\n",
        "HTML(\"\"\"\n",
        "<style>\n",
        ".point1, .point2 {stroke:#fff; stroke-width:1;}\n",
        ".grid1 line, .grid1 path {stroke:#fff; stroke-opacity:.9; \n",
        "                          shape-rendering:crispEdges;} \n",
        "</style>\n",
        "<script src='https://d3js.org/d3.v5.min.js'></script>\n",
        "<svg id='d301' style='background-color:slategray;'></svg>\n",
        "<script>\n",
        "var d=.01,n=630,m0=35,m={top:m0,right:m0,bottom:m0,left:m0},\n",
        "    w=700-m.left-m.right,h=700-m.top-m.bottom,col1='#3636ff',col2='#ff3636'; \n",
        "var xScale=d3.scaleLinear().domain([-3,3]).range([0,w]); \n",
        "var yScale=d3.scaleLinear().domain([-3,3]).range([h,0]);\n",
        "function make_x_gridlines(){return d3.axisBottom(xScale).ticks(11)}; \n",
        "function make_y_gridlines(){return d3.axisLeft(yScale).ticks(11)};\n",
        "var svg=d3.select('#d301')\n",
        "          .attr('width',w+m.left+m.right).attr('height',h+m.top+m.bottom)\n",
        "          .append('g').attr('transform','translate('+m.left+','+m.top+')');\n",
        "svg.append('g').attr('class','grid1').attr('transform','translate(0,'+h+')')\n",
        "               .call(make_x_gridlines().tickSize(-h).tickFormat(''));\n",
        "svg.append('g').attr('class','grid1')\n",
        "               .call(make_y_gridlines().tickSize(-w).tickFormat(''));\n",
        "var data1=d3.range(0,n).map(function(i){\n",
        "  return {'x':(Math.cos(12*d*i)+1)*Math.cos(d*i),\n",
        "          'y':(Math.cos(12*d*i)+1)*Math.sin(d*i)}});\n",
        "var data2=d3.range(0,n).map(function(i){\n",
        "  return {'x':(Math.cos(12*d*i)+2)*Math.cos(d*i),\n",
        "          'y':(Math.cos(12*d*i)+2)*Math.sin(d*i)}});\n",
        "svg.selectAll('.point1').data(data1).enter()\n",
        "   .append('circle').attr('class','point1')\n",
        "   .attr('r',3).attr('cx',function(d) {return xScale(d.x)})\n",
        "   .attr('cy',function(d) {return yScale(d.y)})\n",
        "   .transition().duration(20000)\n",
        "   .styleTween('fill',function(){return d3.interpolate(col1,col2)});\n",
        "svg.selectAll('.point2').data(data2).enter()\n",
        "   .append('circle').attr('class','point2')\n",
        "   .attr('r',4).attr('cx',function(d) {return xScale(d.x)})\n",
        "   .attr('cy',function(d) {return yScale(d.y)})\n",
        "   .transition().duration(20000)\n",
        "  .styleTween('fill',function(){return d3.interpolate(col2,col1)});\n",
        "</script>\"\"\")"
      ],
      "execution_count": null,
      "outputs": [
        {
          "output_type": "execute_result",
          "data": {
            "text/html": [
              "\n",
              "<style>\n",
              ".point1, .point2 {stroke:#fff; stroke-width:1;}\n",
              ".grid1 line, .grid1 path {stroke:#fff; stroke-opacity:.9; \n",
              "                          shape-rendering:crispEdges;} \n",
              "</style>\n",
              "<script src='https://d3js.org/d3.v5.min.js'></script>\n",
              "<svg id='d301' style='background-color:slategray;'></svg>\n",
              "<script>\n",
              "var d=.01,n=630,m0=35,m={top:m0,right:m0,bottom:m0,left:m0},\n",
              "    w=700-m.left-m.right,h=700-m.top-m.bottom,col1='#3636ff',col2='#ff3636'; \n",
              "var xScale=d3.scaleLinear().domain([-3,3]).range([0,w]); \n",
              "var yScale=d3.scaleLinear().domain([-3,3]).range([h,0]);\n",
              "function make_x_gridlines(){return d3.axisBottom(xScale).ticks(11)}; \n",
              "function make_y_gridlines(){return d3.axisLeft(yScale).ticks(11)};\n",
              "var svg=d3.select('#d301')\n",
              "          .attr('width',w+m.left+m.right).attr('height',h+m.top+m.bottom)\n",
              "          .append('g').attr('transform','translate('+m.left+','+m.top+')');\n",
              "svg.append('g').attr('class','grid1').attr('transform','translate(0,'+h+')')\n",
              "               .call(make_x_gridlines().tickSize(-h).tickFormat(''));\n",
              "svg.append('g').attr('class','grid1')\n",
              "               .call(make_y_gridlines().tickSize(-w).tickFormat(''));\n",
              "var data1=d3.range(0,n).map(function(i){\n",
              "  return {'x':(Math.cos(12*d*i)+1)*Math.cos(d*i),\n",
              "          'y':(Math.cos(12*d*i)+1)*Math.sin(d*i)}});\n",
              "var data2=d3.range(0,n).map(function(i){\n",
              "  return {'x':(Math.cos(12*d*i)+2)*Math.cos(d*i),\n",
              "          'y':(Math.cos(12*d*i)+2)*Math.sin(d*i)}});\n",
              "svg.selectAll('.point1').data(data1).enter()\n",
              "   .append('circle').attr('class','point1')\n",
              "   .attr('r',3).attr('cx',function(d) {return xScale(d.x)})\n",
              "   .attr('cy',function(d) {return yScale(d.y)})\n",
              "   .transition().duration(20000)\n",
              "   .styleTween('fill',function(){return d3.interpolate(col1,col2)});\n",
              "svg.selectAll('.point2').data(data2).enter()\n",
              "   .append('circle').attr('class','point2')\n",
              "   .attr('r',4).attr('cx',function(d) {return xScale(d.x)})\n",
              "   .attr('cy',function(d) {return yScale(d.y)})\n",
              "   .transition().duration(20000)\n",
              "  .styleTween('fill',function(){return d3.interpolate(col2,col1)});\n",
              "</script>"
            ],
            "text/plain": [
              "<IPython.core.display.HTML object>"
            ]
          },
          "metadata": {
            "tags": []
          },
          "execution_count": 1
        }
      ]
    },
    {
      "cell_type": "code",
      "metadata": {
        "id": "0PBsgRjCtcnX",
        "colab": {
          "base_uri": "https://localhost:8080/"
        },
        "outputId": "3db69644-58f4-4d3f-d16d-f7b9a0f706af"
      },
      "source": [
        "from IPython.display import HTML\n",
        "HTML(\"\"\"<script src='//d3js.org/d3.v3.min.js'></script>\n",
        "<svg id='d302' style='background-color:silver;'></svg>\n",
        "<script>\n",
        "var mouse=[330,330],count=0;\n",
        "var svg=d3.select('#d302').attr('width',650).attr('height',650);\n",
        "var g=svg.selectAll('g').data(d3.range(25)).enter()\n",
        "         .append('g').attr('transform','translate('+mouse+')');\n",
        "g.append('rect').attr('rx',7).attr('ry',7)\n",
        " .attr('x',-12.5).attr('y',-12.5)\n",
        " .attr('width',20).attr('height',20)\n",
        " .attr('transform',function(d,i){return 'scale('+(1-d/25)*20+')';})\n",
        " .style('fill',d3.scale.category20b());\n",
        "g.datum(function(d){return {center:mouse.slice(),angle:0};});\n",
        "svg.on('mousemove',function(){mouse=d3.mouse(this);});\n",
        "d3.timer(function(){count++; \n",
        "g.attr('transform',function(d,i){\n",
        "    d.center[0]+=(mouse[0]-d.center[0])/(i+1); \n",
        "    d.center[1]+=(mouse[1]-d.center[1])/(i+1); \n",
        "    d.angle+=Math.sin((count+i)/40)*7; \n",
        "    return 'translate('+d.center+')rotate('+d.angle+')'});});\n",
        "</script>\"\"\")"
      ],
      "execution_count": null,
      "outputs": [
        {
          "output_type": "execute_result",
          "data": {
            "text/html": [
              "<script src='//d3js.org/d3.v3.min.js'></script>\n",
              "<svg id='d302' style='background-color:silver;'></svg>\n",
              "<script>\n",
              "var mouse=[330,330],count=0;\n",
              "var svg=d3.select('#d302').attr('width',650).attr('height',650);\n",
              "var g=svg.selectAll('g').data(d3.range(25)).enter()\n",
              "         .append('g').attr('transform','translate('+mouse+')');\n",
              "g.append('rect').attr('rx',7).attr('ry',7)\n",
              " .attr('x',-12.5).attr('y',-12.5)\n",
              " .attr('width',20).attr('height',20)\n",
              " .attr('transform',function(d,i){return 'scale('+(1-d/25)*20+')';})\n",
              " .style('fill',d3.scale.category20b());\n",
              "g.datum(function(d){return {center:mouse.slice(),angle:0};});\n",
              "svg.on('mousemove',function(){mouse=d3.mouse(this);});\n",
              "d3.timer(function(){count++; \n",
              "g.attr('transform',function(d,i){\n",
              "    d.center[0]+=(mouse[0]-d.center[0])/(i+1); \n",
              "    d.center[1]+=(mouse[1]-d.center[1])/(i+1); \n",
              "    d.angle+=Math.sin((count+i)/40)*7; \n",
              "    return 'translate('+d.center+')rotate('+d.angle+')'});});\n",
              "</script>"
            ],
            "text/plain": [
              "<IPython.core.display.HTML object>"
            ]
          },
          "metadata": {
            "tags": []
          },
          "execution_count": 2
        }
      ]
    },
    {
      "cell_type": "code",
      "metadata": {
        "id": "xIQ06s3eEtkG",
        "colab": {
          "base_uri": "https://localhost:8080/"
        },
        "outputId": "ce03a8ae-6d64-424f-a220-dae4f4a1f80a"
      },
      "source": [
        "from IPython.display import HTML\n",
        "HTML(\"\"\"<script src='https://d3js.org/d3.v4.min.js'></script>\n",
        "<svg id='d303' style='background-color:ghostwhite;'></svg>\n",
        "<script>\n",
        "var n=640,m=50,d=.01,margin={top:m,right:m,bottom:m,left:m},\n",
        "    width=600-margin.left-margin.right,height=600-margin.top-margin.bottom; \n",
        "function f(t){\n",
        "    return Math.exp(Math.pow(Math.cos(d*t),2)+Math.sin(d*t))-3*Math.cos(4*d*t);};\n",
        "function randi(xmin,xmax){return Math.floor(Math.random()*(xmax-xmin+1))+xmin;};\n",
        "function rcolor(i){var r=randi(i,255),g=randi(i,255),b=randi(i,255);\n",
        "    return '#'+r.toString(16)+g.toString(16)+b.toString(16);} \n",
        "function make_data(k){return d3.range(1,n).map(function(t){\n",
        "    return {'x':d*k*f(t)*Math.cos(d*t),\n",
        "            'y':d*k*f(t)*Math.sin(d*t)}});};    \n",
        "var xScale=d3.scaleLinear().domain([-5*d*m,5*d*m]).range([0,width+2*m]),\n",
        "    yScale=d3.scaleLinear().domain([-5*d*m,5*d*m]).range([height+2*m,0]); \n",
        "var svg=d3.select(\"#d303\").attr(\"width\",width+margin.left+margin.right)\n",
        "                          .attr(\"height\",height+margin.top+margin.bottom)\n",
        "          .attr(\"transform\",\"translate(\"+margin.left+\",\"+margin.top+\")\");\n",
        "var line=d3.line().curve(d3.curveMonotoneX)\n",
        "           .x(function(d){return xScale(d.x);})\n",
        "           .y(function(d){return yScale(d.y);});\n",
        "for (var i=1; i<m; i++) {var data=make_data(i),col=rcolor(i);\n",
        "    svg.append('path').datum(data)\n",
        "       .attr('class','line').attr('d',line)\n",
        "       .attr('stroke',col).attr('fill','none');};\n",
        "</script>\"\"\")"
      ],
      "execution_count": null,
      "outputs": [
        {
          "output_type": "execute_result",
          "data": {
            "text/html": [
              "<script src='https://d3js.org/d3.v4.min.js'></script>\n",
              "<svg id='d303' style='background-color:ghostwhite;'></svg>\n",
              "<script>\n",
              "var n=640,m=50,d=.01,margin={top:m,right:m,bottom:m,left:m},\n",
              "    width=600-margin.left-margin.right,height=600-margin.top-margin.bottom; \n",
              "function f(t){\n",
              "    return Math.exp(Math.pow(Math.cos(d*t),2)+Math.sin(d*t))-3*Math.cos(4*d*t);};\n",
              "function randi(xmin,xmax){return Math.floor(Math.random()*(xmax-xmin+1))+xmin;};\n",
              "function rcolor(i){var r=randi(i,255),g=randi(i,255),b=randi(i,255);\n",
              "    return '#'+r.toString(16)+g.toString(16)+b.toString(16);} \n",
              "function make_data(k){return d3.range(1,n).map(function(t){\n",
              "    return {'x':d*k*f(t)*Math.cos(d*t),\n",
              "            'y':d*k*f(t)*Math.sin(d*t)}});};    \n",
              "var xScale=d3.scaleLinear().domain([-5*d*m,5*d*m]).range([0,width+2*m]),\n",
              "    yScale=d3.scaleLinear().domain([-5*d*m,5*d*m]).range([height+2*m,0]); \n",
              "var svg=d3.select(\"#d303\").attr(\"width\",width+margin.left+margin.right)\n",
              "                          .attr(\"height\",height+margin.top+margin.bottom)\n",
              "          .attr(\"transform\",\"translate(\"+margin.left+\",\"+margin.top+\")\");\n",
              "var line=d3.line().curve(d3.curveMonotoneX)\n",
              "           .x(function(d){return xScale(d.x);})\n",
              "           .y(function(d){return yScale(d.y);});\n",
              "for (var i=1; i<m; i++) {var data=make_data(i),col=rcolor(i);\n",
              "    svg.append('path').datum(data)\n",
              "       .attr('class','line').attr('d',line)\n",
              "       .attr('stroke',col).attr('fill','none');};\n",
              "</script>"
            ],
            "text/plain": [
              "<IPython.core.display.HTML object>"
            ]
          },
          "metadata": {
            "tags": []
          },
          "execution_count": 3
        }
      ]
    },
    {
      "cell_type": "code",
      "metadata": {
        "id": "A51KvsgK4j3g",
        "colab": {
          "base_uri": "https://localhost:8080/"
        },
        "outputId": "14eee56b-03b7-4144-8d7c-aab546d3e04f"
      },
      "source": [
        "from IPython.display import HTML\n",
        "HTML(\"\"\"\n",
        "<style>\n",
        "text {fill:#fff; font-size:135%;} \n",
        ".grid line,.grid path {stroke:#fff; stroke-opacity:.7; \n",
        "                       shape-rendering:crispEdges;}\n",
        "</style>\n",
        "<script src='https://d3js.org/d3.v4.min.js'></script>\n",
        "<svg id='d304' style='background-color:silver;'></svg>\n",
        "<script>\n",
        "var n=640,m=30,d=.01,margin={top:m,right:m,bottom:m,left:m},\n",
        "    width=600-margin.left-margin.right,height=600-margin.top-margin.bottom; \n",
        "function make_xgridlines(){return d3.axisBottom(xScale).ticks(11).tickFormat('')};\n",
        "function make_ygridlines(){return d3.axisLeft(yScale).ticks(11).tickFormat('')}; \n",
        "function randi(xmin,xmax){return Math.floor(Math.random()*(xmax-xmin+1))+xmin;};\n",
        "function gcolor(k) {var r=randi(10*k,255),g=randi(10*k,255),b=randi(10*k,255);\n",
        "    return '#'+r.toString(16)+g.toString(16)+b.toString(16);}\n",
        "var a=randi(7,15),b=randi(10,24),l=randi(3,12);              \n",
        "function make_data(k) {return d3.range(0,n).map(function(t){\n",
        "    return {'x':k*(Math.cos(d*t)+Math.cos(a*d*t)/2+Math.sin((a+b)*d*t)/3),\n",
        "            'y':k*(Math.sin(d*t)+Math.sin(a*d*t)/2+Math.cos((a+b)*d*t)/3)}});};\n",
        "var xScale=d3.scaleLinear().domain([-1.8*l,1.8*l]).range([0,width]),\n",
        "    yScale=d3.scaleLinear().domain([-1.8*l,1.8*l]).range([height,0]);\n",
        "var svg=d3.select('#d304').attr('width',width+margin.left+margin.right)\n",
        "          .attr('height',height+margin.top+margin.bottom).append('g')\n",
        "          .attr('transform','translate('+margin.left+','+margin.top+')');\n",
        "svg.append('g').attr('class','x axis').call(d3.axisBottom(xScale).tickSize(.5))\n",
        "               .attr('transform','translate(0,'+height+')'); \n",
        "svg.append('g').attr('class','y axis').call(d3.axisLeft(yScale).tickSize(.5));    \n",
        "svg.append('g').attr('class','grid').attr('transform','translate(0,'+height+')')\n",
        "               .call(make_xgridlines().tickSize(-height));\n",
        "svg.append('g').attr('class','grid').call(make_ygridlines().tickSize(-width));\n",
        "var line=d3.line().curve(d3.curveMonotoneX)\n",
        "           .x(function(d) {return xScale(d.x);})\n",
        "           .y(function(d) {return yScale(d.y);});\n",
        "for (var i=1; i<l+1; i++) {var data=make_data(i),col=gcolor(i);\n",
        "    svg.append('path').datum(data).attr('class','line').attr('d',line)\n",
        "       .attr('stroke',col).attr('fill','none');};\n",
        "svg.append('text').attr('transform','translate('+(width/2-50)+','+-5+')')\n",
        "                  .style('fill','#fff').text('a='+a+'; b='+b+'; l='+l);\n",
        "</script>\"\"\")"
      ],
      "execution_count": null,
      "outputs": [
        {
          "output_type": "execute_result",
          "data": {
            "text/html": [
              "\n",
              "<style>\n",
              "text {fill:#fff; font-size:135%;} \n",
              ".grid line,.grid path {stroke:#fff; stroke-opacity:.7; \n",
              "                       shape-rendering:crispEdges;}\n",
              "</style>\n",
              "<script src='https://d3js.org/d3.v4.min.js'></script>\n",
              "<svg id='d304' style='background-color:silver;'></svg>\n",
              "<script>\n",
              "var n=640,m=30,d=.01,margin={top:m,right:m,bottom:m,left:m},\n",
              "    width=600-margin.left-margin.right,height=600-margin.top-margin.bottom; \n",
              "function make_xgridlines(){return d3.axisBottom(xScale).ticks(11).tickFormat('')};\n",
              "function make_ygridlines(){return d3.axisLeft(yScale).ticks(11).tickFormat('')}; \n",
              "function randi(xmin,xmax){return Math.floor(Math.random()*(xmax-xmin+1))+xmin;};\n",
              "function gcolor(k) {var r=randi(10*k,255),g=randi(10*k,255),b=randi(10*k,255);\n",
              "    return '#'+r.toString(16)+g.toString(16)+b.toString(16);}\n",
              "var a=randi(7,15),b=randi(10,24),l=randi(3,12);              \n",
              "function make_data(k) {return d3.range(0,n).map(function(t){\n",
              "    return {'x':k*(Math.cos(d*t)+Math.cos(a*d*t)/2+Math.sin((a+b)*d*t)/3),\n",
              "            'y':k*(Math.sin(d*t)+Math.sin(a*d*t)/2+Math.cos((a+b)*d*t)/3)}});};\n",
              "var xScale=d3.scaleLinear().domain([-1.8*l,1.8*l]).range([0,width]),\n",
              "    yScale=d3.scaleLinear().domain([-1.8*l,1.8*l]).range([height,0]);\n",
              "var svg=d3.select('#d304').attr('width',width+margin.left+margin.right)\n",
              "          .attr('height',height+margin.top+margin.bottom).append('g')\n",
              "          .attr('transform','translate('+margin.left+','+margin.top+')');\n",
              "svg.append('g').attr('class','x axis').call(d3.axisBottom(xScale).tickSize(.5))\n",
              "               .attr('transform','translate(0,'+height+')'); \n",
              "svg.append('g').attr('class','y axis').call(d3.axisLeft(yScale).tickSize(.5));    \n",
              "svg.append('g').attr('class','grid').attr('transform','translate(0,'+height+')')\n",
              "               .call(make_xgridlines().tickSize(-height));\n",
              "svg.append('g').attr('class','grid').call(make_ygridlines().tickSize(-width));\n",
              "var line=d3.line().curve(d3.curveMonotoneX)\n",
              "           .x(function(d) {return xScale(d.x);})\n",
              "           .y(function(d) {return yScale(d.y);});\n",
              "for (var i=1; i<l+1; i++) {var data=make_data(i),col=gcolor(i);\n",
              "    svg.append('path').datum(data).attr('class','line').attr('d',line)\n",
              "       .attr('stroke',col).attr('fill','none');};\n",
              "svg.append('text').attr('transform','translate('+(width/2-50)+','+-5+')')\n",
              "                  .style('fill','#fff').text('a='+a+'; b='+b+'; l='+l);\n",
              "</script>"
            ],
            "text/plain": [
              "<IPython.core.display.HTML object>"
            ]
          },
          "metadata": {
            "tags": []
          },
          "execution_count": 4
        }
      ]
    },
    {
      "cell_type": "code",
      "metadata": {
        "id": "1fTZ8mty6knU",
        "colab": {
          "base_uri": "https://localhost:8080/"
        },
        "outputId": "a92a6c87-0281-466b-d9f7-a219299467e2"
      },
      "source": [
        "HTML(\"\"\"<script src='https://d3js.org/d3.v4.min.js'></script>\n",
        "<svg id='d305' style='background-color:ghostwhite;'></svg>\n",
        "<script>\n",
        "var n=640,m=30,d=.01,margin={top:m,right:m,bottom:m,left:m},\n",
        "    width=600-margin.left-margin.right,height=600-margin.top-margin.bottom; \n",
        "function randi(xmin,xmax){return Math.floor(Math.random()*(xmax-xmin+1))+xmin;};\n",
        "function gcolor(i) {var r=randi(20*i,255),g=randi(20*i,255),b=randi(20*i,255);\n",
        "    return '#'+r.toString(16)+g.toString(16)+b.toString(16);}\n",
        "var a=randi(7,15),b=randi(10,24);           \n",
        "function make_data(j){return d3.range(0,n).map(function(i){\n",
        "    return {\"x\":4*j*(Math.cos(d*i)+Math.cos(a*d*i)/2+Math.sin((a+b)*d*i)/3),\n",
        "            \"y\":4*j*(Math.sin(d*i)+Math.sin(a*d*i)/2+Math.cos((a+b)*d*i)/3)}});};\n",
        "var xScale=d3.scaleLinear().domain([-24,24]).range([0,width+2*m]),\n",
        "    yScale=d3.scaleLinear().domain([-24,24]).range([height+2*m,0]); \n",
        "var svg2=d3.select(\"#d305\").attr(\"width\",width+margin.left+margin.right)\n",
        "                           .attr(\"height\",height+margin.top+margin.bottom)\n",
        "           .attr(\"transform\",\"translate(\"+margin.left+\",\"+margin.top+\")\");\n",
        "var line=d3.line().curve(d3.curveMonotoneX)\n",
        "           .x(function(d){return xScale(d.x);})\n",
        "           .y(function(d){return yScale(d.y);});\n",
        "for (var k=1; k<4; k++) {var data=make_data(k);\n",
        "    svg2.append(\"path\").datum(data).attr(\"class\",\"line\").attr(\"d\",line)\n",
        "        .attr(\"fill\",\"none\").attr(\"stroke-width\",2).transition().duration(5000)\n",
        "        .styleTween(\"stroke\",function(){var col1=gcolor(k),col2=gcolor(k); \n",
        "                                        return d3.interpolate(col1,col2);});};\n",
        "svg2.append(\"text\").attr(\"transform\",\"translate(\"+20+\",\"+20+\")\")\n",
        "    .style(\"fill\",\"#aaa\").text(\"a=\"+a+\"; b=\"+b);\n",
        "</script>\"\"\")                   "
      ],
      "execution_count": null,
      "outputs": [
        {
          "output_type": "execute_result",
          "data": {
            "text/html": [
              "<script src='https://d3js.org/d3.v4.min.js'></script>\n",
              "<svg id='d305' style='background-color:ghostwhite;'></svg>\n",
              "<script>\n",
              "var n=640,m=30,d=.01,margin={top:m,right:m,bottom:m,left:m},\n",
              "    width=600-margin.left-margin.right,height=600-margin.top-margin.bottom; \n",
              "function randi(xmin,xmax){return Math.floor(Math.random()*(xmax-xmin+1))+xmin;};\n",
              "function gcolor(i) {var r=randi(20*i,255),g=randi(20*i,255),b=randi(20*i,255);\n",
              "    return '#'+r.toString(16)+g.toString(16)+b.toString(16);}\n",
              "var a=randi(7,15),b=randi(10,24);           \n",
              "function make_data(j){return d3.range(0,n).map(function(i){\n",
              "    return {\"x\":4*j*(Math.cos(d*i)+Math.cos(a*d*i)/2+Math.sin((a+b)*d*i)/3),\n",
              "            \"y\":4*j*(Math.sin(d*i)+Math.sin(a*d*i)/2+Math.cos((a+b)*d*i)/3)}});};\n",
              "var xScale=d3.scaleLinear().domain([-24,24]).range([0,width+2*m]),\n",
              "    yScale=d3.scaleLinear().domain([-24,24]).range([height+2*m,0]); \n",
              "var svg2=d3.select(\"#d305\").attr(\"width\",width+margin.left+margin.right)\n",
              "                           .attr(\"height\",height+margin.top+margin.bottom)\n",
              "           .attr(\"transform\",\"translate(\"+margin.left+\",\"+margin.top+\")\");\n",
              "var line=d3.line().curve(d3.curveMonotoneX)\n",
              "           .x(function(d){return xScale(d.x);})\n",
              "           .y(function(d){return yScale(d.y);});\n",
              "for (var k=1; k<4; k++) {var data=make_data(k);\n",
              "    svg2.append(\"path\").datum(data).attr(\"class\",\"line\").attr(\"d\",line)\n",
              "        .attr(\"fill\",\"none\").attr(\"stroke-width\",2).transition().duration(5000)\n",
              "        .styleTween(\"stroke\",function(){var col1=gcolor(k),col2=gcolor(k); \n",
              "                                        return d3.interpolate(col1,col2);});};\n",
              "svg2.append(\"text\").attr(\"transform\",\"translate(\"+20+\",\"+20+\")\")\n",
              "    .style(\"fill\",\"#aaa\").text(\"a=\"+a+\"; b=\"+b);\n",
              "</script>"
            ],
            "text/plain": [
              "<IPython.core.display.HTML object>"
            ]
          },
          "metadata": {
            "tags": []
          },
          "execution_count": 5
        }
      ]
    },
    {
      "cell_type": "code",
      "metadata": {
        "id": "sdJFA0hOMLcH",
        "colab": {
          "base_uri": "https://localhost:8080/"
        },
        "outputId": "7c52b323-3cfe-45fb-c777-7c56bd5b973c"
      },
      "source": [
        "from IPython.display import HTML\n",
        "HTML(\"\"\"\n",
        "<style>\n",
        ".xaxis1 text,.yaxis1 text {fill:#36ff36; font-size:150%;} \n",
        ".point {stroke:#fff; stroke-width:1;}             \n",
        ".grid1 line,.grid1 path {stroke:#fff; stroke-opacity:.9; \n",
        "                         shape-rendering:crispEdges;}\n",
        "</style>\n",
        "<script src='https://d3js.org/d3.v4.min.js'></script>\n",
        "<svg id='pp1' style='background-color:slategray;'></svg><script>\n",
        "var n=255,m=35,margin={top:m,right:m,bottom:m,left:m},\n",
        "    width=500-margin.left-margin.right,height=500-margin.top-margin.bottom; \n",
        "var xScale=d3.scaleLinear().domain([-1.2,1.2]).range([0,width]); \n",
        "var yScale=d3.scaleLinear().domain([-1.2,1.2]).range([height,0]);\n",
        "function make_x_gridlines(){return d3.axisBottom(xScale).ticks(11)}; \n",
        "function make_y_gridlines(){return d3.axisLeft(yScale).ticks(11)};\n",
        "var pointColor=d3.scaleSequential().domain([0,n])\n",
        "                 .interpolator(d3.interpolateCool);            \n",
        "var data=d3.range(0,n).map(function(i){\n",
        "    return {'x':Math.sin(4*Math.PI/n*i),'y':Math.sin(10*Math.PI/n*i)}});\n",
        "var svg=d3.select('#pp1').attr('width',width+margin.left+margin.right)\n",
        "          .attr('height',height+margin.top+margin.bottom).append('g')\n",
        "          .attr('transform','translate('+margin.left+','+margin.top+')');\n",
        "svg.append('g').attr('class','xaxis1').call(d3.axisBottom(xScale).tickSize(.5))\n",
        "               .attr('transform','translate(0,'+height+')'); \n",
        "svg.append('g').attr('class','yaxis1').call(d3.axisLeft(yScale).tickSize(.5));    \n",
        "svg.append('g').attr('class','grid1').attr('transform','translate(0,'+height+')')\n",
        "               .call(make_x_gridlines().tickSize(-height).tickFormat(''));\n",
        "svg.append('g').attr('class','grid1')\n",
        "               .call(make_y_gridlines().tickSize(-width).tickFormat(''));\n",
        "svg.selectAll('.point').data(data).enter()\n",
        "   .append('circle').attr('class','point')\n",
        "   .attr('fill',function(d,i){return pointColor(i)}).attr('r',4)\n",
        "   .attr('cx',function(d){return xScale(d.x)})\n",
        "   .attr('cy',function(d){return yScale(d.y)});\n",
        "</script>\"\"\")"
      ],
      "execution_count": null,
      "outputs": [
        {
          "output_type": "execute_result",
          "data": {
            "text/html": [
              "\n",
              "<style>\n",
              ".xaxis1 text,.yaxis1 text {fill:#36ff36; font-size:150%;} \n",
              ".point {stroke:#fff; stroke-width:1;}             \n",
              ".grid1 line,.grid1 path {stroke:#fff; stroke-opacity:.9; \n",
              "                         shape-rendering:crispEdges;}\n",
              "</style>\n",
              "<script src='https://d3js.org/d3.v4.min.js'></script>\n",
              "<svg id='pp1' style='background-color:slategray;'></svg><script>\n",
              "var n=255,m=35,margin={top:m,right:m,bottom:m,left:m},\n",
              "    width=500-margin.left-margin.right,height=500-margin.top-margin.bottom; \n",
              "var xScale=d3.scaleLinear().domain([-1.2,1.2]).range([0,width]); \n",
              "var yScale=d3.scaleLinear().domain([-1.2,1.2]).range([height,0]);\n",
              "function make_x_gridlines(){return d3.axisBottom(xScale).ticks(11)}; \n",
              "function make_y_gridlines(){return d3.axisLeft(yScale).ticks(11)};\n",
              "var pointColor=d3.scaleSequential().domain([0,n])\n",
              "                 .interpolator(d3.interpolateCool);            \n",
              "var data=d3.range(0,n).map(function(i){\n",
              "    return {'x':Math.sin(4*Math.PI/n*i),'y':Math.sin(10*Math.PI/n*i)}});\n",
              "var svg=d3.select('#pp1').attr('width',width+margin.left+margin.right)\n",
              "          .attr('height',height+margin.top+margin.bottom).append('g')\n",
              "          .attr('transform','translate('+margin.left+','+margin.top+')');\n",
              "svg.append('g').attr('class','xaxis1').call(d3.axisBottom(xScale).tickSize(.5))\n",
              "               .attr('transform','translate(0,'+height+')'); \n",
              "svg.append('g').attr('class','yaxis1').call(d3.axisLeft(yScale).tickSize(.5));    \n",
              "svg.append('g').attr('class','grid1').attr('transform','translate(0,'+height+')')\n",
              "               .call(make_x_gridlines().tickSize(-height).tickFormat(''));\n",
              "svg.append('g').attr('class','grid1')\n",
              "               .call(make_y_gridlines().tickSize(-width).tickFormat(''));\n",
              "svg.selectAll('.point').data(data).enter()\n",
              "   .append('circle').attr('class','point')\n",
              "   .attr('fill',function(d,i){return pointColor(i)}).attr('r',4)\n",
              "   .attr('cx',function(d){return xScale(d.x)})\n",
              "   .attr('cy',function(d){return yScale(d.y)});\n",
              "</script>"
            ],
            "text/plain": [
              "<IPython.core.display.HTML object>"
            ]
          },
          "metadata": {
            "tags": []
          },
          "execution_count": 6
        }
      ]
    },
    {
      "cell_type": "code",
      "metadata": {
        "id": "Z6f9hfUZR4v8",
        "colab": {
          "base_uri": "https://localhost:8080/"
        },
        "outputId": "d9b2a581-f788-49b6-a1c4-4e62f2b8ee6c"
      },
      "source": [
        "from IPython.display import HTML\n",
        "HTML(\"\"\"<script src='https://code.highcharts.com/highcharts.js'></script>\n",
        "<div id='hich01' style='height:600px; width:600px; margin:0 auto'></div>\n",
        "<script>\n",
        "function randi(min,max){return Math.floor(Math.random()*(max-min+1))+min;};\n",
        "var u=.01,k=640,a=randi(5,11),b=randi(12,24),c=randi(25,81),d=randi(216,256); \n",
        "function f(t,i,n){    \n",
        "    return (a+0.9*Math.cos(u*b*t+Math.PI*i/n))*(1+0.1*Math.cos(u*c*t+Math.PI*i/n))*\n",
        "           (1+0.05*Math.cos(u*d*t+Math.PI*i/n))*(1+Math.sin(u*t+Math.PI*i/n));};\n",
        "function ar(i,n){return Array(k).fill(i).map((r,t)=>\n",
        "                         [f(t,i,n)*Math.cos(u*t),f(t,i,n)*Math.sin(u*t)]);};\n",
        "function col(i){var r=randi(i,255),g=randi(i,255),b=randi(i,255);\n",
        "    return 'rgb('+r+','+g+','+b+')';}; \n",
        "var series=[],m=36;\n",
        "for (var i=1; i<2*m+1; i++){series.push({name:i,color:col(i),\n",
        "                                         lineWidth:.7,data:ar(i,m)})};\n",
        "Highcharts.chart('hich01',{\n",
        "    chart:{type:'line',backgroundColor:'black'},\n",
        "    xAxis:{title:{text:'x'}},yAxis:{title:{text:'y'}},\n",
        "    title:{text:'Random Parametric Plot',\n",
        "    style:{color:'white'}},credits:{enabled:false},\n",
        "    legend:{enabled:false},series:series});\n",
        "</script>\"\"\")"
      ],
      "execution_count": null,
      "outputs": [
        {
          "output_type": "execute_result",
          "data": {
            "text/html": [
              "<script src='https://code.highcharts.com/highcharts.js'></script>\n",
              "<div id='hich01' style='height:600px; width:600px; margin:0 auto'></div>\n",
              "<script>\n",
              "function randi(min,max){return Math.floor(Math.random()*(max-min+1))+min;};\n",
              "var u=.01,k=640,a=randi(5,11),b=randi(12,24),c=randi(25,81),d=randi(216,256); \n",
              "function f(t,i,n){    \n",
              "    return (a+0.9*Math.cos(u*b*t+Math.PI*i/n))*(1+0.1*Math.cos(u*c*t+Math.PI*i/n))*\n",
              "           (1+0.05*Math.cos(u*d*t+Math.PI*i/n))*(1+Math.sin(u*t+Math.PI*i/n));};\n",
              "function ar(i,n){return Array(k).fill(i).map((r,t)=>\n",
              "                         [f(t,i,n)*Math.cos(u*t),f(t,i,n)*Math.sin(u*t)]);};\n",
              "function col(i){var r=randi(i,255),g=randi(i,255),b=randi(i,255);\n",
              "    return 'rgb('+r+','+g+','+b+')';}; \n",
              "var series=[],m=36;\n",
              "for (var i=1; i<2*m+1; i++){series.push({name:i,color:col(i),\n",
              "                                         lineWidth:.7,data:ar(i,m)})};\n",
              "Highcharts.chart('hich01',{\n",
              "    chart:{type:'line',backgroundColor:'black'},\n",
              "    xAxis:{title:{text:'x'}},yAxis:{title:{text:'y'}},\n",
              "    title:{text:'Random Parametric Plot',\n",
              "    style:{color:'white'}},credits:{enabled:false},\n",
              "    legend:{enabled:false},series:series});\n",
              "</script>"
            ],
            "text/plain": [
              "<IPython.core.display.HTML object>"
            ]
          },
          "metadata": {
            "tags": []
          },
          "execution_count": 7
        }
      ]
    },
    {
      "cell_type": "code",
      "metadata": {
        "id": "Jz_a6meDlo5I",
        "colab": {
          "base_uri": "https://localhost:8080/"
        },
        "outputId": "e1b4bdc5-3596-4c56-9895-3d3d7951a980"
      },
      "source": [
        "from IPython.display import HTML\n",
        "HTML(\"\"\"<script src='https://code.highcharts.com/highcharts.js'></script>\n",
        "<div id='hich02' style='height:600px; width:600px; margin:0 auto'></div>\n",
        "<script>\n",
        "function getinteger(min,max) {return Math.floor(Math.random()*(max-min+1))+min;};\n",
        "function ar(k,a,b) {return Array(12800).fill(k).map((k,t)=>\n",
        "    [k*(Math.cos(0.001*t)+Math.sin(a*0.001*t)/2-Math.cos(b*0.001*t)/6),\n",
        "     k*(Math.sin(0.001*t)+Math.cos(a*0.001*t)/2-Math.sin(b*0.001*t)/6)]);};\n",
        "function col(i) {var r=getinteger(i,255),g=getinteger(i,255),b=getinteger(i,255);\n",
        "                 return 'rgb('+r.toString()+','+g.toString()+','+b.toString()+')';}; \n",
        "var series=[]; var i; var n=3;\n",
        "var a=getinteger(7,19),b=getinteger(18,64);\n",
        "for (i=1; i<n+1; i++) {series.push({name:i.toString(),color:col(i),\n",
        "                                    lineWidth:0.5,data:ar(i,a,b)})};\n",
        "Highcharts.chart('hich02', {\n",
        "    chart:{type:'line',backgroundColor:'mintcream'},\n",
        "    xAxis:{title:{text:'x'}},yAxis:{title:{text:'y'}},\n",
        "    title:{text:'Random Parametric Plot: a,b = '+[a,b].toString()},\n",
        "    credits:{enabled:false},legend:{enabled:false},series:series});\n",
        "</script>\"\"\")"
      ],
      "execution_count": null,
      "outputs": [
        {
          "output_type": "execute_result",
          "data": {
            "text/html": [
              "<script src='https://code.highcharts.com/highcharts.js'></script>\n",
              "<div id='hich02' style='height:600px; width:600px; margin:0 auto'></div>\n",
              "<script>\n",
              "function getinteger(min,max) {return Math.floor(Math.random()*(max-min+1))+min;};\n",
              "function ar(k,a,b) {return Array(12800).fill(k).map((k,t)=>\n",
              "    [k*(Math.cos(0.001*t)+Math.sin(a*0.001*t)/2-Math.cos(b*0.001*t)/6),\n",
              "     k*(Math.sin(0.001*t)+Math.cos(a*0.001*t)/2-Math.sin(b*0.001*t)/6)]);};\n",
              "function col(i) {var r=getinteger(i,255),g=getinteger(i,255),b=getinteger(i,255);\n",
              "                 return 'rgb('+r.toString()+','+g.toString()+','+b.toString()+')';}; \n",
              "var series=[]; var i; var n=3;\n",
              "var a=getinteger(7,19),b=getinteger(18,64);\n",
              "for (i=1; i<n+1; i++) {series.push({name:i.toString(),color:col(i),\n",
              "                                    lineWidth:0.5,data:ar(i,a,b)})};\n",
              "Highcharts.chart('hich02', {\n",
              "    chart:{type:'line',backgroundColor:'mintcream'},\n",
              "    xAxis:{title:{text:'x'}},yAxis:{title:{text:'y'}},\n",
              "    title:{text:'Random Parametric Plot: a,b = '+[a,b].toString()},\n",
              "    credits:{enabled:false},legend:{enabled:false},series:series});\n",
              "</script>"
            ],
            "text/plain": [
              "<IPython.core.display.HTML object>"
            ]
          },
          "metadata": {
            "tags": []
          },
          "execution_count": 8
        }
      ]
    },
    {
      "cell_type": "code",
      "metadata": {
        "id": "sfxnQ57smOj4",
        "colab": {
          "base_uri": "https://localhost:8080/"
        },
        "outputId": "0bcaf14d-fc6b-4933-d789-0a1f8d4004f2"
      },
      "source": [
        "from IPython.display import HTML\n",
        "HTML(\"\"\"<script src='https://code.highcharts.com/highcharts.js'></script>\n",
        "<div id='hich03' style='height:600px; width:600px; margin:0 auto'></div>\n",
        "<script>\n",
        "function getinteger(min,max) {return Math.floor(Math.random()*(max-min+1))+min;};\n",
        "function ar(k,a,b) {return Array(6400).fill(k).map((k,t)=>\n",
        "    [Math.cos(0.001*t+k*Math.PI/6)+Math.cos(a*0.001*t)/2+Math.sin((a+b)*0.001*t)/3,\n",
        "     Math.sin(0.001*t+k*Math.PI/6)+Math.sin(a*0.001*t)/2+Math.cos((a+b)*0.001*t)/3]);};\n",
        "function col(i) {var r=getinteger(i,255),g=getinteger(i,255),b=getinteger(i,255);\n",
        "                 return 'rgb('+r.toString()+','+g.toString()+','+b.toString()+')';}; \n",
        "var series=[]; var i; var n=6;\n",
        "var a=getinteger(7,15),b=getinteger(10,48);\n",
        "for (i=1; i<2*n+1; i++) {series.push({name:i.toString(),color:col(i),\n",
        "                                      lineWidth:0.5,data:ar(i,a,b)})};\n",
        "Highcharts.chart('hich03', {\n",
        "    chart:{type:'line',backgroundColor:'lavender'},\n",
        "    xAxis:{title:{text:'x'}},yAxis:{title:{text:'y'}},\n",
        "    title:{text:'Random Parametric Plot: a,b = '+[a,b].toString()},\n",
        "    credits:{enabled:false},legend:{enabled:false},series:series});\n",
        "</script>\"\"\")"
      ],
      "execution_count": null,
      "outputs": [
        {
          "output_type": "execute_result",
          "data": {
            "text/html": [
              "<script src='https://code.highcharts.com/highcharts.js'></script>\n",
              "<div id='hich03' style='height:600px; width:600px; margin:0 auto'></div>\n",
              "<script>\n",
              "function getinteger(min,max) {return Math.floor(Math.random()*(max-min+1))+min;};\n",
              "function ar(k,a,b) {return Array(6400).fill(k).map((k,t)=>\n",
              "    [Math.cos(0.001*t+k*Math.PI/6)+Math.cos(a*0.001*t)/2+Math.sin((a+b)*0.001*t)/3,\n",
              "     Math.sin(0.001*t+k*Math.PI/6)+Math.sin(a*0.001*t)/2+Math.cos((a+b)*0.001*t)/3]);};\n",
              "function col(i) {var r=getinteger(i,255),g=getinteger(i,255),b=getinteger(i,255);\n",
              "                 return 'rgb('+r.toString()+','+g.toString()+','+b.toString()+')';}; \n",
              "var series=[]; var i; var n=6;\n",
              "var a=getinteger(7,15),b=getinteger(10,48);\n",
              "for (i=1; i<2*n+1; i++) {series.push({name:i.toString(),color:col(i),\n",
              "                                      lineWidth:0.5,data:ar(i,a,b)})};\n",
              "Highcharts.chart('hich03', {\n",
              "    chart:{type:'line',backgroundColor:'lavender'},\n",
              "    xAxis:{title:{text:'x'}},yAxis:{title:{text:'y'}},\n",
              "    title:{text:'Random Parametric Plot: a,b = '+[a,b].toString()},\n",
              "    credits:{enabled:false},legend:{enabled:false},series:series});\n",
              "</script>"
            ],
            "text/plain": [
              "<IPython.core.display.HTML object>"
            ]
          },
          "metadata": {
            "tags": []
          },
          "execution_count": 9
        }
      ]
    },
    {
      "cell_type": "code",
      "metadata": {
        "id": "d0Z6bi6Cnyfs",
        "colab": {
          "base_uri": "https://localhost:8080/"
        },
        "outputId": "627571c2-cd48-4f46-e4f6-b7f5f48a92ac"
      },
      "source": [
        "from IPython.display import HTML\n",
        "HTML(\"\"\"<script src='https://code.highcharts.com/highcharts.js'></script>\n",
        "<div id='hich04' style='height:600px; width:600px; margin:0 auto'></div>\n",
        "<script>\n",
        "function getinteger(min,max) {return Math.floor(Math.random()*(max-min+1))+min;};\n",
        "function ar(k,a,b) {return Array(6400).fill(k).map((k,t)=>\n",
        "    [k*(Math.cos(0.001*t)+Math.cos(a*0.001*t)/2+Math.sin((a+b)*0.001*t)/3),\n",
        "     k*(Math.sin(0.001*t)+Math.sin(a*0.001*t)/2+Math.cos((a+b)*0.001*t)/3)]);};\n",
        "function col(i) {var r=getinteger(i,255),g=getinteger(i,255),b=getinteger(i,255);\n",
        "                 return 'rgb('+r.toString()+','+g.toString()+','+b.toString()+')';}; \n",
        "var series=[]; var i; var n=4;\n",
        "for (i=1; i<n+1; i++) {\n",
        "    var a=getinteger(5,15),b=getinteger(10,24);\n",
        "    series.push({name:[i,a,b].toString(),color:col(i),lineWidth:0.7,data:ar(i,a,b)})};\n",
        "Highcharts.chart('hich04', {\n",
        "    chart:{type:'line',backgroundColor:'ghostwhite'},\n",
        "    xAxis:{title:{text:'x'}},yAxis:{title:{text:'y'}},\n",
        "    title:{text:'Random Parametric Plot'},credits:{enabled:false},\n",
        "    legend:{enabled:false},series:series});\n",
        "</script>\"\"\")"
      ],
      "execution_count": null,
      "outputs": [
        {
          "output_type": "execute_result",
          "data": {
            "text/html": [
              "<script src='https://code.highcharts.com/highcharts.js'></script>\n",
              "<div id='hich04' style='height:600px; width:600px; margin:0 auto'></div>\n",
              "<script>\n",
              "function getinteger(min,max) {return Math.floor(Math.random()*(max-min+1))+min;};\n",
              "function ar(k,a,b) {return Array(6400).fill(k).map((k,t)=>\n",
              "    [k*(Math.cos(0.001*t)+Math.cos(a*0.001*t)/2+Math.sin((a+b)*0.001*t)/3),\n",
              "     k*(Math.sin(0.001*t)+Math.sin(a*0.001*t)/2+Math.cos((a+b)*0.001*t)/3)]);};\n",
              "function col(i) {var r=getinteger(i,255),g=getinteger(i,255),b=getinteger(i,255);\n",
              "                 return 'rgb('+r.toString()+','+g.toString()+','+b.toString()+')';}; \n",
              "var series=[]; var i; var n=4;\n",
              "for (i=1; i<n+1; i++) {\n",
              "    var a=getinteger(5,15),b=getinteger(10,24);\n",
              "    series.push({name:[i,a,b].toString(),color:col(i),lineWidth:0.7,data:ar(i,a,b)})};\n",
              "Highcharts.chart('hich04', {\n",
              "    chart:{type:'line',backgroundColor:'ghostwhite'},\n",
              "    xAxis:{title:{text:'x'}},yAxis:{title:{text:'y'}},\n",
              "    title:{text:'Random Parametric Plot'},credits:{enabled:false},\n",
              "    legend:{enabled:false},series:series});\n",
              "</script>"
            ],
            "text/plain": [
              "<IPython.core.display.HTML object>"
            ]
          },
          "metadata": {
            "tags": []
          },
          "execution_count": 10
        }
      ]
    },
    {
      "cell_type": "code",
      "metadata": {
        "id": "lxgf135AE4C2",
        "colab": {
          "base_uri": "https://localhost:8080/"
        },
        "outputId": "07ab2259-0919-4f53-9c60-65ea594ae603"
      },
      "source": [
        "from IPython.display import HTML\n",
        "HTML(\"\"\"<script src='https://code.highcharts.com/highcharts.js'></script>\n",
        "<div id='hich05' style='height:600px; width:600px; margin:0 auto'></div>\n",
        "<script>\n",
        "var u=.001,n=6400,m=2,series=[];\n",
        "function randi(min,max){return Math.floor(Math.random()*(max-min+1))+min;};\n",
        "function fx(a,b,c,d,t){\n",
        "    return Math.sin(u*t/6)+a*Math.sin(b*u*t)*Math.cos(u*t)+c*Math.sin(b*u*t)};\n",
        "function fy(a,b,c,d,t){\n",
        "    return Math.cos(u*t/6)+a*Math.sin(b*u*t)*Math.sin(u*t)+c*Math.cos(d*b*u*t)};\n",
        "function ar(k,a,b,c,d){return Array(b*n).fill(k).map((k,t)=>\n",
        "    [(1+u*k)*fx(a,b,c,d,t),(1+u*k)*fy(a,b,c,d,t)]);};\n",
        "function col(i){var r=randi(i,255),g=randi(i,255),b=randi(i,255);\n",
        "    return 'rgb('+r+','+g+','+b+')';}; \n",
        "var a=.5+Math.random(),c=10*u*randi(1,99),b=randi(6,18),d=randi(3,6);\n",
        "for (var i=1; i<m+1; i++) {series.push({name:i,color:col(i),lineWidth:.3/i,\n",
        "                                        data:ar(i,a,b,c,d)})};\n",
        "Highcharts.chart('hich05',{\n",
        "    chart:{type:'line',backgroundColor:'ivory'},\n",
        "    xAxis:{title:{text:'x'}},yAxis:{title:{text:'y'}},\n",
        "    title:{text:'Random Parametric Plot: a,b,c,d = '+[a,b,c,d]},\n",
        "    credits:{enabled:false},legend:{enabled:false},series:series});\n",
        "</script>\"\"\")"
      ],
      "execution_count": null,
      "outputs": [
        {
          "output_type": "execute_result",
          "data": {
            "text/html": [
              "<script src='https://code.highcharts.com/highcharts.js'></script>\n",
              "<div id='hich05' style='height:600px; width:600px; margin:0 auto'></div>\n",
              "<script>\n",
              "var u=.001,n=6400,m=2,series=[];\n",
              "function randi(min,max){return Math.floor(Math.random()*(max-min+1))+min;};\n",
              "function fx(a,b,c,d,t){\n",
              "    return Math.sin(u*t/6)+a*Math.sin(b*u*t)*Math.cos(u*t)+c*Math.sin(b*u*t)};\n",
              "function fy(a,b,c,d,t){\n",
              "    return Math.cos(u*t/6)+a*Math.sin(b*u*t)*Math.sin(u*t)+c*Math.cos(d*b*u*t)};\n",
              "function ar(k,a,b,c,d){return Array(b*n).fill(k).map((k,t)=>\n",
              "    [(1+u*k)*fx(a,b,c,d,t),(1+u*k)*fy(a,b,c,d,t)]);};\n",
              "function col(i){var r=randi(i,255),g=randi(i,255),b=randi(i,255);\n",
              "    return 'rgb('+r+','+g+','+b+')';}; \n",
              "var a=.5+Math.random(),c=10*u*randi(1,99),b=randi(6,18),d=randi(3,6);\n",
              "for (var i=1; i<m+1; i++) {series.push({name:i,color:col(i),lineWidth:.3/i,\n",
              "                                        data:ar(i,a,b,c,d)})};\n",
              "Highcharts.chart('hich05',{\n",
              "    chart:{type:'line',backgroundColor:'ivory'},\n",
              "    xAxis:{title:{text:'x'}},yAxis:{title:{text:'y'}},\n",
              "    title:{text:'Random Parametric Plot: a,b,c,d = '+[a,b,c,d]},\n",
              "    credits:{enabled:false},legend:{enabled:false},series:series});\n",
              "</script>"
            ],
            "text/plain": [
              "<IPython.core.display.HTML object>"
            ]
          },
          "metadata": {
            "tags": []
          },
          "execution_count": 11
        }
      ]
    },
    {
      "cell_type": "code",
      "metadata": {
        "id": "S6u9IDYt3coM",
        "colab": {
          "base_uri": "https://localhost:8080/"
        },
        "outputId": "fc1fa034-f7ec-4066-99f1-fa7c2ac8d384"
      },
      "source": [
        "from IPython.display import HTML\n",
        "HTML(\"\"\"<script src='https://code.highcharts.com/highcharts.js'></script>\n",
        "<div id='hich06' style='height:600px; width:600px; margin:0 auto'></div>\n",
        "<script>\n",
        "var u=.002,n=6400,m=2,series=[];\n",
        "function randi(min,max){return Math.floor(Math.random()*(max-min+1))+min;};\n",
        "function fx(a,b,c,d,t){\n",
        "    return Math.sin(u*t/6)+a*Math.sin(b*u*t)*Math.cos(u*t)-c*Math.sin(d*b*u*t)};\n",
        "function fy(a,b,c,d,t){\n",
        "    return Math.cos(u*t/6)+a*Math.sin(b*u*t)*Math.sin(u*t)-c*Math.cos(d*b*u*t)};\n",
        "function ar(k,a,b,c,d){return Array(b*n).fill(k).map((k,t)=>\n",
        "    [(1+u*k)*fx(a,b,c,d,t),(1+u*k)*fy(a,b,c,d,t)]);};\n",
        "function col(i){var r=randi(i,255),g=randi(i,255),b=randi(i,255);\n",
        "    return 'rgb('+r+','+g+','+b+')';}; \n",
        "var a=.5+Math.random(),c=u*randi(1,99),b=randi(3,12),d=randi(12,18);\n",
        "for (var i=1; i<m+1; i++){series.push({name:i,color:col(i),lineWidth:.6/i,\n",
        "                                      data:ar(i,a,b,c,d)})};\n",
        "Highcharts.chart('hich06',{\n",
        "    chart:{type:'line',backgroundColor:'mintcream'},\n",
        "    xAxis:{title:{text:'x'}},yAxis:{title:{text:'y'}},\n",
        "    title:{text:'Random Parametric Plot: a,b,c,d = '+[a,b,c,d]},\n",
        "    credits:{enabled:false},legend:{enabled:false},series:series});\n",
        "</script>\"\"\")"
      ],
      "execution_count": null,
      "outputs": [
        {
          "output_type": "execute_result",
          "data": {
            "text/html": [
              "<script src='https://code.highcharts.com/highcharts.js'></script>\n",
              "<div id='hich06' style='height:600px; width:600px; margin:0 auto'></div>\n",
              "<script>\n",
              "var u=.002,n=6400,m=2,series=[];\n",
              "function randi(min,max){return Math.floor(Math.random()*(max-min+1))+min;};\n",
              "function fx(a,b,c,d,t){\n",
              "    return Math.sin(u*t/6)+a*Math.sin(b*u*t)*Math.cos(u*t)-c*Math.sin(d*b*u*t)};\n",
              "function fy(a,b,c,d,t){\n",
              "    return Math.cos(u*t/6)+a*Math.sin(b*u*t)*Math.sin(u*t)-c*Math.cos(d*b*u*t)};\n",
              "function ar(k,a,b,c,d){return Array(b*n).fill(k).map((k,t)=>\n",
              "    [(1+u*k)*fx(a,b,c,d,t),(1+u*k)*fy(a,b,c,d,t)]);};\n",
              "function col(i){var r=randi(i,255),g=randi(i,255),b=randi(i,255);\n",
              "    return 'rgb('+r+','+g+','+b+')';}; \n",
              "var a=.5+Math.random(),c=u*randi(1,99),b=randi(3,12),d=randi(12,18);\n",
              "for (var i=1; i<m+1; i++){series.push({name:i,color:col(i),lineWidth:.6/i,\n",
              "                                      data:ar(i,a,b,c,d)})};\n",
              "Highcharts.chart('hich06',{\n",
              "    chart:{type:'line',backgroundColor:'mintcream'},\n",
              "    xAxis:{title:{text:'x'}},yAxis:{title:{text:'y'}},\n",
              "    title:{text:'Random Parametric Plot: a,b,c,d = '+[a,b,c,d]},\n",
              "    credits:{enabled:false},legend:{enabled:false},series:series});\n",
              "</script>"
            ],
            "text/plain": [
              "<IPython.core.display.HTML object>"
            ]
          },
          "metadata": {
            "tags": []
          },
          "execution_count": 12
        }
      ]
    },
    {
      "cell_type": "code",
      "metadata": {
        "id": "RD7lDdi5KMUV",
        "colab": {
          "base_uri": "https://localhost:8080/"
        },
        "outputId": "a42b5ef5-239e-4ec1-81fe-9820c023688a"
      },
      "source": [
        "from IPython.display import HTML\n",
        "HTML(\"\"\"<script src='https://code.highcharts.com/highcharts.js'></script>\n",
        "<script src='https://code.highcharts.com/modules/histogram-bellcurve.js'></script>\n",
        "<div id='hich07' style='height:600px; width:600px; margin:0 auto'></div><script>\n",
        "function get_int(xmin,xmax) {return Math.floor(Math.random()*(xmax-xmin+1))+xmin;};\n",
        "var n=3000; var m=get_int(6,24)\n",
        "var col='rgb('+get_int(10,240)+','+get_int(10,240)+','+get_int(10,240)+')';\n",
        "var data=Array(n).fill(m).map((a,t)=>[Math.cos(a*t*0.01)*Math.cos(t*0.01),\n",
        "                                      Math.cos(a*t*0.01)*Math.sin(t*0.01)]);\n",
        "Highcharts.chart('hich07',{\n",
        "    title:{text:'Array Histogram: a='+m},\n",
        "    xAxis:[{title:{text:'Values'},alignTicks:false},\n",
        "           {title: {text:'Histogram'},alignTicks:false,opposite:true}],\n",
        "    yAxis:[{title:{text:'Values'}},{title:{text:'Histogram'},opposite:true}],\n",
        "    series:[{name:'Histogram',type:'histogram',color:'silver',\n",
        "             xAxis:1,yAxis:1,baseSeries:'s1',zIndex:-1},\n",
        "            {name:'Data',type:'scatter',color:col,\n",
        "             data:data,id:'s1',marker:{radius:1.5}}]});\n",
        "</script>\"\"\")"
      ],
      "execution_count": null,
      "outputs": [
        {
          "output_type": "execute_result",
          "data": {
            "text/html": [
              "<script src='https://code.highcharts.com/highcharts.js'></script>\n",
              "<script src='https://code.highcharts.com/modules/histogram-bellcurve.js'></script>\n",
              "<div id='hich07' style='height:600px; width:600px; margin:0 auto'></div><script>\n",
              "function get_int(xmin,xmax) {return Math.floor(Math.random()*(xmax-xmin+1))+xmin;};\n",
              "var n=3000; var m=get_int(6,24)\n",
              "var col='rgb('+get_int(10,240)+','+get_int(10,240)+','+get_int(10,240)+')';\n",
              "var data=Array(n).fill(m).map((a,t)=>[Math.cos(a*t*0.01)*Math.cos(t*0.01),\n",
              "                                      Math.cos(a*t*0.01)*Math.sin(t*0.01)]);\n",
              "Highcharts.chart('hich07',{\n",
              "    title:{text:'Array Histogram: a='+m},\n",
              "    xAxis:[{title:{text:'Values'},alignTicks:false},\n",
              "           {title: {text:'Histogram'},alignTicks:false,opposite:true}],\n",
              "    yAxis:[{title:{text:'Values'}},{title:{text:'Histogram'},opposite:true}],\n",
              "    series:[{name:'Histogram',type:'histogram',color:'silver',\n",
              "             xAxis:1,yAxis:1,baseSeries:'s1',zIndex:-1},\n",
              "            {name:'Data',type:'scatter',color:col,\n",
              "             data:data,id:'s1',marker:{radius:1.5}}]});\n",
              "</script>"
            ],
            "text/plain": [
              "<IPython.core.display.HTML object>"
            ]
          },
          "metadata": {
            "tags": []
          },
          "execution_count": 13
        }
      ]
    },
    {
      "cell_type": "code",
      "metadata": {
        "id": "XveBpA2HI0E2",
        "colab": {
          "base_uri": "https://localhost:8080/"
        },
        "outputId": "4036be74-35b0-4727-dd21-b99751f5eaa6"
      },
      "source": [
        "from IPython.display import HTML\n",
        "HTML(\"\"\"<script src='https://code.highcharts.com/highcharts.js'></script>\n",
        "<div id='hich08' style='height:630px; width:600px; margin:0 auto'></div><script>\n",
        "function randi(min,max) {return Math.floor(Math.random()*(max-min+1))+min;};\n",
        "function fx(a,b,c,q,n,t,k) {\n",
        "    var x1=Math.cos(Math.PI*t/n+k*Math.PI/q)+Math.cos(a*Math.PI*t/n+k*Math.PI/q);\n",
        "    var x2=Math.cos(b*Math.PI*t/n+k*Math.PI/q)+Math.cos(c*Math.PI*t/n+k*Math.PI/q);\n",
        "    return x1+x2};\n",
        "function fy(a,b,c,q,n,t,k) {\n",
        "    var y1=Math.sin(Math.PI*t/n+k*Math.PI/q)+Math.sin(a*Math.PI*t/n+k*Math.PI/q);\n",
        "    var y2=Math.sin(b*Math.PI*t/n+k*Math.PI/q)+Math.sin(c*Math.PI*t/n+k*Math.PI/q);\n",
        "    return y1+y2};\n",
        "function ar(a,b,c,q,n,k) {return Array(2*n+1).fill(k).map((k,t)=>\n",
        "    [fx(a,b,c,q,n,t,k),fy(a,b,c,q,n,t,k)]);};\n",
        "function colrb(i) {var r=randi(i,255),g=0,b=randi(i,255);\n",
        "    return 'rgb('+r+','+g+','+b+')';};   \n",
        "var a=randi(5,9),b=randi(10,14),c=randi(15,19),q=randi(3,6),n=randi(4,24); \n",
        "var series=[];\n",
        "for (var k=1; k<2*q+2; k++) {\n",
        "    series.push({name:[k,a,b,c,n],marker:{symbol:\"circle\",radius:1},\n",
        "                 color:colrb(k),lineWidth:.5,data:ar(a,b,c,q,n,k)})};\n",
        "Highcharts.chart('hich08', {\n",
        "    chart:{type:'line',backgroundColor:'ghostwhite'},\n",
        "    xAxis:{title:{text:'x'}},yAxis:{title:{text:'y'}},\n",
        "    title:{text:'Random Parametric Polygons'},credits:{enabled:false},\n",
        "    legend:{enabled:false},series:series});\n",
        " </script>\"\"\")"
      ],
      "execution_count": null,
      "outputs": [
        {
          "output_type": "execute_result",
          "data": {
            "text/html": [
              "<script src='https://code.highcharts.com/highcharts.js'></script>\n",
              "<div id='hich08' style='height:630px; width:600px; margin:0 auto'></div><script>\n",
              "function randi(min,max) {return Math.floor(Math.random()*(max-min+1))+min;};\n",
              "function fx(a,b,c,q,n,t,k) {\n",
              "    var x1=Math.cos(Math.PI*t/n+k*Math.PI/q)+Math.cos(a*Math.PI*t/n+k*Math.PI/q);\n",
              "    var x2=Math.cos(b*Math.PI*t/n+k*Math.PI/q)+Math.cos(c*Math.PI*t/n+k*Math.PI/q);\n",
              "    return x1+x2};\n",
              "function fy(a,b,c,q,n,t,k) {\n",
              "    var y1=Math.sin(Math.PI*t/n+k*Math.PI/q)+Math.sin(a*Math.PI*t/n+k*Math.PI/q);\n",
              "    var y2=Math.sin(b*Math.PI*t/n+k*Math.PI/q)+Math.sin(c*Math.PI*t/n+k*Math.PI/q);\n",
              "    return y1+y2};\n",
              "function ar(a,b,c,q,n,k) {return Array(2*n+1).fill(k).map((k,t)=>\n",
              "    [fx(a,b,c,q,n,t,k),fy(a,b,c,q,n,t,k)]);};\n",
              "function colrb(i) {var r=randi(i,255),g=0,b=randi(i,255);\n",
              "    return 'rgb('+r+','+g+','+b+')';};   \n",
              "var a=randi(5,9),b=randi(10,14),c=randi(15,19),q=randi(3,6),n=randi(4,24); \n",
              "var series=[];\n",
              "for (var k=1; k<2*q+2; k++) {\n",
              "    series.push({name:[k,a,b,c,n],marker:{symbol:\"circle\",radius:1},\n",
              "                 color:colrb(k),lineWidth:.5,data:ar(a,b,c,q,n,k)})};\n",
              "Highcharts.chart('hich08', {\n",
              "    chart:{type:'line',backgroundColor:'ghostwhite'},\n",
              "    xAxis:{title:{text:'x'}},yAxis:{title:{text:'y'}},\n",
              "    title:{text:'Random Parametric Polygons'},credits:{enabled:false},\n",
              "    legend:{enabled:false},series:series});\n",
              " </script>"
            ],
            "text/plain": [
              "<IPython.core.display.HTML object>"
            ]
          },
          "metadata": {
            "tags": []
          },
          "execution_count": 14
        }
      ]
    },
    {
      "cell_type": "code",
      "metadata": {
        "id": "pCHa_Q_aOgJ_",
        "colab": {
          "base_uri": "https://localhost:8080/"
        },
        "outputId": "a919f09f-9ff7-4489-e345-fa2fb51537b9"
      },
      "source": [
        "HTML(\"\"\"<script src='https://code.highcharts.com/highcharts.js'></script>\n",
        "<div id='hich09' style='height:630px; width:600px; margin:0 auto'></div><script>\n",
        "function randi(min,max) {return Math.floor(Math.random()*(max-min+1))+min;};\n",
        "function fx(a,b,c,q,n,t,k){\n",
        "    var x1=Math.cos(Math.PI*t/n+k*Math.PI/q)+Math.cos(a*Math.PI*t/n+k*Math.PI/q);\n",
        "    var x2=Math.cos(b*Math.PI*t/n+k*Math.PI/q)+Math.cos(c*Math.PI*t/n+k*Math.PI/q);\n",
        "    return x1+x2};\n",
        "function fy(a,b,c,q,n,t,k){\n",
        "    var y1=Math.sin(Math.PI*t/n+k*Math.PI/q)-Math.sin(a*Math.PI*t/n+k*Math.PI/q);\n",
        "    var y2=Math.sin(b*Math.PI*t/n+k*Math.PI/q)-Math.sin(c*Math.PI*t/n+k*Math.PI/q);\n",
        "    return y1+y2};\n",
        "function ar(a,b,c,q,n,k){return Array(2*n+1).fill(k).map((k,t)=>\n",
        "                                [fx(a,b,c,q,n,t,k),fy(a,b,c,q,n,t,k)]);};\n",
        "function colgb(i){var r=0,g=randi(i-100,255),b=randi(i-100,255);\n",
        "    return 'rgb('+r.toString()+','+g.toString()+','+b.toString()+')';};   \n",
        "var a=randi(5,11),b=randi(12,24),c=randi(25,35);\n",
        "    q=randi(3,6),n=randi(150,350); var series=[];\n",
        "for (var k=1; k<2*q+2; k++){var colk=colgb(k); \n",
        "    series.push({name:[k,a,b,c,n],lineWidth:.2,color:colk,\n",
        "                 marker:{symbol:'circle',radius:.8,color:colk},\n",
        "                 data:ar(a,b,c,q,n,k)})};\n",
        "Highcharts.chart('hich09',{\n",
        "    chart:{type:'scatter',backgroundColor:'lightcyan'},\n",
        "    xAxis:{visible:false},yAxis:{visible:false},\n",
        "    title:{text:'Random Parametric Scatter Plots'},\n",
        "    credits:{enabled:false},legend:{enabled:false},series:series});\n",
        " </script>\"\"\")    "
      ],
      "execution_count": null,
      "outputs": [
        {
          "output_type": "execute_result",
          "data": {
            "text/html": [
              "<script src='https://code.highcharts.com/highcharts.js'></script>\n",
              "<div id='hich09' style='height:630px; width:600px; margin:0 auto'></div><script>\n",
              "function randi(min,max) {return Math.floor(Math.random()*(max-min+1))+min;};\n",
              "function fx(a,b,c,q,n,t,k){\n",
              "    var x1=Math.cos(Math.PI*t/n+k*Math.PI/q)+Math.cos(a*Math.PI*t/n+k*Math.PI/q);\n",
              "    var x2=Math.cos(b*Math.PI*t/n+k*Math.PI/q)+Math.cos(c*Math.PI*t/n+k*Math.PI/q);\n",
              "    return x1+x2};\n",
              "function fy(a,b,c,q,n,t,k){\n",
              "    var y1=Math.sin(Math.PI*t/n+k*Math.PI/q)-Math.sin(a*Math.PI*t/n+k*Math.PI/q);\n",
              "    var y2=Math.sin(b*Math.PI*t/n+k*Math.PI/q)-Math.sin(c*Math.PI*t/n+k*Math.PI/q);\n",
              "    return y1+y2};\n",
              "function ar(a,b,c,q,n,k){return Array(2*n+1).fill(k).map((k,t)=>\n",
              "                                [fx(a,b,c,q,n,t,k),fy(a,b,c,q,n,t,k)]);};\n",
              "function colgb(i){var r=0,g=randi(i-100,255),b=randi(i-100,255);\n",
              "    return 'rgb('+r.toString()+','+g.toString()+','+b.toString()+')';};   \n",
              "var a=randi(5,11),b=randi(12,24),c=randi(25,35);\n",
              "    q=randi(3,6),n=randi(150,350); var series=[];\n",
              "for (var k=1; k<2*q+2; k++){var colk=colgb(k); \n",
              "    series.push({name:[k,a,b,c,n],lineWidth:.2,color:colk,\n",
              "                 marker:{symbol:'circle',radius:.8,color:colk},\n",
              "                 data:ar(a,b,c,q,n,k)})};\n",
              "Highcharts.chart('hich09',{\n",
              "    chart:{type:'scatter',backgroundColor:'lightcyan'},\n",
              "    xAxis:{visible:false},yAxis:{visible:false},\n",
              "    title:{text:'Random Parametric Scatter Plots'},\n",
              "    credits:{enabled:false},legend:{enabled:false},series:series});\n",
              " </script>"
            ],
            "text/plain": [
              "<IPython.core.display.HTML object>"
            ]
          },
          "metadata": {
            "tags": []
          },
          "execution_count": 15
        }
      ]
    },
    {
      "cell_type": "code",
      "metadata": {
        "id": "d8NHw3WXKcBf",
        "colab": {
          "base_uri": "https://localhost:8080/",
          "height": 617
        },
        "outputId": "08261c17-e204-429f-921e-9e024edc2906"
      },
      "source": [
        "from IPython.display import HTML\n",
        "HTML(\"\"\"<script src='https://cdn.plot.ly/plotly-latest.min.js' charset='utf-8'>\n",
        "</script><div id='plotlychart' style='width:600px;height:600px;'/>\n",
        "<script>doc=document.getElementById('plotlychart');\n",
        "var u=.001,v=.1,n=6400,m=21;\n",
        "function f(t){\n",
        "    return Math.exp(Math.pow(Math.cos(u*t),2)+Math.sin(u*t))-3*Math.cos(4*u*t);};\n",
        "function arx(a){return Array(n).fill(v*a).map((r,t)=>r*f(t)*Math.cos(u*t));};\n",
        "function ary(a){return Array(n).fill(v*a).map((r,t)=>r*f(t)*Math.sin(u*t));};\n",
        "function colrb(a){return 'rgb('+(1-a/m)+',0,'+(a/m)+')';};\n",
        "function plt(a){return Plotly.plot(doc,\n",
        "    [{x:arx(a),y:ary(a),line:{color:colrb(a),width:.9},name:a}]);};\n",
        "for (var i=1; i<m; i++){plt(i);};\n",
        "</script>\"\"\")"
      ],
      "execution_count": null,
      "outputs": [
        {
          "output_type": "execute_result",
          "data": {
            "text/html": [
              "<script src='https://cdn.plot.ly/plotly-latest.min.js' charset='utf-8'></script>\n",
              "<div id='plotlychart' style='width:600px;height:600px;'/>\n",
              "<script>doc=document.getElementById('plotlychart');\n",
              "var u=.001,v=.1,n=6400,m=21;\n",
              "function f(t){\n",
              "    return Math.exp(Math.pow(Math.cos(u*t),2)+Math.sin(u*t))-3*Math.cos(4*u*t);};\n",
              "function arx(a){return Array(n).fill(v*a).map((r,t)=>r*f(t)*Math.cos(u*t));};\n",
              "function ary(a){return Array(n).fill(v*a).map((r,t)=>r*f(t)*Math.sin(u*t));};\n",
              "function colrb(a){return 'rgb('+(1-a/m)+',0,'+(a/m)+')';};\n",
              "function plt(a){return Plotly.plot(doc,\n",
              "    [{x:arx(a),y:ary(a),line:{color:colrb(a),width:.9},name:a}]);};\n",
              "for (var i=1; i<m; i++){plt(i);};\n",
              "</script>"
            ],
            "text/plain": [
              "<IPython.core.display.HTML object>"
            ]
          },
          "metadata": {
            "tags": []
          },
          "execution_count": 1
        }
      ]
    },
    {
      "cell_type": "code",
      "metadata": {
        "id": "fHaLGgzHPjcu",
        "colab": {
          "base_uri": "https://localhost:8080/",
          "height": 617
        },
        "outputId": "5e8bb37b-8b5e-477f-a337-08af9954cf69"
      },
      "source": [
        "from IPython.display import HTML\n",
        "HTML(\"\"\"<script src='https://cdn.plot.ly/plotly-latest.min.js' charset='utf-8'>\n",
        "</script><div id='plotlychart2' style='width:600px;height:600px;'/>\n",
        "<script>doc=document.getElementById('plotlychart2');\n",
        "function randi(min,max){return Math.floor(Math.random()*(max-min+1))+min;};\n",
        "function fx(a,b,c,q,n,t,k){\n",
        "    var x1=Math.cos(Math.PI*t/n+k*Math.PI/q)+Math.cos(a*Math.PI*t/n+k*Math.PI/q);\n",
        "    var x2=Math.cos(b*Math.PI*t/n+k*Math.PI/q)+Math.cos(c*Math.PI*t/n+k*Math.PI/q);\n",
        "    return x1+x2};\n",
        "function fy(a,b,c,q,n,t,k){\n",
        "    var y1=Math.sin(Math.PI*t/n+k*Math.PI/q)-Math.sin(a*Math.PI*t/n+k*Math.PI/q);\n",
        "    var y2=Math.sin(b*Math.PI*t/n+k*Math.PI/q)-Math.sin(c*Math.PI*t/n+k*Math.PI/q);\n",
        "    return y1+y2};\n",
        "function arx(a,b,c,q,n,k){return Array(2*n+1).fill(k).map((k,t)=>fx(a,b,c,q,n,t,k));};\n",
        "function ary(a,b,c,q,n,k){return Array(2*n+1).fill(k).map((k,t)=>fy(a,b,c,q,n,t,k));};\n",
        "function colrb(k,q){return 'rgb('+(k/(2*q+2))+',0,'+(1-k/(2*q+2))+')';};\n",
        "function plt(k) {return Plotly.plot(doc,\n",
        "    [{x:arx(a,b,c,q,n,k),y:ary(a,b,c,q,n,k),\n",
        "      line:{color:colrb(k,q),width:.3},name:k}]);};\n",
        "var a=randi(5,9),b=randi(10,14),c=randi(15,19),q=randi(3,8),n=randi(10,350);\n",
        "for (var k=1; k<2*q+1; k++){plt(k);};\n",
        "</script>\"\"\")"
      ],
      "execution_count": null,
      "outputs": [
        {
          "output_type": "execute_result",
          "data": {
            "text/html": [
              "<script src='https://cdn.plot.ly/plotly-latest.min.js' charset='utf-8'>\n",
              "</script><div id='plotlychart2' style='width:600px;height:600px;'/>\n",
              "<script>doc=document.getElementById('plotlychart2');\n",
              "function randi(min,max){return Math.floor(Math.random()*(max-min+1))+min;};\n",
              "function fx(a,b,c,q,n,t,k){\n",
              "    var x1=Math.cos(Math.PI*t/n+k*Math.PI/q)+Math.cos(a*Math.PI*t/n+k*Math.PI/q);\n",
              "    var x2=Math.cos(b*Math.PI*t/n+k*Math.PI/q)+Math.cos(c*Math.PI*t/n+k*Math.PI/q);\n",
              "    return x1+x2};\n",
              "function fy(a,b,c,q,n,t,k){\n",
              "    var y1=Math.sin(Math.PI*t/n+k*Math.PI/q)-Math.sin(a*Math.PI*t/n+k*Math.PI/q);\n",
              "    var y2=Math.sin(b*Math.PI*t/n+k*Math.PI/q)-Math.sin(c*Math.PI*t/n+k*Math.PI/q);\n",
              "    return y1+y2};\n",
              "function arx(a,b,c,q,n,k){return Array(2*n+1).fill(k).map((k,t)=>fx(a,b,c,q,n,t,k));};\n",
              "function ary(a,b,c,q,n,k){return Array(2*n+1).fill(k).map((k,t)=>fy(a,b,c,q,n,t,k));};\n",
              "function colrb(k,q){return 'rgb('+(k/(2*q+2))+',0,'+(1-k/(2*q+2))+')';};\n",
              "function plt(k) {return Plotly.plot(doc,\n",
              "    [{x:arx(a,b,c,q,n,k),y:ary(a,b,c,q,n,k),\n",
              "      line:{color:colrb(k,q),width:.3},name:k}]);};\n",
              "var a=randi(5,9),b=randi(10,14),c=randi(15,19),q=randi(3,8),n=randi(10,350);\n",
              "for (var k=1; k<2*q+1; k++){plt(k);};\n",
              "</script>"
            ],
            "text/plain": [
              "<IPython.core.display.HTML object>"
            ]
          },
          "metadata": {
            "tags": []
          },
          "execution_count": 2
        }
      ]
    },
    {
      "cell_type": "code",
      "metadata": {
        "id": "X8CXNwvbQW2f",
        "colab": {
          "base_uri": "https://localhost:8080/"
        },
        "outputId": "aeb25bf6-9276-4d9d-fd86-25fdb3cb7c6a"
      },
      "source": [
        "from IPython.display import HTML\n",
        "HTML(\"\"\"<script src='https://cdn.plot.ly/plotly-latest.min.js' charset='utf-8'>\n",
        "</script><div id='plotlychart3' style='width:700px;height:600px;'/>\n",
        "<script>doc=document.getElementById('plotlychart3');\n",
        "function get_int(min,max) {return Math.floor(Math.random()*(max-min+1))+min;};\n",
        "function fx(a,b,c,d,e,q,n,t,k){\n",
        "    var x1=Math.cos(Math.PI*t/n+k*Math.PI/q)+Math.cos(a*Math.PI*t/n+k*Math.PI/q);\n",
        "    var x2=Math.cos(b*Math.PI*t/n+k*Math.PI/q)+Math.cos(c*Math.PI*t/n+k*Math.PI/q);\n",
        "    var x3=Math.cos(d*Math.PI*t/n+k*Math.PI/q)+Math.cos(e*Math.PI*t/n+k*Math.PI/q);\n",
        "    return x1+x2+x3};\n",
        "function fy(a,b,c,d,e,q,n,t,k){\n",
        "    var y1=Math.sin(Math.PI*t/n+k*Math.PI/q)+Math.sin(a*Math.PI*t/n+k*Math.PI/q);\n",
        "    var y2=Math.sin(b*Math.PI*t/n+k*Math.PI/q)+Math.sin(c*Math.PI*t/n+k*Math.PI/q);\n",
        "    var y3=Math.sin(d*Math.PI*t/n+k*Math.PI/q)+Math.sin(e*Math.PI*t/n+k*Math.PI/q);\n",
        "    return y1+y2+y3};\n",
        "function arx(a,b,c,d,e,q,n,k){return Array(2*n+1).fill(k).map((k,t)=>\n",
        "                                     fx(a,b,c,d,e,q,n,t,k));};\n",
        "function ary(a,b,c,d,e,q,n,k){return Array(2*n+1).fill(k).map((k,t)=>\n",
        "                                     fy(a,b,c,d,e,q,n,t,k));};\n",
        "function col(k,q){return 'rgb(0,'+(k/(2*q+2))+','+(1-k/(2*q+2))+')';};\n",
        "function plt(k){return Plotly.plot(doc,\n",
        "    [{x:arx(a,b,c,d,e,q,n,k),y:ary(a,b,c,d,e,q,n,k),\n",
        "      line:{color:col(k,q),width:.5},name:[a,b,c,d,e,q,n,k]}]);};\n",
        "var a=get_int(5,9),b=get_int(10,14),c=get_int(15,19),\n",
        "    d=get_int(20,36),e=get_int(37,81);\n",
        "    q=get_int(3,12),n=get_int(3,15);\n",
        "for (var k=1; k<2*q+1; k++){plt(k);};\n",
        "</script>\"\"\")"
      ],
      "execution_count": null,
      "outputs": [
        {
          "output_type": "execute_result",
          "data": {
            "text/html": [
              "<script src='https://cdn.plot.ly/plotly-latest.min.js'></script>\n",
              "<div id='plotlychart3' style='width:700px;height:600px;'/>\n",
              "<script>doc=document.getElementById('plotlychart3');\n",
              "function get_int(min,max) {return Math.floor(Math.random()*(max-min+1))+min;};\n",
              "function fx(a,b,c,d,e,q,n,t,k){\n",
              "    var x1=Math.cos(Math.PI*t/n+k*Math.PI/q)+Math.cos(a*Math.PI*t/n+k*Math.PI/q);\n",
              "    var x2=Math.cos(b*Math.PI*t/n+k*Math.PI/q)+Math.cos(c*Math.PI*t/n+k*Math.PI/q);\n",
              "    var x3=Math.cos(d*Math.PI*t/n+k*Math.PI/q)+Math.cos(e*Math.PI*t/n+k*Math.PI/q);\n",
              "    return x1+x2+x3};\n",
              "function fy(a,b,c,d,e,q,n,t,k){\n",
              "    var y1=Math.sin(Math.PI*t/n+k*Math.PI/q)+Math.sin(a*Math.PI*t/n+k*Math.PI/q);\n",
              "    var y2=Math.sin(b*Math.PI*t/n+k*Math.PI/q)+Math.sin(c*Math.PI*t/n+k*Math.PI/q);\n",
              "    var y3=Math.sin(d*Math.PI*t/n+k*Math.PI/q)+Math.sin(e*Math.PI*t/n+k*Math.PI/q);\n",
              "    return y1+y2+y3};\n",
              "function arx(a,b,c,d,e,q,n,k){return Array(2*n+1).fill(k).map((k,t)=>\n",
              "                                     fx(a,b,c,d,e,q,n,t,k));};\n",
              "function ary(a,b,c,d,e,q,n,k){return Array(2*n+1).fill(k).map((k,t)=>\n",
              "                                     fy(a,b,c,d,e,q,n,t,k));};\n",
              "function col(k,q){return 'rgb(0,'+(k/(2*q+2))+','+(1-k/(2*q+2))+')';};\n",
              "function plt(k){return Plotly.plot(doc,\n",
              "    [{x:arx(a,b,c,d,e,q,n,k),y:ary(a,b,c,d,e,q,n,k),\n",
              "      line:{color:col(k,q),width:.5},name:[a,b,c,d,e,q,n,k]}]);};\n",
              "var a=get_int(5,9),b=get_int(10,14),c=get_int(15,19),\n",
              "    d=get_int(20,36),e=get_int(37,81);\n",
              "    q=get_int(3,12),n=get_int(3,15);\n",
              "for (var k=1; k<2*q+1; k++){plt(k);};\n",
              "</script>"
            ],
            "text/plain": [
              "<IPython.core.display.HTML object>"
            ]
          },
          "metadata": {
            "tags": []
          },
          "execution_count": 18
        }
      ]
    },
    {
      "cell_type": "code",
      "metadata": {
        "id": "y6l8dBLVQ7M1",
        "colab": {
          "base_uri": "https://localhost:8080/"
        },
        "outputId": "74104ac5-4ccf-4678-ad8c-f7fdb8054aec"
      },
      "source": [
        "from IPython.display import HTML\n",
        "HTML(\"\"\"\n",
        "<script src='https://cdn.plot.ly/plotly-latest.min.js' charset='utf-8'></script>\n",
        "<div id='plotlychart4' style='width:750px;height:750px;'></div>\n",
        "<script>doc=document.getElementById('plotlychart4');\n",
        "function randi(min,max){\n",
        "    return Math.floor(Math.random()*(max-min+1))+min;};\n",
        "function f(a,b,c,d,e,q,n,t,k){\n",
        "    var x1=a+.1*b*Math.cos(c*Math.PI*t/n+k*Math.PI/q),\n",
        "        x2=.1*a+.01*d*Math.cos(e*Math.PI*t/n+k*Math.PI/q),\n",
        "        x3=1+Math.sin(Math.PI*t/n+k*Math.PI/q); return x1*x2*x3};\n",
        "function fx(a,b,c,d,e,q,n,t,k){\n",
        "    return f(a,b,c,d,e,q,n,t,k)*Math.cos(Math.PI*t/n+k*Math.PI/q)};\n",
        "function fy(a,b,c,d,e,q,n,t,k){\n",
        "    return f(a,b,c,d,e,q,n,t,k)*Math.sin(Math.PI*t/n+k*Math.PI/q)};\n",
        "function arx(a,b,c,d,e,q,n,k){\n",
        "    return Array(2*n+1).fill(k).map((k,t)=>fx(a,b,c,d,e,q,n,t,k));};\n",
        "function ary(a,b,c,d,e,q,n,k){\n",
        "    return Array(2*n+1).fill(k).map((k,t)=>fy(a,b,c,d,e,q,n,t,k));};\n",
        "function col(k,q){\n",
        "    return 'rgb(0,'+(k/(2*q+2)).toString()+','+\n",
        "           (1-k/(2*q+2)).toString()+')';};\n",
        "function plt(k){return Plotly.plot(doc,\n",
        "    [{x:arx(a,b,c,d,e,q,n,k),\n",
        "      y:ary(a,b,c,d,e,q,n,k),\n",
        "      line:{color:col(k,q),width:.5},\n",
        "      name:[a,b,c,d,e,q,n,k]}]);};\n",
        "var a=randi(3,11),b=randi(3,25),c=randi(8,16),d=randi(5,9),\n",
        "    e=randi(200,300),q=randi(2,10),n=randi(30,300);\n",
        "for (var k=1; k<2*q+1; k++){plt(k);};\n",
        "</script>\"\"\")"
      ],
      "execution_count": null,
      "outputs": [
        {
          "output_type": "execute_result",
          "data": {
            "text/html": [
              "\n",
              "<script src='https://cdn.plot.ly/plotly-latest.min.js' charset='utf-8'></script>\n",
              "<div id='plotlychart4' style='width:750px;height:750px;'></div>\n",
              "<script>doc=document.getElementById('plotlychart4');\n",
              "function randi(min,max){\n",
              "    return Math.floor(Math.random()*(max-min+1))+min;};\n",
              "function f(a,b,c,d,e,q,n,t,k){\n",
              "    var x1=a+.1*b*Math.cos(c*Math.PI*t/n+k*Math.PI/q),\n",
              "        x2=.1*a+.01*d*Math.cos(e*Math.PI*t/n+k*Math.PI/q),\n",
              "        x3=1+Math.sin(Math.PI*t/n+k*Math.PI/q); return x1*x2*x3};\n",
              "function fx(a,b,c,d,e,q,n,t,k){\n",
              "    return f(a,b,c,d,e,q,n,t,k)*Math.cos(Math.PI*t/n+k*Math.PI/q)};\n",
              "function fy(a,b,c,d,e,q,n,t,k){\n",
              "    return f(a,b,c,d,e,q,n,t,k)*Math.sin(Math.PI*t/n+k*Math.PI/q)};\n",
              "function arx(a,b,c,d,e,q,n,k){\n",
              "    return Array(2*n+1).fill(k).map((k,t)=>fx(a,b,c,d,e,q,n,t,k));};\n",
              "function ary(a,b,c,d,e,q,n,k){\n",
              "    return Array(2*n+1).fill(k).map((k,t)=>fy(a,b,c,d,e,q,n,t,k));};\n",
              "function col(k,q){\n",
              "    return 'rgb(0,'+(k/(2*q+2)).toString()+','+\n",
              "           (1-k/(2*q+2)).toString()+')';};\n",
              "function plt(k){return Plotly.plot(doc,\n",
              "    [{x:arx(a,b,c,d,e,q,n,k),\n",
              "      y:ary(a,b,c,d,e,q,n,k),\n",
              "      line:{color:col(k,q),width:.5},\n",
              "      name:[a,b,c,d,e,q,n,k]}]);};\n",
              "var a=randi(3,11),b=randi(3,25),c=randi(8,16),d=randi(5,9),\n",
              "    e=randi(200,300),q=randi(2,10),n=randi(30,300);\n",
              "for (var k=1; k<2*q+1; k++){plt(k);};\n",
              "</script>"
            ],
            "text/plain": [
              "<IPython.core.display.HTML object>"
            ]
          },
          "metadata": {
            "tags": []
          },
          "execution_count": 19
        }
      ]
    },
    {
      "cell_type": "code",
      "metadata": {
        "id": "R1IB52DCaWXq",
        "colab": {
          "base_uri": "https://localhost:8080/",
          "height": 617
        },
        "outputId": "686188ca-192a-4b95-edf7-aba6ad46ceea"
      },
      "source": [
        "HTML(\"\"\"\n",
        "<script type='text/javascript' src='https://www.gstatic.com/charts/loader.js'>\n",
        "</script><div id='goch01' style='width:600px; height:600px;'></div><script>\n",
        "google.charts.load('current',{'packages':['corechart']})\n",
        "google.charts.setOnLoadCallback(drawChart);\n",
        "function randi(xmin,xmax){return Math.floor(Math.random()*(xmax-xmin+1))+xmin;};\n",
        "function gcolor(k){var r=randi(10*k,255),g=randi(10*k,255),b=randi(10*k,255);\n",
        "    return '#'+r.toString(16)+g.toString(16)+b.toString(16);};\n",
        "function drawChart(){\n",
        "  var a=randi(8,24),d=.01,n=638; \n",
        "  var xy=Array(2*n).fill(1).map((k,t)=>\n",
        "         [(Math.floor(t/n)*k+Math.cos(a*d*t))*Math.cos(d*t),\n",
        "          (Math.cos(a*d*t))*Math.sin(d*t),\n",
        "          (k+Math.cos(a*d*t))*Math.sin(d*t)]);\n",
        "  for (var i=1; i<637; i++) {xy[637+i][1]=NaN; xy[i+1][2]=NaN;}; \n",
        "  xy.unshift(['x','ϱ = cos θ*'+a,'ϱ = 1 + cos θ*'+a]); \n",
        "  var data=google.visualization.arrayToDataTable(xy); \n",
        "  var options={curveType:'function',legend:{position:'bottom'},\n",
        "               colors:[gcolor(a-3),gcolor(a-7)]};\n",
        "  var chart=new google.visualization.LineChart(document.getElementById('goch01')); \n",
        "  chart.draw(data,options);};\n",
        "</script>\"\"\")"
      ],
      "execution_count": null,
      "outputs": [
        {
          "output_type": "execute_result",
          "data": {
            "text/html": [
              "\n",
              "<script type='text/javascript' src='https://www.gstatic.com/charts/loader.js'>\n",
              "</script><div id='goch01' style='width:600px; height:600px;'></div><script>\n",
              "google.charts.load('current',{'packages':['corechart']})\n",
              "google.charts.setOnLoadCallback(drawChart);\n",
              "function randi(xmin,xmax){return Math.floor(Math.random()*(xmax-xmin+1))+xmin;};\n",
              "function gcolor(k){var r=randi(10*k,255),g=randi(10*k,255),b=randi(10*k,255);\n",
              "    return '#'+r.toString(16)+g.toString(16)+b.toString(16);};\n",
              "function drawChart(){\n",
              "  var a=randi(8,24),d=.01,n=638; \n",
              "  var xy=Array(2*n).fill(1).map((k,t)=>\n",
              "         [(Math.floor(t/n)*k+Math.cos(a*d*t))*Math.cos(d*t),\n",
              "          (Math.cos(a*d*t))*Math.sin(d*t),\n",
              "          (k+Math.cos(a*d*t))*Math.sin(d*t)]);\n",
              "  for (var i=1; i<637; i++) {xy[637+i][1]=NaN; xy[i+1][2]=NaN;}; \n",
              "  xy.unshift(['x','ϱ = cos θ*'+a,'ϱ = 1 + cos θ*'+a]); \n",
              "  var data=google.visualization.arrayToDataTable(xy); \n",
              "  var options={curveType:'function',legend:{position:'bottom'},\n",
              "               colors:[gcolor(a-3),gcolor(a-7)]};\n",
              "  var chart=new google.visualization.LineChart(document.getElementById('goch01')); \n",
              "  chart.draw(data,options);};\n",
              "</script>"
            ],
            "text/plain": [
              "<IPython.core.display.HTML object>"
            ]
          },
          "metadata": {
            "tags": []
          },
          "execution_count": 2
        }
      ]
    },
    {
      "cell_type": "code",
      "metadata": {
        "id": "1nfzocP9yk_B",
        "colab": {
          "base_uri": "https://localhost:8080/",
          "height": 617
        },
        "outputId": "1bc08f59-f10f-4ca8-d250-98420a76a1e3"
      },
      "source": [
        "from IPython.display import HTML\n",
        "HTML(\"\"\"\n",
        "<script type='text/javascript' src='https://www.gstatic.com/charts/loader.js'>\n",
        "</script><div id='gch2' style='width:600px; height:600px;'></div><script>\n",
        "google.charts.load('current',{'packages':['corechart']})\n",
        "google.charts.setOnLoadCallback(drawChart);\n",
        "function randi(xmin,xmax) {return Math.floor(Math.random()*(xmax-xmin+1))+xmin;};\n",
        "function rcolor(k) {var r=randi(10*k,255),g=randi(10*k,255),b=randi(10*k,255);\n",
        "    return '#'+r.toString(16)+g.toString(16)+b.toString(16);};\n",
        "function drawChart() {\n",
        "  var a=randi(7,15); c=randi(10,24); d=.01;\n",
        "  var xy=Array(1274).fill(1).map((k,t)=>\n",
        "  [(2*Math.floor(t/638)+k)*(Math.cos(d*t)+Math.cos(a*d*t)/2+Math.sin((a+c)*d*t)/3),\n",
        "   k*(Math.sin(d*t)+Math.sin(a*d*t)/2+Math.cos((a+c)*d*t)/3),\n",
        "   (k+2)*(Math.sin(d*t)+Math.sin(a*d*t)/2+Math.cos((a+c)*d*t)/3)]);\n",
        "  for (var i=1; i<637; i++) {xy[637+i][1]=NaN; xy[i+1][2]=NaN;}\n",
        "  xy.unshift(['x','k=1','k=3']); \n",
        "  var data=google.visualization.arrayToDataTable(xy); \n",
        "  var options={curveType:'function',legend:{position:'bottom'},\n",
        "  colors:[rcolor(a-6),rcolor(c-9)]};\n",
        "  var chart=new google.visualization.LineChart(document.getElementById('gch2')); \n",
        "  chart.draw(data,options);};\n",
        "</script>\"\"\")"
      ],
      "execution_count": null,
      "outputs": [
        {
          "output_type": "execute_result",
          "data": {
            "text/html": [
              "\n",
              "<script type='text/javascript' src='https://www.gstatic.com/charts/loader.js'>\n",
              "</script><div id='gch2' style='width:600px; height:600px;'></div><script>\n",
              "google.charts.load('current',{'packages':['corechart']})\n",
              "google.charts.setOnLoadCallback(drawChart);\n",
              "function randi(xmin,xmax) {return Math.floor(Math.random()*(xmax-xmin+1))+xmin;};\n",
              "function rcolor(k) {var r=randi(10*k,255),g=randi(10*k,255),b=randi(10*k,255);\n",
              "    return '#'+r.toString(16)+g.toString(16)+b.toString(16);};\n",
              "function drawChart() {\n",
              "  var a=randi(7,15); c=randi(10,24); d=.01;\n",
              "  var xy=Array(1274).fill(1).map((k,t)=>\n",
              "  [(2*Math.floor(t/638)+k)*(Math.cos(d*t)+Math.cos(a*d*t)/2+Math.sin((a+c)*d*t)/3),\n",
              "   k*(Math.sin(d*t)+Math.sin(a*d*t)/2+Math.cos((a+c)*d*t)/3),\n",
              "   (k+2)*(Math.sin(d*t)+Math.sin(a*d*t)/2+Math.cos((a+c)*d*t)/3)]);\n",
              "  for (var i=1; i<637; i++) {xy[637+i][1]=NaN; xy[i+1][2]=NaN;}\n",
              "  xy.unshift(['x','k=1','k=3']); \n",
              "  var data=google.visualization.arrayToDataTable(xy); \n",
              "  var options={curveType:'function',legend:{position:'bottom'},\n",
              "  colors:[rcolor(a-6),rcolor(c-9)]};\n",
              "  var chart=new google.visualization.LineChart(document.getElementById('gch2')); \n",
              "  chart.draw(data,options);};\n",
              "</script>"
            ],
            "text/plain": [
              "<IPython.core.display.HTML object>"
            ]
          },
          "metadata": {
            "tags": []
          },
          "execution_count": 3
        }
      ]
    },
    {
      "cell_type": "code",
      "metadata": {
        "id": "pMhsKUzWLlKS",
        "colab": {
          "base_uri": "https://localhost:8080/"
        },
        "outputId": "2d6864d4-c074-4f10-8c0c-693e82b92ba0"
      },
      "source": [
        "HTML(\"\"\"<script type='text/javascript' src='https://www.gstatic.com/charts/loader.js'></script>\n",
        "<div id='googlechart3' style='width:600px; height:600px;'></div><script>\n",
        "google.charts.load('current',{packages:['corechart']}); \n",
        "google.charts.setOnLoadCallback(drawChart);\n",
        "function drawChart() {\n",
        "    var data=google.visualization.arrayToDataTable([\n",
        "        ['Element','Density',{role:'style'}],\n",
        "        ['Copper',8.94,'color:#b87333; fill-opacity:'+Math.random()+'; stroke-width:4;'],\n",
        "        ['Silver',10.49,'color:silver; fill-opacity:'+Math.random()+'; stroke-width:5;'],\n",
        "        ['Gold',19.30,'color:gold; fill-opacity:'+Math.random()+'; stroke-width:6;'],\n",
        "        ['Platinum',21.45,'color:#e5e4e2; fill-opacity:'+Math.random()+'; stroke-width:7;']]);\n",
        "    var view=new google.visualization.DataView(data);\n",
        "    view.setColumns([0,1,{calc:'stringify',sourceColumn:1,type:'string',role:'annotation'},2]);\n",
        "    var options={title:'Density of Precious Metals, in g/cm^3',width:600,height:400,\n",
        "                 bar:{groupWidth:'80%'},legend:{position:'none'},background:{color:'black'}};\n",
        "    var chart=new google.visualization.ColumnChart(document.getElementById('googlechart3')); \n",
        "    chart.draw(data,options);};\n",
        "</script>\"\"\")   "
      ],
      "execution_count": null,
      "outputs": [
        {
          "output_type": "execute_result",
          "data": {
            "text/html": [
              "<script type='text/javascript' src='https://www.gstatic.com/charts/loader.js'></script>\n",
              "<div id='googlechart3' style='width:600px; height:600px;'></div><script>\n",
              "google.charts.load('current',{packages:['corechart']}); google.charts.setOnLoadCallback(drawChart);\n",
              "function drawChart() {\n",
              "    var data=google.visualization.arrayToDataTable([\n",
              "        ['Element','Density',{role:'style'}],\n",
              "        ['Copper',8.94,'color:#b87333; fill-opacity:'+Math.random()+'; stroke-width:4;'],\n",
              "        ['Silver',10.49,'color:silver; fill-opacity:'+Math.random()+'; stroke-width:5;'],\n",
              "        ['Gold',19.30,'color:gold; fill-opacity:'+Math.random()+'; stroke-width:6;'],\n",
              "        ['Platinum',21.45,'color:#e5e4e2; fill-opacity:'+Math.random()+'; stroke-width:7;']]);\n",
              "    var view=new google.visualization.DataView(data);\n",
              "    view.setColumns([0,1,{calc:'stringify',sourceColumn:1,type:'string',role:'annotation'},2]);\n",
              "    var options={title:'Density of Precious Metals, in g/cm^3',width:600,height:400,\n",
              "                 bar:{groupWidth:'80%'},legend:{position:'none'},background:{color:'black'}};\n",
              "    var chart=new google.visualization.ColumnChart(document.getElementById('googlechart3')); \n",
              "    chart.draw(data,options);};\n",
              "</script>"
            ],
            "text/plain": [
              "<IPython.core.display.HTML object>"
            ]
          },
          "metadata": {
            "tags": []
          },
          "execution_count": 22
        }
      ]
    },
    {
      "cell_type": "code",
      "metadata": {
        "id": "UyrvxTeOQ2NE",
        "colab": {
          "base_uri": "https://localhost:8080/",
          "height": 617
        },
        "outputId": "211f1372-a37d-4056-d36c-14db6a91bae0"
      },
      "source": [
        "HTML(\"\"\"\n",
        "<script type='text/javascript' src='https://www.gstatic.com/charts/loader.js'>\n",
        "</script><div id='gch4' style='width:600px; height:600px;'></div><script>\n",
        "function randi(xmin,xmax) {return Math.floor(Math.random()*(xmax-xmin+1))+xmin;};\n",
        "function rcol(k) {\n",
        "    return '#00'+randi(10*k,255).toString(16)+randi(10*k,255).toString(16);};\n",
        "function fx(a,b,c,q,n,t,k) {\n",
        "    return Math.cos(Math.PI*t/n+k*Math.PI/q)+\n",
        "           Math.cos(a*Math.PI*t/n+k*Math.PI/q)+\n",
        "           Math.cos(b*Math.PI*t/n+k*Math.PI/q)+\n",
        "           Math.cos(c*Math.PI*t/n+k*Math.PI/q);};\n",
        "function fy(a,b,c,q,n,t,k) {\n",
        "    return Math.sin(Math.PI*t/n+k*Math.PI/q)+\n",
        "           Math.sin(a*Math.PI*t/n+k*Math.PI/q)+\n",
        "           Math.sin(b*Math.PI*t/n+k*Math.PI/q)+\n",
        "           Math.sin(c*Math.PI*t/n+k*Math.PI/q);};\n",
        "function ar(a,b,c,q,n,k) {return Array(2*n+1).fill(k).map((k,t)=>\n",
        "    [fx(a,b,c,q,n,t,k),fy(a,b,c,q,n,t,k)]);};\n",
        "google.charts.load('current',{'packages':['corechart']}); \n",
        "google.charts.setOnLoadCallback(drawChart);\n",
        "function drawChart() {\n",
        "    var a=randi(5,9),b=randi(10,14),c=randi(15,19),\n",
        "        q=randi(3,6),n=randi(4,16); \n",
        "    var xy=ar(a,b,c,q,n,1); xy.unshift(['x',[a,b,c,q,n].toString()]); \n",
        "    for (var k=2; k<2*q+2; k++) {xy=xy.concat(ar(a,b,c,q,n,k));};\n",
        "    var data=google.visualization.arrayToDataTable(xy); \n",
        "    var options={chartArea:{left:0,top:0,right:0,bottom:20},\n",
        "                 legend:{position:'bottom'},curveType:'none',\n",
        "                 lineWidth:.5,pointSize:3,colors:[rcol(a)],\n",
        "                 hAxis:{textColor:'#fff'},vAxis:{textColor:'#fff'}};\n",
        "    var doc=document.getElementById('gch4');\n",
        "    var chart=new google.visualization.LineChart(doc); \n",
        "    chart.draw(data,options);};\n",
        " </script>\"\"\") "
      ],
      "execution_count": null,
      "outputs": [
        {
          "output_type": "execute_result",
          "data": {
            "text/html": [
              "\n",
              "<script type='text/javascript' src='https://www.gstatic.com/charts/loader.js'>\n",
              "</script><div id='gch4' style='width:600px; height:600px;'></div><script>\n",
              "function randi(xmin,xmax) {return Math.floor(Math.random()*(xmax-xmin+1))+xmin;};\n",
              "function rcol(k) {\n",
              "    return '#00'+randi(10*k,255).toString(16)+randi(10*k,255).toString(16);};\n",
              "function fx(a,b,c,q,n,t,k) {\n",
              "    return Math.cos(Math.PI*t/n+k*Math.PI/q)+\n",
              "           Math.cos(a*Math.PI*t/n+k*Math.PI/q)+\n",
              "           Math.cos(b*Math.PI*t/n+k*Math.PI/q)+\n",
              "           Math.cos(c*Math.PI*t/n+k*Math.PI/q);};\n",
              "function fy(a,b,c,q,n,t,k) {\n",
              "    return Math.sin(Math.PI*t/n+k*Math.PI/q)+\n",
              "           Math.sin(a*Math.PI*t/n+k*Math.PI/q)+\n",
              "           Math.sin(b*Math.PI*t/n+k*Math.PI/q)+\n",
              "           Math.sin(c*Math.PI*t/n+k*Math.PI/q);};\n",
              "function ar(a,b,c,q,n,k) {return Array(2*n+1).fill(k).map((k,t)=>\n",
              "    [fx(a,b,c,q,n,t,k),fy(a,b,c,q,n,t,k)]);};\n",
              "google.charts.load('current',{'packages':['corechart']}); \n",
              "google.charts.setOnLoadCallback(drawChart);\n",
              "function drawChart() {\n",
              "    var a=randi(5,9),b=randi(10,14),c=randi(15,19),\n",
              "        q=randi(3,6),n=randi(4,16); \n",
              "    var xy=ar(a,b,c,q,n,1); xy.unshift(['x',[a,b,c,q,n].toString()]); \n",
              "    for (var k=2; k<2*q+2; k++) {xy=xy.concat(ar(a,b,c,q,n,k));};\n",
              "    var data=google.visualization.arrayToDataTable(xy); \n",
              "    var options={chartArea:{left:0,top:0,right:0,bottom:20},\n",
              "                 legend:{position:'bottom'},curveType:'none',\n",
              "                 lineWidth:.5,pointSize:3,colors:[rcol(a)],\n",
              "                 hAxis:{textColor:'#fff'},vAxis:{textColor:'#fff'}};\n",
              "    var doc=document.getElementById('gch4');\n",
              "    var chart=new google.visualization.LineChart(doc); \n",
              "    chart.draw(data,options);};\n",
              " </script>"
            ],
            "text/plain": [
              "<IPython.core.display.HTML object>"
            ]
          },
          "metadata": {
            "tags": []
          },
          "execution_count": 15
        }
      ]
    },
    {
      "cell_type": "code",
      "metadata": {
        "id": "7EujSAPAQ2df",
        "colab": {
          "base_uri": "https://localhost:8080/"
        },
        "outputId": "7dc94906-6edc-4759-9671-3227deac0380"
      },
      "source": [
        "HTML(\"\"\"<script type='text/javascript' src='https://www.gstatic.com/charts/loader.js'></script>\n",
        "<div id='googlechart5' style='width:600px; height:600px;'></div><script>\n",
        "function get_int(xmin,xmax) {return Math.floor(Math.random()*(xmax-xmin+1))+xmin;};\n",
        "function get_color(k) {\n",
        "    return '#00'+get_int(10*k,255).toString(16)+get_int(10*k,255).toString(16);};\n",
        "function fx(a,b,c,q,n,t,k) {\n",
        "    var x1=Math.cos(Math.PI*t/n+k*Math.PI/q)+Math.cos(a*Math.PI*t/n+k*Math.PI/q);\n",
        "    var x2=Math.cos(b*Math.PI*t/n+k*Math.PI/q)+Math.cos(c*Math.PI*t/n+k*Math.PI/q);\n",
        "    return x1+x2};\n",
        "function fy(a,b,c,q,n,t,k) {\n",
        "    var y1=Math.sin(Math.PI*t/n+k*Math.PI/q)-Math.sin(a*Math.PI*t/n+k*Math.PI/q);\n",
        "    var y2=Math.sin(b*Math.PI*t/n+k*Math.PI/q)-Math.sin(c*Math.PI*t/n+k*Math.PI/q);\n",
        "    return y1+y2};\n",
        "function ar(a,b,c,q,n,k) {\n",
        "    return Array(2*n+1).fill(k).map((k,t)=>[fx(a,b,c,q,n,t,k),fy(a,b,c,q,n,t,k)]);};\n",
        "google.charts.load('current',{'packages':['corechart']}); \n",
        "google.charts.setOnLoadCallback(drawChart);\n",
        "function drawChart() {\n",
        "    var a=get_int(5,9),b=get_int(10,14),c=get_int(15,19),q=get_int(3,8),n=get_int(10,350); \n",
        "    var xy=ar(a,b,c,q,n,1); xy.unshift(['x',[a,b,c,q,n].toString()]); \n",
        "    for (var k=2; k<2*q+2; k++) {xy=xy.concat(ar(a,b,c,q,n,k));};\n",
        "    var data=google.visualization.arrayToDataTable(xy); \n",
        "    var options={chartArea:{left:0,top:0,right:0,bottom:20},legend:{position:'bottom'},\n",
        "                 curveType:'none',lineWidth:.75,colors:[get_color(a)],\n",
        "                 hAxis:{ticks:[],baselineColor:'#fff'},vAxis:{ticks:[],baselineColor:'#fff'}};\n",
        "    var chart=new google.visualization.LineChart(document.getElementById('googlechart5')); \n",
        "    chart.draw(data,options);};\n",
        " </script>\"\"\") "
      ],
      "execution_count": null,
      "outputs": [
        {
          "output_type": "execute_result",
          "data": {
            "text/html": [
              "<script type='text/javascript' src='https://www.gstatic.com/charts/loader.js'></script>\n",
              "<div id='googlechart5' style='width:600px; height:600px;'></div><script>\n",
              "function get_int(xmin,xmax) {return Math.floor(Math.random()*(xmax-xmin+1))+xmin;};\n",
              "function get_color(k) {return '#00'+get_int(10*k,255).toString(16)+get_int(10*k,255).toString(16);};\n",
              "function fx(a,b,c,q,n,t,k) {\n",
              "    var x1=Math.cos(Math.PI*t/n+k*Math.PI/q)+Math.cos(a*Math.PI*t/n+k*Math.PI/q);\n",
              "    var x2=Math.cos(b*Math.PI*t/n+k*Math.PI/q)+Math.cos(c*Math.PI*t/n+k*Math.PI/q);\n",
              "    return x1+x2};\n",
              "function fy(a,b,c,q,n,t,k) {\n",
              "    var y1=Math.sin(Math.PI*t/n+k*Math.PI/q)-Math.sin(a*Math.PI*t/n+k*Math.PI/q);\n",
              "    var y2=Math.sin(b*Math.PI*t/n+k*Math.PI/q)-Math.sin(c*Math.PI*t/n+k*Math.PI/q);\n",
              "    return y1+y2};\n",
              "function ar(a,b,c,q,n,k) {return Array(2*n+1).fill(k).map((k,t)=>[fx(a,b,c,q,n,t,k),fy(a,b,c,q,n,t,k)]);};\n",
              "google.charts.load('current',{'packages':['corechart']}); google.charts.setOnLoadCallback(drawChart);\n",
              "function drawChart() {\n",
              "    var a=get_int(5,9),b=get_int(10,14),c=get_int(15,19),q=get_int(3,8),n=get_int(10,350); \n",
              "    var xy=ar(a,b,c,q,n,1); xy.unshift(['x',[a,b,c,q,n].toString()]); \n",
              "    for (var k=2; k<2*q+2; k++) {xy=xy.concat(ar(a,b,c,q,n,k));};\n",
              "    var data=google.visualization.arrayToDataTable(xy); \n",
              "    var options={chartArea:{left:0,top:0,right:0,bottom:20},legend:{position:'bottom'},\n",
              "                 curveType:'none',lineWidth:.75,colors:[get_color(a)],\n",
              "                 hAxis:{ticks:[],baselineColor:'#fff'},vAxis:{ticks:[],baselineColor:'#fff'}};\n",
              "    var chart=new google.visualization.LineChart(document.getElementById('googlechart5')); \n",
              "    chart.draw(data,options);};\n",
              " </script>"
            ],
            "text/plain": [
              "<IPython.core.display.HTML object>"
            ]
          },
          "metadata": {
            "tags": []
          },
          "execution_count": 24
        }
      ]
    },
    {
      "cell_type": "code",
      "metadata": {
        "id": "f8hPB2JCMQhb",
        "colab": {
          "base_uri": "https://localhost:8080/",
          "height": 725
        },
        "outputId": "f78f8e03-659e-43f5-a921-b3c1fe1a26db"
      },
      "source": [
        "from IPython.display import HTML\n",
        "path='https://olgabelitskaya.gitlab.io/instagram_posts/instagram16.html'\n",
        "HTML(\"<iframe src=%s height='700' width='1000'></iframe>\"%path)"
      ],
      "execution_count": 1,
      "outputs": [
        {
          "output_type": "execute_result",
          "data": {
            "text/html": [
              "<iframe src=https://olgabelitskaya.gitlab.io/instagram_posts/instagram16.html height='700' width='1000'></iframe>"
            ],
            "text/plain": [
              "<IPython.core.display.HTML object>"
            ]
          },
          "metadata": {
            "tags": []
          },
          "execution_count": 1
        }
      ]
    }
  ]
}