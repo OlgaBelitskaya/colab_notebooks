{
  "nbformat": 4,
  "nbformat_minor": 0,
  "metadata": {
    "colab": {
      "name": "chart_building.ipynb",
      "provenance": []
    },
    "kernelspec": {
      "name": "python3",
      "display_name": "Python 3"
    }
  },
  "cells": [
    {
      "cell_type": "code",
      "metadata": {
        "colab": {
          "base_uri": "https://localhost:8080/",
          "height": 74
        },
        "id": "mbA3XOcG8hqV",
        "outputId": "210eecd4-bf91-4a95-a0d2-bdd213b18261"
      },
      "source": [
        "from IPython.display import display,HTML\n",
        "import random\n",
        "def colored_header(string):\n",
        "    randi=random.randint(1,99999)\n",
        "    display(HTML(\"\"\"\n",
        "<style>\n",
        "@import 'https://fonts.googleapis.com/css?family=Akronim';\n",
        "#col_header\"\"\"+str(randi)+\"\"\"\n",
        "    {color:slategray; font-family:Akronim; \n",
        "     text-shadow:4px 4px 4px #aaa; padding-left:20px;}\n",
        "</style>\n",
        "<script>\n",
        "var tc=setInterval(function() {\n",
        "    var doc1=document.getElementById('col_header\"\"\"+str(randi)+\"\"\"');\n",
        "    var now=new Date().getTime();\n",
        "    var sec=Math.floor((now%60000)/6000);\n",
        "    var col='rgb('+(10+Math.abs(245-8*sec))+',0,'+\n",
        "            (255-Math.abs(245-8*sec))+')';\n",
        "    doc1.style.color=col;}, 1000);\n",
        "</script>\n",
        "<h1 id='col_header\"\"\"+str(randi)+\"\"\"'>📑 \"\"\"+string+\"\"\"</h1>\"\"\"))\n",
        "colored_header('Barh Charts from HTML Elements')"
      ],
      "execution_count": 31,
      "outputs": [
        {
          "output_type": "display_data",
          "data": {
            "text/html": [
              "\n",
              "<style>\n",
              "@import 'https://fonts.googleapis.com/css?family=Akronim';\n",
              "#col_header79736\n",
              "    {color:slategray; font-family:Akronim; \n",
              "     text-shadow:4px 4px 4px #aaa; padding-left:20px;}\n",
              "</style>\n",
              "<script>\n",
              "var tc=setInterval(function() {\n",
              "    var doc1=document.getElementById('col_header79736');\n",
              "    var now=new Date().getTime();\n",
              "    var sec=Math.floor((now%60000)/6000);\n",
              "    var col='rgb('+(10+Math.abs(245-8*sec))+',0,'+\n",
              "            (255-Math.abs(245-8*sec))+')';\n",
              "    doc1.style.color=col;}, 1000);\n",
              "</script>\n",
              "<h1 id='col_header79736'>📑 Barh Charts from HTML Elements</h1>"
            ],
            "text/plain": [
              "<IPython.core.display.HTML object>"
            ]
          },
          "metadata": {
            "tags": []
          }
        }
      ]
    },
    {
      "cell_type": "code",
      "metadata": {
        "colab": {
          "base_uri": "https://localhost:8080/",
          "height": 392
        },
        "id": "IboMv4xWjzbB",
        "outputId": "b1d3f7f2-6fd5-4c6b-884c-52b1c2416cce"
      },
      "source": [
        "from IPython.display import display,HTML\n",
        "width=1100; data=[4,12,21,38,42,55]\n",
        "chart_title='Building Bar Charts'\n",
        "def barh_chart(data,chart_title,width,\n",
        "               font_size=20,\n",
        "               font_family='Wallpoet',\n",
        "               background_color='#ff355e'):\n",
        "    dmax=max(data); wbar=round(width/100*dmax*1.1)\n",
        "    html_str=\"\"\"\n",
        "    <style>\n",
        "    @import 'https://fonts.googleapis.com/css?family=\"\"\"+font_family+\"\"\"'; \n",
        "    .div_params {padding:5px; width:\"\"\"+str(wbar)+\"\"\"px; \n",
        "                 text-align:right; text-shadow:4px 4px 4px slategray; \n",
        "                 color:lightgray; font-size:\"\"\"+str(font_size)+\"\"\"px; \n",
        "                 font-family:\"\"\"+font_family+\"\"\"; \n",
        "                 background:linear-gradient(\n",
        "                     180deg,lightgray 0%,silver 33%,\n",
        "                     slategray 67%, darkslategray 100%);}\n",
        "    .div_params_in {background:\"\"\"+background_color+\"\"\"; \n",
        "                    padding:10px; margin:3px;}\n",
        "    .div_h1 {text-shadow:4px 4px 4px slategray; \n",
        "             color:\"\"\"+background_color+\"\"\"; \n",
        "             font-family:\"\"\"+font_family+\"\"\";}\n",
        "    </style>\n",
        "    <div class='div_params'>\n",
        "    <h2 class='div_h1'>\"\"\"+chart_title+\"\"\"</h2>\"\"\"\n",
        "    for i in range(len(data)):\n",
        "        html_str+=\"\"\"\n",
        "        <div class='div_params_in' \n",
        "        style='width:\"\"\"+str(width/100*data[i])+\"\"\"px;\n",
        "        '>\"\"\"+str(data[i])+\"\"\"</div>\"\"\"\n",
        "    html_str+=\"\"\"</div><br/>\"\"\"\n",
        "    display(HTML(html_str))\n",
        "barh_chart(data,chart_title,width)"
      ],
      "execution_count": 33,
      "outputs": [
        {
          "output_type": "display_data",
          "data": {
            "text/html": [
              "\n",
              "    <style>\n",
              "    @import 'https://fonts.googleapis.com/css?family=Wallpoet'; \n",
              "    .div_params {padding:5px; width:666px; \n",
              "                 text-align:right; text-shadow:4px 4px 4px slategray; \n",
              "                 color:lightgray; font-size:20px; \n",
              "                 font-family:Wallpoet; \n",
              "                 background:linear-gradient(\n",
              "                     180deg,lightgray 0%,silver 33%,\n",
              "                     slategray 67%, darkslategray 100%);}\n",
              "    .div_params_in {background:#ff355e; \n",
              "                    padding:10px; margin:3px;}\n",
              "    .div_h1 {text-shadow:4px 4px 4px slategray; \n",
              "             color:#ff355e; \n",
              "             font-family:Wallpoet;}\n",
              "    </style>\n",
              "    <div class='div_params'>\n",
              "    <h2 class='div_h1'>Building Bar Charts</h2>\n",
              "        <div class='div_params_in' \n",
              "        style='width:44.0px;\n",
              "        '>4</div>\n",
              "        <div class='div_params_in' \n",
              "        style='width:132.0px;\n",
              "        '>12</div>\n",
              "        <div class='div_params_in' \n",
              "        style='width:231.0px;\n",
              "        '>21</div>\n",
              "        <div class='div_params_in' \n",
              "        style='width:418.0px;\n",
              "        '>38</div>\n",
              "        <div class='div_params_in' \n",
              "        style='width:462.0px;\n",
              "        '>42</div>\n",
              "        <div class='div_params_in' \n",
              "        style='width:605.0px;\n",
              "        '>55</div></div><br/>"
            ],
            "text/plain": [
              "<IPython.core.display.HTML object>"
            ]
          },
          "metadata": {
            "tags": []
          }
        }
      ]
    },
    {
      "cell_type": "code",
      "metadata": {
        "colab": {
          "base_uri": "https://localhost:8080/",
          "height": 262
        },
        "id": "ewbu2_ZYLH-N",
        "outputId": "46b2cd28-e226-4580-d014-42413ff55822"
      },
      "source": [
        "from IPython.display import display,HTML\n",
        "import random\n",
        "\n",
        "display(HTML(\"\"\"\n",
        "<style>\n",
        "@import 'https://fonts.googleapis.com/css?family=Wallpoet';\n",
        "#d3barchart_title {color:silver; font-family:Wallpoet; font-size:20px}\n",
        "#d3barchart {width:60%; height:30%;}\n",
        "</style>\n",
        "<script src='https://d3js.org/d3.v6.min.js'></script>\n",
        "<div id='d3barchart'><text id='d3barchart_title'></text></div>\n",
        "<script>\n",
        "var data=[4,12,21,38,42,55];\n",
        "var tc=setInterval(function(){\n",
        "    var now=new Date().getTime();\n",
        "    var width=.6*Math.max(window.screen.width,window.innerWidth);\n",
        "    var div=d3.select('#d3barchart');\n",
        "    div.select('#d3barchart_title')\n",
        "       .text('An Example of D3 Bar Charts');\n",
        "    div.style('text-align','right')\n",
        "       .style('text-shadow','3px 3px 3px slategray')\n",
        "       .style('padding','5px')\n",
        "       .style('color',d3.interpolateTurbo((now%60000)/60000))\n",
        "       .style('background',d3.interpolateTurbo((now%60000)/60000));\n",
        "    var x=d3.scaleLinear().domain([0,d3.max(data)])\n",
        "            .range([0,.85*width]);\n",
        "    div.selectAll('div').data(data).join('div')\n",
        "       .style('background','silver')\n",
        "       .style('padding','5px').style('margin','1px')\n",
        "       .style('width',d=>x(d)+'px')\n",
        "       .style('font-family','Wallpoet')\n",
        "       .style('font-size','20px')\n",
        "       .text(d=>d);},100);\n",
        "</script>\"\"\"))"
      ],
      "execution_count": 30,
      "outputs": [
        {
          "output_type": "display_data",
          "data": {
            "text/html": [
              "\n",
              "<style>\n",
              "@import 'https://fonts.googleapis.com/css?family=Wallpoet';\n",
              "#d3barchart_title {color:silver; font-family:Wallpoet; font-size:20px}\n",
              "#d3barchart {width:60%; height:30%;}\n",
              "</style>\n",
              "<script src='https://d3js.org/d3.v6.min.js'></script>\n",
              "<div id='d3barchart'><text id='d3barchart_title'></text></div>\n",
              "<script>\n",
              "var data=[4,12,21,38,42,55];\n",
              "var tc=setInterval(function(){\n",
              "    var now=new Date().getTime();\n",
              "    var width=.6*Math.max(window.screen.width,window.innerWidth);\n",
              "    var div=d3.select('#d3barchart');\n",
              "    div.select('#d3barchart_title')\n",
              "       .text('An Example of D3 Bar Charts');\n",
              "    div.style('text-align','right')\n",
              "       .style('text-shadow','3px 3px 3px slategray')\n",
              "       .style('padding','5px')\n",
              "       .style('color',d3.interpolateTurbo((now%60000)/60000))\n",
              "       .style('background',d3.interpolateTurbo((now%60000)/60000));\n",
              "    var x=d3.scaleLinear().domain([0,d3.max(data)])\n",
              "            .range([0,.85*width]);\n",
              "    div.selectAll('div').data(data).join('div')\n",
              "       .style('background','silver')\n",
              "       .style('padding','5px').style('margin','1px')\n",
              "       .style('width',d=>x(d)+'px')\n",
              "       .style('font-family','Wallpoet')\n",
              "       .style('font-size','20px')\n",
              "       .text(d=>d);},100);\n",
              "</script>"
            ],
            "text/plain": [
              "<IPython.core.display.HTML object>"
            ]
          },
          "metadata": {
            "tags": []
          }
        }
      ]
    }
  ]
}