{
  "nbformat": 4,
  "nbformat_minor": 0,
  "metadata": {
    "accelerator": "GPU",
    "colab": {
      "name": "tensorflow_cookbook12.ipynb",
      "provenance": [],
      "collapsed_sections": []
    },
    "kernelspec": {
      "display_name": "Python 3",
      "name": "python3"
    }
  },
  "cells": [
    {
      "cell_type": "code",
      "metadata": {
        "cellView": "form",
        "id": "qSRex4LmRtSp"
      },
      "source": [
        "#@title Code Lines with Header Styling\n",
        "from IPython.display import display,HTML\n",
        "from IPython.core.magic import register_line_magic\n",
        "@register_line_magic\n",
        "def cmap_header(params):\n",
        "    params=params.split('|'); string=params[0]\n",
        "    if len(params)==1: \n",
        "        font_size='30'; font_family='Smokum'; cmap='Sinebow'\n",
        "    elif  len(params)==2: \n",
        "        font_size=params[1]; font_family='Smokum'; cmap='Sinebow'\n",
        "    elif  len(params)==3: \n",
        "        font_size=params[1]; font_family=params[2]; cmap='Sinebow'\n",
        "    else: \n",
        "        font_size=params[1]; font_family=params[2]; cmap=params[3]\n",
        "    html_str=\"\"\"\n",
        "    <head><script src='https://d3js.org/d3.v6.min.js'></script></head>\n",
        "    <style>@import 'https://fonts.googleapis.com/css?family=\"\"\"+\\\n",
        "    font_family+\"\"\"&effect=3d'; #colorized {font-family:\"\"\"+font_family+\"\"\"; \n",
        "    color:white; padding-left:10px; font-size:\"\"\"+font_size+\"\"\"px;}</style>\n",
        "    <h1 id='colorized' class='font-effect-3d'>\"\"\"+string+\"\"\"</h1>\n",
        "    <script>\n",
        "    var tc=setInterval(function(){\n",
        "        var now=new Date().getTime();\n",
        "        var iddoc=document.getElementById('colorized');\n",
        "        iddoc.style.color=d3.interpolate\"\"\"+cmap+\"\"\"(now%(60000)/60000);},1)\n",
        "    </script>\"\"\"\n",
        "    display(HTML(html_str))"
      ],
      "execution_count": 1,
      "outputs": []
    },
    {
      "cell_type": "code",
      "metadata": {
        "id": "hrflL_XER9Xh",
        "colab": {
          "base_uri": "https://localhost:8080/",
          "height": 78
        },
        "outputId": "180996ab-daf0-4f5d-9d9a-b6e854b2a921"
      },
      "source": [
        "%cmap_header Code Modules, Settings & Functions"
      ],
      "execution_count": 2,
      "outputs": [
        {
          "output_type": "display_data",
          "data": {
            "text/html": [
              "\n",
              "    <head><script src='https://d3js.org/d3.v6.min.js'></script></head>\n",
              "    <style>@import 'https://fonts.googleapis.com/css?family=Smokum&effect=3d'; #colorized {font-family:Smokum; \n",
              "    color:white; padding-left:10px; font-size:30px;}</style>\n",
              "    <h1 id='colorized' class='font-effect-3d'>Code Modules, Settings & Functions</h1>\n",
              "    <script>\n",
              "    var tc=setInterval(function(){\n",
              "        var now=new Date().getTime();\n",
              "        var iddoc=document.getElementById('colorized');\n",
              "        iddoc.style.color=d3.interpolateSinebow(now%(60000)/60000);},1)\n",
              "    </script>"
            ],
            "text/plain": [
              "<IPython.core.display.HTML object>"
            ]
          },
          "metadata": {
            "tags": []
          }
        }
      ]
    },
    {
      "cell_type": "code",
      "metadata": {
        "id": "cDLRAwpVt4P-"
      },
      "source": [
        "!python3 -m pip install --upgrade pip \\\n",
        "--user --quiet --no-warn-script-location\n",
        "!python3 -m pip install --upgrade \\\n",
        "neural_structured_learning --user --quiet "
      ],
      "execution_count": 3,
      "outputs": []
    },
    {
      "cell_type": "code",
      "metadata": {
        "id": "hwPMAzTEOxYR"
      },
      "source": [
        "import os,h5py,urllib,pandas as pd,numpy as np\n",
        "import tensorflow as tf,pylab as pl,seaborn as sn\n",
        "import neural_structured_learning as nsl\n",
        "import tensorflow.keras.layers as tkl\n",
        "import tensorflow.keras.callbacks as tkc\n",
        "file_path='https://raw.githubusercontent.com/'+\\\n",
        "          'OlgaBelitskaya/data_kitchen/main/'\n",
        "file_name='Pictograms64.h5'\n",
        "img_size=64\n",
        "model_weights='/checkpoints'"
      ],
      "execution_count": 4,
      "outputs": []
    },
    {
      "cell_type": "code",
      "metadata": {
        "id": "PKhux-lh2YEP"
      },
      "source": [
        "def pd_style():\n",
        "    return [dict(selector='th',\n",
        "                 props=[('font-size','12pt'),('min-width','150px')]),\n",
        "            dict(selector='td',\n",
        "                 props=[('padding','0em 0em'),('min-width','150px')]),\n",
        "            dict(selector='tr:hover th:hover',\n",
        "                 props=[('font-size','14pt'),('max-width','150px'),\n",
        "                        ('text-shadow','3px 3px 3px #aaa')]),\n",
        "            dict(selector='tr:hover td:hover',\n",
        "                 props=[('font-size','12pt'),('max-width','150px'),\n",
        "                        ('text-shadow','3px 3px 3px #aaa')])]"
      ],
      "execution_count": 5,
      "outputs": []
    },
    {
      "cell_type": "code",
      "metadata": {
        "id": "Vsew-EBLSntR"
      },
      "source": [
        "def h5file2data(h5file,img_size,\n",
        "                resize=True,cmap='tab20',fig_size=7):\n",
        "    with h5py.File(h5file,'r') as f:\n",
        "        keys=list(f.keys()); print('file keys: '+', '.join(keys))\n",
        "        images=np.array(f[keys[int(0)]],dtype='float32')\n",
        "        labels=np.array(f[keys[int(1)]],dtype='float32')\n",
        "        names=[[el.decode('utf-8') for el in f[keys[i]]]\n",
        "               for i in range(2,len(keys))]\n",
        "        f.close()\n",
        "    N=images.shape[0]; n=int(.1*N)\n",
        "    if resize:\n",
        "        images=tf.image.resize(images,[img_size,img_size]).numpy()\n",
        "    shuffle_ids=np.arange(N)\n",
        "    np.random.RandomState(12).shuffle(shuffle_ids)\n",
        "    images=images[shuffle_ids]\n",
        "    labels=np.array([labels[i][shuffle_ids] \n",
        "                     for i in range(labels.shape[0])])\n",
        "    x_test,x_valid,x_train=images[:n],images[n:2*n],images[2*n:]\n",
        "    y_test,y_valid,y_train=labels[:,:n],labels[:,n:2*n],labels[:,2*n:]\n",
        "    df=pd.DataFrame(\n",
        "        [[x_train.shape,x_valid.shape,x_test.shape],\n",
        "         [x_train.dtype,x_valid.dtype,x_test.dtype],\n",
        "         [y_train.shape,y_valid.shape,y_test.shape],\n",
        "         [y_train.dtype,y_valid.dtype,y_test.dtype]],\n",
        "        columns=['train','valid','test'],\n",
        "        index=['image shape','image type','label shape','label type'])\n",
        "    print('data outputs: ')\n",
        "    display(df.style.set_table_styles(pd_style()))\n",
        "    print('distribution of labels: ')\n",
        "    idx=['labels %d'%(i+1) for i in range(labels.shape[0])]\n",
        "    df=pd.DataFrame(labels,index=idx).T\n",
        "    for i in range(labels.shape[0]):\n",
        "        df['name %d'%(i+1)]=[names[i][int(l)] for l in labels[i]]\n",
        "    fig=pl.figure(figsize=(1.5*fig_size,fig_size))    \n",
        "    for i in range(labels.shape[0]):\n",
        "        ax=fig.add_subplot(labels.shape[0],1,i+1)\n",
        "        sn.countplot(x='name %s'%(i+1),data=df,palette=cmap,alpha=.5,ax=ax)\n",
        "    pl.tight_layout(); pl.show()       \n",
        "    return [names,x_train,x_valid,x_test,y_train,y_valid,y_test]"
      ],
      "execution_count": 6,
      "outputs": []
    },
    {
      "cell_type": "code",
      "metadata": {
        "id": "RIk7hlqbTzqw"
      },
      "source": [
        "def display_images(images,labels,names,n):\n",
        "    fig=pl.figure(figsize=(9,n/2))\n",
        "    randch=np.random.choice(images.shape[0],size=n,replace=False)\n",
        "    for i,idx in enumerate(randch):\n",
        "        ax=fig.add_subplot(int(n//5)+1,5,i+1,xticks=[],yticks=[])\n",
        "        ax.imshow(images[idx],cmap='bone')\n",
        "        label=[labels[:,idx]]\n",
        "        name=[names[i][int(labels[i][idx])] \n",
        "              for i in range(labels.shape[0])]\n",
        "        ti='{} \\n {}'.format(str(label),str(name))\n",
        "        ax.set_title(ti,fontsize=8)\n",
        "    pl.tight_layout(); pl.show()"
      ],
      "execution_count": 7,
      "outputs": []
    },
    {
      "cell_type": "code",
      "metadata": {
        "id": "zp8JWWzwwwkC"
      },
      "source": [
        "def cb(mw):\n",
        "    early_stopping=tf.keras.callbacks.EarlyStopping(\n",
        "        monitor='val_sparse_categorical_accuracy',\n",
        "        patience=20,verbose=2,mode='max')\n",
        "    checkpointer=tf.keras.callbacks.ModelCheckpoint(\n",
        "        save_best_only=True,save_weights_only=True,\n",
        "        monitor='val_sparse_categorical_accuracy',\n",
        "        filepath=mw,verbose=2,mode='max')\n",
        "    lr_reduction=tf.keras.callbacks.ReduceLROnPlateau(\n",
        "        monitor='val_scaled_adversarial_loss',\n",
        "        verbose=2,patience=10,factor=.8,mode='min')\n",
        "    return [checkpointer,early_stopping,lr_reduction]"
      ],
      "execution_count": 8,
      "outputs": []
    },
    {
      "cell_type": "code",
      "metadata": {
        "id": "qHveY047-ZEk"
      },
      "source": [
        "def keras_history_plot(\n",
        "    fit_history,fig_size=9,color='darkblue'):\n",
        "    keys=list(fit_history.history.keys())\n",
        "    list_history=[fit_history.history[keys[i]] \n",
        "                  for i in range(len(keys))]\n",
        "    dfkeys=pd.DataFrame(list_history).T\n",
        "    dfkeys.columns=keys\n",
        "    fig=pl.figure(figsize=(fig_size,fig_size))\n",
        "    ax1=fig.add_subplot(3,1,1)\n",
        "    dfkeys.iloc[:,[0,4]].plot(\n",
        "        ax=ax1,color=['slategray',color],grid=True)\n",
        "    ax2=fig.add_subplot(3,1,2)\n",
        "    dfkeys.iloc[:,[3,7]].plot(\n",
        "        ax=ax2,color=['slategray',color],grid=True)\n",
        "    ax3=fig.add_subplot(3,1,3)\n",
        "    dfkeys.iloc[:,[2,6]].plot(\n",
        "        ax=ax3,color=['slategray',color],grid=True)\n",
        "    pl.tight_layout(); pl.show()"
      ],
      "execution_count": 9,
      "outputs": []
    },
    {
      "cell_type": "code",
      "metadata": {
        "id": "E_P1XId4UEYK",
        "colab": {
          "base_uri": "https://localhost:8080/",
          "height": 78
        },
        "outputId": "a476b9a2-18b8-4691-8765-230645d566a3"
      },
      "source": [
        "%cmap_header Data Loading"
      ],
      "execution_count": 10,
      "outputs": [
        {
          "output_type": "display_data",
          "data": {
            "text/html": [
              "\n",
              "    <head><script src='https://d3js.org/d3.v6.min.js'></script></head>\n",
              "    <style>@import 'https://fonts.googleapis.com/css?family=Smokum&effect=3d'; #colorized {font-family:Smokum; \n",
              "    color:white; padding-left:10px; font-size:30px;}</style>\n",
              "    <h1 id='colorized' class='font-effect-3d'>Data Loading</h1>\n",
              "    <script>\n",
              "    var tc=setInterval(function(){\n",
              "        var now=new Date().getTime();\n",
              "        var iddoc=document.getElementById('colorized');\n",
              "        iddoc.style.color=d3.interpolateSinebow(now%(60000)/60000);},1)\n",
              "    </script>"
            ],
            "text/plain": [
              "<IPython.core.display.HTML object>"
            ]
          },
          "metadata": {
            "tags": []
          }
        }
      ]
    },
    {
      "cell_type": "code",
      "metadata": {
        "id": "Tdy8We7XUJSV",
        "colab": {
          "base_uri": "https://localhost:8080/",
          "height": 681
        },
        "outputId": "55955d44-8285-4aa0-e381-4617d5b4b10c"
      },
      "source": [
        "input_file=urllib.request.urlopen(file_path+file_name)\n",
        "output_file=open(file_name,'wb')\n",
        "output_file.write(input_file.read())\n",
        "output_file.close(); input_file.close()\n",
        "[names,x_train,x_valid,x_test,y_train,y_valid,y_test]=\\\n",
        "h5file2data(file_name,img_size)\n",
        "num_classes=len(names[1])\n",
        "os.remove(file_name)"
      ],
      "execution_count": 11,
      "outputs": [
        {
          "output_type": "stream",
          "text": [
            "file keys: images, labels, names1, names2\n",
            "data outputs: \n"
          ],
          "name": "stdout"
        },
        {
          "output_type": "display_data",
          "data": {
            "text/html": [
              "<style  type=\"text/css\" >\n",
              "    #T_7e5db058_8b34_11eb_9536_0242ac1c0002 th {\n",
              "          font-size: 12pt;\n",
              "          min-width: 150px;\n",
              "    }    #T_7e5db058_8b34_11eb_9536_0242ac1c0002 td {\n",
              "          padding: 0em 0em;\n",
              "          min-width: 150px;\n",
              "    }    #T_7e5db058_8b34_11eb_9536_0242ac1c0002 tr:hover th:hover {\n",
              "          font-size: 14pt;\n",
              "          max-width: 150px;\n",
              "          text-shadow: 3px 3px 3px #aaa;\n",
              "    }    #T_7e5db058_8b34_11eb_9536_0242ac1c0002 tr:hover td:hover {\n",
              "          font-size: 12pt;\n",
              "          max-width: 150px;\n",
              "          text-shadow: 3px 3px 3px #aaa;\n",
              "    }</style><table id=\"T_7e5db058_8b34_11eb_9536_0242ac1c0002\" ><thead>    <tr>        <th class=\"blank level0\" ></th>        <th class=\"col_heading level0 col0\" >train</th>        <th class=\"col_heading level0 col1\" >valid</th>        <th class=\"col_heading level0 col2\" >test</th>    </tr></thead><tbody>\n",
              "                <tr>\n",
              "                        <th id=\"T_7e5db058_8b34_11eb_9536_0242ac1c0002level0_row0\" class=\"row_heading level0 row0\" >image shape</th>\n",
              "                        <td id=\"T_7e5db058_8b34_11eb_9536_0242ac1c0002row0_col0\" class=\"data row0 col0\" >(2837, 64, 64, 3)</td>\n",
              "                        <td id=\"T_7e5db058_8b34_11eb_9536_0242ac1c0002row0_col1\" class=\"data row0 col1\" >(354, 64, 64, 3)</td>\n",
              "                        <td id=\"T_7e5db058_8b34_11eb_9536_0242ac1c0002row0_col2\" class=\"data row0 col2\" >(354, 64, 64, 3)</td>\n",
              "            </tr>\n",
              "            <tr>\n",
              "                        <th id=\"T_7e5db058_8b34_11eb_9536_0242ac1c0002level0_row1\" class=\"row_heading level0 row1\" >image type</th>\n",
              "                        <td id=\"T_7e5db058_8b34_11eb_9536_0242ac1c0002row1_col0\" class=\"data row1 col0\" >float32</td>\n",
              "                        <td id=\"T_7e5db058_8b34_11eb_9536_0242ac1c0002row1_col1\" class=\"data row1 col1\" >float32</td>\n",
              "                        <td id=\"T_7e5db058_8b34_11eb_9536_0242ac1c0002row1_col2\" class=\"data row1 col2\" >float32</td>\n",
              "            </tr>\n",
              "            <tr>\n",
              "                        <th id=\"T_7e5db058_8b34_11eb_9536_0242ac1c0002level0_row2\" class=\"row_heading level0 row2\" >label shape</th>\n",
              "                        <td id=\"T_7e5db058_8b34_11eb_9536_0242ac1c0002row2_col0\" class=\"data row2 col0\" >(2, 2837)</td>\n",
              "                        <td id=\"T_7e5db058_8b34_11eb_9536_0242ac1c0002row2_col1\" class=\"data row2 col1\" >(2, 354)</td>\n",
              "                        <td id=\"T_7e5db058_8b34_11eb_9536_0242ac1c0002row2_col2\" class=\"data row2 col2\" >(2, 354)</td>\n",
              "            </tr>\n",
              "            <tr>\n",
              "                        <th id=\"T_7e5db058_8b34_11eb_9536_0242ac1c0002level0_row3\" class=\"row_heading level0 row3\" >label type</th>\n",
              "                        <td id=\"T_7e5db058_8b34_11eb_9536_0242ac1c0002row3_col0\" class=\"data row3 col0\" >float32</td>\n",
              "                        <td id=\"T_7e5db058_8b34_11eb_9536_0242ac1c0002row3_col1\" class=\"data row3 col1\" >float32</td>\n",
              "                        <td id=\"T_7e5db058_8b34_11eb_9536_0242ac1c0002row3_col2\" class=\"data row3 col2\" >float32</td>\n",
              "            </tr>\n",
              "    </tbody></table>"
            ],
            "text/plain": [
              "<pandas.io.formats.style.Styler at 0x7f26919cce10>"
            ]
          },
          "metadata": {
            "tags": []
          }
        },
        {
          "output_type": "stream",
          "text": [
            "distribution of labels: \n"
          ],
          "name": "stdout"
        },
        {
          "output_type": "display_data",
          "data": {
            "image/png": "[encoded data removed]",
            "text/plain": [
              "<Figure size 756x504 with 2 Axes>"
            ]
          },
          "metadata": {
            "tags": [],
            "needs_background": "light"
          }
        }
      ]
    },
    {
      "cell_type": "code",
      "metadata": {
        "id": "9KXOT8kHuoEx",
        "colab": {
          "base_uri": "https://localhost:8080/",
          "height": 78
        },
        "outputId": "717cbfc0-9096-463c-bbc5-fbe22d63ea6a"
      },
      "source": [
        "%cmap_header TF Data Processing"
      ],
      "execution_count": 12,
      "outputs": [
        {
          "output_type": "display_data",
          "data": {
            "text/html": [
              "\n",
              "    <head><script src='https://d3js.org/d3.v6.min.js'></script></head>\n",
              "    <style>@import 'https://fonts.googleapis.com/css?family=Smokum&effect=3d'; #colorized {font-family:Smokum; \n",
              "    color:white; padding-left:10px; font-size:30px;}</style>\n",
              "    <h1 id='colorized' class='font-effect-3d'>TF Data Processing</h1>\n",
              "    <script>\n",
              "    var tc=setInterval(function(){\n",
              "        var now=new Date().getTime();\n",
              "        var iddoc=document.getElementById('colorized');\n",
              "        iddoc.style.color=d3.interpolateSinebow(now%(60000)/60000);},1)\n",
              "    </script>"
            ],
            "text/plain": [
              "<IPython.core.display.HTML object>"
            ]
          },
          "metadata": {
            "tags": []
          }
        }
      ]
    },
    {
      "cell_type": "code",
      "metadata": {
        "id": "3AAmDbdPu_D2"
      },
      "source": [
        "batch_size=16\n",
        "train=tf.data.Dataset.from_tensor_slices(\n",
        "    {'input':x_train,\n",
        "     'label':np.array(y_train[1],dtype='float32')}).batch(batch_size)\n",
        "valid=tf.data.Dataset.from_tensor_slices(\n",
        "    {'input':x_valid,\n",
        "     'label':np.array(y_valid[1],dtype='float32')}).batch(batch_size)\n",
        "valid_steps=x_valid.shape[0]//batch_size"
      ],
      "execution_count": 13,
      "outputs": []
    },
    {
      "cell_type": "code",
      "metadata": {
        "id": "4lsHgyAz5QFn",
        "colab": {
          "base_uri": "https://localhost:8080/"
        },
        "outputId": "63587924-5870-4353-d08a-c1863070c764"
      },
      "source": [
        "set(y_train[1])"
      ],
      "execution_count": 14,
      "outputs": [
        {
          "output_type": "execute_result",
          "data": {
            "text/plain": [
              "{0.0,\n",
              " 1.0,\n",
              " 2.0,\n",
              " 3.0,\n",
              " 4.0,\n",
              " 5.0,\n",
              " 6.0,\n",
              " 7.0,\n",
              " 8.0,\n",
              " 9.0,\n",
              " 10.0,\n",
              " 11.0,\n",
              " 12.0,\n",
              " 13.0,\n",
              " 14.0,\n",
              " 15.0}"
            ]
          },
          "metadata": {
            "tags": []
          },
          "execution_count": 14
        }
      ]
    },
    {
      "cell_type": "code",
      "metadata": {
        "id": "ZeF3JTJhu_wt",
        "colab": {
          "base_uri": "https://localhost:8080/",
          "height": 78
        },
        "outputId": "a53e279b-c8f2-4a71-e321-674e92cb8ea6"
      },
      "source": [
        "%cmap_header Models with Adversarial Regularization => MLP"
      ],
      "execution_count": 16,
      "outputs": [
        {
          "output_type": "display_data",
          "data": {
            "text/html": [
              "\n",
              "    <head><script src='https://d3js.org/d3.v6.min.js'></script></head>\n",
              "    <style>@import 'https://fonts.googleapis.com/css?family=Smokum&effect=3d'; #colorized {font-family:Smokum; \n",
              "    color:white; padding-left:10px; font-size:30px;}</style>\n",
              "    <h1 id='colorized' class='font-effect-3d'>Models with Adversarial Regularization => MLP</h1>\n",
              "    <script>\n",
              "    var tc=setInterval(function(){\n",
              "        var now=new Date().getTime();\n",
              "        var iddoc=document.getElementById('colorized');\n",
              "        iddoc.style.color=d3.interpolateSinebow(now%(60000)/60000);},1)\n",
              "    </script>"
            ],
            "text/plain": [
              "<IPython.core.display.HTML object>"
            ]
          },
          "metadata": {
            "tags": []
          }
        }
      ]
    },
    {
      "cell_type": "code",
      "metadata": {
        "id": "eRpR8k7CuuTj"
      },
      "source": [
        "base_model=tf.keras.Sequential([\n",
        "    tf.keras.Input((img_size,img_size,3),name='input'),\n",
        "    tkl.Flatten(),\n",
        "    tkl.Dense(192,activation=tf.nn.relu),\n",
        "    tkl.BatchNormalization(),    \n",
        "    tkl.Dense(256,activation=tf.nn.relu),\n",
        "    tkl.BatchNormalization(),    \n",
        "    tkl.Dense(512,activation=tf.nn.relu),\n",
        "    tkl.Dense(num_classes,activation=tf.nn.softmax)\n",
        "])\n",
        "adv_config=nsl.configs.make_adv_reg_config(\n",
        "    multiplier=.2,adv_step_size=.05)\n",
        "adv_model=nsl.keras.AdversarialRegularization(\n",
        "    base_model,adv_config=adv_config)\n",
        "adv_model.compile(optimizer='adam',metrics=['accuracy'],\n",
        "                  loss='sparse_categorical_crossentropy')"
      ],
      "execution_count": 17,
      "outputs": []
    },
    {
      "cell_type": "code",
      "metadata": {
        "id": "pW8Uf9Rfweas",
        "colab": {
          "base_uri": "https://localhost:8080/"
        },
        "outputId": "cfe19526-047e-4d73-ba44-9fde62c9811b"
      },
      "source": [
        "history=adv_model.fit(\n",
        "    train,validation_data=valid,verbose=2,\n",
        "    validation_steps=valid_steps,\n",
        "    epochs=100,callbacks=cb(model_weights));"
      ],
      "execution_count": 18,
      "outputs": [
        {
          "output_type": "stream",
          "text": [
            "Epoch 1/100\n",
            "WARNING:tensorflow:AutoGraph could not transform <bound method Socket.send of <zmq.sugar.socket.Socket object at 0x7f26919acf30>> and will run it as-is.\n",
            "Please report this to the TensorFlow team. When filing the bug, set the verbosity to 10 (on Linux, `export AUTOGRAPH_VERBOSITY=10`) and attach the full output.\n",
            "Cause: module, class, method, function, traceback, frame, or code object was expected, got cython_function_or_method\n",
            "To silence this warning, decorate the function with @tf.autograph.experimental.do_not_convert\n"
          ],
          "name": "stdout"
        },
        {
          "output_type": "stream",
          "text": [
            "WARNING:absl:Cannot perturb features dict_keys(['label'])\n",
            "WARNING:tensorflow:AutoGraph could not transform <bound method Socket.send of <zmq.sugar.socket.Socket object at 0x7f26919acf30>> and will run it as-is.\n",
            "Please report this to the TensorFlow team. When filing the bug, set the verbosity to 10 (on Linux, `export AUTOGRAPH_VERBOSITY=10`) and attach the full output.\n",
            "Cause: module, class, method, function, traceback, frame, or code object was expected, got cython_function_or_method\n",
            "To silence this warning, decorate the function with @tf.autograph.experimental.do_not_convert\n"
          ],
          "name": "stderr"
        },
        {
          "output_type": "stream",
          "text": [
            "WARNING: AutoGraph could not transform <bound method Socket.send of <zmq.sugar.socket.Socket object at 0x7f26919acf30>> and will run it as-is.\n",
            "Please report this to the TensorFlow team. When filing the bug, set the verbosity to 10 (on Linux, `export AUTOGRAPH_VERBOSITY=10`) and attach the full output.\n",
            "Cause: module, class, method, function, traceback, frame, or code object was expected, got cython_function_or_method\n",
            "To silence this warning, decorate the function with @tf.autograph.experimental.do_not_convert\n",
            "WARNING:tensorflow:AutoGraph could not transform <function wrap at 0x7f26ad25dcb0> and will run it as-is.\n",
            "Cause: while/else statement not yet supported\n",
            "To silence this warning, decorate the function with @tf.autograph.experimental.do_not_convert\n"
          ],
          "name": "stdout"
        },
        {
          "output_type": "stream",
          "text": [
            "WARNING:tensorflow:AutoGraph could not transform <function wrap at 0x7f26ad25dcb0> and will run it as-is.\n",
            "Cause: while/else statement not yet supported\n",
            "To silence this warning, decorate the function with @tf.autograph.experimental.do_not_convert\n"
          ],
          "name": "stderr"
        },
        {
          "output_type": "stream",
          "text": [
            "178/178 - 22s - loss: 2.8474 - sparse_categorical_crossentropy: 2.3652 - sparse_categorical_accuracy: 0.2700 - scaled_adversarial_loss: 0.4822 - val_loss: 4.1786 - val_sparse_categorical_crossentropy: 3.4770 - val_sparse_categorical_accuracy: 0.1960 - val_scaled_adversarial_loss: 0.7016\n",
            "WARNING: AutoGraph could not transform <function wrap at 0x7f26ad25dcb0> and will run it as-is.\n",
            "Cause: while/else statement not yet supported\n",
            "To silence this warning, decorate the function with @tf.autograph.experimental.do_not_convert\n",
            "\n",
            "Epoch 00001: val_sparse_categorical_accuracy improved from -inf to 0.19602, saving model to /checkpoints\n",
            "Epoch 2/100\n",
            "178/178 - 1s - loss: 2.1214 - sparse_categorical_crossentropy: 1.7601 - sparse_categorical_accuracy: 0.4593 - scaled_adversarial_loss: 0.3613 - val_loss: 8.6308 - val_sparse_categorical_crossentropy: 7.1821 - val_sparse_categorical_accuracy: 0.0795 - val_scaled_adversarial_loss: 1.4488\n",
            "\n",
            "Epoch 00002: val_sparse_categorical_accuracy did not improve from 0.19602\n",
            "Epoch 3/100\n",
            "178/178 - 1s - loss: 1.5918 - sparse_categorical_crossentropy: 1.3170 - sparse_categorical_accuracy: 0.5777 - scaled_adversarial_loss: 0.2748 - val_loss: 16.4850 - val_sparse_categorical_crossentropy: 13.7222 - val_sparse_categorical_accuracy: 0.0938 - val_scaled_adversarial_loss: 2.7628\n",
            "\n",
            "Epoch 00003: val_sparse_categorical_accuracy did not improve from 0.19602\n",
            "Epoch 4/100\n",
            "178/178 - 1s - loss: 1.2740 - sparse_categorical_crossentropy: 1.0499 - sparse_categorical_accuracy: 0.6644 - scaled_adversarial_loss: 0.2240 - val_loss: 11.8194 - val_sparse_categorical_crossentropy: 9.8333 - val_sparse_categorical_accuracy: 0.1364 - val_scaled_adversarial_loss: 1.9861\n",
            "\n",
            "Epoch 00004: val_sparse_categorical_accuracy did not improve from 0.19602\n",
            "Epoch 5/100\n",
            "178/178 - 1s - loss: 1.0117 - sparse_categorical_crossentropy: 0.8301 - sparse_categorical_accuracy: 0.7272 - scaled_adversarial_loss: 0.1815 - val_loss: 11.6431 - val_sparse_categorical_crossentropy: 9.6820 - val_sparse_categorical_accuracy: 0.1278 - val_scaled_adversarial_loss: 1.9611\n",
            "\n",
            "Epoch 00005: val_sparse_categorical_accuracy did not improve from 0.19602\n",
            "Epoch 6/100\n",
            "178/178 - 1s - loss: 0.8115 - sparse_categorical_crossentropy: 0.6623 - sparse_categorical_accuracy: 0.7871 - scaled_adversarial_loss: 0.1491 - val_loss: 17.5978 - val_sparse_categorical_crossentropy: 14.6363 - val_sparse_categorical_accuracy: 0.0909 - val_scaled_adversarial_loss: 2.9616\n",
            "\n",
            "Epoch 00006: val_sparse_categorical_accuracy did not improve from 0.19602\n",
            "Epoch 7/100\n",
            "178/178 - 1s - loss: 0.5847 - sparse_categorical_crossentropy: 0.4736 - sparse_categorical_accuracy: 0.8449 - scaled_adversarial_loss: 0.1111 - val_loss: 13.6906 - val_sparse_categorical_crossentropy: 11.3733 - val_sparse_categorical_accuracy: 0.1193 - val_scaled_adversarial_loss: 2.3173\n",
            "\n",
            "Epoch 00007: val_sparse_categorical_accuracy did not improve from 0.19602\n",
            "Epoch 8/100\n",
            "178/178 - 1s - loss: 0.5167 - sparse_categorical_crossentropy: 0.4164 - sparse_categorical_accuracy: 0.8699 - scaled_adversarial_loss: 0.1003 - val_loss: 14.5188 - val_sparse_categorical_crossentropy: 12.0591 - val_sparse_categorical_accuracy: 0.0938 - val_scaled_adversarial_loss: 2.4597\n",
            "\n",
            "Epoch 00008: val_sparse_categorical_accuracy did not improve from 0.19602\n",
            "Epoch 9/100\n",
            "178/178 - 1s - loss: 0.4159 - sparse_categorical_crossentropy: 0.3331 - sparse_categorical_accuracy: 0.8900 - scaled_adversarial_loss: 0.0828 - val_loss: 11.0230 - val_sparse_categorical_crossentropy: 9.1463 - val_sparse_categorical_accuracy: 0.1989 - val_scaled_adversarial_loss: 1.8767\n",
            "\n",
            "Epoch 00009: val_sparse_categorical_accuracy improved from 0.19602 to 0.19886, saving model to /checkpoints\n",
            "Epoch 10/100\n",
            "178/178 - 1s - loss: 0.3092 - sparse_categorical_crossentropy: 0.2449 - sparse_categorical_accuracy: 0.9186 - scaled_adversarial_loss: 0.0642 - val_loss: 6.6318 - val_sparse_categorical_crossentropy: 5.4920 - val_sparse_categorical_accuracy: 0.2159 - val_scaled_adversarial_loss: 1.1398\n",
            "\n",
            "Epoch 00010: val_sparse_categorical_accuracy improved from 0.19886 to 0.21591, saving model to /checkpoints\n",
            "Epoch 11/100\n",
            "178/178 - 1s - loss: 0.3531 - sparse_categorical_crossentropy: 0.2787 - sparse_categorical_accuracy: 0.9062 - scaled_adversarial_loss: 0.0743 - val_loss: 6.8567 - val_sparse_categorical_crossentropy: 5.6730 - val_sparse_categorical_accuracy: 0.1989 - val_scaled_adversarial_loss: 1.1836\n",
            "\n",
            "Epoch 00011: val_sparse_categorical_accuracy did not improve from 0.21591\n",
            "\n",
            "Epoch 00011: ReduceLROnPlateau reducing learning rate to 0.000800000037997961.\n",
            "Epoch 12/100\n",
            "178/178 - 1s - loss: 0.1842 - sparse_categorical_crossentropy: 0.1438 - sparse_categorical_accuracy: 0.9549 - scaled_adversarial_loss: 0.0404 - val_loss: 9.1899 - val_sparse_categorical_crossentropy: 7.6118 - val_sparse_categorical_accuracy: 0.1790 - val_scaled_adversarial_loss: 1.5780\n",
            "\n",
            "Epoch 00012: val_sparse_categorical_accuracy did not improve from 0.21591\n",
            "Epoch 13/100\n",
            "178/178 - 1s - loss: 0.0968 - sparse_categorical_crossentropy: 0.0740 - sparse_categorical_accuracy: 0.9781 - scaled_adversarial_loss: 0.0228 - val_loss: 7.8407 - val_sparse_categorical_crossentropy: 6.4927 - val_sparse_categorical_accuracy: 0.2670 - val_scaled_adversarial_loss: 1.3480\n",
            "\n",
            "Epoch 00013: val_sparse_categorical_accuracy improved from 0.21591 to 0.26705, saving model to /checkpoints\n",
            "Epoch 14/100\n",
            "178/178 - 1s - loss: 0.0607 - sparse_categorical_crossentropy: 0.0465 - sparse_categorical_accuracy: 0.9873 - scaled_adversarial_loss: 0.0142 - val_loss: 12.1125 - val_sparse_categorical_crossentropy: 10.0376 - val_sparse_categorical_accuracy: 0.2074 - val_scaled_adversarial_loss: 2.0749\n",
            "\n",
            "Epoch 00014: val_sparse_categorical_accuracy did not improve from 0.26705\n",
            "Epoch 15/100\n",
            "178/178 - 1s - loss: 0.0275 - sparse_categorical_crossentropy: 0.0207 - sparse_categorical_accuracy: 0.9968 - scaled_adversarial_loss: 0.0068 - val_loss: 9.9154 - val_sparse_categorical_crossentropy: 8.2031 - val_sparse_categorical_accuracy: 0.2528 - val_scaled_adversarial_loss: 1.7123\n",
            "\n",
            "Epoch 00015: val_sparse_categorical_accuracy did not improve from 0.26705\n",
            "Epoch 16/100\n",
            "178/178 - 1s - loss: 0.0265 - sparse_categorical_crossentropy: 0.0202 - sparse_categorical_accuracy: 0.9958 - scaled_adversarial_loss: 0.0064 - val_loss: 6.6937 - val_sparse_categorical_crossentropy: 5.5261 - val_sparse_categorical_accuracy: 0.2898 - val_scaled_adversarial_loss: 1.1675\n",
            "\n",
            "Epoch 00016: val_sparse_categorical_accuracy improved from 0.26705 to 0.28977, saving model to /checkpoints\n",
            "Epoch 17/100\n",
            "178/178 - 1s - loss: 0.0150 - sparse_categorical_crossentropy: 0.0113 - sparse_categorical_accuracy: 0.9986 - scaled_adversarial_loss: 0.0037 - val_loss: 9.0635 - val_sparse_categorical_crossentropy: 7.4926 - val_sparse_categorical_accuracy: 0.2614 - val_scaled_adversarial_loss: 1.5709\n",
            "\n",
            "Epoch 00017: val_sparse_categorical_accuracy did not improve from 0.28977\n",
            "Epoch 18/100\n",
            "178/178 - 1s - loss: 0.0172 - sparse_categorical_crossentropy: 0.0133 - sparse_categorical_accuracy: 0.9972 - scaled_adversarial_loss: 0.0038 - val_loss: 7.6578 - val_sparse_categorical_crossentropy: 6.3199 - val_sparse_categorical_accuracy: 0.2926 - val_scaled_adversarial_loss: 1.3379\n",
            "\n",
            "Epoch 00018: val_sparse_categorical_accuracy improved from 0.28977 to 0.29261, saving model to /checkpoints\n",
            "Epoch 19/100\n",
            "178/178 - 1s - loss: 0.0219 - sparse_categorical_crossentropy: 0.0166 - sparse_categorical_accuracy: 0.9958 - scaled_adversarial_loss: 0.0053 - val_loss: 12.8588 - val_sparse_categorical_crossentropy: 10.6560 - val_sparse_categorical_accuracy: 0.2074 - val_scaled_adversarial_loss: 2.2028\n",
            "\n",
            "Epoch 00019: val_sparse_categorical_accuracy did not improve from 0.29261\n",
            "Epoch 20/100\n",
            "178/178 - 1s - loss: 0.0365 - sparse_categorical_crossentropy: 0.0281 - sparse_categorical_accuracy: 0.9926 - scaled_adversarial_loss: 0.0084 - val_loss: 19.7942 - val_sparse_categorical_crossentropy: 16.4278 - val_sparse_categorical_accuracy: 0.1136 - val_scaled_adversarial_loss: 3.3664\n",
            "\n",
            "Epoch 00020: val_sparse_categorical_accuracy did not improve from 0.29261\n",
            "Epoch 21/100\n",
            "178/178 - 1s - loss: 0.1985 - sparse_categorical_crossentropy: 0.1552 - sparse_categorical_accuracy: 0.9556 - scaled_adversarial_loss: 0.0433 - val_loss: 18.4859 - val_sparse_categorical_crossentropy: 15.3518 - val_sparse_categorical_accuracy: 0.1165 - val_scaled_adversarial_loss: 3.1340\n",
            "\n",
            "Epoch 00021: val_sparse_categorical_accuracy did not improve from 0.29261\n",
            "\n",
            "Epoch 00021: ReduceLROnPlateau reducing learning rate to 0.0006400000303983689.\n",
            "Epoch 22/100\n",
            "178/178 - 1s - loss: 0.5887 - sparse_categorical_crossentropy: 0.4650 - sparse_categorical_accuracy: 0.8484 - scaled_adversarial_loss: 0.1236 - val_loss: 15.8594 - val_sparse_categorical_crossentropy: 13.1602 - val_sparse_categorical_accuracy: 0.1619 - val_scaled_adversarial_loss: 2.6992\n",
            "\n",
            "Epoch 00022: val_sparse_categorical_accuracy did not improve from 0.29261\n",
            "Epoch 23/100\n",
            "178/178 - 1s - loss: 0.2449 - sparse_categorical_crossentropy: 0.1894 - sparse_categorical_accuracy: 0.9355 - scaled_adversarial_loss: 0.0554 - val_loss: 8.2525 - val_sparse_categorical_crossentropy: 6.8177 - val_sparse_categorical_accuracy: 0.2557 - val_scaled_adversarial_loss: 1.4348\n",
            "\n",
            "Epoch 00023: val_sparse_categorical_accuracy did not improve from 0.29261\n",
            "Epoch 24/100\n",
            "178/178 - 1s - loss: 0.0856 - sparse_categorical_crossentropy: 0.0637 - sparse_categorical_accuracy: 0.9789 - scaled_adversarial_loss: 0.0219 - val_loss: 6.9080 - val_sparse_categorical_crossentropy: 5.6992 - val_sparse_categorical_accuracy: 0.3381 - val_scaled_adversarial_loss: 1.2088\n",
            "\n",
            "Epoch 00024: val_sparse_categorical_accuracy improved from 0.29261 to 0.33807, saving model to /checkpoints\n",
            "Epoch 25/100\n",
            "178/178 - 1s - loss: 0.0316 - sparse_categorical_crossentropy: 0.0219 - sparse_categorical_accuracy: 0.9940 - scaled_adversarial_loss: 0.0097 - val_loss: 8.0716 - val_sparse_categorical_crossentropy: 6.6589 - val_sparse_categorical_accuracy: 0.3125 - val_scaled_adversarial_loss: 1.4127\n",
            "\n",
            "Epoch 00025: val_sparse_categorical_accuracy did not improve from 0.33807\n",
            "Epoch 26/100\n",
            "178/178 - 1s - loss: 0.0122 - sparse_categorical_crossentropy: 0.0086 - sparse_categorical_accuracy: 0.9986 - scaled_adversarial_loss: 0.0036 - val_loss: 7.0322 - val_sparse_categorical_crossentropy: 5.7898 - val_sparse_categorical_accuracy: 0.3551 - val_scaled_adversarial_loss: 1.2425\n",
            "\n",
            "Epoch 00026: val_sparse_categorical_accuracy improved from 0.33807 to 0.35511, saving model to /checkpoints\n",
            "Epoch 27/100\n",
            "178/178 - 1s - loss: 0.0057 - sparse_categorical_crossentropy: 0.0041 - sparse_categorical_accuracy: 0.9993 - scaled_adversarial_loss: 0.0016 - val_loss: 6.8958 - val_sparse_categorical_crossentropy: 5.6813 - val_sparse_categorical_accuracy: 0.3693 - val_scaled_adversarial_loss: 1.2144\n",
            "\n",
            "Epoch 00027: val_sparse_categorical_accuracy improved from 0.35511 to 0.36932, saving model to /checkpoints\n",
            "Epoch 28/100\n",
            "178/178 - 1s - loss: 0.0042 - sparse_categorical_crossentropy: 0.0030 - sparse_categorical_accuracy: 0.9996 - scaled_adversarial_loss: 0.0011 - val_loss: 5.6873 - val_sparse_categorical_crossentropy: 4.6717 - val_sparse_categorical_accuracy: 0.3750 - val_scaled_adversarial_loss: 1.0156\n",
            "\n",
            "Epoch 00028: val_sparse_categorical_accuracy improved from 0.36932 to 0.37500, saving model to /checkpoints\n",
            "Epoch 29/100\n",
            "178/178 - 1s - loss: 0.0060 - sparse_categorical_crossentropy: 0.0046 - sparse_categorical_accuracy: 0.9993 - scaled_adversarial_loss: 0.0015 - val_loss: 10.3447 - val_sparse_categorical_crossentropy: 8.5468 - val_sparse_categorical_accuracy: 0.2784 - val_scaled_adversarial_loss: 1.7979\n",
            "\n",
            "Epoch 00029: val_sparse_categorical_accuracy did not improve from 0.37500\n",
            "Epoch 30/100\n",
            "178/178 - 1s - loss: 0.0064 - sparse_categorical_crossentropy: 0.0048 - sparse_categorical_accuracy: 0.9993 - scaled_adversarial_loss: 0.0016 - val_loss: 5.7710 - val_sparse_categorical_crossentropy: 4.7374 - val_sparse_categorical_accuracy: 0.3864 - val_scaled_adversarial_loss: 1.0336\n",
            "\n",
            "Epoch 00030: val_sparse_categorical_accuracy improved from 0.37500 to 0.38636, saving model to /checkpoints\n",
            "Epoch 31/100\n",
            "178/178 - 1s - loss: 0.0019 - sparse_categorical_crossentropy: 0.0013 - sparse_categorical_accuracy: 1.0000 - scaled_adversarial_loss: 5.5485e-04 - val_loss: 5.0193 - val_sparse_categorical_crossentropy: 4.1083 - val_sparse_categorical_accuracy: 0.4148 - val_scaled_adversarial_loss: 0.9110\n",
            "\n",
            "Epoch 00031: val_sparse_categorical_accuracy improved from 0.38636 to 0.41477, saving model to /checkpoints\n",
            "\n",
            "Epoch 00031: ReduceLROnPlateau reducing learning rate to 0.0005120000336319208.\n",
            "Epoch 32/100\n",
            "178/178 - 1s - loss: 0.0013 - sparse_categorical_crossentropy: 9.2884e-04 - sparse_categorical_accuracy: 1.0000 - scaled_adversarial_loss: 3.8470e-04 - val_loss: 5.0008 - val_sparse_categorical_crossentropy: 4.0921 - val_sparse_categorical_accuracy: 0.4148 - val_scaled_adversarial_loss: 0.9087\n",
            "\n",
            "Epoch 00032: val_sparse_categorical_accuracy did not improve from 0.41477\n",
            "Epoch 33/100\n",
            "178/178 - 1s - loss: 0.0011 - sparse_categorical_crossentropy: 7.9413e-04 - sparse_categorical_accuracy: 1.0000 - scaled_adversarial_loss: 3.2985e-04 - val_loss: 5.0197 - val_sparse_categorical_crossentropy: 4.1075 - val_sparse_categorical_accuracy: 0.4119 - val_scaled_adversarial_loss: 0.9122\n",
            "\n",
            "Epoch 00033: val_sparse_categorical_accuracy did not improve from 0.41477\n",
            "Epoch 34/100\n",
            "178/178 - 1s - loss: 0.0010 - sparse_categorical_crossentropy: 7.0693e-04 - sparse_categorical_accuracy: 1.0000 - scaled_adversarial_loss: 2.9357e-04 - val_loss: 5.0443 - val_sparse_categorical_crossentropy: 4.1276 - val_sparse_categorical_accuracy: 0.4119 - val_scaled_adversarial_loss: 0.9168\n",
            "\n",
            "Epoch 00034: val_sparse_categorical_accuracy did not improve from 0.41477\n",
            "Epoch 35/100\n",
            "178/178 - 1s - loss: 8.9948e-04 - sparse_categorical_crossentropy: 6.3538e-04 - sparse_categorical_accuracy: 1.0000 - scaled_adversarial_loss: 2.6410e-04 - val_loss: 5.0693 - val_sparse_categorical_crossentropy: 4.1478 - val_sparse_categorical_accuracy: 0.4091 - val_scaled_adversarial_loss: 0.9215\n",
            "\n",
            "Epoch 00035: val_sparse_categorical_accuracy did not improve from 0.41477\n",
            "Epoch 36/100\n",
            "178/178 - 1s - loss: 8.1380e-04 - sparse_categorical_crossentropy: 5.7468e-04 - sparse_categorical_accuracy: 1.0000 - scaled_adversarial_loss: 2.3911e-04 - val_loss: 5.0947 - val_sparse_categorical_crossentropy: 4.1685 - val_sparse_categorical_accuracy: 0.4091 - val_scaled_adversarial_loss: 0.9262\n",
            "\n",
            "Epoch 00036: val_sparse_categorical_accuracy did not improve from 0.41477\n",
            "Epoch 37/100\n",
            "178/178 - 1s - loss: 7.3882e-04 - sparse_categorical_crossentropy: 5.2155e-04 - sparse_categorical_accuracy: 1.0000 - scaled_adversarial_loss: 2.1728e-04 - val_loss: 5.1208 - val_sparse_categorical_crossentropy: 4.1897 - val_sparse_categorical_accuracy: 0.4091 - val_scaled_adversarial_loss: 0.9311\n",
            "\n",
            "Epoch 00037: val_sparse_categorical_accuracy did not improve from 0.41477\n",
            "Epoch 38/100\n",
            "178/178 - 1s - loss: 6.7283e-04 - sparse_categorical_crossentropy: 4.7479e-04 - sparse_categorical_accuracy: 1.0000 - scaled_adversarial_loss: 1.9804e-04 - val_loss: 5.1465 - val_sparse_categorical_crossentropy: 4.2106 - val_sparse_categorical_accuracy: 0.4091 - val_scaled_adversarial_loss: 0.9359\n",
            "\n",
            "Epoch 00038: val_sparse_categorical_accuracy did not improve from 0.41477\n",
            "Epoch 39/100\n",
            "178/178 - 1s - loss: 6.1415e-04 - sparse_categorical_crossentropy: 4.3320e-04 - sparse_categorical_accuracy: 1.0000 - scaled_adversarial_loss: 1.8096e-04 - val_loss: 5.1729 - val_sparse_categorical_crossentropy: 4.2321 - val_sparse_categorical_accuracy: 0.4119 - val_scaled_adversarial_loss: 0.9408\n",
            "\n",
            "Epoch 00039: val_sparse_categorical_accuracy did not improve from 0.41477\n",
            "Epoch 40/100\n",
            "178/178 - 1s - loss: 5.6141e-04 - sparse_categorical_crossentropy: 3.9580e-04 - sparse_categorical_accuracy: 1.0000 - scaled_adversarial_loss: 1.6561e-04 - val_loss: 5.2004 - val_sparse_categorical_crossentropy: 4.2545 - val_sparse_categorical_accuracy: 0.4119 - val_scaled_adversarial_loss: 0.9459\n",
            "\n",
            "Epoch 00040: val_sparse_categorical_accuracy did not improve from 0.41477\n",
            "Epoch 41/100\n",
            "178/178 - 1s - loss: 5.1356e-04 - sparse_categorical_crossentropy: 3.6187e-04 - sparse_categorical_accuracy: 1.0000 - scaled_adversarial_loss: 1.5169e-04 - val_loss: 5.2269 - val_sparse_categorical_crossentropy: 4.2760 - val_sparse_categorical_accuracy: 0.4119 - val_scaled_adversarial_loss: 0.9509\n",
            "\n",
            "Epoch 00041: val_sparse_categorical_accuracy did not improve from 0.41477\n",
            "\n",
            "Epoch 00041: ReduceLROnPlateau reducing learning rate to 0.00040960004553198815.\n",
            "Epoch 42/100\n",
            "178/178 - 1s - loss: 4.6948e-04 - sparse_categorical_crossentropy: 3.3070e-04 - sparse_categorical_accuracy: 1.0000 - scaled_adversarial_loss: 1.3878e-04 - val_loss: 5.2464 - val_sparse_categorical_crossentropy: 4.2919 - val_sparse_categorical_accuracy: 0.4176 - val_scaled_adversarial_loss: 0.9545\n",
            "\n",
            "Epoch 00042: val_sparse_categorical_accuracy improved from 0.41477 to 0.41761, saving model to /checkpoints\n",
            "Epoch 43/100\n",
            "178/178 - 1s - loss: 4.3728e-04 - sparse_categorical_crossentropy: 3.0787e-04 - sparse_categorical_accuracy: 1.0000 - scaled_adversarial_loss: 1.2941e-04 - val_loss: 5.2675 - val_sparse_categorical_crossentropy: 4.3091 - val_sparse_categorical_accuracy: 0.4176 - val_scaled_adversarial_loss: 0.9584\n",
            "\n",
            "Epoch 00043: val_sparse_categorical_accuracy did not improve from 0.41761\n",
            "Epoch 44/100\n",
            "178/178 - 1s - loss: 4.0728e-04 - sparse_categorical_crossentropy: 2.8660e-04 - sparse_categorical_accuracy: 1.0000 - scaled_adversarial_loss: 1.2068e-04 - val_loss: 5.2908 - val_sparse_categorical_crossentropy: 4.3280 - val_sparse_categorical_accuracy: 0.4176 - val_scaled_adversarial_loss: 0.9627\n",
            "\n",
            "Epoch 00044: val_sparse_categorical_accuracy did not improve from 0.41761\n",
            "Epoch 45/100\n",
            "178/178 - 1s - loss: 3.7887e-04 - sparse_categorical_crossentropy: 2.6646e-04 - sparse_categorical_accuracy: 1.0000 - scaled_adversarial_loss: 1.1241e-04 - val_loss: 5.3154 - val_sparse_categorical_crossentropy: 4.3480 - val_sparse_categorical_accuracy: 0.4176 - val_scaled_adversarial_loss: 0.9674\n",
            "\n",
            "Epoch 00045: val_sparse_categorical_accuracy did not improve from 0.41761\n",
            "Epoch 46/100\n",
            "178/178 - 1s - loss: 3.5227e-04 - sparse_categorical_crossentropy: 2.4761e-04 - sparse_categorical_accuracy: 1.0000 - scaled_adversarial_loss: 1.0466e-04 - val_loss: 5.3399 - val_sparse_categorical_crossentropy: 4.3680 - val_sparse_categorical_accuracy: 0.4176 - val_scaled_adversarial_loss: 0.9719\n",
            "\n",
            "Epoch 00046: val_sparse_categorical_accuracy did not improve from 0.41761\n",
            "Epoch 47/100\n",
            "178/178 - 1s - loss: 3.2711e-04 - sparse_categorical_crossentropy: 2.2977e-04 - sparse_categorical_accuracy: 1.0000 - scaled_adversarial_loss: 9.7343e-05 - val_loss: 5.3644 - val_sparse_categorical_crossentropy: 4.3879 - val_sparse_categorical_accuracy: 0.4148 - val_scaled_adversarial_loss: 0.9765\n",
            "\n",
            "Epoch 00047: val_sparse_categorical_accuracy did not improve from 0.41761\n",
            "Epoch 48/100\n",
            "178/178 - 1s - loss: 3.0335e-04 - sparse_categorical_crossentropy: 2.1296e-04 - sparse_categorical_accuracy: 1.0000 - scaled_adversarial_loss: 9.0390e-05 - val_loss: 5.3893 - val_sparse_categorical_crossentropy: 4.4082 - val_sparse_categorical_accuracy: 0.4176 - val_scaled_adversarial_loss: 0.9812\n",
            "\n",
            "Epoch 00048: val_sparse_categorical_accuracy did not improve from 0.41761\n",
            "Epoch 49/100\n",
            "178/178 - 1s - loss: 2.8111e-04 - sparse_categorical_crossentropy: 1.9720e-04 - sparse_categorical_accuracy: 1.0000 - scaled_adversarial_loss: 8.3912e-05 - val_loss: 5.4161 - val_sparse_categorical_crossentropy: 4.4299 - val_sparse_categorical_accuracy: 0.4148 - val_scaled_adversarial_loss: 0.9861\n",
            "\n",
            "Epoch 00049: val_sparse_categorical_accuracy did not improve from 0.41761\n",
            "Epoch 50/100\n",
            "178/178 - 1s - loss: 2.6028e-04 - sparse_categorical_crossentropy: 1.8247e-04 - sparse_categorical_accuracy: 1.0000 - scaled_adversarial_loss: 7.7807e-05 - val_loss: 5.4423 - val_sparse_categorical_crossentropy: 4.4512 - val_sparse_categorical_accuracy: 0.4119 - val_scaled_adversarial_loss: 0.9910\n",
            "\n",
            "Epoch 00050: val_sparse_categorical_accuracy did not improve from 0.41761\n",
            "Epoch 51/100\n",
            "178/178 - 1s - loss: 2.4061e-04 - sparse_categorical_crossentropy: 1.6857e-04 - sparse_categorical_accuracy: 1.0000 - scaled_adversarial_loss: 7.2049e-05 - val_loss: 5.4701 - val_sparse_categorical_crossentropy: 4.4739 - val_sparse_categorical_accuracy: 0.4119 - val_scaled_adversarial_loss: 0.9962\n",
            "\n",
            "Epoch 00051: val_sparse_categorical_accuracy did not improve from 0.41761\n",
            "\n",
            "Epoch 00051: ReduceLROnPlateau reducing learning rate to 0.00032768002711236477.\n",
            "Epoch 52/100\n",
            "178/178 - 1s - loss: 2.2215e-04 - sparse_categorical_crossentropy: 1.5555e-04 - sparse_categorical_accuracy: 1.0000 - scaled_adversarial_loss: 6.6601e-05 - val_loss: 5.4899 - val_sparse_categorical_crossentropy: 4.4899 - val_sparse_categorical_accuracy: 0.4176 - val_scaled_adversarial_loss: 1.0000\n",
            "\n",
            "Epoch 00052: val_sparse_categorical_accuracy did not improve from 0.41761\n",
            "Epoch 53/100\n",
            "178/178 - 1s - loss: 2.0823e-04 - sparse_categorical_crossentropy: 1.4572e-04 - sparse_categorical_accuracy: 1.0000 - scaled_adversarial_loss: 6.2512e-05 - val_loss: 5.5138 - val_sparse_categorical_crossentropy: 4.5094 - val_sparse_categorical_accuracy: 0.4176 - val_scaled_adversarial_loss: 1.0044\n",
            "\n",
            "Epoch 00053: val_sparse_categorical_accuracy did not improve from 0.41761\n",
            "Epoch 54/100\n",
            "178/178 - 1s - loss: 1.9498e-04 - sparse_categorical_crossentropy: 1.3637e-04 - sparse_categorical_accuracy: 1.0000 - scaled_adversarial_loss: 5.8614e-05 - val_loss: 5.5368 - val_sparse_categorical_crossentropy: 4.5281 - val_sparse_categorical_accuracy: 0.4176 - val_scaled_adversarial_loss: 1.0087\n",
            "\n",
            "Epoch 00054: val_sparse_categorical_accuracy did not improve from 0.41761\n",
            "Epoch 55/100\n",
            "178/178 - 1s - loss: 1.8234e-04 - sparse_categorical_crossentropy: 1.2744e-04 - sparse_categorical_accuracy: 1.0000 - scaled_adversarial_loss: 5.4896e-05 - val_loss: 5.5621 - val_sparse_categorical_crossentropy: 4.5487 - val_sparse_categorical_accuracy: 0.4176 - val_scaled_adversarial_loss: 1.0133\n",
            "\n",
            "Epoch 00055: val_sparse_categorical_accuracy did not improve from 0.41761\n",
            "Epoch 56/100\n",
            "178/178 - 1s - loss: 1.7018e-04 - sparse_categorical_crossentropy: 1.1887e-04 - sparse_categorical_accuracy: 1.0000 - scaled_adversarial_loss: 5.1314e-05 - val_loss: 5.5872 - val_sparse_categorical_crossentropy: 4.5692 - val_sparse_categorical_accuracy: 0.4148 - val_scaled_adversarial_loss: 1.0181\n",
            "\n",
            "Epoch 00056: val_sparse_categorical_accuracy did not improve from 0.41761\n",
            "Epoch 57/100\n",
            "178/178 - 1s - loss: 1.5856e-04 - sparse_categorical_crossentropy: 1.1066e-04 - sparse_categorical_accuracy: 1.0000 - scaled_adversarial_loss: 4.7901e-05 - val_loss: 5.6143 - val_sparse_categorical_crossentropy: 4.5912 - val_sparse_categorical_accuracy: 0.4148 - val_scaled_adversarial_loss: 1.0230\n",
            "\n",
            "Epoch 00057: val_sparse_categorical_accuracy did not improve from 0.41761\n",
            "Epoch 58/100\n",
            "178/178 - 1s - loss: 1.4745e-04 - sparse_categorical_crossentropy: 1.0283e-04 - sparse_categorical_accuracy: 1.0000 - scaled_adversarial_loss: 4.4613e-05 - val_loss: 5.6386 - val_sparse_categorical_crossentropy: 4.6110 - val_sparse_categorical_accuracy: 0.4176 - val_scaled_adversarial_loss: 1.0276\n",
            "\n",
            "Epoch 00058: val_sparse_categorical_accuracy did not improve from 0.41761\n",
            "Epoch 59/100\n",
            "178/178 - 1s - loss: 1.3698e-04 - sparse_categorical_crossentropy: 9.5463e-05 - sparse_categorical_accuracy: 1.0000 - scaled_adversarial_loss: 4.1516e-05 - val_loss: 5.6667 - val_sparse_categorical_crossentropy: 4.6339 - val_sparse_categorical_accuracy: 0.4176 - val_scaled_adversarial_loss: 1.0328\n",
            "\n",
            "Epoch 00059: val_sparse_categorical_accuracy did not improve from 0.41761\n",
            "Epoch 60/100\n",
            "178/178 - 1s - loss: 1.2707e-04 - sparse_categorical_crossentropy: 8.8485e-05 - sparse_categorical_accuracy: 1.0000 - scaled_adversarial_loss: 3.8588e-05 - val_loss: 5.6950 - val_sparse_categorical_crossentropy: 4.6569 - val_sparse_categorical_accuracy: 0.4176 - val_scaled_adversarial_loss: 1.0381\n",
            "\n",
            "Epoch 00060: val_sparse_categorical_accuracy did not improve from 0.41761\n",
            "Epoch 61/100\n",
            "178/178 - 1s - loss: 1.1775e-04 - sparse_categorical_crossentropy: 8.1926e-05 - sparse_categorical_accuracy: 1.0000 - scaled_adversarial_loss: 3.5819e-05 - val_loss: 5.7234 - val_sparse_categorical_crossentropy: 4.6800 - val_sparse_categorical_accuracy: 0.4119 - val_scaled_adversarial_loss: 1.0433\n",
            "\n",
            "Epoch 00061: val_sparse_categorical_accuracy did not improve from 0.41761\n",
            "\n",
            "Epoch 00061: ReduceLROnPlateau reducing learning rate to 0.0002621440216898918.\n",
            "Epoch 62/100\n",
            "178/178 - 1s - loss: 1.0883e-04 - sparse_categorical_crossentropy: 7.5671e-05 - sparse_categorical_accuracy: 1.0000 - scaled_adversarial_loss: 3.3164e-05 - val_loss: 5.7453 - val_sparse_categorical_crossentropy: 4.6978 - val_sparse_categorical_accuracy: 0.4176 - val_scaled_adversarial_loss: 1.0474\n",
            "\n",
            "Epoch 00062: val_sparse_categorical_accuracy did not improve from 0.41761\n",
            "Epoch 00062: early stopping\n"
          ],
          "name": "stdout"
        }
      ]
    },
    {
      "cell_type": "code",
      "metadata": {
        "id": "OaHIr1T9-rdn",
        "colab": {
          "base_uri": "https://localhost:8080/",
          "height": 657
        },
        "outputId": "3625b2c3-53a6-48d7-a8e2-25a7bf3aa9cc"
      },
      "source": [
        "keras_history_plot(history)"
      ],
      "execution_count": 19,
      "outputs": [
        {
          "output_type": "display_data",
          "data": {
            "image/png": "[encoded data removed]",
            "text/plain": [
              "<Figure size 648x648 with 3 Axes>"
            ]
          },
          "metadata": {
            "tags": [],
            "needs_background": "light"
          }
        }
      ]
    },
    {
      "cell_type": "code",
      "metadata": {
        "id": "A1_U9Vhj0qV7",
        "colab": {
          "base_uri": "https://localhost:8080/"
        },
        "outputId": "d9974ae8-776b-4a9a-cb5e-66a31b6a48e5"
      },
      "source": [
        "adv_model.load_weights(model_weights)\n",
        "dict(zip(adv_model.metrics_names,adv_model.evaluate(\n",
        "    {'input':x_test,\n",
        "     'label':np.array(y_test[1],dtype='float32')},\n",
        "     verbose=0)))"
      ],
      "execution_count": 20,
      "outputs": [
        {
          "output_type": "execute_result",
          "data": {
            "text/plain": [
              "{'loss': 5.5988311767578125,\n",
              " 'scaled_adversarial_loss': 1.0182998180389404,\n",
              " 'sparse_categorical_accuracy': 0.4067796468734741,\n",
              " 'sparse_categorical_crossentropy': 4.580531597137451}"
            ]
          },
          "metadata": {
            "tags": []
          },
          "execution_count": 20
        }
      ]
    },
    {
      "cell_type": "code",
      "metadata": {
        "id": "mv8ywHdCnJjt",
        "colab": {
          "base_uri": "https://localhost:8080/",
          "height": 78
        },
        "outputId": "d0806a08-7795-4740-897a-9262d55ce795"
      },
      "source": [
        "%cmap_header Models with Adversarial Regularization => CNN"
      ],
      "execution_count": 21,
      "outputs": [
        {
          "output_type": "display_data",
          "data": {
            "text/html": [
              "\n",
              "    <head><script src='https://d3js.org/d3.v6.min.js'></script></head>\n",
              "    <style>@import 'https://fonts.googleapis.com/css?family=Smokum&effect=3d'; #colorized {font-family:Smokum; \n",
              "    color:white; padding-left:10px; font-size:30px;}</style>\n",
              "    <h1 id='colorized' class='font-effect-3d'>Models with Adversarial Regularization => CNN</h1>\n",
              "    <script>\n",
              "    var tc=setInterval(function(){\n",
              "        var now=new Date().getTime();\n",
              "        var iddoc=document.getElementById('colorized');\n",
              "        iddoc.style.color=d3.interpolateSinebow(now%(60000)/60000);},1)\n",
              "    </script>"
            ],
            "text/plain": [
              "<IPython.core.display.HTML object>"
            ]
          },
          "metadata": {
            "tags": []
          }
        }
      ]
    },
    {
      "cell_type": "code",
      "metadata": {
        "id": "UDspP2pym4qd"
      },
      "source": [
        "base_model=tf.keras.Sequential([\n",
        "    tf.keras.Input((img_size,img_size,3),name='input'),\n",
        "    tf.keras.layers.Conv2D(32,(5,5),padding='same'),\n",
        "    tf.keras.layers.Activation('relu'),\n",
        "    tf.keras.layers.MaxPooling2D(pool_size=(2,2)),\n",
        "    tf.keras.layers.Dropout(.25),\n",
        "    tf.keras.layers.Conv2D(196,(5,5)),\n",
        "    tf.keras.layers.Activation('relu'),    \n",
        "    tf.keras.layers.MaxPooling2D(pool_size=(2,2)),\n",
        "    tf.keras.layers.Dropout(.25),\n",
        "    tf.keras.layers.GlobalMaxPooling2D(),    \n",
        "    tf.keras.layers.Dense(512),\n",
        "    tf.keras.layers.Activation('relu'),\n",
        "    tf.keras.layers.Dropout(.25),\n",
        "    tf.keras.layers.Dense(128),\n",
        "    tf.keras.layers.Activation('relu'),\n",
        "    tf.keras.layers.Dropout(.25),\n",
        "    tf.keras.layers.Dense(num_classes,activation='softmax')\n",
        "])\n",
        "adv_config=nsl.configs\\\n",
        ".make_adv_reg_config(multiplier=.2,adv_step_size=.05)\n",
        "adv_model=nsl.keras\\\n",
        ".AdversarialRegularization(base_model,adv_config=adv_config)\n",
        "adv_model.compile(optimizer='adam',metrics=['accuracy'],\n",
        "                  loss='sparse_categorical_crossentropy')"
      ],
      "execution_count": 22,
      "outputs": []
    },
    {
      "cell_type": "code",
      "metadata": {
        "id": "P42mWexJnr_a",
        "colab": {
          "base_uri": "https://localhost:8080/"
        },
        "outputId": "349f6506-a07c-446d-cde5-6f8f155d5d58"
      },
      "source": [
        "history=adv_model.fit(\n",
        "    train,validation_data=valid,verbose=2,\n",
        "    validation_steps=valid_steps,\n",
        "    epochs=100,callbacks=cb(model_weights));"
      ],
      "execution_count": 23,
      "outputs": [
        {
          "output_type": "stream",
          "text": [
            "Epoch 1/100\n",
            "178/178 - 33s - loss: 3.3146 - sparse_categorical_crossentropy: 2.7622 - sparse_categorical_accuracy: 0.0754 - scaled_adversarial_loss: 0.5523 - val_loss: 3.2775 - val_sparse_categorical_crossentropy: 2.7310 - val_sparse_categorical_accuracy: 0.1108 - val_scaled_adversarial_loss: 0.5464\n",
            "\n",
            "Epoch 00001: val_sparse_categorical_accuracy improved from -inf to 0.11080, saving model to /checkpoints\n",
            "Epoch 2/100\n",
            "178/178 - 4s - loss: 3.2951 - sparse_categorical_crossentropy: 2.7455 - sparse_categorical_accuracy: 0.0790 - scaled_adversarial_loss: 0.5496 - val_loss: 3.2391 - val_sparse_categorical_crossentropy: 2.6988 - val_sparse_categorical_accuracy: 0.0824 - val_scaled_adversarial_loss: 0.5404\n",
            "\n",
            "Epoch 00002: val_sparse_categorical_accuracy did not improve from 0.11080\n",
            "Epoch 3/100\n",
            "178/178 - 4s - loss: 3.2753 - sparse_categorical_crossentropy: 2.7283 - sparse_categorical_accuracy: 0.0832 - scaled_adversarial_loss: 0.5470 - val_loss: 3.2010 - val_sparse_categorical_crossentropy: 2.6665 - val_sparse_categorical_accuracy: 0.1108 - val_scaled_adversarial_loss: 0.5345\n",
            "\n",
            "Epoch 00003: val_sparse_categorical_accuracy did not improve from 0.11080\n",
            "Epoch 4/100\n",
            "178/178 - 4s - loss: 3.2403 - sparse_categorical_crossentropy: 2.6999 - sparse_categorical_accuracy: 0.0920 - scaled_adversarial_loss: 0.5405 - val_loss: 3.1752 - val_sparse_categorical_crossentropy: 2.6445 - val_sparse_categorical_accuracy: 0.1193 - val_scaled_adversarial_loss: 0.5306\n",
            "\n",
            "Epoch 00004: val_sparse_categorical_accuracy improved from 0.11080 to 0.11932, saving model to /checkpoints\n",
            "Epoch 5/100\n",
            "178/178 - 4s - loss: 3.1632 - sparse_categorical_crossentropy: 2.6342 - sparse_categorical_accuracy: 0.1107 - scaled_adversarial_loss: 0.5290 - val_loss: 3.0864 - val_sparse_categorical_crossentropy: 2.5696 - val_sparse_categorical_accuracy: 0.1392 - val_scaled_adversarial_loss: 0.5168\n",
            "\n",
            "Epoch 00005: val_sparse_categorical_accuracy improved from 0.11932 to 0.13920, saving model to /checkpoints\n",
            "Epoch 6/100\n",
            "178/178 - 4s - loss: 3.0459 - sparse_categorical_crossentropy: 2.5347 - sparse_categorical_accuracy: 0.1399 - scaled_adversarial_loss: 0.5113 - val_loss: 3.0053 - val_sparse_categorical_crossentropy: 2.5002 - val_sparse_categorical_accuracy: 0.1335 - val_scaled_adversarial_loss: 0.5051\n",
            "\n",
            "Epoch 00006: val_sparse_categorical_accuracy did not improve from 0.13920\n",
            "Epoch 7/100\n",
            "178/178 - 4s - loss: 2.9044 - sparse_categorical_crossentropy: 2.4171 - sparse_categorical_accuracy: 0.1636 - scaled_adversarial_loss: 0.4873 - val_loss: 2.8522 - val_sparse_categorical_crossentropy: 2.3710 - val_sparse_categorical_accuracy: 0.1847 - val_scaled_adversarial_loss: 0.4812\n",
            "\n",
            "Epoch 00007: val_sparse_categorical_accuracy improved from 0.13920 to 0.18466, saving model to /checkpoints\n",
            "Epoch 8/100\n",
            "178/178 - 4s - loss: 2.7982 - sparse_categorical_crossentropy: 2.3267 - sparse_categorical_accuracy: 0.1935 - scaled_adversarial_loss: 0.4715 - val_loss: 2.7639 - val_sparse_categorical_crossentropy: 2.2968 - val_sparse_categorical_accuracy: 0.1960 - val_scaled_adversarial_loss: 0.4671\n",
            "\n",
            "Epoch 00008: val_sparse_categorical_accuracy improved from 0.18466 to 0.19602, saving model to /checkpoints\n",
            "Epoch 9/100\n",
            "178/178 - 4s - loss: 2.7002 - sparse_categorical_crossentropy: 2.2462 - sparse_categorical_accuracy: 0.2270 - scaled_adversarial_loss: 0.4540 - val_loss: 2.6777 - val_sparse_categorical_crossentropy: 2.2231 - val_sparse_categorical_accuracy: 0.2045 - val_scaled_adversarial_loss: 0.4546\n",
            "\n",
            "Epoch 00009: val_sparse_categorical_accuracy improved from 0.19602 to 0.20455, saving model to /checkpoints\n",
            "Epoch 10/100\n",
            "178/178 - 4s - loss: 2.5788 - sparse_categorical_crossentropy: 2.1452 - sparse_categorical_accuracy: 0.2637 - scaled_adversarial_loss: 0.4336 - val_loss: 2.7030 - val_sparse_categorical_crossentropy: 2.2412 - val_sparse_categorical_accuracy: 0.2358 - val_scaled_adversarial_loss: 0.4618\n",
            "\n",
            "Epoch 00010: val_sparse_categorical_accuracy improved from 0.20455 to 0.23580, saving model to /checkpoints\n",
            "Epoch 11/100\n",
            "178/178 - 4s - loss: 2.4935 - sparse_categorical_crossentropy: 2.0727 - sparse_categorical_accuracy: 0.2675 - scaled_adversarial_loss: 0.4209 - val_loss: 2.5656 - val_sparse_categorical_crossentropy: 2.1267 - val_sparse_categorical_accuracy: 0.2756 - val_scaled_adversarial_loss: 0.4389\n",
            "\n",
            "Epoch 00011: val_sparse_categorical_accuracy improved from 0.23580 to 0.27557, saving model to /checkpoints\n",
            "Epoch 12/100\n",
            "178/178 - 4s - loss: 2.3967 - sparse_categorical_crossentropy: 1.9944 - sparse_categorical_accuracy: 0.3035 - scaled_adversarial_loss: 0.4023 - val_loss: 2.4050 - val_sparse_categorical_crossentropy: 1.9914 - val_sparse_categorical_accuracy: 0.3409 - val_scaled_adversarial_loss: 0.4136\n",
            "\n",
            "Epoch 00012: val_sparse_categorical_accuracy improved from 0.27557 to 0.34091, saving model to /checkpoints\n",
            "Epoch 13/100\n",
            "178/178 - 4s - loss: 2.2919 - sparse_categorical_crossentropy: 1.9071 - sparse_categorical_accuracy: 0.3461 - scaled_adversarial_loss: 0.3848 - val_loss: 2.4725 - val_sparse_categorical_crossentropy: 2.0458 - val_sparse_categorical_accuracy: 0.3182 - val_scaled_adversarial_loss: 0.4266\n",
            "\n",
            "Epoch 00013: val_sparse_categorical_accuracy did not improve from 0.34091\n",
            "Epoch 14/100\n",
            "178/178 - 4s - loss: 2.2249 - sparse_categorical_crossentropy: 1.8521 - sparse_categorical_accuracy: 0.3564 - scaled_adversarial_loss: 0.3727 - val_loss: 2.3406 - val_sparse_categorical_crossentropy: 1.9335 - val_sparse_categorical_accuracy: 0.3608 - val_scaled_adversarial_loss: 0.4071\n",
            "\n",
            "Epoch 00014: val_sparse_categorical_accuracy improved from 0.34091 to 0.36080, saving model to /checkpoints\n",
            "Epoch 15/100\n",
            "178/178 - 4s - loss: 2.1297 - sparse_categorical_crossentropy: 1.7665 - sparse_categorical_accuracy: 0.3898 - scaled_adversarial_loss: 0.3632 - val_loss: 2.2287 - val_sparse_categorical_crossentropy: 1.8406 - val_sparse_categorical_accuracy: 0.3835 - val_scaled_adversarial_loss: 0.3881\n",
            "\n",
            "Epoch 00015: val_sparse_categorical_accuracy improved from 0.36080 to 0.38352, saving model to /checkpoints\n",
            "Epoch 16/100\n",
            "178/178 - 4s - loss: 2.0667 - sparse_categorical_crossentropy: 1.7163 - sparse_categorical_accuracy: 0.4022 - scaled_adversarial_loss: 0.3504 - val_loss: 2.2141 - val_sparse_categorical_crossentropy: 1.8266 - val_sparse_categorical_accuracy: 0.4062 - val_scaled_adversarial_loss: 0.3875\n",
            "\n",
            "Epoch 00016: val_sparse_categorical_accuracy improved from 0.38352 to 0.40625, saving model to /checkpoints\n",
            "Epoch 17/100\n",
            "178/178 - 4s - loss: 1.9966 - sparse_categorical_crossentropy: 1.6609 - sparse_categorical_accuracy: 0.4357 - scaled_adversarial_loss: 0.3358 - val_loss: 2.0637 - val_sparse_categorical_crossentropy: 1.7023 - val_sparse_categorical_accuracy: 0.4574 - val_scaled_adversarial_loss: 0.3614\n",
            "\n",
            "Epoch 00017: val_sparse_categorical_accuracy improved from 0.40625 to 0.45739, saving model to /checkpoints\n",
            "Epoch 18/100\n",
            "178/178 - 4s - loss: 1.8960 - sparse_categorical_crossentropy: 1.5714 - sparse_categorical_accuracy: 0.4554 - scaled_adversarial_loss: 0.3246 - val_loss: 2.2012 - val_sparse_categorical_crossentropy: 1.8139 - val_sparse_categorical_accuracy: 0.3949 - val_scaled_adversarial_loss: 0.3874\n",
            "\n",
            "Epoch 00018: val_sparse_categorical_accuracy did not improve from 0.45739\n",
            "Epoch 19/100\n",
            "178/178 - 4s - loss: 1.8500 - sparse_categorical_crossentropy: 1.5339 - sparse_categorical_accuracy: 0.4762 - scaled_adversarial_loss: 0.3161 - val_loss: 2.0813 - val_sparse_categorical_crossentropy: 1.7139 - val_sparse_categorical_accuracy: 0.4545 - val_scaled_adversarial_loss: 0.3674\n",
            "\n",
            "Epoch 00019: val_sparse_categorical_accuracy did not improve from 0.45739\n",
            "Epoch 20/100\n",
            "178/178 - 4s - loss: 1.7681 - sparse_categorical_crossentropy: 1.4665 - sparse_categorical_accuracy: 0.4984 - scaled_adversarial_loss: 0.3016 - val_loss: 2.0246 - val_sparse_categorical_crossentropy: 1.6658 - val_sparse_categorical_accuracy: 0.4347 - val_scaled_adversarial_loss: 0.3589\n",
            "\n",
            "Epoch 00020: val_sparse_categorical_accuracy did not improve from 0.45739\n",
            "Epoch 21/100\n",
            "178/178 - 4s - loss: 1.6963 - sparse_categorical_crossentropy: 1.4079 - sparse_categorical_accuracy: 0.5224 - scaled_adversarial_loss: 0.2883 - val_loss: 2.0289 - val_sparse_categorical_crossentropy: 1.6681 - val_sparse_categorical_accuracy: 0.4347 - val_scaled_adversarial_loss: 0.3609\n",
            "\n",
            "Epoch 00021: val_sparse_categorical_accuracy did not improve from 0.45739\n",
            "Epoch 22/100\n",
            "178/178 - 4s - loss: 1.6734 - sparse_categorical_crossentropy: 1.3835 - sparse_categorical_accuracy: 0.5160 - scaled_adversarial_loss: 0.2899 - val_loss: 2.0436 - val_sparse_categorical_crossentropy: 1.6799 - val_sparse_categorical_accuracy: 0.4233 - val_scaled_adversarial_loss: 0.3637\n",
            "\n",
            "Epoch 00022: val_sparse_categorical_accuracy did not improve from 0.45739\n",
            "Epoch 23/100\n",
            "178/178 - 4s - loss: 1.6598 - sparse_categorical_crossentropy: 1.3821 - sparse_categorical_accuracy: 0.5238 - scaled_adversarial_loss: 0.2778 - val_loss: 1.9187 - val_sparse_categorical_crossentropy: 1.5749 - val_sparse_categorical_accuracy: 0.4688 - val_scaled_adversarial_loss: 0.3438\n",
            "\n",
            "Epoch 00023: val_sparse_categorical_accuracy improved from 0.45739 to 0.46875, saving model to /checkpoints\n",
            "Epoch 24/100\n",
            "178/178 - 4s - loss: 1.5546 - sparse_categorical_crossentropy: 1.2917 - sparse_categorical_accuracy: 0.5594 - scaled_adversarial_loss: 0.2629 - val_loss: 1.8429 - val_sparse_categorical_crossentropy: 1.5114 - val_sparse_categorical_accuracy: 0.4886 - val_scaled_adversarial_loss: 0.3315\n",
            "\n",
            "Epoch 00024: val_sparse_categorical_accuracy improved from 0.46875 to 0.48864, saving model to /checkpoints\n",
            "Epoch 25/100\n",
            "178/178 - 4s - loss: 1.5235 - sparse_categorical_crossentropy: 1.2589 - sparse_categorical_accuracy: 0.5679 - scaled_adversarial_loss: 0.2646 - val_loss: 1.8643 - val_sparse_categorical_crossentropy: 1.5280 - val_sparse_categorical_accuracy: 0.4801 - val_scaled_adversarial_loss: 0.3362\n",
            "\n",
            "Epoch 00025: val_sparse_categorical_accuracy did not improve from 0.48864\n",
            "Epoch 26/100\n",
            "178/178 - 4s - loss: 1.4459 - sparse_categorical_crossentropy: 1.1942 - sparse_categorical_accuracy: 0.5971 - scaled_adversarial_loss: 0.2517 - val_loss: 1.7855 - val_sparse_categorical_crossentropy: 1.4606 - val_sparse_categorical_accuracy: 0.5170 - val_scaled_adversarial_loss: 0.3249\n",
            "\n",
            "Epoch 00026: val_sparse_categorical_accuracy improved from 0.48864 to 0.51705, saving model to /checkpoints\n",
            "Epoch 27/100\n",
            "178/178 - 4s - loss: 1.3990 - sparse_categorical_crossentropy: 1.1597 - sparse_categorical_accuracy: 0.6024 - scaled_adversarial_loss: 0.2392 - val_loss: 1.8899 - val_sparse_categorical_crossentropy: 1.5475 - val_sparse_categorical_accuracy: 0.4659 - val_scaled_adversarial_loss: 0.3423\n",
            "\n",
            "Epoch 00027: val_sparse_categorical_accuracy did not improve from 0.51705\n",
            "Epoch 28/100\n",
            "178/178 - 4s - loss: 1.3751 - sparse_categorical_crossentropy: 1.1383 - sparse_categorical_accuracy: 0.6119 - scaled_adversarial_loss: 0.2368 - val_loss: 1.7716 - val_sparse_categorical_crossentropy: 1.4487 - val_sparse_categorical_accuracy: 0.5000 - val_scaled_adversarial_loss: 0.3229\n",
            "\n",
            "Epoch 00028: val_sparse_categorical_accuracy did not improve from 0.51705\n",
            "Epoch 29/100\n",
            "178/178 - 4s - loss: 1.3543 - sparse_categorical_crossentropy: 1.1224 - sparse_categorical_accuracy: 0.6137 - scaled_adversarial_loss: 0.2319 - val_loss: 1.8125 - val_sparse_categorical_crossentropy: 1.4808 - val_sparse_categorical_accuracy: 0.4972 - val_scaled_adversarial_loss: 0.3317\n",
            "\n",
            "Epoch 00029: val_sparse_categorical_accuracy did not improve from 0.51705\n",
            "Epoch 30/100\n",
            "178/178 - 4s - loss: 1.3645 - sparse_categorical_crossentropy: 1.1353 - sparse_categorical_accuracy: 0.6105 - scaled_adversarial_loss: 0.2292 - val_loss: 1.7360 - val_sparse_categorical_crossentropy: 1.4170 - val_sparse_categorical_accuracy: 0.5227 - val_scaled_adversarial_loss: 0.3190\n",
            "\n",
            "Epoch 00030: val_sparse_categorical_accuracy improved from 0.51705 to 0.52273, saving model to /checkpoints\n",
            "Epoch 31/100\n",
            "178/178 - 4s - loss: 1.3078 - sparse_categorical_crossentropy: 1.0812 - sparse_categorical_accuracy: 0.6320 - scaled_adversarial_loss: 0.2265 - val_loss: 1.7964 - val_sparse_categorical_crossentropy: 1.4650 - val_sparse_categorical_accuracy: 0.5199 - val_scaled_adversarial_loss: 0.3314\n",
            "\n",
            "Epoch 00031: val_sparse_categorical_accuracy did not improve from 0.52273\n",
            "Epoch 32/100\n",
            "178/178 - 4s - loss: 1.2826 - sparse_categorical_crossentropy: 1.0658 - sparse_categorical_accuracy: 0.6235 - scaled_adversarial_loss: 0.2169 - val_loss: 1.7372 - val_sparse_categorical_crossentropy: 1.4186 - val_sparse_categorical_accuracy: 0.5199 - val_scaled_adversarial_loss: 0.3186\n",
            "\n",
            "Epoch 00032: val_sparse_categorical_accuracy did not improve from 0.52273\n",
            "Epoch 33/100\n",
            "178/178 - 4s - loss: 1.2058 - sparse_categorical_crossentropy: 1.0035 - sparse_categorical_accuracy: 0.6447 - scaled_adversarial_loss: 0.2024 - val_loss: 1.6630 - val_sparse_categorical_crossentropy: 1.3542 - val_sparse_categorical_accuracy: 0.5227 - val_scaled_adversarial_loss: 0.3089\n",
            "\n",
            "Epoch 00033: val_sparse_categorical_accuracy did not improve from 0.52273\n",
            "Epoch 34/100\n",
            "178/178 - 4s - loss: 1.1277 - sparse_categorical_crossentropy: 0.9290 - sparse_categorical_accuracy: 0.6824 - scaled_adversarial_loss: 0.1987 - val_loss: 1.6992 - val_sparse_categorical_crossentropy: 1.3828 - val_sparse_categorical_accuracy: 0.5398 - val_scaled_adversarial_loss: 0.3164\n",
            "\n",
            "Epoch 00034: val_sparse_categorical_accuracy improved from 0.52273 to 0.53977, saving model to /checkpoints\n",
            "Epoch 35/100\n",
            "178/178 - 4s - loss: 1.1710 - sparse_categorical_crossentropy: 0.9685 - sparse_categorical_accuracy: 0.6690 - scaled_adversarial_loss: 0.2025 - val_loss: 1.9065 - val_sparse_categorical_crossentropy: 1.5537 - val_sparse_categorical_accuracy: 0.5085 - val_scaled_adversarial_loss: 0.3528\n",
            "\n",
            "Epoch 00035: val_sparse_categorical_accuracy did not improve from 0.53977\n",
            "Epoch 36/100\n",
            "178/178 - 4s - loss: 1.1157 - sparse_categorical_crossentropy: 0.9234 - sparse_categorical_accuracy: 0.6859 - scaled_adversarial_loss: 0.1923 - val_loss: 1.6587 - val_sparse_categorical_crossentropy: 1.3488 - val_sparse_categorical_accuracy: 0.5625 - val_scaled_adversarial_loss: 0.3099\n",
            "\n",
            "Epoch 00036: val_sparse_categorical_accuracy improved from 0.53977 to 0.56250, saving model to /checkpoints\n",
            "Epoch 37/100\n",
            "178/178 - 4s - loss: 1.0743 - sparse_categorical_crossentropy: 0.8911 - sparse_categorical_accuracy: 0.7000 - scaled_adversarial_loss: 0.1832 - val_loss: 1.7215 - val_sparse_categorical_crossentropy: 1.3985 - val_sparse_categorical_accuracy: 0.5483 - val_scaled_adversarial_loss: 0.3230\n",
            "\n",
            "Epoch 00037: val_sparse_categorical_accuracy did not improve from 0.56250\n",
            "Epoch 38/100\n",
            "178/178 - 4s - loss: 1.1202 - sparse_categorical_crossentropy: 0.9235 - sparse_categorical_accuracy: 0.6799 - scaled_adversarial_loss: 0.1967 - val_loss: 1.7118 - val_sparse_categorical_crossentropy: 1.3935 - val_sparse_categorical_accuracy: 0.5284 - val_scaled_adversarial_loss: 0.3183\n",
            "\n",
            "Epoch 00038: val_sparse_categorical_accuracy did not improve from 0.56250\n",
            "Epoch 39/100\n",
            "178/178 - 4s - loss: 1.0819 - sparse_categorical_crossentropy: 0.8938 - sparse_categorical_accuracy: 0.7029 - scaled_adversarial_loss: 0.1881 - val_loss: 1.6316 - val_sparse_categorical_crossentropy: 1.3275 - val_sparse_categorical_accuracy: 0.5767 - val_scaled_adversarial_loss: 0.3041\n",
            "\n",
            "Epoch 00039: val_sparse_categorical_accuracy improved from 0.56250 to 0.57670, saving model to /checkpoints\n",
            "Epoch 40/100\n",
            "178/178 - 4s - loss: 1.0826 - sparse_categorical_crossentropy: 0.8947 - sparse_categorical_accuracy: 0.7022 - scaled_adversarial_loss: 0.1879 - val_loss: 1.7050 - val_sparse_categorical_crossentropy: 1.3838 - val_sparse_categorical_accuracy: 0.5511 - val_scaled_adversarial_loss: 0.3212\n",
            "\n",
            "Epoch 00040: val_sparse_categorical_accuracy did not improve from 0.57670\n",
            "Epoch 41/100\n",
            "178/178 - 4s - loss: 1.0049 - sparse_categorical_crossentropy: 0.8288 - sparse_categorical_accuracy: 0.7177 - scaled_adversarial_loss: 0.1761 - val_loss: 1.6678 - val_sparse_categorical_crossentropy: 1.3541 - val_sparse_categorical_accuracy: 0.5739 - val_scaled_adversarial_loss: 0.3137\n",
            "\n",
            "Epoch 00041: val_sparse_categorical_accuracy did not improve from 0.57670\n",
            "Epoch 42/100\n",
            "178/178 - 4s - loss: 0.9737 - sparse_categorical_crossentropy: 0.8003 - sparse_categorical_accuracy: 0.7388 - scaled_adversarial_loss: 0.1734 - val_loss: 1.6668 - val_sparse_categorical_crossentropy: 1.3538 - val_sparse_categorical_accuracy: 0.5795 - val_scaled_adversarial_loss: 0.3130\n",
            "\n",
            "Epoch 00042: val_sparse_categorical_accuracy improved from 0.57670 to 0.57955, saving model to /checkpoints\n",
            "Epoch 43/100\n",
            "178/178 - 4s - loss: 0.9656 - sparse_categorical_crossentropy: 0.8008 - sparse_categorical_accuracy: 0.7311 - scaled_adversarial_loss: 0.1648 - val_loss: 1.7112 - val_sparse_categorical_crossentropy: 1.3866 - val_sparse_categorical_accuracy: 0.5455 - val_scaled_adversarial_loss: 0.3246\n",
            "\n",
            "Epoch 00043: val_sparse_categorical_accuracy did not improve from 0.57955\n",
            "Epoch 44/100\n",
            "178/178 - 4s - loss: 0.9605 - sparse_categorical_crossentropy: 0.7907 - sparse_categorical_accuracy: 0.7321 - scaled_adversarial_loss: 0.1698 - val_loss: 1.6517 - val_sparse_categorical_crossentropy: 1.3394 - val_sparse_categorical_accuracy: 0.5795 - val_scaled_adversarial_loss: 0.3123\n",
            "\n",
            "Epoch 00044: val_sparse_categorical_accuracy did not improve from 0.57955\n",
            "Epoch 45/100\n",
            "178/178 - 4s - loss: 0.9480 - sparse_categorical_crossentropy: 0.7851 - sparse_categorical_accuracy: 0.7339 - scaled_adversarial_loss: 0.1629 - val_loss: 1.6356 - val_sparse_categorical_crossentropy: 1.3258 - val_sparse_categorical_accuracy: 0.5824 - val_scaled_adversarial_loss: 0.3097\n",
            "\n",
            "Epoch 00045: val_sparse_categorical_accuracy improved from 0.57955 to 0.58239, saving model to /checkpoints\n",
            "Epoch 46/100\n",
            "178/178 - 4s - loss: 0.8844 - sparse_categorical_crossentropy: 0.7282 - sparse_categorical_accuracy: 0.7466 - scaled_adversarial_loss: 0.1563 - val_loss: 1.6442 - val_sparse_categorical_crossentropy: 1.3320 - val_sparse_categorical_accuracy: 0.5852 - val_scaled_adversarial_loss: 0.3121\n",
            "\n",
            "Epoch 00046: val_sparse_categorical_accuracy improved from 0.58239 to 0.58523, saving model to /checkpoints\n",
            "Epoch 47/100\n",
            "178/178 - 4s - loss: 0.9025 - sparse_categorical_crossentropy: 0.7472 - sparse_categorical_accuracy: 0.7423 - scaled_adversarial_loss: 0.1553 - val_loss: 1.8243 - val_sparse_categorical_crossentropy: 1.4778 - val_sparse_categorical_accuracy: 0.5398 - val_scaled_adversarial_loss: 0.3465\n",
            "\n",
            "Epoch 00047: val_sparse_categorical_accuracy did not improve from 0.58523\n",
            "Epoch 48/100\n",
            "178/178 - 4s - loss: 0.9022 - sparse_categorical_crossentropy: 0.7458 - sparse_categorical_accuracy: 0.7508 - scaled_adversarial_loss: 0.1564 - val_loss: 1.7599 - val_sparse_categorical_crossentropy: 1.4212 - val_sparse_categorical_accuracy: 0.5625 - val_scaled_adversarial_loss: 0.3387\n",
            "\n",
            "Epoch 00048: val_sparse_categorical_accuracy did not improve from 0.58523\n",
            "Epoch 49/100\n",
            "178/178 - 4s - loss: 0.9408 - sparse_categorical_crossentropy: 0.7787 - sparse_categorical_accuracy: 0.7342 - scaled_adversarial_loss: 0.1622 - val_loss: 1.6392 - val_sparse_categorical_crossentropy: 1.3280 - val_sparse_categorical_accuracy: 0.5909 - val_scaled_adversarial_loss: 0.3112\n",
            "\n",
            "Epoch 00049: val_sparse_categorical_accuracy improved from 0.58523 to 0.59091, saving model to /checkpoints\n",
            "\n",
            "Epoch 00049: ReduceLROnPlateau reducing learning rate to 0.000800000037997961.\n",
            "Epoch 50/100\n",
            "178/178 - 4s - loss: 0.8015 - sparse_categorical_crossentropy: 0.6607 - sparse_categorical_accuracy: 0.7804 - scaled_adversarial_loss: 0.1408 - val_loss: 1.7582 - val_sparse_categorical_crossentropy: 1.4159 - val_sparse_categorical_accuracy: 0.5625 - val_scaled_adversarial_loss: 0.3423\n",
            "\n",
            "Epoch 00050: val_sparse_categorical_accuracy did not improve from 0.59091\n",
            "Epoch 51/100\n",
            "178/178 - 4s - loss: 0.7594 - sparse_categorical_crossentropy: 0.6245 - sparse_categorical_accuracy: 0.7843 - scaled_adversarial_loss: 0.1349 - val_loss: 1.6090 - val_sparse_categorical_crossentropy: 1.2966 - val_sparse_categorical_accuracy: 0.5994 - val_scaled_adversarial_loss: 0.3124\n",
            "\n",
            "Epoch 00051: val_sparse_categorical_accuracy improved from 0.59091 to 0.59943, saving model to /checkpoints\n",
            "Epoch 52/100\n",
            "178/178 - 4s - loss: 0.7835 - sparse_categorical_crossentropy: 0.6433 - sparse_categorical_accuracy: 0.7758 - scaled_adversarial_loss: 0.1402 - val_loss: 1.6117 - val_sparse_categorical_crossentropy: 1.2995 - val_sparse_categorical_accuracy: 0.5994 - val_scaled_adversarial_loss: 0.3122\n",
            "\n",
            "Epoch 00052: val_sparse_categorical_accuracy did not improve from 0.59943\n",
            "Epoch 53/100\n",
            "178/178 - 4s - loss: 0.7754 - sparse_categorical_crossentropy: 0.6425 - sparse_categorical_accuracy: 0.7804 - scaled_adversarial_loss: 0.1329 - val_loss: 1.6722 - val_sparse_categorical_crossentropy: 1.3486 - val_sparse_categorical_accuracy: 0.5881 - val_scaled_adversarial_loss: 0.3236\n",
            "\n",
            "Epoch 00053: val_sparse_categorical_accuracy did not improve from 0.59943\n",
            "Epoch 54/100\n",
            "178/178 - 4s - loss: 0.7203 - sparse_categorical_crossentropy: 0.5912 - sparse_categorical_accuracy: 0.7941 - scaled_adversarial_loss: 0.1291 - val_loss: 1.5927 - val_sparse_categorical_crossentropy: 1.2858 - val_sparse_categorical_accuracy: 0.5767 - val_scaled_adversarial_loss: 0.3069\n",
            "\n",
            "Epoch 00054: val_sparse_categorical_accuracy did not improve from 0.59943\n",
            "Epoch 55/100\n",
            "178/178 - 4s - loss: 0.6976 - sparse_categorical_crossentropy: 0.5707 - sparse_categorical_accuracy: 0.8079 - scaled_adversarial_loss: 0.1269 - val_loss: 1.6586 - val_sparse_categorical_crossentropy: 1.3390 - val_sparse_categorical_accuracy: 0.5795 - val_scaled_adversarial_loss: 0.3196\n",
            "\n",
            "Epoch 00055: val_sparse_categorical_accuracy did not improve from 0.59943\n",
            "Epoch 56/100\n",
            "178/178 - 4s - loss: 0.6846 - sparse_categorical_crossentropy: 0.5607 - sparse_categorical_accuracy: 0.8160 - scaled_adversarial_loss: 0.1240 - val_loss: 1.7914 - val_sparse_categorical_crossentropy: 1.4462 - val_sparse_categorical_accuracy: 0.5852 - val_scaled_adversarial_loss: 0.3452\n",
            "\n",
            "Epoch 00056: val_sparse_categorical_accuracy did not improve from 0.59943\n",
            "Epoch 57/100\n",
            "178/178 - 4s - loss: 0.7555 - sparse_categorical_crossentropy: 0.6247 - sparse_categorical_accuracy: 0.7903 - scaled_adversarial_loss: 0.1308 - val_loss: 1.8068 - val_sparse_categorical_crossentropy: 1.4575 - val_sparse_categorical_accuracy: 0.5653 - val_scaled_adversarial_loss: 0.3492\n",
            "\n",
            "Epoch 00057: val_sparse_categorical_accuracy did not improve from 0.59943\n",
            "Epoch 58/100\n",
            "178/178 - 4s - loss: 0.6684 - sparse_categorical_crossentropy: 0.5409 - sparse_categorical_accuracy: 0.8146 - scaled_adversarial_loss: 0.1276 - val_loss: 1.7140 - val_sparse_categorical_crossentropy: 1.3846 - val_sparse_categorical_accuracy: 0.6222 - val_scaled_adversarial_loss: 0.3294\n",
            "\n",
            "Epoch 00058: val_sparse_categorical_accuracy improved from 0.59943 to 0.62216, saving model to /checkpoints\n",
            "Epoch 59/100\n",
            "178/178 - 4s - loss: 0.7368 - sparse_categorical_crossentropy: 0.6047 - sparse_categorical_accuracy: 0.7945 - scaled_adversarial_loss: 0.1321 - val_loss: 1.5594 - val_sparse_categorical_crossentropy: 1.2547 - val_sparse_categorical_accuracy: 0.6222 - val_scaled_adversarial_loss: 0.3047\n",
            "\n",
            "Epoch 00059: val_sparse_categorical_accuracy did not improve from 0.62216\n",
            "\n",
            "Epoch 00059: ReduceLROnPlateau reducing learning rate to 0.0006400000303983689.\n",
            "Epoch 60/100\n",
            "178/178 - 4s - loss: 0.6491 - sparse_categorical_crossentropy: 0.5372 - sparse_categorical_accuracy: 0.8139 - scaled_adversarial_loss: 0.1119 - val_loss: 1.6584 - val_sparse_categorical_crossentropy: 1.3352 - val_sparse_categorical_accuracy: 0.5938 - val_scaled_adversarial_loss: 0.3232\n",
            "\n",
            "Epoch 00060: val_sparse_categorical_accuracy did not improve from 0.62216\n",
            "Epoch 61/100\n",
            "178/178 - 4s - loss: 0.6302 - sparse_categorical_crossentropy: 0.5199 - sparse_categorical_accuracy: 0.8164 - scaled_adversarial_loss: 0.1103 - val_loss: 1.6412 - val_sparse_categorical_crossentropy: 1.3238 - val_sparse_categorical_accuracy: 0.6080 - val_scaled_adversarial_loss: 0.3175\n",
            "\n",
            "Epoch 00061: val_sparse_categorical_accuracy did not improve from 0.62216\n",
            "Epoch 62/100\n",
            "178/178 - 4s - loss: 0.6501 - sparse_categorical_crossentropy: 0.5426 - sparse_categorical_accuracy: 0.8199 - scaled_adversarial_loss: 0.1075 - val_loss: 1.6231 - val_sparse_categorical_crossentropy: 1.3049 - val_sparse_categorical_accuracy: 0.6023 - val_scaled_adversarial_loss: 0.3182\n",
            "\n",
            "Epoch 00062: val_sparse_categorical_accuracy did not improve from 0.62216\n",
            "Epoch 63/100\n",
            "178/178 - 4s - loss: 0.5870 - sparse_categorical_crossentropy: 0.4822 - sparse_categorical_accuracy: 0.8375 - scaled_adversarial_loss: 0.1048 - val_loss: 1.5735 - val_sparse_categorical_crossentropy: 1.2666 - val_sparse_categorical_accuracy: 0.6307 - val_scaled_adversarial_loss: 0.3069\n",
            "\n",
            "Epoch 00063: val_sparse_categorical_accuracy improved from 0.62216 to 0.63068, saving model to /checkpoints\n",
            "Epoch 64/100\n",
            "178/178 - 4s - loss: 0.6097 - sparse_categorical_crossentropy: 0.5059 - sparse_categorical_accuracy: 0.8357 - scaled_adversarial_loss: 0.1038 - val_loss: 1.6531 - val_sparse_categorical_crossentropy: 1.3320 - val_sparse_categorical_accuracy: 0.6165 - val_scaled_adversarial_loss: 0.3211\n",
            "\n",
            "Epoch 00064: val_sparse_categorical_accuracy did not improve from 0.63068\n",
            "Epoch 65/100\n",
            "178/178 - 4s - loss: 0.5949 - sparse_categorical_crossentropy: 0.4888 - sparse_categorical_accuracy: 0.8417 - scaled_adversarial_loss: 0.1061 - val_loss: 1.6557 - val_sparse_categorical_crossentropy: 1.3327 - val_sparse_categorical_accuracy: 0.6278 - val_scaled_adversarial_loss: 0.3231\n",
            "\n",
            "Epoch 00065: val_sparse_categorical_accuracy did not improve from 0.63068\n",
            "Epoch 66/100\n",
            "178/178 - 4s - loss: 0.6196 - sparse_categorical_crossentropy: 0.5086 - sparse_categorical_accuracy: 0.8305 - scaled_adversarial_loss: 0.1110 - val_loss: 1.6379 - val_sparse_categorical_crossentropy: 1.3180 - val_sparse_categorical_accuracy: 0.6136 - val_scaled_adversarial_loss: 0.3199\n",
            "\n",
            "Epoch 00066: val_sparse_categorical_accuracy did not improve from 0.63068\n",
            "Epoch 67/100\n",
            "178/178 - 4s - loss: 0.5539 - sparse_categorical_crossentropy: 0.4573 - sparse_categorical_accuracy: 0.8467 - scaled_adversarial_loss: 0.0966 - val_loss: 1.6921 - val_sparse_categorical_crossentropy: 1.3616 - val_sparse_categorical_accuracy: 0.6250 - val_scaled_adversarial_loss: 0.3305\n",
            "\n",
            "Epoch 00067: val_sparse_categorical_accuracy did not improve from 0.63068\n",
            "Epoch 68/100\n",
            "178/178 - 4s - loss: 0.5659 - sparse_categorical_crossentropy: 0.4640 - sparse_categorical_accuracy: 0.8407 - scaled_adversarial_loss: 0.1019 - val_loss: 1.5782 - val_sparse_categorical_crossentropy: 1.2658 - val_sparse_categorical_accuracy: 0.6449 - val_scaled_adversarial_loss: 0.3124\n",
            "\n",
            "Epoch 00068: val_sparse_categorical_accuracy improved from 0.63068 to 0.64489, saving model to /checkpoints\n",
            "Epoch 69/100\n",
            "178/178 - 4s - loss: 0.5193 - sparse_categorical_crossentropy: 0.4211 - sparse_categorical_accuracy: 0.8541 - scaled_adversarial_loss: 0.0982 - val_loss: 1.6038 - val_sparse_categorical_crossentropy: 1.2885 - val_sparse_categorical_accuracy: 0.6193 - val_scaled_adversarial_loss: 0.3154\n",
            "\n",
            "Epoch 00069: val_sparse_categorical_accuracy did not improve from 0.64489\n",
            "\n",
            "Epoch 00069: ReduceLROnPlateau reducing learning rate to 0.0005120000336319208.\n",
            "Epoch 70/100\n",
            "178/178 - 4s - loss: 0.5381 - sparse_categorical_crossentropy: 0.4372 - sparse_categorical_accuracy: 0.8509 - scaled_adversarial_loss: 0.1009 - val_loss: 1.6099 - val_sparse_categorical_crossentropy: 1.2944 - val_sparse_categorical_accuracy: 0.6193 - val_scaled_adversarial_loss: 0.3155\n",
            "\n",
            "Epoch 00070: val_sparse_categorical_accuracy did not improve from 0.64489\n",
            "Epoch 71/100\n",
            "178/178 - 4s - loss: 0.4878 - sparse_categorical_crossentropy: 0.4018 - sparse_categorical_accuracy: 0.8654 - scaled_adversarial_loss: 0.0860 - val_loss: 1.6004 - val_sparse_categorical_crossentropy: 1.2845 - val_sparse_categorical_accuracy: 0.6307 - val_scaled_adversarial_loss: 0.3159\n",
            "\n",
            "Epoch 00071: val_sparse_categorical_accuracy did not improve from 0.64489\n",
            "Epoch 72/100\n",
            "178/178 - 4s - loss: 0.4914 - sparse_categorical_crossentropy: 0.4056 - sparse_categorical_accuracy: 0.8579 - scaled_adversarial_loss: 0.0858 - val_loss: 1.6843 - val_sparse_categorical_crossentropy: 1.3558 - val_sparse_categorical_accuracy: 0.6193 - val_scaled_adversarial_loss: 0.3285\n",
            "\n",
            "Epoch 00072: val_sparse_categorical_accuracy did not improve from 0.64489\n",
            "Epoch 73/100\n",
            "178/178 - 4s - loss: 0.4967 - sparse_categorical_crossentropy: 0.4096 - sparse_categorical_accuracy: 0.8594 - scaled_adversarial_loss: 0.0870 - val_loss: 1.6938 - val_sparse_categorical_crossentropy: 1.3605 - val_sparse_categorical_accuracy: 0.6250 - val_scaled_adversarial_loss: 0.3333\n",
            "\n",
            "Epoch 00073: val_sparse_categorical_accuracy did not improve from 0.64489\n",
            "Epoch 74/100\n",
            "178/178 - 4s - loss: 0.5317 - sparse_categorical_crossentropy: 0.4431 - sparse_categorical_accuracy: 0.8530 - scaled_adversarial_loss: 0.0886 - val_loss: 1.6122 - val_sparse_categorical_crossentropy: 1.2956 - val_sparse_categorical_accuracy: 0.6420 - val_scaled_adversarial_loss: 0.3167\n",
            "\n",
            "Epoch 00074: val_sparse_categorical_accuracy did not improve from 0.64489\n",
            "Epoch 75/100\n",
            "178/178 - 4s - loss: 0.4572 - sparse_categorical_crossentropy: 0.3711 - sparse_categorical_accuracy: 0.8671 - scaled_adversarial_loss: 0.0861 - val_loss: 1.7201 - val_sparse_categorical_crossentropy: 1.3822 - val_sparse_categorical_accuracy: 0.6193 - val_scaled_adversarial_loss: 0.3380\n",
            "\n",
            "Epoch 00075: val_sparse_categorical_accuracy did not improve from 0.64489\n",
            "Epoch 76/100\n",
            "178/178 - 4s - loss: 0.4911 - sparse_categorical_crossentropy: 0.4051 - sparse_categorical_accuracy: 0.8699 - scaled_adversarial_loss: 0.0861 - val_loss: 1.6239 - val_sparse_categorical_crossentropy: 1.3015 - val_sparse_categorical_accuracy: 0.6250 - val_scaled_adversarial_loss: 0.3224\n",
            "\n",
            "Epoch 00076: val_sparse_categorical_accuracy did not improve from 0.64489\n",
            "Epoch 77/100\n",
            "178/178 - 4s - loss: 0.4856 - sparse_categorical_crossentropy: 0.4034 - sparse_categorical_accuracy: 0.8643 - scaled_adversarial_loss: 0.0823 - val_loss: 1.6977 - val_sparse_categorical_crossentropy: 1.3641 - val_sparse_categorical_accuracy: 0.6136 - val_scaled_adversarial_loss: 0.3335\n",
            "\n",
            "Epoch 00077: val_sparse_categorical_accuracy did not improve from 0.64489\n",
            "Epoch 78/100\n",
            "178/178 - 4s - loss: 0.4829 - sparse_categorical_crossentropy: 0.3965 - sparse_categorical_accuracy: 0.8636 - scaled_adversarial_loss: 0.0863 - val_loss: 1.6928 - val_sparse_categorical_crossentropy: 1.3607 - val_sparse_categorical_accuracy: 0.6278 - val_scaled_adversarial_loss: 0.3321\n",
            "\n",
            "Epoch 00078: val_sparse_categorical_accuracy did not improve from 0.64489\n",
            "Epoch 79/100\n",
            "178/178 - 4s - loss: 0.4870 - sparse_categorical_crossentropy: 0.4040 - sparse_categorical_accuracy: 0.8583 - scaled_adversarial_loss: 0.0829 - val_loss: 1.7603 - val_sparse_categorical_crossentropy: 1.4171 - val_sparse_categorical_accuracy: 0.6307 - val_scaled_adversarial_loss: 0.3432\n",
            "\n",
            "Epoch 00079: val_sparse_categorical_accuracy did not improve from 0.64489\n",
            "\n",
            "Epoch 00079: ReduceLROnPlateau reducing learning rate to 0.00040960004553198815.\n",
            "Epoch 80/100\n",
            "178/178 - 4s - loss: 0.4386 - sparse_categorical_crossentropy: 0.3587 - sparse_categorical_accuracy: 0.8795 - scaled_adversarial_loss: 0.0799 - val_loss: 1.6227 - val_sparse_categorical_crossentropy: 1.3028 - val_sparse_categorical_accuracy: 0.6534 - val_scaled_adversarial_loss: 0.3199\n",
            "\n",
            "Epoch 00080: val_sparse_categorical_accuracy improved from 0.64489 to 0.65341, saving model to /checkpoints\n",
            "Epoch 81/100\n",
            "178/178 - 4s - loss: 0.4342 - sparse_categorical_crossentropy: 0.3582 - sparse_categorical_accuracy: 0.8826 - scaled_adversarial_loss: 0.0760 - val_loss: 1.6505 - val_sparse_categorical_crossentropy: 1.3240 - val_sparse_categorical_accuracy: 0.6392 - val_scaled_adversarial_loss: 0.3266\n",
            "\n",
            "Epoch 00081: val_sparse_categorical_accuracy did not improve from 0.65341\n",
            "Epoch 82/100\n",
            "178/178 - 4s - loss: 0.4523 - sparse_categorical_crossentropy: 0.3723 - sparse_categorical_accuracy: 0.8717 - scaled_adversarial_loss: 0.0800 - val_loss: 1.8126 - val_sparse_categorical_crossentropy: 1.4576 - val_sparse_categorical_accuracy: 0.6307 - val_scaled_adversarial_loss: 0.3550\n",
            "\n",
            "Epoch 00082: val_sparse_categorical_accuracy did not improve from 0.65341\n",
            "Epoch 83/100\n",
            "178/178 - 4s - loss: 0.4121 - sparse_categorical_crossentropy: 0.3406 - sparse_categorical_accuracy: 0.8787 - scaled_adversarial_loss: 0.0715 - val_loss: 1.6573 - val_sparse_categorical_crossentropy: 1.3235 - val_sparse_categorical_accuracy: 0.6392 - val_scaled_adversarial_loss: 0.3338\n",
            "\n",
            "Epoch 00083: val_sparse_categorical_accuracy did not improve from 0.65341\n",
            "Epoch 84/100\n",
            "178/178 - 4s - loss: 0.3861 - sparse_categorical_crossentropy: 0.3104 - sparse_categorical_accuracy: 0.9002 - scaled_adversarial_loss: 0.0757 - val_loss: 1.7055 - val_sparse_categorical_crossentropy: 1.3663 - val_sparse_categorical_accuracy: 0.6392 - val_scaled_adversarial_loss: 0.3392\n",
            "\n",
            "Epoch 00084: val_sparse_categorical_accuracy did not improve from 0.65341\n",
            "Epoch 85/100\n",
            "178/178 - 4s - loss: 0.4102 - sparse_categorical_crossentropy: 0.3380 - sparse_categorical_accuracy: 0.8802 - scaled_adversarial_loss: 0.0722 - val_loss: 1.6700 - val_sparse_categorical_crossentropy: 1.3395 - val_sparse_categorical_accuracy: 0.6477 - val_scaled_adversarial_loss: 0.3306\n",
            "\n",
            "Epoch 00085: val_sparse_categorical_accuracy did not improve from 0.65341\n",
            "Epoch 86/100\n",
            "178/178 - 4s - loss: 0.3864 - sparse_categorical_crossentropy: 0.3132 - sparse_categorical_accuracy: 0.8985 - scaled_adversarial_loss: 0.0732 - val_loss: 1.7012 - val_sparse_categorical_crossentropy: 1.3622 - val_sparse_categorical_accuracy: 0.6506 - val_scaled_adversarial_loss: 0.3390\n",
            "\n",
            "Epoch 00086: val_sparse_categorical_accuracy did not improve from 0.65341\n",
            "Epoch 87/100\n",
            "178/178 - 4s - loss: 0.4010 - sparse_categorical_crossentropy: 0.3298 - sparse_categorical_accuracy: 0.8854 - scaled_adversarial_loss: 0.0712 - val_loss: 1.7092 - val_sparse_categorical_crossentropy: 1.3676 - val_sparse_categorical_accuracy: 0.6165 - val_scaled_adversarial_loss: 0.3416\n",
            "\n",
            "Epoch 00087: val_sparse_categorical_accuracy did not improve from 0.65341\n",
            "Epoch 88/100\n",
            "178/178 - 4s - loss: 0.3896 - sparse_categorical_crossentropy: 0.3134 - sparse_categorical_accuracy: 0.8897 - scaled_adversarial_loss: 0.0761 - val_loss: 1.8392 - val_sparse_categorical_crossentropy: 1.4766 - val_sparse_categorical_accuracy: 0.6250 - val_scaled_adversarial_loss: 0.3626\n",
            "\n",
            "Epoch 00088: val_sparse_categorical_accuracy did not improve from 0.65341\n",
            "Epoch 89/100\n",
            "178/178 - 4s - loss: 0.4007 - sparse_categorical_crossentropy: 0.3294 - sparse_categorical_accuracy: 0.8932 - scaled_adversarial_loss: 0.0713 - val_loss: 1.7109 - val_sparse_categorical_crossentropy: 1.3734 - val_sparse_categorical_accuracy: 0.6364 - val_scaled_adversarial_loss: 0.3375\n",
            "\n",
            "Epoch 00089: val_sparse_categorical_accuracy did not improve from 0.65341\n",
            "\n",
            "Epoch 00089: ReduceLROnPlateau reducing learning rate to 0.00032768002711236477.\n",
            "Epoch 90/100\n",
            "178/178 - 4s - loss: 0.3942 - sparse_categorical_crossentropy: 0.3249 - sparse_categorical_accuracy: 0.8939 - scaled_adversarial_loss: 0.0693 - val_loss: 1.7096 - val_sparse_categorical_crossentropy: 1.3703 - val_sparse_categorical_accuracy: 0.6307 - val_scaled_adversarial_loss: 0.3393\n",
            "\n",
            "Epoch 00090: val_sparse_categorical_accuracy did not improve from 0.65341\n",
            "Epoch 91/100\n",
            "178/178 - 4s - loss: 0.3701 - sparse_categorical_crossentropy: 0.3074 - sparse_categorical_accuracy: 0.8939 - scaled_adversarial_loss: 0.0628 - val_loss: 1.7630 - val_sparse_categorical_crossentropy: 1.4130 - val_sparse_categorical_accuracy: 0.6420 - val_scaled_adversarial_loss: 0.3500\n",
            "\n",
            "Epoch 00091: val_sparse_categorical_accuracy did not improve from 0.65341\n",
            "Epoch 92/100\n",
            "178/178 - 4s - loss: 0.3937 - sparse_categorical_crossentropy: 0.3288 - sparse_categorical_accuracy: 0.8904 - scaled_adversarial_loss: 0.0650 - val_loss: 1.6755 - val_sparse_categorical_crossentropy: 1.3427 - val_sparse_categorical_accuracy: 0.6506 - val_scaled_adversarial_loss: 0.3327\n",
            "\n",
            "Epoch 00092: val_sparse_categorical_accuracy did not improve from 0.65341\n",
            "Epoch 93/100\n",
            "178/178 - 4s - loss: 0.3896 - sparse_categorical_crossentropy: 0.3252 - sparse_categorical_accuracy: 0.8897 - scaled_adversarial_loss: 0.0644 - val_loss: 1.7024 - val_sparse_categorical_crossentropy: 1.3646 - val_sparse_categorical_accuracy: 0.6477 - val_scaled_adversarial_loss: 0.3378\n",
            "\n",
            "Epoch 00093: val_sparse_categorical_accuracy did not improve from 0.65341\n",
            "Epoch 94/100\n",
            "178/178 - 4s - loss: 0.3575 - sparse_categorical_crossentropy: 0.2925 - sparse_categorical_accuracy: 0.9024 - scaled_adversarial_loss: 0.0651 - val_loss: 1.7931 - val_sparse_categorical_crossentropy: 1.4369 - val_sparse_categorical_accuracy: 0.6364 - val_scaled_adversarial_loss: 0.3562\n",
            "\n",
            "Epoch 00094: val_sparse_categorical_accuracy did not improve from 0.65341\n",
            "Epoch 95/100\n",
            "178/178 - 4s - loss: 0.3555 - sparse_categorical_crossentropy: 0.2905 - sparse_categorical_accuracy: 0.9115 - scaled_adversarial_loss: 0.0650 - val_loss: 1.7210 - val_sparse_categorical_crossentropy: 1.3777 - val_sparse_categorical_accuracy: 0.6392 - val_scaled_adversarial_loss: 0.3433\n",
            "\n",
            "Epoch 00095: val_sparse_categorical_accuracy did not improve from 0.65341\n",
            "Epoch 96/100\n",
            "178/178 - 4s - loss: 0.3280 - sparse_categorical_crossentropy: 0.2610 - sparse_categorical_accuracy: 0.9091 - scaled_adversarial_loss: 0.0670 - val_loss: 1.7884 - val_sparse_categorical_crossentropy: 1.4311 - val_sparse_categorical_accuracy: 0.6307 - val_scaled_adversarial_loss: 0.3573\n",
            "\n",
            "Epoch 00096: val_sparse_categorical_accuracy did not improve from 0.65341\n",
            "Epoch 97/100\n",
            "178/178 - 4s - loss: 0.3227 - sparse_categorical_crossentropy: 0.2686 - sparse_categorical_accuracy: 0.9062 - scaled_adversarial_loss: 0.0541 - val_loss: 1.7824 - val_sparse_categorical_crossentropy: 1.4279 - val_sparse_categorical_accuracy: 0.6477 - val_scaled_adversarial_loss: 0.3545\n",
            "\n",
            "Epoch 00097: val_sparse_categorical_accuracy did not improve from 0.65341\n",
            "Epoch 98/100\n",
            "178/178 - 4s - loss: 0.3355 - sparse_categorical_crossentropy: 0.2747 - sparse_categorical_accuracy: 0.9048 - scaled_adversarial_loss: 0.0607 - val_loss: 1.8048 - val_sparse_categorical_crossentropy: 1.4443 - val_sparse_categorical_accuracy: 0.6278 - val_scaled_adversarial_loss: 0.3605\n",
            "\n",
            "Epoch 00098: val_sparse_categorical_accuracy did not improve from 0.65341\n",
            "Epoch 99/100\n",
            "178/178 - 4s - loss: 0.3423 - sparse_categorical_crossentropy: 0.2792 - sparse_categorical_accuracy: 0.9069 - scaled_adversarial_loss: 0.0632 - val_loss: 1.8145 - val_sparse_categorical_crossentropy: 1.4493 - val_sparse_categorical_accuracy: 0.6420 - val_scaled_adversarial_loss: 0.3653\n",
            "\n",
            "Epoch 00099: val_sparse_categorical_accuracy did not improve from 0.65341\n",
            "\n",
            "Epoch 00099: ReduceLROnPlateau reducing learning rate to 0.0002621440216898918.\n",
            "Epoch 100/100\n",
            "178/178 - 4s - loss: 0.3201 - sparse_categorical_crossentropy: 0.2620 - sparse_categorical_accuracy: 0.9112 - scaled_adversarial_loss: 0.0581 - val_loss: 1.8691 - val_sparse_categorical_crossentropy: 1.4966 - val_sparse_categorical_accuracy: 0.6278 - val_scaled_adversarial_loss: 0.3725\n",
            "\n",
            "Epoch 00100: val_sparse_categorical_accuracy did not improve from 0.65341\n",
            "Epoch 00100: early stopping\n"
          ],
          "name": "stdout"
        }
      ]
    },
    {
      "cell_type": "code",
      "metadata": {
        "id": "DyNRoZLsBwsv",
        "colab": {
          "base_uri": "https://localhost:8080/",
          "height": 657
        },
        "outputId": "50048f11-5a4a-46d6-a7e5-10bc228bd7ab"
      },
      "source": [
        "keras_history_plot(history)"
      ],
      "execution_count": 24,
      "outputs": [
        {
          "output_type": "display_data",
          "data": {
            "image/png": "[encoded data removed]",
            "text/plain": [
              "<Figure size 648x648 with 3 Axes>"
            ]
          },
          "metadata": {
            "tags": [],
            "needs_background": "light"
          }
        }
      ]
    },
    {
      "cell_type": "code",
      "metadata": {
        "id": "AsRQQp0kn7vS",
        "colab": {
          "base_uri": "https://localhost:8080/"
        },
        "outputId": "fa764285-44a0-4bbc-83b2-0f257752bdf5"
      },
      "source": [
        "adv_model.load_weights(model_weights)\n",
        "dict(zip(adv_model.metrics_names,adv_model.evaluate(\n",
        "    {'input':x_test,\n",
        "     'label':np.array(y_test[1],dtype='float32')},\n",
        "     verbose=0)))"
      ],
      "execution_count": 25,
      "outputs": [
        {
          "output_type": "execute_result",
          "data": {
            "text/plain": [
              "{'loss': 1.4109368324279785,\n",
              " 'scaled_adversarial_loss': 0.28080418705940247,\n",
              " 'sparse_categorical_accuracy': 0.6581920981407166,\n",
              " 'sparse_categorical_crossentropy': 1.1301326751708984}"
            ]
          },
          "metadata": {
            "tags": []
          },
          "execution_count": 25
        }
      ]
    }
  ]
}