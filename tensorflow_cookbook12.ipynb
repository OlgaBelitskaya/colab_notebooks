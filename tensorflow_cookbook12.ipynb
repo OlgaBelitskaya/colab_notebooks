{
  "nbformat": 4,
  "nbformat_minor": 0,
  "metadata": {
    "accelerator": "GPU",
    "colab": {
      "name": "tensorflow_cookbook12.ipynb",
      "provenance": [],
      "collapsed_sections": []
    },
    "kernelspec": {
      "display_name": "Python 3",
      "name": "python3"
    }
  },
  "cells": [
    {
      "cell_type": "code",
      "metadata": {
        "cellView": "form",
        "id": "qSRex4LmRtSp"
      },
      "source": [
        "#@title Code Lines with Header Styling\n",
        "from IPython.display import display,HTML\n",
        "from IPython.core.magic import register_line_magic\n",
        "@register_line_magic\n",
        "def cmap_header(params):\n",
        "    params=params.split('|'); string=params[0]\n",
        "    if len(params)==1: \n",
        "        font_size='30'; font_family='Smokum'; cmap='Sinebow'\n",
        "    elif  len(params)==2: \n",
        "        font_size=params[1]; font_family='Smokum'; cmap='Sinebow'\n",
        "    elif  len(params)==3: \n",
        "        font_size=params[1]; font_family=params[2]; cmap='Sinebow'\n",
        "    else: \n",
        "        font_size=params[1]; font_family=params[2]; cmap=params[3]\n",
        "    html_str=\"\"\"\n",
        "    <head><script src='https://d3js.org/d3.v6.min.js'></script></head>\n",
        "    <style>@import 'https://fonts.googleapis.com/css?family=\"\"\"+\\\n",
        "    font_family+\"\"\"&effect=3d'; #colorized {font-family:\"\"\"+font_family+\"\"\"; \n",
        "    color:white; padding-left:10px; font-size:\"\"\"+font_size+\"\"\"px;}</style>\n",
        "    <h1 id='colorized' class='font-effect-3d'>\"\"\"+string+\"\"\"</h1>\n",
        "    <script>\n",
        "    var tc=setInterval(function(){\n",
        "        var now=new Date().getTime();\n",
        "        var iddoc=document.getElementById('colorized');\n",
        "        iddoc.style.color=d3.interpolate\"\"\"+cmap+\"\"\"(now%(60000)/60000);},1)\n",
        "    </script>\"\"\"\n",
        "    display(HTML(html_str))"
      ],
      "execution_count": 25,
      "outputs": []
    },
    {
      "cell_type": "code",
      "metadata": {
        "id": "hrflL_XER9Xh",
        "colab": {
          "base_uri": "https://localhost:8080/",
          "height": 78
        },
        "outputId": "880210bb-3223-4c23-dcb6-b6c85bf81bcd"
      },
      "source": [
        "%cmap_header Code Modules, Settings & Functions"
      ],
      "execution_count": 26,
      "outputs": [
        {
          "output_type": "display_data",
          "data": {
            "text/html": [
              "\n",
              "    <head><script src='https://d3js.org/d3.v6.min.js'></script></head>\n",
              "    <style>@import 'https://fonts.googleapis.com/css?family=Smokum&effect=3d'; #colorized {font-family:Smokum; \n",
              "    color:white; padding-left:10px; font-size:30px;}</style>\n",
              "    <h1 id='colorized' class='font-effect-3d'>Code Modules, Settings & Functions</h1>\n",
              "    <script>\n",
              "    var tc=setInterval(function(){\n",
              "        var now=new Date().getTime();\n",
              "        var iddoc=document.getElementById('colorized');\n",
              "        iddoc.style.color=d3.interpolateSinebow(now%(60000)/60000);},1)\n",
              "    </script>"
            ],
            "text/plain": [
              "<IPython.core.display.HTML object>"
            ]
          },
          "metadata": {
            "tags": []
          }
        }
      ]
    },
    {
      "cell_type": "code",
      "metadata": {
        "id": "cDLRAwpVt4P-"
      },
      "source": [
        "!python3 -m pip install --upgrade pip \\\n",
        "--user --quiet --no-warn-script-location\n",
        "!python3 -m pip install --upgrade \\\n",
        "neural_structured_learning --user --quiet "
      ],
      "execution_count": 27,
      "outputs": []
    },
    {
      "cell_type": "code",
      "metadata": {
        "id": "hwPMAzTEOxYR"
      },
      "source": [
        "import os,h5py,urllib,pandas as pd,numpy as np\n",
        "import tensorflow as tf,pylab as pl,seaborn as sn\n",
        "import neural_structured_learning as nsl\n",
        "import tensorflow.keras.layers as tkl\n",
        "import tensorflow.keras.callbacks as tkc\n",
        "file_path='https://raw.githubusercontent.com/'+\\\n",
        "          'OlgaBelitskaya/data_kitchen/main/'\n",
        "file_name='Pictograms64.h5'\n",
        "img_size=64\n",
        "model_weights='/checkpoints'"
      ],
      "execution_count": 28,
      "outputs": []
    },
    {
      "cell_type": "code",
      "metadata": {
        "id": "PKhux-lh2YEP"
      },
      "source": [
        "def pd_style():\n",
        "    return [dict(selector='th',\n",
        "                 props=[('font-size','12pt'),('min-width','150px')]),\n",
        "            dict(selector='td',\n",
        "                 props=[('padding','0em 0em'),('min-width','150px')]),\n",
        "            dict(selector='tr:hover th:hover',\n",
        "                 props=[('font-size','14pt'),('max-width','150px'),\n",
        "                        ('text-shadow','3px 3px 3px #aaa')]),\n",
        "            dict(selector='tr:hover td:hover',\n",
        "                 props=[('font-size','12pt'),('max-width','150px'),\n",
        "                        ('text-shadow','3px 3px 3px #aaa')])]"
      ],
      "execution_count": 29,
      "outputs": []
    },
    {
      "cell_type": "code",
      "metadata": {
        "id": "Vsew-EBLSntR"
      },
      "source": [
        "def h5file2data(h5file,img_size,\n",
        "                resize=True,cmap='tab20',fig_size=7):\n",
        "    with h5py.File(h5file,'r') as f:\n",
        "        keys=list(f.keys()); print('file keys: '+', '.join(keys))\n",
        "        images=np.array(f[keys[int(0)]],dtype='float32')\n",
        "        labels=np.array(f[keys[int(1)]])\n",
        "        names=[[el.decode('utf-8') for el in f[keys[i]]]\n",
        "               for i in range(2,len(keys))]\n",
        "        f.close()\n",
        "    N=images.shape[0]; n=int(.1*N)\n",
        "    if resize:\n",
        "        images=tf.image.resize(images,[img_size,img_size]).numpy()\n",
        "    shuffle_ids=np.arange(N)\n",
        "    np.random.RandomState(12).shuffle(shuffle_ids)\n",
        "    images=images[shuffle_ids]\n",
        "    labels=np.array([labels[i][shuffle_ids] \n",
        "                     for i in range(labels.shape[0])])\n",
        "    x_test,x_valid,x_train=images[:n],images[n:2*n],images[2*n:]\n",
        "    y_test,y_valid,y_train=labels[:,:n],labels[:,n:2*n],labels[:,2*n:]\n",
        "    df=pd.DataFrame(\n",
        "        [[x_train.shape,x_valid.shape,x_test.shape],\n",
        "         [x_train.dtype,x_valid.dtype,x_test.dtype],\n",
        "         [y_train.shape,y_valid.shape,y_test.shape],\n",
        "         [y_train.dtype,y_valid.dtype,y_test.dtype]],\n",
        "        columns=['train','valid','test'],\n",
        "        index=['image shape','image type','label shape','label type'])\n",
        "    print('data outputs: ')\n",
        "    display(df.style.set_table_styles(pd_style()))\n",
        "    print('distribution of labels: ')\n",
        "    idx=['labels %d'%(i+1) for i in range(labels.shape[0])]\n",
        "    df=pd.DataFrame(labels,index=idx).T\n",
        "    for i in range(labels.shape[0]):\n",
        "        df['name %d'%(i+1)]=[names[i][l] for l in labels[i]]\n",
        "    fig=pl.figure(figsize=(1.5*fig_size,fig_size))    \n",
        "    for i in range(labels.shape[0]):\n",
        "        ax=fig.add_subplot(labels.shape[0],1,i+1)\n",
        "        sn.countplot(x='name %s'%(i+1),data=df,palette=cmap,alpha=.5,ax=ax)\n",
        "    pl.tight_layout(); pl.show()       \n",
        "    return [names,x_train,x_valid,x_test,y_train,y_valid,y_test]"
      ],
      "execution_count": 30,
      "outputs": []
    },
    {
      "cell_type": "code",
      "metadata": {
        "id": "RIk7hlqbTzqw"
      },
      "source": [
        "def display_images(images,labels,names,n):\n",
        "    fig=pl.figure(figsize=(9,n/2))\n",
        "    randch=np.random.choice(images.shape[0],size=n,replace=False)\n",
        "    for i,idx in enumerate(randch):\n",
        "        ax=fig.add_subplot(int(n//5)+1,5,i+1,xticks=[],yticks=[])\n",
        "        ax.imshow(images[idx],cmap='bone')\n",
        "        label=[labels[:,idx]]\n",
        "        name=[names[i][labels[i][idx]] \n",
        "              for i in range(labels.shape[0])]\n",
        "        ti='{} \\n {}'.format(str(label),str(name))\n",
        "        ax.set_title(ti,fontsize=8)\n",
        "    pl.tight_layout(); pl.show()"
      ],
      "execution_count": 31,
      "outputs": []
    },
    {
      "cell_type": "code",
      "metadata": {
        "id": "zp8JWWzwwwkC"
      },
      "source": [
        "def cb(mw):\n",
        "    early_stopping=tf.keras.callbacks.EarlyStopping(\n",
        "        monitor='val_sparse_categorical_accuracy',\n",
        "        patience=20,verbose=2,mode='max')\n",
        "    checkpointer=tf.keras.callbacks.ModelCheckpoint(\n",
        "        save_best_only=True,save_weights_only=True,\n",
        "        monitor='val_sparse_categorical_accuracy',\n",
        "        filepath=mw,verbose=2,mode='max')\n",
        "    lr_reduction=tf.keras.callbacks.ReduceLROnPlateau(\n",
        "        monitor='val_scaled_adversarial_loss',\n",
        "        verbose=2,patience=10,factor=.8,mode='min')\n",
        "    return [checkpointer,early_stopping,lr_reduction]"
      ],
      "execution_count": 32,
      "outputs": []
    },
    {
      "cell_type": "code",
      "metadata": {
        "id": "qHveY047-ZEk"
      },
      "source": [
        "def keras_history_plot(\n",
        "    fit_history,fig_size=9,color='darkblue'):\n",
        "    keys=list(fit_history.history.keys())\n",
        "    list_history=[fit_history.history[keys[i]] \n",
        "                  for i in range(len(keys))]\n",
        "    dfkeys=pd.DataFrame(list_history).T\n",
        "    dfkeys.columns=keys\n",
        "    fig=pl.figure(figsize=(fig_size,fig_size))\n",
        "    ax1=fig.add_subplot(3,1,1)\n",
        "    dfkeys.iloc[:,[0,4]].plot(\n",
        "        ax=ax1,color=['slategray',color],grid=True)\n",
        "    ax2=fig.add_subplot(3,1,2)\n",
        "    dfkeys.iloc[:,[3,7]].plot(\n",
        "        ax=ax2,color=['slategray',color],grid=True)\n",
        "    ax3=fig.add_subplot(3,1,3)\n",
        "    dfkeys.iloc[:,[2,6]].plot(\n",
        "        ax=ax3,color=['slategray',color],grid=True)\n",
        "    pl.tight_layout(); pl.show()"
      ],
      "execution_count": 33,
      "outputs": []
    },
    {
      "cell_type": "code",
      "metadata": {
        "id": "E_P1XId4UEYK",
        "colab": {
          "base_uri": "https://localhost:8080/",
          "height": 78
        },
        "outputId": "2643e012-2870-4f84-a9f9-b24007fe99a2"
      },
      "source": [
        "%cmap_header Data Loading"
      ],
      "execution_count": 34,
      "outputs": [
        {
          "output_type": "display_data",
          "data": {
            "text/html": [
              "\n",
              "    <head><script src='https://d3js.org/d3.v6.min.js'></script></head>\n",
              "    <style>@import 'https://fonts.googleapis.com/css?family=Smokum&effect=3d'; #colorized {font-family:Smokum; \n",
              "    color:white; padding-left:10px; font-size:30px;}</style>\n",
              "    <h1 id='colorized' class='font-effect-3d'>Data Loading</h1>\n",
              "    <script>\n",
              "    var tc=setInterval(function(){\n",
              "        var now=new Date().getTime();\n",
              "        var iddoc=document.getElementById('colorized');\n",
              "        iddoc.style.color=d3.interpolateSinebow(now%(60000)/60000);},1)\n",
              "    </script>"
            ],
            "text/plain": [
              "<IPython.core.display.HTML object>"
            ]
          },
          "metadata": {
            "tags": []
          }
        }
      ]
    },
    {
      "cell_type": "code",
      "metadata": {
        "id": "Tdy8We7XUJSV",
        "colab": {
          "base_uri": "https://localhost:8080/",
          "height": 681
        },
        "outputId": "995962f6-403d-4f18-bc6d-3d1d62679062"
      },
      "source": [
        "input_file=urllib.request.urlopen(file_path+file_name)\n",
        "output_file=open(file_name,'wb')\n",
        "output_file.write(input_file.read())\n",
        "output_file.close(); input_file.close()\n",
        "[names,x_train,x_valid,x_test,y_train,y_valid,y_test]=\\\n",
        "h5file2data(file_name,img_size)\n",
        "num_classes=len(names[1])\n",
        "os.remove(file_name)"
      ],
      "execution_count": 35,
      "outputs": [
        {
          "output_type": "stream",
          "text": [
            "file keys: images, labels, names1, names2\n",
            "data outputs: \n"
          ],
          "name": "stdout"
        },
        {
          "output_type": "display_data",
          "data": {
            "text/html": [
              "<style  type=\"text/css\" >\n",
              "    #T_0f419f0e_7536_11eb_a463_0242ac1c0002 th {\n",
              "          font-size: 12pt;\n",
              "          min-width: 150px;\n",
              "    }    #T_0f419f0e_7536_11eb_a463_0242ac1c0002 td {\n",
              "          padding: 0em 0em;\n",
              "          min-width: 150px;\n",
              "    }    #T_0f419f0e_7536_11eb_a463_0242ac1c0002 tr:hover th:hover {\n",
              "          font-size: 14pt;\n",
              "          max-width: 150px;\n",
              "          text-shadow: 3px 3px 3px #aaa;\n",
              "    }    #T_0f419f0e_7536_11eb_a463_0242ac1c0002 tr:hover td:hover {\n",
              "          font-size: 12pt;\n",
              "          max-width: 150px;\n",
              "          text-shadow: 3px 3px 3px #aaa;\n",
              "    }</style><table id=\"T_0f419f0e_7536_11eb_a463_0242ac1c0002\" ><thead>    <tr>        <th class=\"blank level0\" ></th>        <th class=\"col_heading level0 col0\" >train</th>        <th class=\"col_heading level0 col1\" >valid</th>        <th class=\"col_heading level0 col2\" >test</th>    </tr></thead><tbody>\n",
              "                <tr>\n",
              "                        <th id=\"T_0f419f0e_7536_11eb_a463_0242ac1c0002level0_row0\" class=\"row_heading level0 row0\" >image shape</th>\n",
              "                        <td id=\"T_0f419f0e_7536_11eb_a463_0242ac1c0002row0_col0\" class=\"data row0 col0\" >(2837, 64, 64, 3)</td>\n",
              "                        <td id=\"T_0f419f0e_7536_11eb_a463_0242ac1c0002row0_col1\" class=\"data row0 col1\" >(354, 64, 64, 3)</td>\n",
              "                        <td id=\"T_0f419f0e_7536_11eb_a463_0242ac1c0002row0_col2\" class=\"data row0 col2\" >(354, 64, 64, 3)</td>\n",
              "            </tr>\n",
              "            <tr>\n",
              "                        <th id=\"T_0f419f0e_7536_11eb_a463_0242ac1c0002level0_row1\" class=\"row_heading level0 row1\" >image type</th>\n",
              "                        <td id=\"T_0f419f0e_7536_11eb_a463_0242ac1c0002row1_col0\" class=\"data row1 col0\" >float32</td>\n",
              "                        <td id=\"T_0f419f0e_7536_11eb_a463_0242ac1c0002row1_col1\" class=\"data row1 col1\" >float32</td>\n",
              "                        <td id=\"T_0f419f0e_7536_11eb_a463_0242ac1c0002row1_col2\" class=\"data row1 col2\" >float32</td>\n",
              "            </tr>\n",
              "            <tr>\n",
              "                        <th id=\"T_0f419f0e_7536_11eb_a463_0242ac1c0002level0_row2\" class=\"row_heading level0 row2\" >label shape</th>\n",
              "                        <td id=\"T_0f419f0e_7536_11eb_a463_0242ac1c0002row2_col0\" class=\"data row2 col0\" >(2, 2837)</td>\n",
              "                        <td id=\"T_0f419f0e_7536_11eb_a463_0242ac1c0002row2_col1\" class=\"data row2 col1\" >(2, 354)</td>\n",
              "                        <td id=\"T_0f419f0e_7536_11eb_a463_0242ac1c0002row2_col2\" class=\"data row2 col2\" >(2, 354)</td>\n",
              "            </tr>\n",
              "            <tr>\n",
              "                        <th id=\"T_0f419f0e_7536_11eb_a463_0242ac1c0002level0_row3\" class=\"row_heading level0 row3\" >label type</th>\n",
              "                        <td id=\"T_0f419f0e_7536_11eb_a463_0242ac1c0002row3_col0\" class=\"data row3 col0\" >int32</td>\n",
              "                        <td id=\"T_0f419f0e_7536_11eb_a463_0242ac1c0002row3_col1\" class=\"data row3 col1\" >int32</td>\n",
              "                        <td id=\"T_0f419f0e_7536_11eb_a463_0242ac1c0002row3_col2\" class=\"data row3 col2\" >int32</td>\n",
              "            </tr>\n",
              "    </tbody></table>"
            ],
            "text/plain": [
              "<pandas.io.formats.style.Styler at 0x7fbad40b5dd8>"
            ]
          },
          "metadata": {
            "tags": []
          }
        },
        {
          "output_type": "stream",
          "text": [
            "distribution of labels: \n"
          ],
          "name": "stdout"
        },
        {
          "output_type": "display_data",
          "data": {
            "image/png": "[encoded data removed]",
            "text/plain": [
              "<Figure size 756x504 with 2 Axes>"
            ]
          },
          "metadata": {
            "tags": [],
            "needs_background": "light"
          }
        }
      ]
    },
    {
      "cell_type": "code",
      "metadata": {
        "id": "9KXOT8kHuoEx",
        "colab": {
          "base_uri": "https://localhost:8080/",
          "height": 78
        },
        "outputId": "18bedba1-e94b-45fd-8455-ffe2e2513b6d"
      },
      "source": [
        "%cmap_header TF Data Processing"
      ],
      "execution_count": 36,
      "outputs": [
        {
          "output_type": "display_data",
          "data": {
            "text/html": [
              "\n",
              "    <head><script src='https://d3js.org/d3.v6.min.js'></script></head>\n",
              "    <style>@import 'https://fonts.googleapis.com/css?family=Smokum&effect=3d'; #colorized {font-family:Smokum; \n",
              "    color:white; padding-left:10px; font-size:30px;}</style>\n",
              "    <h1 id='colorized' class='font-effect-3d'>TF Data Processing</h1>\n",
              "    <script>\n",
              "    var tc=setInterval(function(){\n",
              "        var now=new Date().getTime();\n",
              "        var iddoc=document.getElementById('colorized');\n",
              "        iddoc.style.color=d3.interpolateSinebow(now%(60000)/60000);},1)\n",
              "    </script>"
            ],
            "text/plain": [
              "<IPython.core.display.HTML object>"
            ]
          },
          "metadata": {
            "tags": []
          }
        }
      ]
    },
    {
      "cell_type": "code",
      "metadata": {
        "id": "3AAmDbdPu_D2"
      },
      "source": [
        "batch_size=16\n",
        "train=tf.data.Dataset.from_tensor_slices(\n",
        "    {'input':x_train,\n",
        "     'label':np.array(y_train[1],dtype='float32')}).batch(batch_size)\n",
        "valid=tf.data.Dataset.from_tensor_slices(\n",
        "    {'input':x_valid,\n",
        "     'label':np.array(y_valid[1],dtype='float32')}).batch(batch_size)\n",
        "valid_steps=x_valid.shape[0]//batch_size"
      ],
      "execution_count": 37,
      "outputs": []
    },
    {
      "cell_type": "code",
      "metadata": {
        "id": "4lsHgyAz5QFn",
        "colab": {
          "base_uri": "https://localhost:8080/"
        },
        "outputId": "7411d39c-30b7-4fe6-dc62-febfa7fa9224"
      },
      "source": [
        "set(y_train[1])"
      ],
      "execution_count": 38,
      "outputs": [
        {
          "output_type": "execute_result",
          "data": {
            "text/plain": [
              "{0, 1, 2, 3, 4, 5, 6, 7, 8, 9, 10, 11, 12, 13, 14, 15}"
            ]
          },
          "metadata": {
            "tags": []
          },
          "execution_count": 38
        }
      ]
    },
    {
      "cell_type": "code",
      "metadata": {
        "id": "ZeF3JTJhu_wt",
        "colab": {
          "base_uri": "https://localhost:8080/",
          "height": 78
        },
        "outputId": "da3bac27-e37e-417e-9333-2e5dd801cb2a"
      },
      "source": [
        "%cmap_header Models with Adversarial Regularization => MLP"
      ],
      "execution_count": 39,
      "outputs": [
        {
          "output_type": "display_data",
          "data": {
            "text/html": [
              "\n",
              "    <head><script src='https://d3js.org/d3.v6.min.js'></script></head>\n",
              "    <style>@import 'https://fonts.googleapis.com/css?family=Smokum&effect=3d'; #colorized {font-family:Smokum; \n",
              "    color:white; padding-left:10px; font-size:30px;}</style>\n",
              "    <h1 id='colorized' class='font-effect-3d'>Models with Adversarial Regularization => MLP</h1>\n",
              "    <script>\n",
              "    var tc=setInterval(function(){\n",
              "        var now=new Date().getTime();\n",
              "        var iddoc=document.getElementById('colorized');\n",
              "        iddoc.style.color=d3.interpolateSinebow(now%(60000)/60000);},1)\n",
              "    </script>"
            ],
            "text/plain": [
              "<IPython.core.display.HTML object>"
            ]
          },
          "metadata": {
            "tags": []
          }
        }
      ]
    },
    {
      "cell_type": "code",
      "metadata": {
        "id": "eRpR8k7CuuTj"
      },
      "source": [
        "base_model=tf.keras.Sequential([\n",
        "    tf.keras.Input((img_size,img_size,3),name='input'),\n",
        "    tkl.Flatten(),\n",
        "    tkl.Dense(192,activation=tf.nn.relu),\n",
        "    tkl.BatchNormalization(),    \n",
        "    tkl.Dense(256,activation=tf.nn.relu),\n",
        "    tkl.BatchNormalization(),    \n",
        "    tkl.Dense(512,activation=tf.nn.relu),\n",
        "    tkl.Dense(num_classes,activation=tf.nn.softmax)\n",
        "])\n",
        "adv_config=nsl.configs.make_adv_reg_config(\n",
        "    multiplier=.2,adv_step_size=.05)\n",
        "adv_model=nsl.keras.AdversarialRegularization(\n",
        "    base_model,adv_config=adv_config)\n",
        "adv_model.compile(optimizer='adam',metrics=['accuracy'],\n",
        "                  loss='sparse_categorical_crossentropy')"
      ],
      "execution_count": 40,
      "outputs": []
    },
    {
      "cell_type": "code",
      "metadata": {
        "id": "pW8Uf9Rfweas",
        "colab": {
          "base_uri": "https://localhost:8080/"
        },
        "outputId": "39e63634-1f23-40ef-bd10-4824e6cc1829"
      },
      "source": [
        "history=adv_model.fit(\n",
        "    train,validation_data=valid,verbose=2,\n",
        "    validation_steps=valid_steps,\n",
        "    epochs=100,callbacks=cb(model_weights));"
      ],
      "execution_count": 41,
      "outputs": [
        {
          "output_type": "stream",
          "text": [
            "Epoch 1/100\n",
            "178/178 - 2s - loss: 2.8466 - sparse_categorical_crossentropy: 2.3644 - sparse_categorical_accuracy: 0.2622 - scaled_adversarial_loss: 0.4822 - val_loss: 4.6950 - val_sparse_categorical_crossentropy: 3.9055 - val_sparse_categorical_accuracy: 0.1335 - val_scaled_adversarial_loss: 0.7895\n",
            "\n",
            "Epoch 00001: val_sparse_categorical_accuracy improved from -inf to 0.13352, saving model to /checkpoints\n",
            "Epoch 2/100\n",
            "178/178 - 1s - loss: 2.0933 - sparse_categorical_crossentropy: 1.7368 - sparse_categorical_accuracy: 0.4536 - scaled_adversarial_loss: 0.3566 - val_loss: 7.2798 - val_sparse_categorical_crossentropy: 6.0562 - val_sparse_categorical_accuracy: 0.1307 - val_scaled_adversarial_loss: 1.2236\n",
            "\n",
            "Epoch 00002: val_sparse_categorical_accuracy did not improve from 0.13352\n",
            "Epoch 3/100\n",
            "178/178 - 1s - loss: 1.6327 - sparse_categorical_crossentropy: 1.3507 - sparse_categorical_accuracy: 0.5650 - scaled_adversarial_loss: 0.2819 - val_loss: 10.5661 - val_sparse_categorical_crossentropy: 8.7914 - val_sparse_categorical_accuracy: 0.0795 - val_scaled_adversarial_loss: 1.7746\n",
            "\n",
            "Epoch 00003: val_sparse_categorical_accuracy did not improve from 0.13352\n",
            "Epoch 4/100\n",
            "178/178 - 1s - loss: 1.1780 - sparse_categorical_crossentropy: 0.9705 - sparse_categorical_accuracy: 0.6898 - scaled_adversarial_loss: 0.2075 - val_loss: 10.5965 - val_sparse_categorical_crossentropy: 8.8121 - val_sparse_categorical_accuracy: 0.1307 - val_scaled_adversarial_loss: 1.7845\n",
            "\n",
            "Epoch 00004: val_sparse_categorical_accuracy did not improve from 0.13352\n",
            "Epoch 5/100\n",
            "178/178 - 1s - loss: 0.8787 - sparse_categorical_crossentropy: 0.7202 - sparse_categorical_accuracy: 0.7719 - scaled_adversarial_loss: 0.1585 - val_loss: 9.4959 - val_sparse_categorical_crossentropy: 7.8876 - val_sparse_categorical_accuracy: 0.1506 - val_scaled_adversarial_loss: 1.6083\n",
            "\n",
            "Epoch 00005: val_sparse_categorical_accuracy improved from 0.13352 to 0.15057, saving model to /checkpoints\n",
            "Epoch 6/100\n",
            "178/178 - 1s - loss: 0.6165 - sparse_categorical_crossentropy: 0.5013 - sparse_categorical_accuracy: 0.8424 - scaled_adversarial_loss: 0.1152 - val_loss: 15.0227 - val_sparse_categorical_crossentropy: 12.4852 - val_sparse_categorical_accuracy: 0.1335 - val_scaled_adversarial_loss: 2.5375\n",
            "\n",
            "Epoch 00006: val_sparse_categorical_accuracy did not improve from 0.15057\n",
            "Epoch 7/100\n",
            "178/178 - 1s - loss: 0.5921 - sparse_categorical_crossentropy: 0.4790 - sparse_categorical_accuracy: 0.8431 - scaled_adversarial_loss: 0.1131 - val_loss: 19.4575 - val_sparse_categorical_crossentropy: 16.1772 - val_sparse_categorical_accuracy: 0.0938 - val_scaled_adversarial_loss: 3.2803\n",
            "\n",
            "Epoch 00007: val_sparse_categorical_accuracy did not improve from 0.15057\n",
            "Epoch 8/100\n",
            "178/178 - 1s - loss: 0.5603 - sparse_categorical_crossentropy: 0.4514 - sparse_categorical_accuracy: 0.8446 - scaled_adversarial_loss: 0.1090 - val_loss: 11.8180 - val_sparse_categorical_crossentropy: 9.8115 - val_sparse_categorical_accuracy: 0.1420 - val_scaled_adversarial_loss: 2.0065\n",
            "\n",
            "Epoch 00008: val_sparse_categorical_accuracy did not improve from 0.15057\n",
            "Epoch 9/100\n",
            "178/178 - 1s - loss: 0.3792 - sparse_categorical_crossentropy: 0.3028 - sparse_categorical_accuracy: 0.9034 - scaled_adversarial_loss: 0.0764 - val_loss: 10.8958 - val_sparse_categorical_crossentropy: 9.0419 - val_sparse_categorical_accuracy: 0.1932 - val_scaled_adversarial_loss: 1.8539\n",
            "\n",
            "Epoch 00009: val_sparse_categorical_accuracy improved from 0.15057 to 0.19318, saving model to /checkpoints\n",
            "Epoch 10/100\n",
            "178/178 - 1s - loss: 0.3399 - sparse_categorical_crossentropy: 0.2697 - sparse_categorical_accuracy: 0.9151 - scaled_adversarial_loss: 0.0701 - val_loss: 15.7505 - val_sparse_categorical_crossentropy: 13.0631 - val_sparse_categorical_accuracy: 0.1449 - val_scaled_adversarial_loss: 2.6875\n",
            "\n",
            "Epoch 00010: val_sparse_categorical_accuracy did not improve from 0.19318\n",
            "Epoch 11/100\n",
            "178/178 - 1s - loss: 0.3931 - sparse_categorical_crossentropy: 0.3119 - sparse_categorical_accuracy: 0.8946 - scaled_adversarial_loss: 0.0812 - val_loss: 8.9700 - val_sparse_categorical_crossentropy: 7.4374 - val_sparse_categorical_accuracy: 0.1648 - val_scaled_adversarial_loss: 1.5325\n",
            "\n",
            "Epoch 00011: val_sparse_categorical_accuracy did not improve from 0.19318\n",
            "\n",
            "Epoch 00011: ReduceLROnPlateau reducing learning rate to 0.000800000037997961.\n",
            "Epoch 12/100\n",
            "178/178 - 1s - loss: 0.2459 - sparse_categorical_crossentropy: 0.1927 - sparse_categorical_accuracy: 0.9362 - scaled_adversarial_loss: 0.0532 - val_loss: 12.5447 - val_sparse_categorical_crossentropy: 10.3988 - val_sparse_categorical_accuracy: 0.2074 - val_scaled_adversarial_loss: 2.1459\n",
            "\n",
            "Epoch 00012: val_sparse_categorical_accuracy improved from 0.19318 to 0.20739, saving model to /checkpoints\n",
            "Epoch 13/100\n",
            "178/178 - 1s - loss: 0.0935 - sparse_categorical_crossentropy: 0.0716 - sparse_categorical_accuracy: 0.9803 - scaled_adversarial_loss: 0.0219 - val_loss: 6.2839 - val_sparse_categorical_crossentropy: 5.1858 - val_sparse_categorical_accuracy: 0.2642 - val_scaled_adversarial_loss: 1.0982\n",
            "\n",
            "Epoch 00013: val_sparse_categorical_accuracy improved from 0.20739 to 0.26420, saving model to /checkpoints\n",
            "Epoch 14/100\n",
            "178/178 - 1s - loss: 0.0522 - sparse_categorical_crossentropy: 0.0393 - sparse_categorical_accuracy: 0.9894 - scaled_adversarial_loss: 0.0128 - val_loss: 8.9489 - val_sparse_categorical_crossentropy: 7.3996 - val_sparse_categorical_accuracy: 0.2699 - val_scaled_adversarial_loss: 1.5493\n",
            "\n",
            "Epoch 00014: val_sparse_categorical_accuracy improved from 0.26420 to 0.26989, saving model to /checkpoints\n",
            "Epoch 15/100\n",
            "178/178 - 1s - loss: 0.0275 - sparse_categorical_crossentropy: 0.0203 - sparse_categorical_accuracy: 0.9965 - scaled_adversarial_loss: 0.0071 - val_loss: 7.9210 - val_sparse_categorical_crossentropy: 6.5363 - val_sparse_categorical_accuracy: 0.2358 - val_scaled_adversarial_loss: 1.3847\n",
            "\n",
            "Epoch 00015: val_sparse_categorical_accuracy did not improve from 0.26989\n",
            "Epoch 16/100\n",
            "178/178 - 1s - loss: 0.0210 - sparse_categorical_crossentropy: 0.0156 - sparse_categorical_accuracy: 0.9961 - scaled_adversarial_loss: 0.0053 - val_loss: 11.5659 - val_sparse_categorical_crossentropy: 9.5765 - val_sparse_categorical_accuracy: 0.2159 - val_scaled_adversarial_loss: 1.9894\n",
            "\n",
            "Epoch 00016: val_sparse_categorical_accuracy did not improve from 0.26989\n",
            "Epoch 17/100\n",
            "178/178 - 1s - loss: 0.0169 - sparse_categorical_crossentropy: 0.0130 - sparse_categorical_accuracy: 0.9968 - scaled_adversarial_loss: 0.0040 - val_loss: 9.8713 - val_sparse_categorical_crossentropy: 8.1688 - val_sparse_categorical_accuracy: 0.2244 - val_scaled_adversarial_loss: 1.7025\n",
            "\n",
            "Epoch 00017: val_sparse_categorical_accuracy did not improve from 0.26989\n",
            "Epoch 18/100\n",
            "178/178 - 1s - loss: 0.0254 - sparse_categorical_crossentropy: 0.0198 - sparse_categorical_accuracy: 0.9947 - scaled_adversarial_loss: 0.0056 - val_loss: 11.3241 - val_sparse_categorical_crossentropy: 9.3679 - val_sparse_categorical_accuracy: 0.2188 - val_scaled_adversarial_loss: 1.9562\n",
            "\n",
            "Epoch 00018: val_sparse_categorical_accuracy did not improve from 0.26989\n",
            "Epoch 19/100\n",
            "178/178 - 1s - loss: 0.0397 - sparse_categorical_crossentropy: 0.0303 - sparse_categorical_accuracy: 0.9915 - scaled_adversarial_loss: 0.0094 - val_loss: 10.3852 - val_sparse_categorical_crossentropy: 8.5920 - val_sparse_categorical_accuracy: 0.1932 - val_scaled_adversarial_loss: 1.7932\n",
            "\n",
            "Epoch 00019: val_sparse_categorical_accuracy did not improve from 0.26989\n",
            "Epoch 20/100\n",
            "178/178 - 1s - loss: 0.0751 - sparse_categorical_crossentropy: 0.0551 - sparse_categorical_accuracy: 0.9848 - scaled_adversarial_loss: 0.0199 - val_loss: 13.9872 - val_sparse_categorical_crossentropy: 11.5892 - val_sparse_categorical_accuracy: 0.2017 - val_scaled_adversarial_loss: 2.3980\n",
            "\n",
            "Epoch 00020: val_sparse_categorical_accuracy did not improve from 0.26989\n",
            "Epoch 21/100\n",
            "178/178 - 1s - loss: 0.5994 - sparse_categorical_crossentropy: 0.4767 - sparse_categorical_accuracy: 0.8692 - scaled_adversarial_loss: 0.1227 - val_loss: 17.0546 - val_sparse_categorical_crossentropy: 14.1539 - val_sparse_categorical_accuracy: 0.1705 - val_scaled_adversarial_loss: 2.9007\n",
            "\n",
            "Epoch 00021: val_sparse_categorical_accuracy did not improve from 0.26989\n",
            "\n",
            "Epoch 00021: ReduceLROnPlateau reducing learning rate to 0.0006400000303983689.\n",
            "Epoch 22/100\n",
            "178/178 - 1s - loss: 0.4872 - sparse_categorical_crossentropy: 0.3845 - sparse_categorical_accuracy: 0.8671 - scaled_adversarial_loss: 0.1027 - val_loss: 13.0555 - val_sparse_categorical_crossentropy: 10.8280 - val_sparse_categorical_accuracy: 0.1875 - val_scaled_adversarial_loss: 2.2274\n",
            "\n",
            "Epoch 00022: val_sparse_categorical_accuracy did not improve from 0.26989\n",
            "Epoch 23/100\n",
            "178/178 - 1s - loss: 0.1222 - sparse_categorical_crossentropy: 0.0920 - sparse_categorical_accuracy: 0.9707 - scaled_adversarial_loss: 0.0302 - val_loss: 7.3550 - val_sparse_categorical_crossentropy: 6.0812 - val_sparse_categorical_accuracy: 0.2415 - val_scaled_adversarial_loss: 1.2738\n",
            "\n",
            "Epoch 00023: val_sparse_categorical_accuracy did not improve from 0.26989\n",
            "Epoch 24/100\n",
            "178/178 - 1s - loss: 0.0382 - sparse_categorical_crossentropy: 0.0277 - sparse_categorical_accuracy: 0.9944 - scaled_adversarial_loss: 0.0104 - val_loss: 6.4925 - val_sparse_categorical_crossentropy: 5.3394 - val_sparse_categorical_accuracy: 0.3665 - val_scaled_adversarial_loss: 1.1531\n",
            "\n",
            "Epoch 00024: val_sparse_categorical_accuracy improved from 0.26989 to 0.36648, saving model to /checkpoints\n",
            "Epoch 25/100\n",
            "178/178 - 1s - loss: 0.0103 - sparse_categorical_crossentropy: 0.0073 - sparse_categorical_accuracy: 1.0000 - scaled_adversarial_loss: 0.0030 - val_loss: 4.7462 - val_sparse_categorical_crossentropy: 3.8904 - val_sparse_categorical_accuracy: 0.4176 - val_scaled_adversarial_loss: 0.8558\n",
            "\n",
            "Epoch 00025: val_sparse_categorical_accuracy improved from 0.36648 to 0.41761, saving model to /checkpoints\n",
            "Epoch 26/100\n",
            "178/178 - 1s - loss: 0.0051 - sparse_categorical_crossentropy: 0.0036 - sparse_categorical_accuracy: 1.0000 - scaled_adversarial_loss: 0.0014 - val_loss: 4.9063 - val_sparse_categorical_crossentropy: 4.0224 - val_sparse_categorical_accuracy: 0.4091 - val_scaled_adversarial_loss: 0.8839\n",
            "\n",
            "Epoch 00026: val_sparse_categorical_accuracy did not improve from 0.41761\n",
            "Epoch 27/100\n",
            "178/178 - 1s - loss: 0.0039 - sparse_categorical_crossentropy: 0.0028 - sparse_categorical_accuracy: 1.0000 - scaled_adversarial_loss: 0.0011 - val_loss: 5.5465 - val_sparse_categorical_crossentropy: 4.5555 - val_sparse_categorical_accuracy: 0.4062 - val_scaled_adversarial_loss: 0.9910\n",
            "\n",
            "Epoch 00027: val_sparse_categorical_accuracy did not improve from 0.41761\n",
            "Epoch 28/100\n",
            "178/178 - 1s - loss: 0.0039 - sparse_categorical_crossentropy: 0.0029 - sparse_categorical_accuracy: 0.9996 - scaled_adversarial_loss: 0.0010 - val_loss: 6.4163 - val_sparse_categorical_crossentropy: 5.2796 - val_sparse_categorical_accuracy: 0.3523 - val_scaled_adversarial_loss: 1.1367\n",
            "\n",
            "Epoch 00028: val_sparse_categorical_accuracy did not improve from 0.41761\n",
            "Epoch 29/100\n",
            "178/178 - 1s - loss: 0.0034 - sparse_categorical_crossentropy: 0.0025 - sparse_categorical_accuracy: 1.0000 - scaled_adversarial_loss: 9.1346e-04 - val_loss: 4.9694 - val_sparse_categorical_crossentropy: 4.0724 - val_sparse_categorical_accuracy: 0.4403 - val_scaled_adversarial_loss: 0.8970\n",
            "\n",
            "Epoch 00029: val_sparse_categorical_accuracy improved from 0.41761 to 0.44034, saving model to /checkpoints\n",
            "Epoch 30/100\n",
            "178/178 - 1s - loss: 0.0021 - sparse_categorical_crossentropy: 0.0016 - sparse_categorical_accuracy: 1.0000 - scaled_adversarial_loss: 5.9374e-04 - val_loss: 4.5735 - val_sparse_categorical_crossentropy: 3.7444 - val_sparse_categorical_accuracy: 0.4801 - val_scaled_adversarial_loss: 0.8290\n",
            "\n",
            "Epoch 00030: val_sparse_categorical_accuracy improved from 0.44034 to 0.48011, saving model to /checkpoints\n",
            "Epoch 31/100\n",
            "178/178 - 1s - loss: 0.0016 - sparse_categorical_crossentropy: 0.0012 - sparse_categorical_accuracy: 1.0000 - scaled_adversarial_loss: 4.6147e-04 - val_loss: 4.5557 - val_sparse_categorical_crossentropy: 3.7284 - val_sparse_categorical_accuracy: 0.4659 - val_scaled_adversarial_loss: 0.8273\n",
            "\n",
            "Epoch 00031: val_sparse_categorical_accuracy did not improve from 0.48011\n",
            "\n",
            "Epoch 00031: ReduceLROnPlateau reducing learning rate to 0.0005120000336319208.\n",
            "Epoch 32/100\n",
            "178/178 - 1s - loss: 0.0014 - sparse_categorical_crossentropy: 9.8851e-04 - sparse_categorical_accuracy: 1.0000 - scaled_adversarial_loss: 3.8818e-04 - val_loss: 4.5792 - val_sparse_categorical_crossentropy: 3.7481 - val_sparse_categorical_accuracy: 0.4773 - val_scaled_adversarial_loss: 0.8310\n",
            "\n",
            "Epoch 00032: val_sparse_categorical_accuracy did not improve from 0.48011\n",
            "Epoch 33/100\n",
            "178/178 - 1s - loss: 0.0012 - sparse_categorical_crossentropy: 8.8707e-04 - sparse_categorical_accuracy: 1.0000 - scaled_adversarial_loss: 3.4971e-04 - val_loss: 4.6106 - val_sparse_categorical_crossentropy: 3.7739 - val_sparse_categorical_accuracy: 0.4773 - val_scaled_adversarial_loss: 0.8367\n",
            "\n",
            "Epoch 00033: val_sparse_categorical_accuracy did not improve from 0.48011\n",
            "Epoch 34/100\n",
            "178/178 - 1s - loss: 0.0011 - sparse_categorical_crossentropy: 8.0257e-04 - sparse_categorical_accuracy: 1.0000 - scaled_adversarial_loss: 3.1725e-04 - val_loss: 4.6421 - val_sparse_categorical_crossentropy: 3.7996 - val_sparse_categorical_accuracy: 0.4801 - val_scaled_adversarial_loss: 0.8425\n",
            "\n",
            "Epoch 00034: val_sparse_categorical_accuracy did not improve from 0.48011\n",
            "Epoch 35/100\n",
            "178/178 - 1s - loss: 0.0010 - sparse_categorical_crossentropy: 7.2817e-04 - sparse_categorical_accuracy: 1.0000 - scaled_adversarial_loss: 2.8866e-04 - val_loss: 4.6693 - val_sparse_categorical_crossentropy: 3.8218 - val_sparse_categorical_accuracy: 0.4801 - val_scaled_adversarial_loss: 0.8474\n",
            "\n",
            "Epoch 00035: val_sparse_categorical_accuracy did not improve from 0.48011\n",
            "Epoch 36/100\n",
            "178/178 - 1s - loss: 9.2556e-04 - sparse_categorical_crossentropy: 6.6230e-04 - sparse_categorical_accuracy: 1.0000 - scaled_adversarial_loss: 2.6327e-04 - val_loss: 4.6964 - val_sparse_categorical_crossentropy: 3.8440 - val_sparse_categorical_accuracy: 0.4801 - val_scaled_adversarial_loss: 0.8524\n",
            "\n",
            "Epoch 00036: val_sparse_categorical_accuracy did not improve from 0.48011\n",
            "Epoch 37/100\n",
            "178/178 - 1s - loss: 8.4437e-04 - sparse_categorical_crossentropy: 6.0368e-04 - sparse_categorical_accuracy: 1.0000 - scaled_adversarial_loss: 2.4069e-04 - val_loss: 4.7242 - val_sparse_categorical_crossentropy: 3.8667 - val_sparse_categorical_accuracy: 0.4801 - val_scaled_adversarial_loss: 0.8575\n",
            "\n",
            "Epoch 00037: val_sparse_categorical_accuracy did not improve from 0.48011\n",
            "Epoch 38/100\n",
            "178/178 - 1s - loss: 7.7086e-04 - sparse_categorical_crossentropy: 5.5063e-04 - sparse_categorical_accuracy: 1.0000 - scaled_adversarial_loss: 2.2023e-04 - val_loss: 4.7525 - val_sparse_categorical_crossentropy: 3.8898 - val_sparse_categorical_accuracy: 0.4773 - val_scaled_adversarial_loss: 0.8627\n",
            "\n",
            "Epoch 00038: val_sparse_categorical_accuracy did not improve from 0.48011\n",
            "Epoch 39/100\n",
            "178/178 - 1s - loss: 7.0488e-04 - sparse_categorical_crossentropy: 5.0311e-04 - sparse_categorical_accuracy: 1.0000 - scaled_adversarial_loss: 2.0177e-04 - val_loss: 4.7837 - val_sparse_categorical_crossentropy: 3.9153 - val_sparse_categorical_accuracy: 0.4801 - val_scaled_adversarial_loss: 0.8684\n",
            "\n",
            "Epoch 00039: val_sparse_categorical_accuracy did not improve from 0.48011\n",
            "Epoch 40/100\n",
            "178/178 - 1s - loss: 6.4653e-04 - sparse_categorical_crossentropy: 4.6137e-04 - sparse_categorical_accuracy: 1.0000 - scaled_adversarial_loss: 1.8516e-04 - val_loss: 4.8114 - val_sparse_categorical_crossentropy: 3.9379 - val_sparse_categorical_accuracy: 0.4801 - val_scaled_adversarial_loss: 0.8735\n",
            "\n",
            "Epoch 00040: val_sparse_categorical_accuracy did not improve from 0.48011\n",
            "Epoch 41/100\n",
            "178/178 - 1s - loss: 5.9003e-04 - sparse_categorical_crossentropy: 4.2056e-04 - sparse_categorical_accuracy: 1.0000 - scaled_adversarial_loss: 1.6948e-04 - val_loss: 4.8431 - val_sparse_categorical_crossentropy: 3.9638 - val_sparse_categorical_accuracy: 0.4801 - val_scaled_adversarial_loss: 0.8793\n",
            "\n",
            "Epoch 00041: val_sparse_categorical_accuracy did not improve from 0.48011\n",
            "\n",
            "Epoch 00041: ReduceLROnPlateau reducing learning rate to 0.00040960004553198815.\n",
            "Epoch 42/100\n",
            "178/178 - 1s - loss: 5.3810e-04 - sparse_categorical_crossentropy: 3.8327e-04 - sparse_categorical_accuracy: 1.0000 - scaled_adversarial_loss: 1.5482e-04 - val_loss: 4.8641 - val_sparse_categorical_crossentropy: 3.9810 - val_sparse_categorical_accuracy: 0.4830 - val_scaled_adversarial_loss: 0.8830\n",
            "\n",
            "Epoch 00042: val_sparse_categorical_accuracy improved from 0.48011 to 0.48295, saving model to /checkpoints\n",
            "Epoch 43/100\n",
            "178/178 - 1s - loss: 5.0028e-04 - sparse_categorical_crossentropy: 3.5605e-04 - sparse_categorical_accuracy: 1.0000 - scaled_adversarial_loss: 1.4423e-04 - val_loss: 4.8902 - val_sparse_categorical_crossentropy: 4.0023 - val_sparse_categorical_accuracy: 0.4801 - val_scaled_adversarial_loss: 0.8879\n",
            "\n",
            "Epoch 00043: val_sparse_categorical_accuracy did not improve from 0.48295\n",
            "Epoch 44/100\n",
            "178/178 - 1s - loss: 4.6489e-04 - sparse_categorical_crossentropy: 3.3057e-04 - sparse_categorical_accuracy: 1.0000 - scaled_adversarial_loss: 1.3432e-04 - val_loss: 4.9149 - val_sparse_categorical_crossentropy: 4.0224 - val_sparse_categorical_accuracy: 0.4801 - val_scaled_adversarial_loss: 0.8925\n",
            "\n",
            "Epoch 00044: val_sparse_categorical_accuracy did not improve from 0.48295\n",
            "Epoch 45/100\n",
            "178/178 - 1s - loss: 4.3161e-04 - sparse_categorical_crossentropy: 3.0667e-04 - sparse_categorical_accuracy: 1.0000 - scaled_adversarial_loss: 1.2495e-04 - val_loss: 4.9407 - val_sparse_categorical_crossentropy: 4.0435 - val_sparse_categorical_accuracy: 0.4801 - val_scaled_adversarial_loss: 0.8973\n",
            "\n",
            "Epoch 00045: val_sparse_categorical_accuracy did not improve from 0.48295\n",
            "Epoch 46/100\n",
            "178/178 - 1s - loss: 4.0014e-04 - sparse_categorical_crossentropy: 2.8408e-04 - sparse_categorical_accuracy: 1.0000 - scaled_adversarial_loss: 1.1605e-04 - val_loss: 4.9662 - val_sparse_categorical_crossentropy: 4.0642 - val_sparse_categorical_accuracy: 0.4801 - val_scaled_adversarial_loss: 0.9020\n",
            "\n",
            "Epoch 00046: val_sparse_categorical_accuracy did not improve from 0.48295\n",
            "Epoch 47/100\n",
            "178/178 - 1s - loss: 3.7056e-04 - sparse_categorical_crossentropy: 2.6284e-04 - sparse_categorical_accuracy: 1.0000 - scaled_adversarial_loss: 1.0772e-04 - val_loss: 4.9940 - val_sparse_categorical_crossentropy: 4.0868 - val_sparse_categorical_accuracy: 0.4801 - val_scaled_adversarial_loss: 0.9071\n",
            "\n",
            "Epoch 00047: val_sparse_categorical_accuracy did not improve from 0.48295\n",
            "Epoch 48/100\n",
            "178/178 - 1s - loss: 3.4286e-04 - sparse_categorical_crossentropy: 2.4299e-04 - sparse_categorical_accuracy: 1.0000 - scaled_adversarial_loss: 9.9863e-05 - val_loss: 5.0200 - val_sparse_categorical_crossentropy: 4.1080 - val_sparse_categorical_accuracy: 0.4830 - val_scaled_adversarial_loss: 0.9120\n",
            "\n",
            "Epoch 00048: val_sparse_categorical_accuracy did not improve from 0.48295\n",
            "Epoch 49/100\n",
            "178/178 - 1s - loss: 3.1666e-04 - sparse_categorical_crossentropy: 2.2424e-04 - sparse_categorical_accuracy: 1.0000 - scaled_adversarial_loss: 9.2423e-05 - val_loss: 5.0479 - val_sparse_categorical_crossentropy: 4.1307 - val_sparse_categorical_accuracy: 0.4830 - val_scaled_adversarial_loss: 0.9172\n",
            "\n",
            "Epoch 00049: val_sparse_categorical_accuracy did not improve from 0.48295\n",
            "Epoch 50/100\n",
            "178/178 - 1s - loss: 2.9231e-04 - sparse_categorical_crossentropy: 2.0680e-04 - sparse_categorical_accuracy: 1.0000 - scaled_adversarial_loss: 8.5508e-05 - val_loss: 5.0766 - val_sparse_categorical_crossentropy: 4.1541 - val_sparse_categorical_accuracy: 0.4830 - val_scaled_adversarial_loss: 0.9225\n",
            "\n",
            "Epoch 00050: val_sparse_categorical_accuracy did not improve from 0.48295\n",
            "Epoch 51/100\n",
            "178/178 - 1s - loss: 2.6957e-04 - sparse_categorical_crossentropy: 1.9053e-04 - sparse_categorical_accuracy: 1.0000 - scaled_adversarial_loss: 7.9042e-05 - val_loss: 5.1046 - val_sparse_categorical_crossentropy: 4.1769 - val_sparse_categorical_accuracy: 0.4830 - val_scaled_adversarial_loss: 0.9277\n",
            "\n",
            "Epoch 00051: val_sparse_categorical_accuracy did not improve from 0.48295\n",
            "\n",
            "Epoch 00051: ReduceLROnPlateau reducing learning rate to 0.00032768002711236477.\n",
            "Epoch 52/100\n",
            "178/178 - 1s - loss: 2.4801e-04 - sparse_categorical_crossentropy: 1.7518e-04 - sparse_categorical_accuracy: 1.0000 - scaled_adversarial_loss: 7.2838e-05 - val_loss: 5.1217 - val_sparse_categorical_crossentropy: 4.1912 - val_sparse_categorical_accuracy: 0.4801 - val_scaled_adversarial_loss: 0.9305\n",
            "\n",
            "Epoch 00052: val_sparse_categorical_accuracy did not improve from 0.48295\n",
            "Epoch 53/100\n",
            "178/178 - 1s - loss: 2.3206e-04 - sparse_categorical_crossentropy: 1.6377e-04 - sparse_categorical_accuracy: 1.0000 - scaled_adversarial_loss: 6.8286e-05 - val_loss: 5.1469 - val_sparse_categorical_crossentropy: 4.2119 - val_sparse_categorical_accuracy: 0.4830 - val_scaled_adversarial_loss: 0.9349\n",
            "\n",
            "Epoch 00053: val_sparse_categorical_accuracy did not improve from 0.48295\n",
            "Epoch 54/100\n",
            "178/178 - 1s - loss: 2.1674e-04 - sparse_categorical_crossentropy: 1.5284e-04 - sparse_categorical_accuracy: 1.0000 - scaled_adversarial_loss: 6.3900e-05 - val_loss: 5.1720 - val_sparse_categorical_crossentropy: 4.2323 - val_sparse_categorical_accuracy: 0.4801 - val_scaled_adversarial_loss: 0.9396\n",
            "\n",
            "Epoch 00054: val_sparse_categorical_accuracy did not improve from 0.48295\n",
            "Epoch 55/100\n",
            "178/178 - 1s - loss: 2.0219e-04 - sparse_categorical_crossentropy: 1.4245e-04 - sparse_categorical_accuracy: 1.0000 - scaled_adversarial_loss: 5.9743e-05 - val_loss: 5.1958 - val_sparse_categorical_crossentropy: 4.2517 - val_sparse_categorical_accuracy: 0.4801 - val_scaled_adversarial_loss: 0.9441\n",
            "\n",
            "Epoch 00055: val_sparse_categorical_accuracy did not improve from 0.48295\n",
            "Epoch 56/100\n",
            "178/178 - 1s - loss: 1.8826e-04 - sparse_categorical_crossentropy: 1.3251e-04 - sparse_categorical_accuracy: 1.0000 - scaled_adversarial_loss: 5.5750e-05 - val_loss: 5.2215 - val_sparse_categorical_crossentropy: 4.2726 - val_sparse_categorical_accuracy: 0.4801 - val_scaled_adversarial_loss: 0.9489\n",
            "\n",
            "Epoch 00056: val_sparse_categorical_accuracy did not improve from 0.48295\n",
            "Epoch 57/100\n",
            "178/178 - 1s - loss: 1.7506e-04 - sparse_categorical_crossentropy: 1.2309e-04 - sparse_categorical_accuracy: 1.0000 - scaled_adversarial_loss: 5.1963e-05 - val_loss: 5.2485 - val_sparse_categorical_crossentropy: 4.2946 - val_sparse_categorical_accuracy: 0.4801 - val_scaled_adversarial_loss: 0.9539\n",
            "\n",
            "Epoch 00057: val_sparse_categorical_accuracy did not improve from 0.48295\n",
            "Epoch 58/100\n",
            "178/178 - 1s - loss: 1.6243e-04 - sparse_categorical_crossentropy: 1.1412e-04 - sparse_categorical_accuracy: 1.0000 - scaled_adversarial_loss: 4.8313e-05 - val_loss: 5.2768 - val_sparse_categorical_crossentropy: 4.3175 - val_sparse_categorical_accuracy: 0.4801 - val_scaled_adversarial_loss: 0.9593\n",
            "\n",
            "Epoch 00058: val_sparse_categorical_accuracy did not improve from 0.48295\n",
            "Epoch 59/100\n",
            "178/178 - 1s - loss: 1.5054e-04 - sparse_categorical_crossentropy: 1.0566e-04 - sparse_categorical_accuracy: 1.0000 - scaled_adversarial_loss: 4.4887e-05 - val_loss: 5.3056 - val_sparse_categorical_crossentropy: 4.3408 - val_sparse_categorical_accuracy: 0.4801 - val_scaled_adversarial_loss: 0.9648\n",
            "\n",
            "Epoch 00059: val_sparse_categorical_accuracy did not improve from 0.48295\n",
            "Epoch 60/100\n",
            "178/178 - 1s - loss: 1.3933e-04 - sparse_categorical_crossentropy: 9.7692e-05 - sparse_categorical_accuracy: 1.0000 - scaled_adversarial_loss: 4.1640e-05 - val_loss: 5.3330 - val_sparse_categorical_crossentropy: 4.3631 - val_sparse_categorical_accuracy: 0.4801 - val_scaled_adversarial_loss: 0.9699\n",
            "\n",
            "Epoch 00060: val_sparse_categorical_accuracy did not improve from 0.48295\n",
            "Epoch 61/100\n",
            "178/178 - 1s - loss: 1.2880e-04 - sparse_categorical_crossentropy: 9.0223e-05 - sparse_categorical_accuracy: 1.0000 - scaled_adversarial_loss: 3.8577e-05 - val_loss: 5.3629 - val_sparse_categorical_crossentropy: 4.3872 - val_sparse_categorical_accuracy: 0.4801 - val_scaled_adversarial_loss: 0.9757\n",
            "\n",
            "Epoch 00061: val_sparse_categorical_accuracy did not improve from 0.48295\n",
            "\n",
            "Epoch 00061: ReduceLROnPlateau reducing learning rate to 0.0002621440216898918.\n",
            "Epoch 62/100\n",
            "178/178 - 1s - loss: 1.1878e-04 - sparse_categorical_crossentropy: 8.3133e-05 - sparse_categorical_accuracy: 1.0000 - scaled_adversarial_loss: 3.5643e-05 - val_loss: 5.3824 - val_sparse_categorical_crossentropy: 4.4026 - val_sparse_categorical_accuracy: 0.4773 - val_scaled_adversarial_loss: 0.9799\n",
            "\n",
            "Epoch 00062: val_sparse_categorical_accuracy did not improve from 0.48295\n",
            "Epoch 00062: early stopping\n"
          ],
          "name": "stdout"
        }
      ]
    },
    {
      "cell_type": "code",
      "metadata": {
        "id": "OaHIr1T9-rdn",
        "colab": {
          "base_uri": "https://localhost:8080/",
          "height": 656
        },
        "outputId": "84f5b1be-e174-4fbc-e595-033ce601e934"
      },
      "source": [
        "keras_history_plot(history)"
      ],
      "execution_count": 42,
      "outputs": [
        {
          "output_type": "display_data",
          "data": {
            "image/png": "[encoded data removed]",
            "text/plain": [
              "<Figure size 648x648 with 3 Axes>"
            ]
          },
          "metadata": {
            "tags": [],
            "needs_background": "light"
          }
        }
      ]
    },
    {
      "cell_type": "code",
      "metadata": {
        "id": "A1_U9Vhj0qV7",
        "colab": {
          "base_uri": "https://localhost:8080/"
        },
        "outputId": "b1c541ee-85d7-4cad-b9c8-a4d6f5d61808"
      },
      "source": [
        "adv_model.load_weights(model_weights)\n",
        "dict(zip(adv_model.metrics_names,adv_model.evaluate(\n",
        "    {'input':x_test,\n",
        "     'label':np.array(y_test[1],dtype='float32')},\n",
        "     verbose=0)))"
      ],
      "execution_count": 43,
      "outputs": [
        {
          "output_type": "execute_result",
          "data": {
            "text/plain": [
              "{'loss': 5.219174385070801,\n",
              " 'scaled_adversarial_loss': 0.9529626965522766,\n",
              " 'sparse_categorical_accuracy': 0.4237288236618042,\n",
              " 'sparse_categorical_crossentropy': 4.266211986541748}"
            ]
          },
          "metadata": {
            "tags": []
          },
          "execution_count": 43
        }
      ]
    },
    {
      "cell_type": "code",
      "metadata": {
        "id": "mv8ywHdCnJjt",
        "colab": {
          "base_uri": "https://localhost:8080/",
          "height": 78
        },
        "outputId": "159e2988-523a-4416-e70f-ff5c8d0cbe38"
      },
      "source": [
        "%cmap_header Models with Adversarial Regularization => CNN"
      ],
      "execution_count": 44,
      "outputs": [
        {
          "output_type": "display_data",
          "data": {
            "text/html": [
              "\n",
              "    <head><script src='https://d3js.org/d3.v6.min.js'></script></head>\n",
              "    <style>@import 'https://fonts.googleapis.com/css?family=Smokum&effect=3d'; #colorized {font-family:Smokum; \n",
              "    color:white; padding-left:10px; font-size:30px;}</style>\n",
              "    <h1 id='colorized' class='font-effect-3d'>Models with Adversarial Regularization => CNN</h1>\n",
              "    <script>\n",
              "    var tc=setInterval(function(){\n",
              "        var now=new Date().getTime();\n",
              "        var iddoc=document.getElementById('colorized');\n",
              "        iddoc.style.color=d3.interpolateSinebow(now%(60000)/60000);},1)\n",
              "    </script>"
            ],
            "text/plain": [
              "<IPython.core.display.HTML object>"
            ]
          },
          "metadata": {
            "tags": []
          }
        }
      ]
    },
    {
      "cell_type": "code",
      "metadata": {
        "id": "UDspP2pym4qd"
      },
      "source": [
        "base_model=tf.keras.Sequential([\n",
        "    tf.keras.Input((img_size,img_size,3),name='input'),\n",
        "    tf.keras.layers.Conv2D(32,(5,5),padding='same'),\n",
        "    tf.keras.layers.Activation('relu'),\n",
        "    tf.keras.layers.MaxPooling2D(pool_size=(2,2)),\n",
        "    tf.keras.layers.Dropout(.25),\n",
        "    tf.keras.layers.Conv2D(196,(5,5)),\n",
        "    tf.keras.layers.Activation('relu'),    \n",
        "    tf.keras.layers.MaxPooling2D(pool_size=(2,2)),\n",
        "    tf.keras.layers.Dropout(.25),\n",
        "    tf.keras.layers.GlobalMaxPooling2D(),    \n",
        "    tf.keras.layers.Dense(512),\n",
        "    tf.keras.layers.Activation('relu'),\n",
        "    tf.keras.layers.Dropout(.25),\n",
        "    tf.keras.layers.Dense(128),\n",
        "    tf.keras.layers.Activation('relu'),\n",
        "    tf.keras.layers.Dropout(.25),\n",
        "    tf.keras.layers.Dense(num_classes,activation='softmax')\n",
        "])\n",
        "adv_config=nsl.configs\\\n",
        ".make_adv_reg_config(multiplier=.2,adv_step_size=.05)\n",
        "adv_model=nsl.keras\\\n",
        ".AdversarialRegularization(base_model,adv_config=adv_config)\n",
        "adv_model.compile(optimizer='adam',metrics=['accuracy'],\n",
        "                  loss='sparse_categorical_crossentropy')"
      ],
      "execution_count": 45,
      "outputs": []
    },
    {
      "cell_type": "code",
      "metadata": {
        "id": "P42mWexJnr_a",
        "colab": {
          "base_uri": "https://localhost:8080/"
        },
        "outputId": "f91f35fd-d004-4bc3-96a1-a2d0b5c60013"
      },
      "source": [
        "history=adv_model.fit(\n",
        "    train,validation_data=valid,verbose=2,\n",
        "    validation_steps=valid_steps,\n",
        "    epochs=100,callbacks=cb(model_weights));"
      ],
      "execution_count": 46,
      "outputs": [
        {
          "output_type": "stream",
          "text": [
            "Epoch 1/100\n",
            "178/178 - 3s - loss: 3.3167 - sparse_categorical_crossentropy: 2.7635 - sparse_categorical_accuracy: 0.0740 - scaled_adversarial_loss: 0.5532 - val_loss: 3.2799 - val_sparse_categorical_crossentropy: 2.7331 - val_sparse_categorical_accuracy: 0.1080 - val_scaled_adversarial_loss: 0.5468\n",
            "\n",
            "Epoch 00001: val_sparse_categorical_accuracy improved from -inf to 0.10795, saving model to /checkpoints\n",
            "Epoch 2/100\n",
            "178/178 - 1s - loss: 3.2877 - sparse_categorical_crossentropy: 2.7399 - sparse_categorical_accuracy: 0.0853 - scaled_adversarial_loss: 0.5478 - val_loss: 3.2112 - val_sparse_categorical_crossentropy: 2.6751 - val_sparse_categorical_accuracy: 0.0938 - val_scaled_adversarial_loss: 0.5361\n",
            "\n",
            "Epoch 00002: val_sparse_categorical_accuracy did not improve from 0.10795\n",
            "Epoch 3/100\n",
            "178/178 - 1s - loss: 3.1945 - sparse_categorical_crossentropy: 2.6592 - sparse_categorical_accuracy: 0.1054 - scaled_adversarial_loss: 0.5353 - val_loss: 3.0757 - val_sparse_categorical_crossentropy: 2.5605 - val_sparse_categorical_accuracy: 0.1364 - val_scaled_adversarial_loss: 0.5152\n",
            "\n",
            "Epoch 00003: val_sparse_categorical_accuracy improved from 0.10795 to 0.13636, saving model to /checkpoints\n",
            "Epoch 4/100\n",
            "178/178 - 1s - loss: 3.0713 - sparse_categorical_crossentropy: 2.5547 - sparse_categorical_accuracy: 0.1343 - scaled_adversarial_loss: 0.5166 - val_loss: 2.9708 - val_sparse_categorical_crossentropy: 2.4719 - val_sparse_categorical_accuracy: 0.1875 - val_scaled_adversarial_loss: 0.4989\n",
            "\n",
            "Epoch 00004: val_sparse_categorical_accuracy improved from 0.13636 to 0.18750, saving model to /checkpoints\n",
            "Epoch 5/100\n",
            "178/178 - 1s - loss: 2.9780 - sparse_categorical_crossentropy: 2.4780 - sparse_categorical_accuracy: 0.1442 - scaled_adversarial_loss: 0.5000 - val_loss: 2.9196 - val_sparse_categorical_crossentropy: 2.4282 - val_sparse_categorical_accuracy: 0.1534 - val_scaled_adversarial_loss: 0.4914\n",
            "\n",
            "Epoch 00005: val_sparse_categorical_accuracy did not improve from 0.18750\n",
            "Epoch 6/100\n",
            "178/178 - 1s - loss: 2.9088 - sparse_categorical_crossentropy: 2.4183 - sparse_categorical_accuracy: 0.1530 - scaled_adversarial_loss: 0.4904 - val_loss: 2.8782 - val_sparse_categorical_crossentropy: 2.3930 - val_sparse_categorical_accuracy: 0.1761 - val_scaled_adversarial_loss: 0.4852\n",
            "\n",
            "Epoch 00006: val_sparse_categorical_accuracy did not improve from 0.18750\n",
            "Epoch 7/100\n",
            "178/178 - 1s - loss: 2.8630 - sparse_categorical_crossentropy: 2.3827 - sparse_categorical_accuracy: 0.1695 - scaled_adversarial_loss: 0.4803 - val_loss: 2.8311 - val_sparse_categorical_crossentropy: 2.3537 - val_sparse_categorical_accuracy: 0.1790 - val_scaled_adversarial_loss: 0.4775\n",
            "\n",
            "Epoch 00007: val_sparse_categorical_accuracy did not improve from 0.18750\n",
            "Epoch 8/100\n",
            "178/178 - 1s - loss: 2.7942 - sparse_categorical_crossentropy: 2.3246 - sparse_categorical_accuracy: 0.1773 - scaled_adversarial_loss: 0.4695 - val_loss: 2.8188 - val_sparse_categorical_crossentropy: 2.3420 - val_sparse_categorical_accuracy: 0.1875 - val_scaled_adversarial_loss: 0.4769\n",
            "\n",
            "Epoch 00008: val_sparse_categorical_accuracy did not improve from 0.18750\n",
            "Epoch 9/100\n",
            "178/178 - 1s - loss: 2.7306 - sparse_categorical_crossentropy: 2.2711 - sparse_categorical_accuracy: 0.2030 - scaled_adversarial_loss: 0.4595 - val_loss: 2.6921 - val_sparse_categorical_crossentropy: 2.2362 - val_sparse_categorical_accuracy: 0.2358 - val_scaled_adversarial_loss: 0.4558\n",
            "\n",
            "Epoch 00009: val_sparse_categorical_accuracy improved from 0.18750 to 0.23580, saving model to /checkpoints\n",
            "Epoch 10/100\n",
            "178/178 - 1s - loss: 2.6229 - sparse_categorical_crossentropy: 2.1803 - sparse_categorical_accuracy: 0.2517 - scaled_adversarial_loss: 0.4426 - val_loss: 2.6003 - val_sparse_categorical_crossentropy: 2.1584 - val_sparse_categorical_accuracy: 0.2330 - val_scaled_adversarial_loss: 0.4420\n",
            "\n",
            "Epoch 00010: val_sparse_categorical_accuracy did not improve from 0.23580\n",
            "Epoch 11/100\n",
            "178/178 - 1s - loss: 2.5269 - sparse_categorical_crossentropy: 2.0974 - sparse_categorical_accuracy: 0.2788 - scaled_adversarial_loss: 0.4295 - val_loss: 2.4959 - val_sparse_categorical_crossentropy: 2.0712 - val_sparse_categorical_accuracy: 0.3125 - val_scaled_adversarial_loss: 0.4247\n",
            "\n",
            "Epoch 00011: val_sparse_categorical_accuracy improved from 0.23580 to 0.31250, saving model to /checkpoints\n",
            "Epoch 12/100\n",
            "178/178 - 1s - loss: 2.4350 - sparse_categorical_crossentropy: 2.0222 - sparse_categorical_accuracy: 0.3038 - scaled_adversarial_loss: 0.4128 - val_loss: 2.4112 - val_sparse_categorical_crossentropy: 1.9989 - val_sparse_categorical_accuracy: 0.3352 - val_scaled_adversarial_loss: 0.4123\n",
            "\n",
            "Epoch 00012: val_sparse_categorical_accuracy improved from 0.31250 to 0.33523, saving model to /checkpoints\n",
            "Epoch 13/100\n",
            "178/178 - 1s - loss: 2.3756 - sparse_categorical_crossentropy: 1.9760 - sparse_categorical_accuracy: 0.3222 - scaled_adversarial_loss: 0.3996 - val_loss: 2.3750 - val_sparse_categorical_crossentropy: 1.9685 - val_sparse_categorical_accuracy: 0.3722 - val_scaled_adversarial_loss: 0.4065\n",
            "\n",
            "Epoch 00013: val_sparse_categorical_accuracy improved from 0.33523 to 0.37216, saving model to /checkpoints\n",
            "Epoch 14/100\n",
            "178/178 - 1s - loss: 2.2999 - sparse_categorical_crossentropy: 1.9149 - sparse_categorical_accuracy: 0.3454 - scaled_adversarial_loss: 0.3850 - val_loss: 2.3420 - val_sparse_categorical_crossentropy: 1.9406 - val_sparse_categorical_accuracy: 0.3778 - val_scaled_adversarial_loss: 0.4014\n",
            "\n",
            "Epoch 00014: val_sparse_categorical_accuracy improved from 0.37216 to 0.37784, saving model to /checkpoints\n",
            "Epoch 15/100\n",
            "178/178 - 1s - loss: 2.1966 - sparse_categorical_crossentropy: 1.8247 - sparse_categorical_accuracy: 0.3683 - scaled_adversarial_loss: 0.3718 - val_loss: 2.3070 - val_sparse_categorical_crossentropy: 1.9090 - val_sparse_categorical_accuracy: 0.3551 - val_scaled_adversarial_loss: 0.3980\n",
            "\n",
            "Epoch 00015: val_sparse_categorical_accuracy did not improve from 0.37784\n",
            "Epoch 16/100\n",
            "178/178 - 1s - loss: 2.1181 - sparse_categorical_crossentropy: 1.7578 - sparse_categorical_accuracy: 0.3877 - scaled_adversarial_loss: 0.3603 - val_loss: 2.1904 - val_sparse_categorical_crossentropy: 1.8116 - val_sparse_categorical_accuracy: 0.4205 - val_scaled_adversarial_loss: 0.3788\n",
            "\n",
            "Epoch 00016: val_sparse_categorical_accuracy improved from 0.37784 to 0.42045, saving model to /checkpoints\n",
            "Epoch 17/100\n",
            "178/178 - 1s - loss: 2.0621 - sparse_categorical_crossentropy: 1.7157 - sparse_categorical_accuracy: 0.3916 - scaled_adversarial_loss: 0.3464 - val_loss: 2.1510 - val_sparse_categorical_crossentropy: 1.7785 - val_sparse_categorical_accuracy: 0.4034 - val_scaled_adversarial_loss: 0.3725\n",
            "\n",
            "Epoch 00017: val_sparse_categorical_accuracy did not improve from 0.42045\n",
            "Epoch 18/100\n",
            "178/178 - 1s - loss: 2.0221 - sparse_categorical_crossentropy: 1.6836 - sparse_categorical_accuracy: 0.4233 - scaled_adversarial_loss: 0.3384 - val_loss: 2.0970 - val_sparse_categorical_crossentropy: 1.7319 - val_sparse_categorical_accuracy: 0.4375 - val_scaled_adversarial_loss: 0.3651\n",
            "\n",
            "Epoch 00018: val_sparse_categorical_accuracy improved from 0.42045 to 0.43750, saving model to /checkpoints\n",
            "Epoch 19/100\n",
            "178/178 - 1s - loss: 1.9590 - sparse_categorical_crossentropy: 1.6281 - sparse_categorical_accuracy: 0.4448 - scaled_adversarial_loss: 0.3309 - val_loss: 2.0961 - val_sparse_categorical_crossentropy: 1.7303 - val_sparse_categorical_accuracy: 0.4290 - val_scaled_adversarial_loss: 0.3658\n",
            "\n",
            "Epoch 00019: val_sparse_categorical_accuracy did not improve from 0.43750\n",
            "Epoch 20/100\n",
            "178/178 - 1s - loss: 1.8536 - sparse_categorical_crossentropy: 1.5353 - sparse_categorical_accuracy: 0.4681 - scaled_adversarial_loss: 0.3183 - val_loss: 2.0297 - val_sparse_categorical_crossentropy: 1.6722 - val_sparse_categorical_accuracy: 0.4659 - val_scaled_adversarial_loss: 0.3575\n",
            "\n",
            "Epoch 00020: val_sparse_categorical_accuracy improved from 0.43750 to 0.46591, saving model to /checkpoints\n",
            "Epoch 21/100\n",
            "178/178 - 1s - loss: 1.8281 - sparse_categorical_crossentropy: 1.5221 - sparse_categorical_accuracy: 0.4737 - scaled_adversarial_loss: 0.3060 - val_loss: 2.0241 - val_sparse_categorical_crossentropy: 1.6689 - val_sparse_categorical_accuracy: 0.4460 - val_scaled_adversarial_loss: 0.3552\n",
            "\n",
            "Epoch 00021: val_sparse_categorical_accuracy did not improve from 0.46591\n",
            "Epoch 22/100\n",
            "178/178 - 1s - loss: 1.7163 - sparse_categorical_crossentropy: 1.4224 - sparse_categorical_accuracy: 0.5012 - scaled_adversarial_loss: 0.2939 - val_loss: 2.0097 - val_sparse_categorical_crossentropy: 1.6547 - val_sparse_categorical_accuracy: 0.4517 - val_scaled_adversarial_loss: 0.3550\n",
            "\n",
            "Epoch 00022: val_sparse_categorical_accuracy did not improve from 0.46591\n",
            "Epoch 23/100\n",
            "178/178 - 1s - loss: 1.7085 - sparse_categorical_crossentropy: 1.4155 - sparse_categorical_accuracy: 0.5143 - scaled_adversarial_loss: 0.2929 - val_loss: 1.9366 - val_sparse_categorical_crossentropy: 1.5944 - val_sparse_categorical_accuracy: 0.4716 - val_scaled_adversarial_loss: 0.3423\n",
            "\n",
            "Epoch 00023: val_sparse_categorical_accuracy improved from 0.46591 to 0.47159, saving model to /checkpoints\n",
            "Epoch 24/100\n",
            "178/178 - 1s - loss: 1.6245 - sparse_categorical_crossentropy: 1.3470 - sparse_categorical_accuracy: 0.5337 - scaled_adversarial_loss: 0.2775 - val_loss: 1.9713 - val_sparse_categorical_crossentropy: 1.6221 - val_sparse_categorical_accuracy: 0.5057 - val_scaled_adversarial_loss: 0.3492\n",
            "\n",
            "Epoch 00024: val_sparse_categorical_accuracy improved from 0.47159 to 0.50568, saving model to /checkpoints\n",
            "Epoch 25/100\n",
            "178/178 - 1s - loss: 1.5898 - sparse_categorical_crossentropy: 1.3210 - sparse_categorical_accuracy: 0.5428 - scaled_adversarial_loss: 0.2688 - val_loss: 1.9245 - val_sparse_categorical_crossentropy: 1.5819 - val_sparse_categorical_accuracy: 0.5057 - val_scaled_adversarial_loss: 0.3426\n",
            "\n",
            "Epoch 00025: val_sparse_categorical_accuracy did not improve from 0.50568\n",
            "Epoch 26/100\n",
            "178/178 - 1s - loss: 1.5542 - sparse_categorical_crossentropy: 1.2949 - sparse_categorical_accuracy: 0.5499 - scaled_adversarial_loss: 0.2594 - val_loss: 2.0470 - val_sparse_categorical_crossentropy: 1.6832 - val_sparse_categorical_accuracy: 0.4830 - val_scaled_adversarial_loss: 0.3638\n",
            "\n",
            "Epoch 00026: val_sparse_categorical_accuracy did not improve from 0.50568\n",
            "Epoch 27/100\n",
            "178/178 - 1s - loss: 1.5113 - sparse_categorical_crossentropy: 1.2524 - sparse_categorical_accuracy: 0.5788 - scaled_adversarial_loss: 0.2590 - val_loss: 1.8994 - val_sparse_categorical_crossentropy: 1.5602 - val_sparse_categorical_accuracy: 0.4915 - val_scaled_adversarial_loss: 0.3391\n",
            "\n",
            "Epoch 00027: val_sparse_categorical_accuracy did not improve from 0.50568\n",
            "Epoch 28/100\n",
            "178/178 - 1s - loss: 1.4942 - sparse_categorical_crossentropy: 1.2431 - sparse_categorical_accuracy: 0.5784 - scaled_adversarial_loss: 0.2511 - val_loss: 1.9464 - val_sparse_categorical_crossentropy: 1.5983 - val_sparse_categorical_accuracy: 0.4688 - val_scaled_adversarial_loss: 0.3480\n",
            "\n",
            "Epoch 00028: val_sparse_categorical_accuracy did not improve from 0.50568\n",
            "Epoch 29/100\n",
            "178/178 - 1s - loss: 1.4141 - sparse_categorical_crossentropy: 1.1723 - sparse_categorical_accuracy: 0.5968 - scaled_adversarial_loss: 0.2417 - val_loss: 1.8748 - val_sparse_categorical_crossentropy: 1.5387 - val_sparse_categorical_accuracy: 0.5199 - val_scaled_adversarial_loss: 0.3361\n",
            "\n",
            "Epoch 00029: val_sparse_categorical_accuracy improved from 0.50568 to 0.51989, saving model to /checkpoints\n",
            "Epoch 30/100\n",
            "178/178 - 1s - loss: 1.3760 - sparse_categorical_crossentropy: 1.1415 - sparse_categorical_accuracy: 0.6151 - scaled_adversarial_loss: 0.2345 - val_loss: 1.8738 - val_sparse_categorical_crossentropy: 1.5368 - val_sparse_categorical_accuracy: 0.4972 - val_scaled_adversarial_loss: 0.3370\n",
            "\n",
            "Epoch 00030: val_sparse_categorical_accuracy did not improve from 0.51989\n",
            "Epoch 31/100\n",
            "178/178 - 1s - loss: 1.4091 - sparse_categorical_crossentropy: 1.1720 - sparse_categorical_accuracy: 0.5816 - scaled_adversarial_loss: 0.2370 - val_loss: 1.8340 - val_sparse_categorical_crossentropy: 1.5035 - val_sparse_categorical_accuracy: 0.5312 - val_scaled_adversarial_loss: 0.3305\n",
            "\n",
            "Epoch 00031: val_sparse_categorical_accuracy improved from 0.51989 to 0.53125, saving model to /checkpoints\n",
            "Epoch 32/100\n",
            "178/178 - 1s - loss: 1.2913 - sparse_categorical_crossentropy: 1.0660 - sparse_categorical_accuracy: 0.6285 - scaled_adversarial_loss: 0.2253 - val_loss: 1.8656 - val_sparse_categorical_crossentropy: 1.5272 - val_sparse_categorical_accuracy: 0.5199 - val_scaled_adversarial_loss: 0.3384\n",
            "\n",
            "Epoch 00032: val_sparse_categorical_accuracy did not improve from 0.53125\n",
            "Epoch 33/100\n",
            "178/178 - 1s - loss: 1.2995 - sparse_categorical_crossentropy: 1.0785 - sparse_categorical_accuracy: 0.6380 - scaled_adversarial_loss: 0.2210 - val_loss: 1.8497 - val_sparse_categorical_crossentropy: 1.5148 - val_sparse_categorical_accuracy: 0.5057 - val_scaled_adversarial_loss: 0.3349\n",
            "\n",
            "Epoch 00033: val_sparse_categorical_accuracy did not improve from 0.53125\n",
            "Epoch 34/100\n",
            "178/178 - 1s - loss: 1.2275 - sparse_categorical_crossentropy: 1.0187 - sparse_categorical_accuracy: 0.6475 - scaled_adversarial_loss: 0.2088 - val_loss: 1.9472 - val_sparse_categorical_crossentropy: 1.5898 - val_sparse_categorical_accuracy: 0.5284 - val_scaled_adversarial_loss: 0.3574\n",
            "\n",
            "Epoch 00034: val_sparse_categorical_accuracy did not improve from 0.53125\n",
            "Epoch 35/100\n",
            "178/178 - 1s - loss: 1.2408 - sparse_categorical_crossentropy: 1.0283 - sparse_categorical_accuracy: 0.6482 - scaled_adversarial_loss: 0.2125 - val_loss: 1.8990 - val_sparse_categorical_crossentropy: 1.5511 - val_sparse_categorical_accuracy: 0.5426 - val_scaled_adversarial_loss: 0.3479\n",
            "\n",
            "Epoch 00035: val_sparse_categorical_accuracy improved from 0.53125 to 0.54261, saving model to /checkpoints\n",
            "Epoch 36/100\n",
            "178/178 - 1s - loss: 1.2133 - sparse_categorical_crossentropy: 1.0009 - sparse_categorical_accuracy: 0.6606 - scaled_adversarial_loss: 0.2124 - val_loss: 2.0003 - val_sparse_categorical_crossentropy: 1.6335 - val_sparse_categorical_accuracy: 0.5028 - val_scaled_adversarial_loss: 0.3668\n",
            "\n",
            "Epoch 00036: val_sparse_categorical_accuracy did not improve from 0.54261\n",
            "Epoch 37/100\n",
            "178/178 - 1s - loss: 1.2030 - sparse_categorical_crossentropy: 0.9963 - sparse_categorical_accuracy: 0.6588 - scaled_adversarial_loss: 0.2067 - val_loss: 1.8447 - val_sparse_categorical_crossentropy: 1.5051 - val_sparse_categorical_accuracy: 0.5170 - val_scaled_adversarial_loss: 0.3396\n",
            "\n",
            "Epoch 00037: val_sparse_categorical_accuracy did not improve from 0.54261\n",
            "Epoch 38/100\n",
            "178/178 - 1s - loss: 1.1487 - sparse_categorical_crossentropy: 0.9551 - sparse_categorical_accuracy: 0.6771 - scaled_adversarial_loss: 0.1937 - val_loss: 1.9014 - val_sparse_categorical_crossentropy: 1.5512 - val_sparse_categorical_accuracy: 0.4858 - val_scaled_adversarial_loss: 0.3502\n",
            "\n",
            "Epoch 00038: val_sparse_categorical_accuracy did not improve from 0.54261\n",
            "Epoch 39/100\n",
            "178/178 - 1s - loss: 1.0803 - sparse_categorical_crossentropy: 0.8929 - sparse_categorical_accuracy: 0.6937 - scaled_adversarial_loss: 0.1874 - val_loss: 1.7901 - val_sparse_categorical_crossentropy: 1.4582 - val_sparse_categorical_accuracy: 0.5426 - val_scaled_adversarial_loss: 0.3318\n",
            "\n",
            "Epoch 00039: val_sparse_categorical_accuracy did not improve from 0.54261\n",
            "Epoch 40/100\n",
            "178/178 - 1s - loss: 1.0127 - sparse_categorical_crossentropy: 0.8300 - sparse_categorical_accuracy: 0.7046 - scaled_adversarial_loss: 0.1826 - val_loss: 1.8764 - val_sparse_categorical_crossentropy: 1.5282 - val_sparse_categorical_accuracy: 0.5568 - val_scaled_adversarial_loss: 0.3481\n",
            "\n",
            "Epoch 00040: val_sparse_categorical_accuracy improved from 0.54261 to 0.55682, saving model to /checkpoints\n",
            "Epoch 41/100\n",
            "178/178 - 1s - loss: 1.1180 - sparse_categorical_crossentropy: 0.9292 - sparse_categorical_accuracy: 0.6863 - scaled_adversarial_loss: 0.1888 - val_loss: 1.9231 - val_sparse_categorical_crossentropy: 1.5651 - val_sparse_categorical_accuracy: 0.5256 - val_scaled_adversarial_loss: 0.3580\n",
            "\n",
            "Epoch 00041: val_sparse_categorical_accuracy did not improve from 0.55682\n",
            "\n",
            "Epoch 00041: ReduceLROnPlateau reducing learning rate to 0.000800000037997961.\n",
            "Epoch 42/100\n",
            "178/178 - 1s - loss: 1.0205 - sparse_categorical_crossentropy: 0.8454 - sparse_categorical_accuracy: 0.7141 - scaled_adversarial_loss: 0.1751 - val_loss: 1.9179 - val_sparse_categorical_crossentropy: 1.5599 - val_sparse_categorical_accuracy: 0.5426 - val_scaled_adversarial_loss: 0.3581\n",
            "\n",
            "Epoch 00042: val_sparse_categorical_accuracy did not improve from 0.55682\n",
            "Epoch 43/100\n",
            "178/178 - 1s - loss: 1.0064 - sparse_categorical_crossentropy: 0.8395 - sparse_categorical_accuracy: 0.7177 - scaled_adversarial_loss: 0.1669 - val_loss: 1.8213 - val_sparse_categorical_crossentropy: 1.4826 - val_sparse_categorical_accuracy: 0.5455 - val_scaled_adversarial_loss: 0.3387\n",
            "\n",
            "Epoch 00043: val_sparse_categorical_accuracy did not improve from 0.55682\n",
            "Epoch 44/100\n",
            "178/178 - 1s - loss: 0.9624 - sparse_categorical_crossentropy: 0.7959 - sparse_categorical_accuracy: 0.7296 - scaled_adversarial_loss: 0.1665 - val_loss: 2.1336 - val_sparse_categorical_crossentropy: 1.7379 - val_sparse_categorical_accuracy: 0.4773 - val_scaled_adversarial_loss: 0.3956\n",
            "\n",
            "Epoch 00044: val_sparse_categorical_accuracy did not improve from 0.55682\n",
            "Epoch 45/100\n",
            "178/178 - 1s - loss: 0.9110 - sparse_categorical_crossentropy: 0.7519 - sparse_categorical_accuracy: 0.7455 - scaled_adversarial_loss: 0.1591 - val_loss: 1.8129 - val_sparse_categorical_crossentropy: 1.4720 - val_sparse_categorical_accuracy: 0.5739 - val_scaled_adversarial_loss: 0.3409\n",
            "\n",
            "Epoch 00045: val_sparse_categorical_accuracy improved from 0.55682 to 0.57386, saving model to /checkpoints\n",
            "Epoch 46/100\n",
            "178/178 - 1s - loss: 0.9080 - sparse_categorical_crossentropy: 0.7506 - sparse_categorical_accuracy: 0.7480 - scaled_adversarial_loss: 0.1574 - val_loss: 1.8580 - val_sparse_categorical_crossentropy: 1.5105 - val_sparse_categorical_accuracy: 0.5739 - val_scaled_adversarial_loss: 0.3475\n",
            "\n",
            "Epoch 00046: val_sparse_categorical_accuracy did not improve from 0.57386\n",
            "Epoch 47/100\n",
            "178/178 - 1s - loss: 0.8799 - sparse_categorical_crossentropy: 0.7251 - sparse_categorical_accuracy: 0.7526 - scaled_adversarial_loss: 0.1548 - val_loss: 1.8145 - val_sparse_categorical_crossentropy: 1.4760 - val_sparse_categorical_accuracy: 0.5682 - val_scaled_adversarial_loss: 0.3386\n",
            "\n",
            "Epoch 00047: val_sparse_categorical_accuracy did not improve from 0.57386\n",
            "Epoch 48/100\n",
            "178/178 - 1s - loss: 0.8629 - sparse_categorical_crossentropy: 0.7159 - sparse_categorical_accuracy: 0.7557 - scaled_adversarial_loss: 0.1470 - val_loss: 1.8561 - val_sparse_categorical_crossentropy: 1.5078 - val_sparse_categorical_accuracy: 0.5653 - val_scaled_adversarial_loss: 0.3483\n",
            "\n",
            "Epoch 00048: val_sparse_categorical_accuracy did not improve from 0.57386\n",
            "Epoch 49/100\n",
            "178/178 - 1s - loss: 0.8722 - sparse_categorical_crossentropy: 0.7192 - sparse_categorical_accuracy: 0.7483 - scaled_adversarial_loss: 0.1530 - val_loss: 1.8503 - val_sparse_categorical_crossentropy: 1.5013 - val_sparse_categorical_accuracy: 0.5511 - val_scaled_adversarial_loss: 0.3489\n",
            "\n",
            "Epoch 00049: val_sparse_categorical_accuracy did not improve from 0.57386\n",
            "Epoch 50/100\n",
            "178/178 - 1s - loss: 0.8263 - sparse_categorical_crossentropy: 0.6753 - sparse_categorical_accuracy: 0.7645 - scaled_adversarial_loss: 0.1511 - val_loss: 1.7956 - val_sparse_categorical_crossentropy: 1.4553 - val_sparse_categorical_accuracy: 0.5795 - val_scaled_adversarial_loss: 0.3403\n",
            "\n",
            "Epoch 00050: val_sparse_categorical_accuracy improved from 0.57386 to 0.57955, saving model to /checkpoints\n",
            "Epoch 51/100\n",
            "178/178 - 1s - loss: 0.8327 - sparse_categorical_crossentropy: 0.6980 - sparse_categorical_accuracy: 0.7600 - scaled_adversarial_loss: 0.1347 - val_loss: 1.9824 - val_sparse_categorical_crossentropy: 1.6073 - val_sparse_categorical_accuracy: 0.5312 - val_scaled_adversarial_loss: 0.3752\n",
            "\n",
            "Epoch 00051: val_sparse_categorical_accuracy did not improve from 0.57955\n",
            "\n",
            "Epoch 00051: ReduceLROnPlateau reducing learning rate to 0.0006400000303983689.\n",
            "Epoch 52/100\n",
            "178/178 - 1s - loss: 0.8081 - sparse_categorical_crossentropy: 0.6669 - sparse_categorical_accuracy: 0.7783 - scaled_adversarial_loss: 0.1412 - val_loss: 1.9079 - val_sparse_categorical_crossentropy: 1.5491 - val_sparse_categorical_accuracy: 0.5426 - val_scaled_adversarial_loss: 0.3588\n",
            "\n",
            "Epoch 00052: val_sparse_categorical_accuracy did not improve from 0.57955\n",
            "Epoch 53/100\n",
            "178/178 - 1s - loss: 0.7464 - sparse_categorical_crossentropy: 0.6159 - sparse_categorical_accuracy: 0.7871 - scaled_adversarial_loss: 0.1305 - val_loss: 1.7478 - val_sparse_categorical_crossentropy: 1.4153 - val_sparse_categorical_accuracy: 0.5824 - val_scaled_adversarial_loss: 0.3325\n",
            "\n",
            "Epoch 00053: val_sparse_categorical_accuracy improved from 0.57955 to 0.58239, saving model to /checkpoints\n",
            "Epoch 54/100\n",
            "178/178 - 1s - loss: 0.7791 - sparse_categorical_crossentropy: 0.6452 - sparse_categorical_accuracy: 0.7659 - scaled_adversarial_loss: 0.1339 - val_loss: 1.8114 - val_sparse_categorical_crossentropy: 1.4689 - val_sparse_categorical_accuracy: 0.5824 - val_scaled_adversarial_loss: 0.3425\n",
            "\n",
            "Epoch 00054: val_sparse_categorical_accuracy did not improve from 0.58239\n",
            "Epoch 55/100\n",
            "178/178 - 1s - loss: 0.6997 - sparse_categorical_crossentropy: 0.5749 - sparse_categorical_accuracy: 0.8058 - scaled_adversarial_loss: 0.1248 - val_loss: 1.9424 - val_sparse_categorical_crossentropy: 1.5736 - val_sparse_categorical_accuracy: 0.5682 - val_scaled_adversarial_loss: 0.3688\n",
            "\n",
            "Epoch 00055: val_sparse_categorical_accuracy did not improve from 0.58239\n",
            "Epoch 56/100\n",
            "178/178 - 1s - loss: 0.6933 - sparse_categorical_crossentropy: 0.5684 - sparse_categorical_accuracy: 0.8058 - scaled_adversarial_loss: 0.1249 - val_loss: 1.7787 - val_sparse_categorical_crossentropy: 1.4406 - val_sparse_categorical_accuracy: 0.5994 - val_scaled_adversarial_loss: 0.3381\n",
            "\n",
            "Epoch 00056: val_sparse_categorical_accuracy improved from 0.58239 to 0.59943, saving model to /checkpoints\n",
            "Epoch 57/100\n",
            "178/178 - 1s - loss: 0.6908 - sparse_categorical_crossentropy: 0.5711 - sparse_categorical_accuracy: 0.8026 - scaled_adversarial_loss: 0.1197 - val_loss: 1.8587 - val_sparse_categorical_crossentropy: 1.5048 - val_sparse_categorical_accuracy: 0.5881 - val_scaled_adversarial_loss: 0.3539\n",
            "\n",
            "Epoch 00057: val_sparse_categorical_accuracy did not improve from 0.59943\n",
            "Epoch 58/100\n",
            "178/178 - 1s - loss: 0.7069 - sparse_categorical_crossentropy: 0.5850 - sparse_categorical_accuracy: 0.7963 - scaled_adversarial_loss: 0.1220 - val_loss: 1.9898 - val_sparse_categorical_crossentropy: 1.6101 - val_sparse_categorical_accuracy: 0.5597 - val_scaled_adversarial_loss: 0.3797\n",
            "\n",
            "Epoch 00058: val_sparse_categorical_accuracy did not improve from 0.59943\n",
            "Epoch 59/100\n",
            "178/178 - 1s - loss: 0.6944 - sparse_categorical_crossentropy: 0.5782 - sparse_categorical_accuracy: 0.8146 - scaled_adversarial_loss: 0.1162 - val_loss: 2.1107 - val_sparse_categorical_crossentropy: 1.7066 - val_sparse_categorical_accuracy: 0.5227 - val_scaled_adversarial_loss: 0.4041\n",
            "\n",
            "Epoch 00059: val_sparse_categorical_accuracy did not improve from 0.59943\n",
            "Epoch 60/100\n",
            "178/178 - 1s - loss: 0.7060 - sparse_categorical_crossentropy: 0.5873 - sparse_categorical_accuracy: 0.8058 - scaled_adversarial_loss: 0.1187 - val_loss: 1.9098 - val_sparse_categorical_crossentropy: 1.5413 - val_sparse_categorical_accuracy: 0.5739 - val_scaled_adversarial_loss: 0.3685\n",
            "\n",
            "Epoch 00060: val_sparse_categorical_accuracy did not improve from 0.59943\n",
            "Epoch 61/100\n",
            "178/178 - 1s - loss: 0.6899 - sparse_categorical_crossentropy: 0.5720 - sparse_categorical_accuracy: 0.8061 - scaled_adversarial_loss: 0.1179 - val_loss: 1.9460 - val_sparse_categorical_crossentropy: 1.5773 - val_sparse_categorical_accuracy: 0.5938 - val_scaled_adversarial_loss: 0.3687\n",
            "\n",
            "Epoch 00061: val_sparse_categorical_accuracy did not improve from 0.59943\n",
            "\n",
            "Epoch 00061: ReduceLROnPlateau reducing learning rate to 0.0005120000336319208.\n",
            "Epoch 62/100\n",
            "178/178 - 1s - loss: 0.6449 - sparse_categorical_crossentropy: 0.5316 - sparse_categorical_accuracy: 0.8128 - scaled_adversarial_loss: 0.1132 - val_loss: 1.7911 - val_sparse_categorical_crossentropy: 1.4497 - val_sparse_categorical_accuracy: 0.5795 - val_scaled_adversarial_loss: 0.3414\n",
            "\n",
            "Epoch 00062: val_sparse_categorical_accuracy did not improve from 0.59943\n",
            "Epoch 63/100\n",
            "178/178 - 1s - loss: 0.6099 - sparse_categorical_crossentropy: 0.5050 - sparse_categorical_accuracy: 0.8266 - scaled_adversarial_loss: 0.1049 - val_loss: 1.8454 - val_sparse_categorical_crossentropy: 1.4926 - val_sparse_categorical_accuracy: 0.6051 - val_scaled_adversarial_loss: 0.3528\n",
            "\n",
            "Epoch 00063: val_sparse_categorical_accuracy improved from 0.59943 to 0.60511, saving model to /checkpoints\n",
            "Epoch 64/100\n",
            "178/178 - 1s - loss: 0.6148 - sparse_categorical_crossentropy: 0.5076 - sparse_categorical_accuracy: 0.8336 - scaled_adversarial_loss: 0.1072 - val_loss: 1.8858 - val_sparse_categorical_crossentropy: 1.5266 - val_sparse_categorical_accuracy: 0.5881 - val_scaled_adversarial_loss: 0.3591\n",
            "\n",
            "Epoch 00064: val_sparse_categorical_accuracy did not improve from 0.60511\n",
            "Epoch 65/100\n",
            "178/178 - 1s - loss: 0.6088 - sparse_categorical_crossentropy: 0.5023 - sparse_categorical_accuracy: 0.8297 - scaled_adversarial_loss: 0.1065 - val_loss: 1.8594 - val_sparse_categorical_crossentropy: 1.5055 - val_sparse_categorical_accuracy: 0.5767 - val_scaled_adversarial_loss: 0.3539\n",
            "\n",
            "Epoch 00065: val_sparse_categorical_accuracy did not improve from 0.60511\n",
            "Epoch 66/100\n",
            "178/178 - 1s - loss: 0.6012 - sparse_categorical_crossentropy: 0.4983 - sparse_categorical_accuracy: 0.8287 - scaled_adversarial_loss: 0.1028 - val_loss: 1.9865 - val_sparse_categorical_crossentropy: 1.6078 - val_sparse_categorical_accuracy: 0.5881 - val_scaled_adversarial_loss: 0.3787\n",
            "\n",
            "Epoch 00066: val_sparse_categorical_accuracy did not improve from 0.60511\n",
            "Epoch 67/100\n",
            "178/178 - 1s - loss: 0.5912 - sparse_categorical_crossentropy: 0.4912 - sparse_categorical_accuracy: 0.8315 - scaled_adversarial_loss: 0.1000 - val_loss: 1.9053 - val_sparse_categorical_crossentropy: 1.5435 - val_sparse_categorical_accuracy: 0.5966 - val_scaled_adversarial_loss: 0.3618\n",
            "\n",
            "Epoch 00067: val_sparse_categorical_accuracy did not improve from 0.60511\n",
            "Epoch 68/100\n",
            "178/178 - 1s - loss: 0.5511 - sparse_categorical_crossentropy: 0.4531 - sparse_categorical_accuracy: 0.8438 - scaled_adversarial_loss: 0.0981 - val_loss: 1.9531 - val_sparse_categorical_crossentropy: 1.5816 - val_sparse_categorical_accuracy: 0.5966 - val_scaled_adversarial_loss: 0.3715\n",
            "\n",
            "Epoch 00068: val_sparse_categorical_accuracy did not improve from 0.60511\n",
            "Epoch 69/100\n",
            "178/178 - 1s - loss: 0.5974 - sparse_categorical_crossentropy: 0.4902 - sparse_categorical_accuracy: 0.8294 - scaled_adversarial_loss: 0.1072 - val_loss: 1.8359 - val_sparse_categorical_crossentropy: 1.4835 - val_sparse_categorical_accuracy: 0.5852 - val_scaled_adversarial_loss: 0.3524\n",
            "\n",
            "Epoch 00069: val_sparse_categorical_accuracy did not improve from 0.60511\n",
            "Epoch 70/100\n",
            "178/178 - 1s - loss: 0.5761 - sparse_categorical_crossentropy: 0.4758 - sparse_categorical_accuracy: 0.8435 - scaled_adversarial_loss: 0.1002 - val_loss: 1.9674 - val_sparse_categorical_crossentropy: 1.5927 - val_sparse_categorical_accuracy: 0.5852 - val_scaled_adversarial_loss: 0.3748\n",
            "\n",
            "Epoch 00070: val_sparse_categorical_accuracy did not improve from 0.60511\n",
            "Epoch 71/100\n",
            "178/178 - 1s - loss: 0.5585 - sparse_categorical_crossentropy: 0.4632 - sparse_categorical_accuracy: 0.8470 - scaled_adversarial_loss: 0.0953 - val_loss: 1.8768 - val_sparse_categorical_crossentropy: 1.5169 - val_sparse_categorical_accuracy: 0.6278 - val_scaled_adversarial_loss: 0.3599\n",
            "\n",
            "Epoch 00071: val_sparse_categorical_accuracy improved from 0.60511 to 0.62784, saving model to /checkpoints\n",
            "\n",
            "Epoch 00071: ReduceLROnPlateau reducing learning rate to 0.00040960004553198815.\n",
            "Epoch 72/100\n",
            "178/178 - 1s - loss: 0.5462 - sparse_categorical_crossentropy: 0.4556 - sparse_categorical_accuracy: 0.8435 - scaled_adversarial_loss: 0.0906 - val_loss: 1.9139 - val_sparse_categorical_crossentropy: 1.5460 - val_sparse_categorical_accuracy: 0.5824 - val_scaled_adversarial_loss: 0.3679\n",
            "\n",
            "Epoch 00072: val_sparse_categorical_accuracy did not improve from 0.62784\n",
            "Epoch 73/100\n",
            "178/178 - 1s - loss: 0.5172 - sparse_categorical_crossentropy: 0.4259 - sparse_categorical_accuracy: 0.8565 - scaled_adversarial_loss: 0.0913 - val_loss: 1.9469 - val_sparse_categorical_crossentropy: 1.5724 - val_sparse_categorical_accuracy: 0.5966 - val_scaled_adversarial_loss: 0.3745\n",
            "\n",
            "Epoch 00073: val_sparse_categorical_accuracy did not improve from 0.62784\n",
            "Epoch 74/100\n",
            "178/178 - 1s - loss: 0.5184 - sparse_categorical_crossentropy: 0.4306 - sparse_categorical_accuracy: 0.8513 - scaled_adversarial_loss: 0.0878 - val_loss: 2.0774 - val_sparse_categorical_crossentropy: 1.6738 - val_sparse_categorical_accuracy: 0.5824 - val_scaled_adversarial_loss: 0.4037\n",
            "\n",
            "Epoch 00074: val_sparse_categorical_accuracy did not improve from 0.62784\n",
            "Epoch 75/100\n",
            "178/178 - 1s - loss: 0.5196 - sparse_categorical_crossentropy: 0.4287 - sparse_categorical_accuracy: 0.8615 - scaled_adversarial_loss: 0.0909 - val_loss: 1.9972 - val_sparse_categorical_crossentropy: 1.6098 - val_sparse_categorical_accuracy: 0.5909 - val_scaled_adversarial_loss: 0.3874\n",
            "\n",
            "Epoch 00075: val_sparse_categorical_accuracy did not improve from 0.62784\n",
            "Epoch 76/100\n",
            "178/178 - 1s - loss: 0.5282 - sparse_categorical_crossentropy: 0.4368 - sparse_categorical_accuracy: 0.8474 - scaled_adversarial_loss: 0.0914 - val_loss: 1.9459 - val_sparse_categorical_crossentropy: 1.5739 - val_sparse_categorical_accuracy: 0.5966 - val_scaled_adversarial_loss: 0.3720\n",
            "\n",
            "Epoch 00076: val_sparse_categorical_accuracy did not improve from 0.62784\n",
            "Epoch 77/100\n",
            "178/178 - 1s - loss: 0.4974 - sparse_categorical_crossentropy: 0.4126 - sparse_categorical_accuracy: 0.8562 - scaled_adversarial_loss: 0.0848 - val_loss: 1.9923 - val_sparse_categorical_crossentropy: 1.6055 - val_sparse_categorical_accuracy: 0.5767 - val_scaled_adversarial_loss: 0.3869\n",
            "\n",
            "Epoch 00077: val_sparse_categorical_accuracy did not improve from 0.62784\n",
            "Epoch 78/100\n",
            "178/178 - 1s - loss: 0.4849 - sparse_categorical_crossentropy: 0.4025 - sparse_categorical_accuracy: 0.8639 - scaled_adversarial_loss: 0.0824 - val_loss: 1.8653 - val_sparse_categorical_crossentropy: 1.5051 - val_sparse_categorical_accuracy: 0.6165 - val_scaled_adversarial_loss: 0.3602\n",
            "\n",
            "Epoch 00078: val_sparse_categorical_accuracy did not improve from 0.62784\n",
            "Epoch 79/100\n",
            "178/178 - 1s - loss: 0.4825 - sparse_categorical_crossentropy: 0.3979 - sparse_categorical_accuracy: 0.8611 - scaled_adversarial_loss: 0.0846 - val_loss: 2.0569 - val_sparse_categorical_crossentropy: 1.6599 - val_sparse_categorical_accuracy: 0.5966 - val_scaled_adversarial_loss: 0.3970\n",
            "\n",
            "Epoch 00079: val_sparse_categorical_accuracy did not improve from 0.62784\n",
            "Epoch 80/100\n",
            "178/178 - 1s - loss: 0.4640 - sparse_categorical_crossentropy: 0.3797 - sparse_categorical_accuracy: 0.8675 - scaled_adversarial_loss: 0.0842 - val_loss: 1.9732 - val_sparse_categorical_crossentropy: 1.5925 - val_sparse_categorical_accuracy: 0.6080 - val_scaled_adversarial_loss: 0.3807\n",
            "\n",
            "Epoch 00080: val_sparse_categorical_accuracy did not improve from 0.62784\n",
            "Epoch 81/100\n",
            "178/178 - 1s - loss: 0.4652 - sparse_categorical_crossentropy: 0.3782 - sparse_categorical_accuracy: 0.8720 - scaled_adversarial_loss: 0.0870 - val_loss: 2.0597 - val_sparse_categorical_crossentropy: 1.6636 - val_sparse_categorical_accuracy: 0.6108 - val_scaled_adversarial_loss: 0.3961\n",
            "\n",
            "Epoch 00081: val_sparse_categorical_accuracy did not improve from 0.62784\n",
            "\n",
            "Epoch 00081: ReduceLROnPlateau reducing learning rate to 0.00032768002711236477.\n",
            "Epoch 82/100\n",
            "178/178 - 1s - loss: 0.4724 - sparse_categorical_crossentropy: 0.3852 - sparse_categorical_accuracy: 0.8692 - scaled_adversarial_loss: 0.0872 - val_loss: 1.9290 - val_sparse_categorical_crossentropy: 1.5565 - val_sparse_categorical_accuracy: 0.5966 - val_scaled_adversarial_loss: 0.3726\n",
            "\n",
            "Epoch 00082: val_sparse_categorical_accuracy did not improve from 0.62784\n",
            "Epoch 83/100\n",
            "178/178 - 1s - loss: 0.4533 - sparse_categorical_crossentropy: 0.3749 - sparse_categorical_accuracy: 0.8738 - scaled_adversarial_loss: 0.0784 - val_loss: 1.9352 - val_sparse_categorical_crossentropy: 1.5604 - val_sparse_categorical_accuracy: 0.6023 - val_scaled_adversarial_loss: 0.3748\n",
            "\n",
            "Epoch 00083: val_sparse_categorical_accuracy did not improve from 0.62784\n",
            "Epoch 84/100\n",
            "178/178 - 1s - loss: 0.4638 - sparse_categorical_crossentropy: 0.3835 - sparse_categorical_accuracy: 0.8706 - scaled_adversarial_loss: 0.0802 - val_loss: 2.0193 - val_sparse_categorical_crossentropy: 1.6300 - val_sparse_categorical_accuracy: 0.6051 - val_scaled_adversarial_loss: 0.3893\n",
            "\n",
            "Epoch 00084: val_sparse_categorical_accuracy did not improve from 0.62784\n",
            "Epoch 85/100\n",
            "178/178 - 1s - loss: 0.4374 - sparse_categorical_crossentropy: 0.3593 - sparse_categorical_accuracy: 0.8738 - scaled_adversarial_loss: 0.0781 - val_loss: 1.9959 - val_sparse_categorical_crossentropy: 1.6097 - val_sparse_categorical_accuracy: 0.6108 - val_scaled_adversarial_loss: 0.3861\n",
            "\n",
            "Epoch 00085: val_sparse_categorical_accuracy did not improve from 0.62784\n",
            "Epoch 86/100\n",
            "178/178 - 1s - loss: 0.4040 - sparse_categorical_crossentropy: 0.3270 - sparse_categorical_accuracy: 0.8879 - scaled_adversarial_loss: 0.0770 - val_loss: 2.0621 - val_sparse_categorical_crossentropy: 1.6621 - val_sparse_categorical_accuracy: 0.5852 - val_scaled_adversarial_loss: 0.4000\n",
            "\n",
            "Epoch 00086: val_sparse_categorical_accuracy did not improve from 0.62784\n",
            "Epoch 87/100\n",
            "178/178 - 1s - loss: 0.4287 - sparse_categorical_crossentropy: 0.3543 - sparse_categorical_accuracy: 0.8795 - scaled_adversarial_loss: 0.0744 - val_loss: 1.9760 - val_sparse_categorical_crossentropy: 1.5939 - val_sparse_categorical_accuracy: 0.6051 - val_scaled_adversarial_loss: 0.3821\n",
            "\n",
            "Epoch 00087: val_sparse_categorical_accuracy did not improve from 0.62784\n",
            "Epoch 88/100\n",
            "178/178 - 1s - loss: 0.4185 - sparse_categorical_crossentropy: 0.3408 - sparse_categorical_accuracy: 0.8847 - scaled_adversarial_loss: 0.0777 - val_loss: 2.0091 - val_sparse_categorical_crossentropy: 1.6202 - val_sparse_categorical_accuracy: 0.6165 - val_scaled_adversarial_loss: 0.3888\n",
            "\n",
            "Epoch 00088: val_sparse_categorical_accuracy did not improve from 0.62784\n",
            "Epoch 89/100\n",
            "178/178 - 1s - loss: 0.4039 - sparse_categorical_crossentropy: 0.3319 - sparse_categorical_accuracy: 0.8943 - scaled_adversarial_loss: 0.0721 - val_loss: 2.0340 - val_sparse_categorical_crossentropy: 1.6393 - val_sparse_categorical_accuracy: 0.5909 - val_scaled_adversarial_loss: 0.3947\n",
            "\n",
            "Epoch 00089: val_sparse_categorical_accuracy did not improve from 0.62784\n",
            "Epoch 90/100\n",
            "178/178 - 1s - loss: 0.4149 - sparse_categorical_crossentropy: 0.3439 - sparse_categorical_accuracy: 0.8816 - scaled_adversarial_loss: 0.0710 - val_loss: 2.0104 - val_sparse_categorical_crossentropy: 1.6212 - val_sparse_categorical_accuracy: 0.6051 - val_scaled_adversarial_loss: 0.3893\n",
            "\n",
            "Epoch 00090: val_sparse_categorical_accuracy did not improve from 0.62784\n",
            "Epoch 91/100\n",
            "178/178 - 1s - loss: 0.4021 - sparse_categorical_crossentropy: 0.3299 - sparse_categorical_accuracy: 0.8904 - scaled_adversarial_loss: 0.0722 - val_loss: 2.1190 - val_sparse_categorical_crossentropy: 1.7097 - val_sparse_categorical_accuracy: 0.6080 - val_scaled_adversarial_loss: 0.4093\n",
            "\n",
            "Epoch 00091: val_sparse_categorical_accuracy did not improve from 0.62784\n",
            "\n",
            "Epoch 00091: ReduceLROnPlateau reducing learning rate to 0.0002621440216898918.\n",
            "Epoch 00091: early stopping\n"
          ],
          "name": "stdout"
        }
      ]
    },
    {
      "cell_type": "code",
      "metadata": {
        "id": "DyNRoZLsBwsv",
        "colab": {
          "base_uri": "https://localhost:8080/",
          "height": 657
        },
        "outputId": "a1ef0b78-b738-4c52-9285-3168b0ce1b42"
      },
      "source": [
        "keras_history_plot(history)"
      ],
      "execution_count": 47,
      "outputs": [
        {
          "output_type": "display_data",
          "data": {
            "image/png": "[encoded data removed]",
            "text/plain": [
              "<Figure size 648x648 with 3 Axes>"
            ]
          },
          "metadata": {
            "tags": [],
            "needs_background": "light"
          }
        }
      ]
    },
    {
      "cell_type": "code",
      "metadata": {
        "id": "AsRQQp0kn7vS",
        "colab": {
          "base_uri": "https://localhost:8080/"
        },
        "outputId": "40f06cee-8a99-484b-f908-5f44c77b7a7b"
      },
      "source": [
        "adv_model.load_weights(model_weights)\n",
        "dict(zip(adv_model.metrics_names,adv_model.evaluate(\n",
        "    {'input':x_test,\n",
        "     'label':np.array(y_test[1],dtype='float32')},\n",
        "     verbose=0)))"
      ],
      "execution_count": 48,
      "outputs": [
        {
          "output_type": "execute_result",
          "data": {
            "text/plain": [
              "{'loss': 1.5734561681747437,\n",
              " 'scaled_adversarial_loss': 0.30919432640075684,\n",
              " 'sparse_categorical_accuracy': 0.6440678238868713,\n",
              " 'sparse_categorical_crossentropy': 1.2642616033554077}"
            ]
          },
          "metadata": {
            "tags": []
          },
          "execution_count": 48
        }
      ]
    }
  ]
}