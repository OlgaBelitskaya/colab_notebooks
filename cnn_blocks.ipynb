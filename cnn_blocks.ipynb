{
  "nbformat": 4,
  "nbformat_minor": 0,
  "metadata": {
    "colab": {
      "name": "cnn_blocks.ipynb",
      "provenance": [],
      "collapsed_sections": []
    },
    "kernelspec": {
      "name": "python3",
      "display_name": "Python 3"
    }
  },
  "cells": [
    {
      "cell_type": "code",
      "metadata": {
        "id": "jP-ZBiNLLNCF"
      },
      "source": [
        "from IPython.display import display,HTML\n",
        "c1,c2,f1,f2,fs1,fs2=\\\n",
        "'#11ff66','#9933ff','Lobster','Aladin',30,14\n",
        "def dhtml(string,font_color=c1,font_family=f1,font_size=fs1):\n",
        "    display(HTML(\"\"\"\n",
        "    <style>@import 'https://fonts.googleapis.com/css?family=\"\"\"\\\n",
        "    +font_family+\"\"\"&effect=3d-float';</style>\n",
        "    <h1 class='font-effect-3d-float' \n",
        "    style='font-family:\"\"\"+font_family+\"\"\"; \n",
        "    color:\"\"\"+font_color+\"\"\"; font-size:\"\"\"+str(font_size)+\"\"\"px;'>\n",
        "    %s</h1>\"\"\"%string))"
      ],
      "execution_count": 11,
      "outputs": []
    },
    {
      "cell_type": "code",
      "metadata": {
        "id": "0jndDZlHM0eh",
        "colab": {
          "base_uri": "https://localhost:8080/",
          "height": 77
        },
        "outputId": "d6720116-b67c-4ee8-ccda-a2d263fb3abc"
      },
      "source": [
        "dhtml('Code Modules, Setting, & Functions')"
      ],
      "execution_count": 12,
      "outputs": [
        {
          "output_type": "display_data",
          "data": {
            "text/html": [
              "\n",
              "    <style>@import 'https://fonts.googleapis.com/css?family=Lobster&effect=3d-float';</style>\n",
              "    <h1 class='font-effect-3d-float' \n",
              "    style='font-family:Lobster; \n",
              "    color:#11ff66; font-size:30px;'>\n",
              "    Code Modules, Setting, & Functions</h1>"
            ],
            "text/plain": [
              "<IPython.core.display.HTML object>"
            ]
          },
          "metadata": {
            "tags": []
          }
        }
      ]
    },
    {
      "cell_type": "code",
      "metadata": {
        "id": "oJnCA2qKPmlF"
      },
      "source": [
        "import warnings; warnings.filterwarnings('ignore')\n",
        "import tensorflow as tf,pylab as pl,pandas as pd,numpy as np\n",
        "import scipy.signal as sps,skimage.measure as skm\n",
        "import tensorflow.keras.layers as tkl\n",
        "import tensorflow.keras.utils as tku\n",
        "from IPython.core.magic import register_line_magic\n",
        "pd.set_option('precision',3)\n",
        "tf.keras.backend.set_floatx('float64')"
      ],
      "execution_count": 13,
      "outputs": []
    },
    {
      "cell_type": "code",
      "metadata": {
        "id": "WW2k_UyYh2Oq",
        "colab": {
          "base_uri": "https://localhost:8080/",
          "height": 77
        },
        "outputId": "06bde843-204c-41c0-ea38-14f8ea8283ca"
      },
      "source": [
        "dhtml('Conv1d Exploration')"
      ],
      "execution_count": 14,
      "outputs": [
        {
          "output_type": "display_data",
          "data": {
            "text/html": [
              "\n",
              "    <style>@import 'https://fonts.googleapis.com/css?family=Lobster&effect=3d-float';</style>\n",
              "    <h1 class='font-effect-3d-float' \n",
              "    style='font-family:Lobster; \n",
              "    color:#11ff66; font-size:30px;'>\n",
              "    Conv1d Exploration</h1>"
            ],
            "text/plain": [
              "<IPython.core.display.HTML object>"
            ]
          },
          "metadata": {
            "tags": []
          }
        }
      ]
    },
    {
      "cell_type": "code",
      "metadata": {
        "id": "LP6tExQBL8hK"
      },
      "source": [
        "num_w,num_x=4,7 #num_w>3!\n",
        "w=np.random.random(num_w)\n",
        "x=np.random.random(num_x)"
      ],
      "execution_count": 15,
      "outputs": []
    },
    {
      "cell_type": "code",
      "metadata": {
        "id": "1BIMFg6GicvJ",
        "colab": {
          "base_uri": "https://localhost:8080/",
          "height": 82
        },
        "outputId": "ff51dc07-ec4b-4b85-d9e7-fe982e9f1be4"
      },
      "source": [
        "w_rotated=np.array(w[::-1])\n",
        "pd.DataFrame([w,w_rotated],index=['w','w_rotated'])\\\n",
        ".style.background_gradient(cmap='cool',axis=1)"
      ],
      "execution_count": 16,
      "outputs": [
        {
          "output_type": "execute_result",
          "data": {
            "text/html": [
              "<style  type=\"text/css\" >\n",
              "#T_20a45b96_8fc2_11eb_9872_0242ac1c0002row0_col0,#T_20a45b96_8fc2_11eb_9872_0242ac1c0002row1_col3{\n",
              "            background-color:  #26d9ff;\n",
              "            color:  #000000;\n",
              "        }#T_20a45b96_8fc2_11eb_9872_0242ac1c0002row0_col1,#T_20a45b96_8fc2_11eb_9872_0242ac1c0002row1_col2{\n",
              "            background-color:  #738cff;\n",
              "            color:  #000000;\n",
              "        }#T_20a45b96_8fc2_11eb_9872_0242ac1c0002row0_col2,#T_20a45b96_8fc2_11eb_9872_0242ac1c0002row1_col1{\n",
              "            background-color:  #00ffff;\n",
              "            color:  #000000;\n",
              "        }#T_20a45b96_8fc2_11eb_9872_0242ac1c0002row0_col3,#T_20a45b96_8fc2_11eb_9872_0242ac1c0002row1_col0{\n",
              "            background-color:  #ff00ff;\n",
              "            color:  #f1f1f1;\n",
              "        }</style><table id=\"T_20a45b96_8fc2_11eb_9872_0242ac1c0002\" ><thead>    <tr>        <th class=\"blank level0\" ></th>        <th class=\"col_heading level0 col0\" >0</th>        <th class=\"col_heading level0 col1\" >1</th>        <th class=\"col_heading level0 col2\" >2</th>        <th class=\"col_heading level0 col3\" >3</th>    </tr></thead><tbody>\n",
              "                <tr>\n",
              "                        <th id=\"T_20a45b96_8fc2_11eb_9872_0242ac1c0002level0_row0\" class=\"row_heading level0 row0\" >w</th>\n",
              "                        <td id=\"T_20a45b96_8fc2_11eb_9872_0242ac1c0002row0_col0\" class=\"data row0 col0\" >0.111</td>\n",
              "                        <td id=\"T_20a45b96_8fc2_11eb_9872_0242ac1c0002row0_col1\" class=\"data row0 col1\" >0.228</td>\n",
              "                        <td id=\"T_20a45b96_8fc2_11eb_9872_0242ac1c0002row0_col2\" class=\"data row0 col2\" >0.053</td>\n",
              "                        <td id=\"T_20a45b96_8fc2_11eb_9872_0242ac1c0002row0_col3\" class=\"data row0 col3\" >0.441</td>\n",
              "            </tr>\n",
              "            <tr>\n",
              "                        <th id=\"T_20a45b96_8fc2_11eb_9872_0242ac1c0002level0_row1\" class=\"row_heading level0 row1\" >w_rotated</th>\n",
              "                        <td id=\"T_20a45b96_8fc2_11eb_9872_0242ac1c0002row1_col0\" class=\"data row1 col0\" >0.441</td>\n",
              "                        <td id=\"T_20a45b96_8fc2_11eb_9872_0242ac1c0002row1_col1\" class=\"data row1 col1\" >0.053</td>\n",
              "                        <td id=\"T_20a45b96_8fc2_11eb_9872_0242ac1c0002row1_col2\" class=\"data row1 col2\" >0.228</td>\n",
              "                        <td id=\"T_20a45b96_8fc2_11eb_9872_0242ac1c0002row1_col3\" class=\"data row1 col3\" >0.111</td>\n",
              "            </tr>\n",
              "    </tbody></table>"
            ],
            "text/plain": [
              "<pandas.io.formats.style.Styler at 0x7f8389337210>"
            ]
          },
          "metadata": {
            "tags": []
          },
          "execution_count": 16
        }
      ]
    },
    {
      "cell_type": "code",
      "metadata": {
        "id": "uaAjjYxWknJl",
        "colab": {
          "base_uri": "https://localhost:8080/",
          "height": 359
        },
        "outputId": "3f9b9dc2-f7cd-48be-97cb-6de08e136395"
      },
      "source": [
        "def conv_step(x,i):\n",
        "    y=np.dot(x[i:i+len(w)],w_rotated)\n",
        "    display(pd.DataFrame(\n",
        "        [x,i*[np.nan]+list(w_rotated),i*[np.nan]+[y]],\n",
        "        index=['x','w_rotated','y'])\\\n",
        "        .style.bar(align='mid',color=c2,\n",
        "                   subset=list(range(i,i+len(w))))\\\n",
        "        .set_properties(**{'max-width':'60px'}))  \n",
        "for i in range(len(x)-len(w)+1): conv_step(x,i)"
      ],
      "execution_count": 17,
      "outputs": [
        {
          "output_type": "display_data",
          "data": {
            "text/html": [
              "<style  type=\"text/css\" >\n",
              "#T_20a91b36_8fc2_11eb_9872_0242ac1c0002row0_col0{\n",
              "            width:  10em;\n",
              "             height:  80%;\n",
              "            background:  linear-gradient(90deg,#9933ff 90.9%, transparent 90.9%);\n",
              "            max-width:  60px;\n",
              "        }#T_20a91b36_8fc2_11eb_9872_0242ac1c0002row0_col1,#T_20a91b36_8fc2_11eb_9872_0242ac1c0002row0_col3,#T_20a91b36_8fc2_11eb_9872_0242ac1c0002row1_col0,#T_20a91b36_8fc2_11eb_9872_0242ac1c0002row1_col2{\n",
              "            width:  10em;\n",
              "             height:  80%;\n",
              "            background:  linear-gradient(90deg,#9933ff 100.0%, transparent 100.0%);\n",
              "            max-width:  60px;\n",
              "        }#T_20a91b36_8fc2_11eb_9872_0242ac1c0002row0_col2{\n",
              "            width:  10em;\n",
              "             height:  80%;\n",
              "            background:  linear-gradient(90deg,#9933ff 54.1%, transparent 54.1%);\n",
              "            max-width:  60px;\n",
              "        }#T_20a91b36_8fc2_11eb_9872_0242ac1c0002row0_col4,#T_20a91b36_8fc2_11eb_9872_0242ac1c0002row0_col5,#T_20a91b36_8fc2_11eb_9872_0242ac1c0002row0_col6,#T_20a91b36_8fc2_11eb_9872_0242ac1c0002row1_col4,#T_20a91b36_8fc2_11eb_9872_0242ac1c0002row1_col5,#T_20a91b36_8fc2_11eb_9872_0242ac1c0002row1_col6,#T_20a91b36_8fc2_11eb_9872_0242ac1c0002row2_col1,#T_20a91b36_8fc2_11eb_9872_0242ac1c0002row2_col2,#T_20a91b36_8fc2_11eb_9872_0242ac1c0002row2_col3,#T_20a91b36_8fc2_11eb_9872_0242ac1c0002row2_col4,#T_20a91b36_8fc2_11eb_9872_0242ac1c0002row2_col5,#T_20a91b36_8fc2_11eb_9872_0242ac1c0002row2_col6{\n",
              "            max-width:  60px;\n",
              "        }#T_20a91b36_8fc2_11eb_9872_0242ac1c0002row1_col1{\n",
              "            width:  10em;\n",
              "             height:  80%;\n",
              "            background:  linear-gradient(90deg,#9933ff 7.0%, transparent 7.0%);\n",
              "            max-width:  60px;\n",
              "        }#T_20a91b36_8fc2_11eb_9872_0242ac1c0002row1_col3{\n",
              "            width:  10em;\n",
              "             height:  80%;\n",
              "            background:  linear-gradient(90deg,#9933ff 50.2%, transparent 50.2%);\n",
              "            max-width:  60px;\n",
              "        }#T_20a91b36_8fc2_11eb_9872_0242ac1c0002row2_col0{\n",
              "            width:  10em;\n",
              "             height:  80%;\n",
              "            background:  linear-gradient(90deg,#9933ff 61.2%, transparent 61.2%);\n",
              "            max-width:  60px;\n",
              "        }</style><table id=\"T_20a91b36_8fc2_11eb_9872_0242ac1c0002\" ><thead>    <tr>        <th class=\"blank level0\" ></th>        <th class=\"col_heading level0 col0\" >0</th>        <th class=\"col_heading level0 col1\" >1</th>        <th class=\"col_heading level0 col2\" >2</th>        <th class=\"col_heading level0 col3\" >3</th>        <th class=\"col_heading level0 col4\" >4</th>        <th class=\"col_heading level0 col5\" >5</th>        <th class=\"col_heading level0 col6\" >6</th>    </tr></thead><tbody>\n",
              "                <tr>\n",
              "                        <th id=\"T_20a91b36_8fc2_11eb_9872_0242ac1c0002level0_row0\" class=\"row_heading level0 row0\" >x</th>\n",
              "                        <td id=\"T_20a91b36_8fc2_11eb_9872_0242ac1c0002row0_col0\" class=\"data row0 col0\" >0.401</td>\n",
              "                        <td id=\"T_20a91b36_8fc2_11eb_9872_0242ac1c0002row0_col1\" class=\"data row0 col1\" >0.762</td>\n",
              "                        <td id=\"T_20a91b36_8fc2_11eb_9872_0242ac1c0002row0_col2\" class=\"data row0 col2\" >0.124</td>\n",
              "                        <td id=\"T_20a91b36_8fc2_11eb_9872_0242ac1c0002row0_col3\" class=\"data row0 col3\" >0.221</td>\n",
              "                        <td id=\"T_20a91b36_8fc2_11eb_9872_0242ac1c0002row0_col4\" class=\"data row0 col4\" >0.370</td>\n",
              "                        <td id=\"T_20a91b36_8fc2_11eb_9872_0242ac1c0002row0_col5\" class=\"data row0 col5\" >0.024</td>\n",
              "                        <td id=\"T_20a91b36_8fc2_11eb_9872_0242ac1c0002row0_col6\" class=\"data row0 col6\" >0.500</td>\n",
              "            </tr>\n",
              "            <tr>\n",
              "                        <th id=\"T_20a91b36_8fc2_11eb_9872_0242ac1c0002level0_row1\" class=\"row_heading level0 row1\" >w_rotated</th>\n",
              "                        <td id=\"T_20a91b36_8fc2_11eb_9872_0242ac1c0002row1_col0\" class=\"data row1 col0\" >0.441</td>\n",
              "                        <td id=\"T_20a91b36_8fc2_11eb_9872_0242ac1c0002row1_col1\" class=\"data row1 col1\" >0.053</td>\n",
              "                        <td id=\"T_20a91b36_8fc2_11eb_9872_0242ac1c0002row1_col2\" class=\"data row1 col2\" >0.228</td>\n",
              "                        <td id=\"T_20a91b36_8fc2_11eb_9872_0242ac1c0002row1_col3\" class=\"data row1 col3\" >0.111</td>\n",
              "                        <td id=\"T_20a91b36_8fc2_11eb_9872_0242ac1c0002row1_col4\" class=\"data row1 col4\" >nan</td>\n",
              "                        <td id=\"T_20a91b36_8fc2_11eb_9872_0242ac1c0002row1_col5\" class=\"data row1 col5\" >nan</td>\n",
              "                        <td id=\"T_20a91b36_8fc2_11eb_9872_0242ac1c0002row1_col6\" class=\"data row1 col6\" >nan</td>\n",
              "            </tr>\n",
              "            <tr>\n",
              "                        <th id=\"T_20a91b36_8fc2_11eb_9872_0242ac1c0002level0_row2\" class=\"row_heading level0 row2\" >y</th>\n",
              "                        <td id=\"T_20a91b36_8fc2_11eb_9872_0242ac1c0002row2_col0\" class=\"data row2 col0\" >0.270</td>\n",
              "                        <td id=\"T_20a91b36_8fc2_11eb_9872_0242ac1c0002row2_col1\" class=\"data row2 col1\" >nan</td>\n",
              "                        <td id=\"T_20a91b36_8fc2_11eb_9872_0242ac1c0002row2_col2\" class=\"data row2 col2\" >nan</td>\n",
              "                        <td id=\"T_20a91b36_8fc2_11eb_9872_0242ac1c0002row2_col3\" class=\"data row2 col3\" >nan</td>\n",
              "                        <td id=\"T_20a91b36_8fc2_11eb_9872_0242ac1c0002row2_col4\" class=\"data row2 col4\" >nan</td>\n",
              "                        <td id=\"T_20a91b36_8fc2_11eb_9872_0242ac1c0002row2_col5\" class=\"data row2 col5\" >nan</td>\n",
              "                        <td id=\"T_20a91b36_8fc2_11eb_9872_0242ac1c0002row2_col6\" class=\"data row2 col6\" >nan</td>\n",
              "            </tr>\n",
              "    </tbody></table>"
            ],
            "text/plain": [
              "<pandas.io.formats.style.Styler at 0x7f8389337390>"
            ]
          },
          "metadata": {
            "tags": []
          }
        },
        {
          "output_type": "display_data",
          "data": {
            "text/html": [
              "<style  type=\"text/css\" >\n",
              "#T_20ac66a6_8fc2_11eb_9872_0242ac1c0002row0_col0,#T_20ac66a6_8fc2_11eb_9872_0242ac1c0002row0_col5,#T_20ac66a6_8fc2_11eb_9872_0242ac1c0002row0_col6,#T_20ac66a6_8fc2_11eb_9872_0242ac1c0002row1_col0,#T_20ac66a6_8fc2_11eb_9872_0242ac1c0002row1_col5,#T_20ac66a6_8fc2_11eb_9872_0242ac1c0002row1_col6,#T_20ac66a6_8fc2_11eb_9872_0242ac1c0002row2_col0,#T_20ac66a6_8fc2_11eb_9872_0242ac1c0002row2_col2,#T_20ac66a6_8fc2_11eb_9872_0242ac1c0002row2_col3,#T_20ac66a6_8fc2_11eb_9872_0242ac1c0002row2_col4,#T_20ac66a6_8fc2_11eb_9872_0242ac1c0002row2_col5,#T_20ac66a6_8fc2_11eb_9872_0242ac1c0002row2_col6{\n",
              "            max-width:  60px;\n",
              "        }#T_20ac66a6_8fc2_11eb_9872_0242ac1c0002row0_col1,#T_20ac66a6_8fc2_11eb_9872_0242ac1c0002row0_col2,#T_20ac66a6_8fc2_11eb_9872_0242ac1c0002row0_col4,#T_20ac66a6_8fc2_11eb_9872_0242ac1c0002row1_col3{\n",
              "            width:  10em;\n",
              "             height:  80%;\n",
              "            background:  linear-gradient(90deg,#9933ff 100.0%, transparent 100.0%);\n",
              "            max-width:  60px;\n",
              "        }#T_20ac66a6_8fc2_11eb_9872_0242ac1c0002row0_col3{\n",
              "            width:  10em;\n",
              "             height:  80%;\n",
              "            background:  linear-gradient(90deg,#9933ff 96.7%, transparent 96.7%);\n",
              "            max-width:  60px;\n",
              "        }#T_20ac66a6_8fc2_11eb_9872_0242ac1c0002row1_col1{\n",
              "            width:  10em;\n",
              "             height:  80%;\n",
              "            background:  linear-gradient(90deg,#9933ff 57.8%, transparent 57.8%);\n",
              "            max-width:  60px;\n",
              "        }#T_20ac66a6_8fc2_11eb_9872_0242ac1c0002row1_col2{\n",
              "            width:  10em;\n",
              "             height:  80%;\n",
              "            background:  linear-gradient(90deg,#9933ff 43.0%, transparent 43.0%);\n",
              "            max-width:  60px;\n",
              "        }#T_20ac66a6_8fc2_11eb_9872_0242ac1c0002row1_col4{\n",
              "            width:  10em;\n",
              "             height:  80%;\n",
              "            background:  linear-gradient(90deg,#9933ff 29.9%, transparent 29.9%);\n",
              "            max-width:  60px;\n",
              "        }#T_20ac66a6_8fc2_11eb_9872_0242ac1c0002row2_col1{\n",
              "            width:  10em;\n",
              "             height:  80%;\n",
              "            background:  linear-gradient(90deg,#9933ff 56.9%, transparent 56.9%);\n",
              "            max-width:  60px;\n",
              "        }</style><table id=\"T_20ac66a6_8fc2_11eb_9872_0242ac1c0002\" ><thead>    <tr>        <th class=\"blank level0\" ></th>        <th class=\"col_heading level0 col0\" >0</th>        <th class=\"col_heading level0 col1\" >1</th>        <th class=\"col_heading level0 col2\" >2</th>        <th class=\"col_heading level0 col3\" >3</th>        <th class=\"col_heading level0 col4\" >4</th>        <th class=\"col_heading level0 col5\" >5</th>        <th class=\"col_heading level0 col6\" >6</th>    </tr></thead><tbody>\n",
              "                <tr>\n",
              "                        <th id=\"T_20ac66a6_8fc2_11eb_9872_0242ac1c0002level0_row0\" class=\"row_heading level0 row0\" >x</th>\n",
              "                        <td id=\"T_20ac66a6_8fc2_11eb_9872_0242ac1c0002row0_col0\" class=\"data row0 col0\" >0.401</td>\n",
              "                        <td id=\"T_20ac66a6_8fc2_11eb_9872_0242ac1c0002row0_col1\" class=\"data row0 col1\" >0.762</td>\n",
              "                        <td id=\"T_20ac66a6_8fc2_11eb_9872_0242ac1c0002row0_col2\" class=\"data row0 col2\" >0.124</td>\n",
              "                        <td id=\"T_20ac66a6_8fc2_11eb_9872_0242ac1c0002row0_col3\" class=\"data row0 col3\" >0.221</td>\n",
              "                        <td id=\"T_20ac66a6_8fc2_11eb_9872_0242ac1c0002row0_col4\" class=\"data row0 col4\" >0.370</td>\n",
              "                        <td id=\"T_20ac66a6_8fc2_11eb_9872_0242ac1c0002row0_col5\" class=\"data row0 col5\" >0.024</td>\n",
              "                        <td id=\"T_20ac66a6_8fc2_11eb_9872_0242ac1c0002row0_col6\" class=\"data row0 col6\" >0.500</td>\n",
              "            </tr>\n",
              "            <tr>\n",
              "                        <th id=\"T_20ac66a6_8fc2_11eb_9872_0242ac1c0002level0_row1\" class=\"row_heading level0 row1\" >w_rotated</th>\n",
              "                        <td id=\"T_20ac66a6_8fc2_11eb_9872_0242ac1c0002row1_col0\" class=\"data row1 col0\" >nan</td>\n",
              "                        <td id=\"T_20ac66a6_8fc2_11eb_9872_0242ac1c0002row1_col1\" class=\"data row1 col1\" >0.441</td>\n",
              "                        <td id=\"T_20ac66a6_8fc2_11eb_9872_0242ac1c0002row1_col2\" class=\"data row1 col2\" >0.053</td>\n",
              "                        <td id=\"T_20ac66a6_8fc2_11eb_9872_0242ac1c0002row1_col3\" class=\"data row1 col3\" >0.228</td>\n",
              "                        <td id=\"T_20ac66a6_8fc2_11eb_9872_0242ac1c0002row1_col4\" class=\"data row1 col4\" >0.111</td>\n",
              "                        <td id=\"T_20ac66a6_8fc2_11eb_9872_0242ac1c0002row1_col5\" class=\"data row1 col5\" >nan</td>\n",
              "                        <td id=\"T_20ac66a6_8fc2_11eb_9872_0242ac1c0002row1_col6\" class=\"data row1 col6\" >nan</td>\n",
              "            </tr>\n",
              "            <tr>\n",
              "                        <th id=\"T_20ac66a6_8fc2_11eb_9872_0242ac1c0002level0_row2\" class=\"row_heading level0 row2\" >y</th>\n",
              "                        <td id=\"T_20ac66a6_8fc2_11eb_9872_0242ac1c0002row2_col0\" class=\"data row2 col0\" >nan</td>\n",
              "                        <td id=\"T_20ac66a6_8fc2_11eb_9872_0242ac1c0002row2_col1\" class=\"data row2 col1\" >0.434</td>\n",
              "                        <td id=\"T_20ac66a6_8fc2_11eb_9872_0242ac1c0002row2_col2\" class=\"data row2 col2\" >nan</td>\n",
              "                        <td id=\"T_20ac66a6_8fc2_11eb_9872_0242ac1c0002row2_col3\" class=\"data row2 col3\" >nan</td>\n",
              "                        <td id=\"T_20ac66a6_8fc2_11eb_9872_0242ac1c0002row2_col4\" class=\"data row2 col4\" >nan</td>\n",
              "                        <td id=\"T_20ac66a6_8fc2_11eb_9872_0242ac1c0002row2_col5\" class=\"data row2 col5\" >nan</td>\n",
              "                        <td id=\"T_20ac66a6_8fc2_11eb_9872_0242ac1c0002row2_col6\" class=\"data row2 col6\" >nan</td>\n",
              "            </tr>\n",
              "    </tbody></table>"
            ],
            "text/plain": [
              "<pandas.io.formats.style.Styler at 0x7f8389381f10>"
            ]
          },
          "metadata": {
            "tags": []
          }
        },
        {
          "output_type": "display_data",
          "data": {
            "text/html": [
              "<style  type=\"text/css\" >\n",
              "#T_20af4ccc_8fc2_11eb_9872_0242ac1c0002row0_col0,#T_20af4ccc_8fc2_11eb_9872_0242ac1c0002row0_col1,#T_20af4ccc_8fc2_11eb_9872_0242ac1c0002row0_col6,#T_20af4ccc_8fc2_11eb_9872_0242ac1c0002row1_col0,#T_20af4ccc_8fc2_11eb_9872_0242ac1c0002row1_col1,#T_20af4ccc_8fc2_11eb_9872_0242ac1c0002row1_col6,#T_20af4ccc_8fc2_11eb_9872_0242ac1c0002row2_col0,#T_20af4ccc_8fc2_11eb_9872_0242ac1c0002row2_col1,#T_20af4ccc_8fc2_11eb_9872_0242ac1c0002row2_col3,#T_20af4ccc_8fc2_11eb_9872_0242ac1c0002row2_col4,#T_20af4ccc_8fc2_11eb_9872_0242ac1c0002row2_col5,#T_20af4ccc_8fc2_11eb_9872_0242ac1c0002row2_col6{\n",
              "            max-width:  60px;\n",
              "        }#T_20af4ccc_8fc2_11eb_9872_0242ac1c0002row0_col2{\n",
              "            width:  10em;\n",
              "             height:  80%;\n",
              "            background:  linear-gradient(90deg,#9933ff 28.0%, transparent 28.0%);\n",
              "            max-width:  60px;\n",
              "        }#T_20af4ccc_8fc2_11eb_9872_0242ac1c0002row0_col3,#T_20af4ccc_8fc2_11eb_9872_0242ac1c0002row0_col4,#T_20af4ccc_8fc2_11eb_9872_0242ac1c0002row1_col2,#T_20af4ccc_8fc2_11eb_9872_0242ac1c0002row1_col5{\n",
              "            width:  10em;\n",
              "             height:  80%;\n",
              "            background:  linear-gradient(90deg,#9933ff 100.0%, transparent 100.0%);\n",
              "            max-width:  60px;\n",
              "        }#T_20af4ccc_8fc2_11eb_9872_0242ac1c0002row0_col5{\n",
              "            width:  10em;\n",
              "             height:  80%;\n",
              "            background:  linear-gradient(90deg,#9933ff 21.5%, transparent 21.5%);\n",
              "            max-width:  60px;\n",
              "        }#T_20af4ccc_8fc2_11eb_9872_0242ac1c0002row1_col3{\n",
              "            width:  10em;\n",
              "             height:  80%;\n",
              "            background:  linear-gradient(90deg,#9933ff 24.1%, transparent 24.1%);\n",
              "            max-width:  60px;\n",
              "        }#T_20af4ccc_8fc2_11eb_9872_0242ac1c0002row1_col4{\n",
              "            width:  10em;\n",
              "             height:  80%;\n",
              "            background:  linear-gradient(90deg,#9933ff 61.7%, transparent 61.7%);\n",
              "            max-width:  60px;\n",
              "        }#T_20af4ccc_8fc2_11eb_9872_0242ac1c0002row2_col2{\n",
              "            width:  10em;\n",
              "             height:  80%;\n",
              "            background:  linear-gradient(90deg,#9933ff 34.8%, transparent 34.8%);\n",
              "            max-width:  60px;\n",
              "        }</style><table id=\"T_20af4ccc_8fc2_11eb_9872_0242ac1c0002\" ><thead>    <tr>        <th class=\"blank level0\" ></th>        <th class=\"col_heading level0 col0\" >0</th>        <th class=\"col_heading level0 col1\" >1</th>        <th class=\"col_heading level0 col2\" >2</th>        <th class=\"col_heading level0 col3\" >3</th>        <th class=\"col_heading level0 col4\" >4</th>        <th class=\"col_heading level0 col5\" >5</th>        <th class=\"col_heading level0 col6\" >6</th>    </tr></thead><tbody>\n",
              "                <tr>\n",
              "                        <th id=\"T_20af4ccc_8fc2_11eb_9872_0242ac1c0002level0_row0\" class=\"row_heading level0 row0\" >x</th>\n",
              "                        <td id=\"T_20af4ccc_8fc2_11eb_9872_0242ac1c0002row0_col0\" class=\"data row0 col0\" >0.401</td>\n",
              "                        <td id=\"T_20af4ccc_8fc2_11eb_9872_0242ac1c0002row0_col1\" class=\"data row0 col1\" >0.762</td>\n",
              "                        <td id=\"T_20af4ccc_8fc2_11eb_9872_0242ac1c0002row0_col2\" class=\"data row0 col2\" >0.124</td>\n",
              "                        <td id=\"T_20af4ccc_8fc2_11eb_9872_0242ac1c0002row0_col3\" class=\"data row0 col3\" >0.221</td>\n",
              "                        <td id=\"T_20af4ccc_8fc2_11eb_9872_0242ac1c0002row0_col4\" class=\"data row0 col4\" >0.370</td>\n",
              "                        <td id=\"T_20af4ccc_8fc2_11eb_9872_0242ac1c0002row0_col5\" class=\"data row0 col5\" >0.024</td>\n",
              "                        <td id=\"T_20af4ccc_8fc2_11eb_9872_0242ac1c0002row0_col6\" class=\"data row0 col6\" >0.500</td>\n",
              "            </tr>\n",
              "            <tr>\n",
              "                        <th id=\"T_20af4ccc_8fc2_11eb_9872_0242ac1c0002level0_row1\" class=\"row_heading level0 row1\" >w_rotated</th>\n",
              "                        <td id=\"T_20af4ccc_8fc2_11eb_9872_0242ac1c0002row1_col0\" class=\"data row1 col0\" >nan</td>\n",
              "                        <td id=\"T_20af4ccc_8fc2_11eb_9872_0242ac1c0002row1_col1\" class=\"data row1 col1\" >nan</td>\n",
              "                        <td id=\"T_20af4ccc_8fc2_11eb_9872_0242ac1c0002row1_col2\" class=\"data row1 col2\" >0.441</td>\n",
              "                        <td id=\"T_20af4ccc_8fc2_11eb_9872_0242ac1c0002row1_col3\" class=\"data row1 col3\" >0.053</td>\n",
              "                        <td id=\"T_20af4ccc_8fc2_11eb_9872_0242ac1c0002row1_col4\" class=\"data row1 col4\" >0.228</td>\n",
              "                        <td id=\"T_20af4ccc_8fc2_11eb_9872_0242ac1c0002row1_col5\" class=\"data row1 col5\" >0.111</td>\n",
              "                        <td id=\"T_20af4ccc_8fc2_11eb_9872_0242ac1c0002row1_col6\" class=\"data row1 col6\" >nan</td>\n",
              "            </tr>\n",
              "            <tr>\n",
              "                        <th id=\"T_20af4ccc_8fc2_11eb_9872_0242ac1c0002level0_row2\" class=\"row_heading level0 row2\" >y</th>\n",
              "                        <td id=\"T_20af4ccc_8fc2_11eb_9872_0242ac1c0002row2_col0\" class=\"data row2 col0\" >nan</td>\n",
              "                        <td id=\"T_20af4ccc_8fc2_11eb_9872_0242ac1c0002row2_col1\" class=\"data row2 col1\" >nan</td>\n",
              "                        <td id=\"T_20af4ccc_8fc2_11eb_9872_0242ac1c0002row2_col2\" class=\"data row2 col2\" >0.153</td>\n",
              "                        <td id=\"T_20af4ccc_8fc2_11eb_9872_0242ac1c0002row2_col3\" class=\"data row2 col3\" >nan</td>\n",
              "                        <td id=\"T_20af4ccc_8fc2_11eb_9872_0242ac1c0002row2_col4\" class=\"data row2 col4\" >nan</td>\n",
              "                        <td id=\"T_20af4ccc_8fc2_11eb_9872_0242ac1c0002row2_col5\" class=\"data row2 col5\" >nan</td>\n",
              "                        <td id=\"T_20af4ccc_8fc2_11eb_9872_0242ac1c0002row2_col6\" class=\"data row2 col6\" >nan</td>\n",
              "            </tr>\n",
              "    </tbody></table>"
            ],
            "text/plain": [
              "<pandas.io.formats.style.Styler at 0x7f838937b2d0>"
            ]
          },
          "metadata": {
            "tags": []
          }
        },
        {
          "output_type": "display_data",
          "data": {
            "text/html": [
              "<style  type=\"text/css\" >\n",
              "#T_20b24ba2_8fc2_11eb_9872_0242ac1c0002row0_col0,#T_20b24ba2_8fc2_11eb_9872_0242ac1c0002row0_col1,#T_20b24ba2_8fc2_11eb_9872_0242ac1c0002row0_col2,#T_20b24ba2_8fc2_11eb_9872_0242ac1c0002row1_col0,#T_20b24ba2_8fc2_11eb_9872_0242ac1c0002row1_col1,#T_20b24ba2_8fc2_11eb_9872_0242ac1c0002row1_col2,#T_20b24ba2_8fc2_11eb_9872_0242ac1c0002row2_col0,#T_20b24ba2_8fc2_11eb_9872_0242ac1c0002row2_col1,#T_20b24ba2_8fc2_11eb_9872_0242ac1c0002row2_col2,#T_20b24ba2_8fc2_11eb_9872_0242ac1c0002row2_col4,#T_20b24ba2_8fc2_11eb_9872_0242ac1c0002row2_col5,#T_20b24ba2_8fc2_11eb_9872_0242ac1c0002row2_col6{\n",
              "            max-width:  60px;\n",
              "        }#T_20b24ba2_8fc2_11eb_9872_0242ac1c0002row0_col3{\n",
              "            width:  10em;\n",
              "             height:  80%;\n",
              "            background:  linear-gradient(90deg,#9933ff 50.1%, transparent 50.1%);\n",
              "            max-width:  60px;\n",
              "        }#T_20b24ba2_8fc2_11eb_9872_0242ac1c0002row0_col4,#T_20b24ba2_8fc2_11eb_9872_0242ac1c0002row0_col6,#T_20b24ba2_8fc2_11eb_9872_0242ac1c0002row1_col3,#T_20b24ba2_8fc2_11eb_9872_0242ac1c0002row1_col5{\n",
              "            width:  10em;\n",
              "             height:  80%;\n",
              "            background:  linear-gradient(90deg,#9933ff 100.0%, transparent 100.0%);\n",
              "            max-width:  60px;\n",
              "        }#T_20b24ba2_8fc2_11eb_9872_0242ac1c0002row0_col5{\n",
              "            width:  10em;\n",
              "             height:  80%;\n",
              "            background:  linear-gradient(90deg,#9933ff 10.4%, transparent 10.4%);\n",
              "            max-width:  60px;\n",
              "        }#T_20b24ba2_8fc2_11eb_9872_0242ac1c0002row1_col4{\n",
              "            width:  10em;\n",
              "             height:  80%;\n",
              "            background:  linear-gradient(90deg,#9933ff 14.4%, transparent 14.4%);\n",
              "            max-width:  60px;\n",
              "        }#T_20b24ba2_8fc2_11eb_9872_0242ac1c0002row1_col6{\n",
              "            width:  10em;\n",
              "             height:  80%;\n",
              "            background:  linear-gradient(90deg,#9933ff 22.2%, transparent 22.2%);\n",
              "            max-width:  60px;\n",
              "        }#T_20b24ba2_8fc2_11eb_9872_0242ac1c0002row2_col3{\n",
              "            width:  10em;\n",
              "             height:  80%;\n",
              "            background:  linear-gradient(90deg,#9933ff 40.3%, transparent 40.3%);\n",
              "            max-width:  60px;\n",
              "        }</style><table id=\"T_20b24ba2_8fc2_11eb_9872_0242ac1c0002\" ><thead>    <tr>        <th class=\"blank level0\" ></th>        <th class=\"col_heading level0 col0\" >0</th>        <th class=\"col_heading level0 col1\" >1</th>        <th class=\"col_heading level0 col2\" >2</th>        <th class=\"col_heading level0 col3\" >3</th>        <th class=\"col_heading level0 col4\" >4</th>        <th class=\"col_heading level0 col5\" >5</th>        <th class=\"col_heading level0 col6\" >6</th>    </tr></thead><tbody>\n",
              "                <tr>\n",
              "                        <th id=\"T_20b24ba2_8fc2_11eb_9872_0242ac1c0002level0_row0\" class=\"row_heading level0 row0\" >x</th>\n",
              "                        <td id=\"T_20b24ba2_8fc2_11eb_9872_0242ac1c0002row0_col0\" class=\"data row0 col0\" >0.401</td>\n",
              "                        <td id=\"T_20b24ba2_8fc2_11eb_9872_0242ac1c0002row0_col1\" class=\"data row0 col1\" >0.762</td>\n",
              "                        <td id=\"T_20b24ba2_8fc2_11eb_9872_0242ac1c0002row0_col2\" class=\"data row0 col2\" >0.124</td>\n",
              "                        <td id=\"T_20b24ba2_8fc2_11eb_9872_0242ac1c0002row0_col3\" class=\"data row0 col3\" >0.221</td>\n",
              "                        <td id=\"T_20b24ba2_8fc2_11eb_9872_0242ac1c0002row0_col4\" class=\"data row0 col4\" >0.370</td>\n",
              "                        <td id=\"T_20b24ba2_8fc2_11eb_9872_0242ac1c0002row0_col5\" class=\"data row0 col5\" >0.024</td>\n",
              "                        <td id=\"T_20b24ba2_8fc2_11eb_9872_0242ac1c0002row0_col6\" class=\"data row0 col6\" >0.500</td>\n",
              "            </tr>\n",
              "            <tr>\n",
              "                        <th id=\"T_20b24ba2_8fc2_11eb_9872_0242ac1c0002level0_row1\" class=\"row_heading level0 row1\" >w_rotated</th>\n",
              "                        <td id=\"T_20b24ba2_8fc2_11eb_9872_0242ac1c0002row1_col0\" class=\"data row1 col0\" >nan</td>\n",
              "                        <td id=\"T_20b24ba2_8fc2_11eb_9872_0242ac1c0002row1_col1\" class=\"data row1 col1\" >nan</td>\n",
              "                        <td id=\"T_20b24ba2_8fc2_11eb_9872_0242ac1c0002row1_col2\" class=\"data row1 col2\" >nan</td>\n",
              "                        <td id=\"T_20b24ba2_8fc2_11eb_9872_0242ac1c0002row1_col3\" class=\"data row1 col3\" >0.441</td>\n",
              "                        <td id=\"T_20b24ba2_8fc2_11eb_9872_0242ac1c0002row1_col4\" class=\"data row1 col4\" >0.053</td>\n",
              "                        <td id=\"T_20b24ba2_8fc2_11eb_9872_0242ac1c0002row1_col5\" class=\"data row1 col5\" >0.228</td>\n",
              "                        <td id=\"T_20b24ba2_8fc2_11eb_9872_0242ac1c0002row1_col6\" class=\"data row1 col6\" >0.111</td>\n",
              "            </tr>\n",
              "            <tr>\n",
              "                        <th id=\"T_20b24ba2_8fc2_11eb_9872_0242ac1c0002level0_row2\" class=\"row_heading level0 row2\" >y</th>\n",
              "                        <td id=\"T_20b24ba2_8fc2_11eb_9872_0242ac1c0002row2_col0\" class=\"data row2 col0\" >nan</td>\n",
              "                        <td id=\"T_20b24ba2_8fc2_11eb_9872_0242ac1c0002row2_col1\" class=\"data row2 col1\" >nan</td>\n",
              "                        <td id=\"T_20b24ba2_8fc2_11eb_9872_0242ac1c0002row2_col2\" class=\"data row2 col2\" >nan</td>\n",
              "                        <td id=\"T_20b24ba2_8fc2_11eb_9872_0242ac1c0002row2_col3\" class=\"data row2 col3\" >0.178</td>\n",
              "                        <td id=\"T_20b24ba2_8fc2_11eb_9872_0242ac1c0002row2_col4\" class=\"data row2 col4\" >nan</td>\n",
              "                        <td id=\"T_20b24ba2_8fc2_11eb_9872_0242ac1c0002row2_col5\" class=\"data row2 col5\" >nan</td>\n",
              "                        <td id=\"T_20b24ba2_8fc2_11eb_9872_0242ac1c0002row2_col6\" class=\"data row2 col6\" >nan</td>\n",
              "            </tr>\n",
              "    </tbody></table>"
            ],
            "text/plain": [
              "<pandas.io.formats.style.Styler at 0x7f83cda67490>"
            ]
          },
          "metadata": {
            "tags": []
          }
        }
      ]
    },
    {
      "cell_type": "code",
      "metadata": {
        "id": "Z827hKMqhaQB",
        "colab": {
          "base_uri": "https://localhost:8080/",
          "height": 233
        },
        "outputId": "49e6f9fb-c504-4863-84e4-e249df7104b5"
      },
      "source": [
        "def conv1d(x,w,p,s):\n",
        "    w_rotated=np.array(w[::-1])\n",
        "    x_padded=np.array(x)\n",
        "    w_length=w_rotated.shape[0]\n",
        "    x_length=x_padded.shape[0]+p*2\n",
        "    if p>0:\n",
        "        zero_pad=np.zeros(shape=p)\n",
        "        x_padded=np.concatenate([zero_pad,x_padded,zero_pad])\n",
        "    xw_str='x: <br/>'+str(x)+'<br/>padded x: </br>'+str(x_padded)+\\\n",
        "           '<br/>w: <br/>'+str(w)+'<br/>rotated w: <br/>'+str(w_rotated)\n",
        "    dhtml(xw_str,c2,f2,fs2)\n",
        "    result=[]; steps=int((x_length-w_length)/s)+w_length%2\n",
        "    for i in range(0,steps,s):\n",
        "        result.append(np.sum(x_padded[i:i+w_length]*w_rotated))\n",
        "    return np.array(result)\n",
        "pd.DataFrame(\n",
        "    [conv1d(x,w,p=2,s=1),np.convolve(x,w,mode='same')],\n",
        "    index=['conv1d','numpy convolve'])\\\n",
        ".style.background_gradient(cmap='cool',axis=1)\\\n",
        ".set_properties(**{'max-width':'50px'})"
      ],
      "execution_count": 18,
      "outputs": [
        {
          "output_type": "display_data",
          "data": {
            "text/html": [
              "\n",
              "    <style>@import 'https://fonts.googleapis.com/css?family=Aladin&effect=3d-float';</style>\n",
              "    <h1 class='font-effect-3d-float' \n",
              "    style='font-family:Aladin; \n",
              "    color:#9933ff; font-size:14px;'>\n",
              "    x: <br/>[0.40054629 0.76242022 0.12352759 0.22066653 0.36999802 0.0237916\n",
              " 0.49963309]<br/>padded x: </br>[0.         0.         0.40054629 0.76242022 0.12352759 0.22066653\n",
              " 0.36999802 0.0237916  0.49963309 0.         0.        ]<br/>w: <br/>[0.11074215 0.22819428 0.0531306  0.44077505]<br/>rotated w: <br/>[0.44077505 0.0531306  0.22819428 0.11074215]</h1>"
            ],
            "text/plain": [
              "<IPython.core.display.HTML object>"
            ]
          },
          "metadata": {
            "tags": []
          }
        },
        {
          "output_type": "execute_result",
          "data": {
            "text/html": [
              "<style  type=\"text/css\" >\n",
              "#T_20ba08e2_8fc2_11eb_9872_0242ac1c0002row0_col0,#T_20ba08e2_8fc2_11eb_9872_0242ac1c0002row1_col0{\n",
              "            background-color:  #14ebff;\n",
              "            color:  #000000;\n",
              "            max-width:  50px;\n",
              "        }#T_20ba08e2_8fc2_11eb_9872_0242ac1c0002row0_col1,#T_20ba08e2_8fc2_11eb_9872_0242ac1c0002row1_col1{\n",
              "            background-color:  #32cdff;\n",
              "            color:  #000000;\n",
              "            max-width:  50px;\n",
              "        }#T_20ba08e2_8fc2_11eb_9872_0242ac1c0002row0_col2,#T_20ba08e2_8fc2_11eb_9872_0242ac1c0002row1_col2{\n",
              "            background-color:  #6a95ff;\n",
              "            color:  #000000;\n",
              "            max-width:  50px;\n",
              "        }#T_20ba08e2_8fc2_11eb_9872_0242ac1c0002row0_col3,#T_20ba08e2_8fc2_11eb_9872_0242ac1c0002row1_col3{\n",
              "            background-color:  #ff00ff;\n",
              "            color:  #f1f1f1;\n",
              "            max-width:  50px;\n",
              "        }#T_20ba08e2_8fc2_11eb_9872_0242ac1c0002row0_col4,#T_20ba08e2_8fc2_11eb_9872_0242ac1c0002row1_col4{\n",
              "            background-color:  #00ffff;\n",
              "            color:  #000000;\n",
              "            max-width:  50px;\n",
              "        }#T_20ba08e2_8fc2_11eb_9872_0242ac1c0002row0_col5,#T_20ba08e2_8fc2_11eb_9872_0242ac1c0002row1_col5{\n",
              "            background-color:  #16e9ff;\n",
              "            color:  #000000;\n",
              "            max-width:  50px;\n",
              "        }#T_20ba08e2_8fc2_11eb_9872_0242ac1c0002row0_col6,#T_20ba08e2_8fc2_11eb_9872_0242ac1c0002row1_col6{\n",
              "            background-color:  #728dff;\n",
              "            color:  #000000;\n",
              "            max-width:  50px;\n",
              "        }</style><table id=\"T_20ba08e2_8fc2_11eb_9872_0242ac1c0002\" ><thead>    <tr>        <th class=\"blank level0\" ></th>        <th class=\"col_heading level0 col0\" >0</th>        <th class=\"col_heading level0 col1\" >1</th>        <th class=\"col_heading level0 col2\" >2</th>        <th class=\"col_heading level0 col3\" >3</th>        <th class=\"col_heading level0 col4\" >4</th>        <th class=\"col_heading level0 col5\" >5</th>        <th class=\"col_heading level0 col6\" >6</th>    </tr></thead><tbody>\n",
              "                <tr>\n",
              "                        <th id=\"T_20ba08e2_8fc2_11eb_9872_0242ac1c0002level0_row0\" class=\"row_heading level0 row0\" >conv1d</th>\n",
              "                        <td id=\"T_20ba08e2_8fc2_11eb_9872_0242ac1c0002row0_col0\" class=\"data row0 col0\" >0.176</td>\n",
              "                        <td id=\"T_20ba08e2_8fc2_11eb_9872_0242ac1c0002row0_col1\" class=\"data row0 col1\" >0.209</td>\n",
              "                        <td id=\"T_20ba08e2_8fc2_11eb_9872_0242ac1c0002row0_col2\" class=\"data row0 col2\" >0.270</td>\n",
              "                        <td id=\"T_20ba08e2_8fc2_11eb_9872_0242ac1c0002row0_col3\" class=\"data row0 col3\" >0.434</td>\n",
              "                        <td id=\"T_20ba08e2_8fc2_11eb_9872_0242ac1c0002row0_col4\" class=\"data row0 col4\" >0.153</td>\n",
              "                        <td id=\"T_20ba08e2_8fc2_11eb_9872_0242ac1c0002row0_col5\" class=\"data row0 col5\" >0.178</td>\n",
              "                        <td id=\"T_20ba08e2_8fc2_11eb_9872_0242ac1c0002row0_col6\" class=\"data row0 col6\" >0.278</td>\n",
              "            </tr>\n",
              "            <tr>\n",
              "                        <th id=\"T_20ba08e2_8fc2_11eb_9872_0242ac1c0002level0_row1\" class=\"row_heading level0 row1\" >numpy convolve</th>\n",
              "                        <td id=\"T_20ba08e2_8fc2_11eb_9872_0242ac1c0002row1_col0\" class=\"data row1 col0\" >0.176</td>\n",
              "                        <td id=\"T_20ba08e2_8fc2_11eb_9872_0242ac1c0002row1_col1\" class=\"data row1 col1\" >0.209</td>\n",
              "                        <td id=\"T_20ba08e2_8fc2_11eb_9872_0242ac1c0002row1_col2\" class=\"data row1 col2\" >0.270</td>\n",
              "                        <td id=\"T_20ba08e2_8fc2_11eb_9872_0242ac1c0002row1_col3\" class=\"data row1 col3\" >0.434</td>\n",
              "                        <td id=\"T_20ba08e2_8fc2_11eb_9872_0242ac1c0002row1_col4\" class=\"data row1 col4\" >0.153</td>\n",
              "                        <td id=\"T_20ba08e2_8fc2_11eb_9872_0242ac1c0002row1_col5\" class=\"data row1 col5\" >0.178</td>\n",
              "                        <td id=\"T_20ba08e2_8fc2_11eb_9872_0242ac1c0002row1_col6\" class=\"data row1 col6\" >0.278</td>\n",
              "            </tr>\n",
              "    </tbody></table>"
            ],
            "text/plain": [
              "<pandas.io.formats.style.Styler at 0x7f8389331890>"
            ]
          },
          "metadata": {
            "tags": []
          },
          "execution_count": 18
        }
      ]
    },
    {
      "cell_type": "code",
      "metadata": {
        "id": "UKv8Ht-pwG_Z",
        "colab": {
          "base_uri": "https://localhost:8080/",
          "height": 145
        },
        "outputId": "b6161c86-8d6f-4236-a6cb-06057011ea4d"
      },
      "source": [
        "pd.DataFrame([x,w]+[np.convolve(x,w,mode=m) \n",
        "             for m in ['full','same','valid']])\\\n",
        ".style.background_gradient(cmap='cool',axis=1)\\\n",
        ".set_properties(**{'max-width':'50px'})"
      ],
      "execution_count": 19,
      "outputs": [
        {
          "output_type": "execute_result",
          "data": {
            "text/html": [
              "<style  type=\"text/css\" >\n",
              "#T_2dab4246_8fc2_11eb_9872_0242ac1c0002row0_col0{\n",
              "            background-color:  #827dff;\n",
              "            color:  #000000;\n",
              "            max-width:  50px;\n",
              "        }#T_2dab4246_8fc2_11eb_9872_0242ac1c0002row0_col1,#T_2dab4246_8fc2_11eb_9872_0242ac1c0002row1_col3,#T_2dab4246_8fc2_11eb_9872_0242ac1c0002row2_col4,#T_2dab4246_8fc2_11eb_9872_0242ac1c0002row3_col3,#T_2dab4246_8fc2_11eb_9872_0242ac1c0002row4_col1{\n",
              "            background-color:  #ff00ff;\n",
              "            color:  #f1f1f1;\n",
              "            max-width:  50px;\n",
              "        }#T_2dab4246_8fc2_11eb_9872_0242ac1c0002row0_col2{\n",
              "            background-color:  #22ddff;\n",
              "            color:  #000000;\n",
              "            max-width:  50px;\n",
              "        }#T_2dab4246_8fc2_11eb_9872_0242ac1c0002row0_col3{\n",
              "            background-color:  #44bbff;\n",
              "            color:  #000000;\n",
              "            max-width:  50px;\n",
              "        }#T_2dab4246_8fc2_11eb_9872_0242ac1c0002row0_col4{\n",
              "            background-color:  #7788ff;\n",
              "            color:  #000000;\n",
              "            max-width:  50px;\n",
              "        }#T_2dab4246_8fc2_11eb_9872_0242ac1c0002row0_col5,#T_2dab4246_8fc2_11eb_9872_0242ac1c0002row1_col2,#T_2dab4246_8fc2_11eb_9872_0242ac1c0002row2_col8,#T_2dab4246_8fc2_11eb_9872_0242ac1c0002row3_col4,#T_2dab4246_8fc2_11eb_9872_0242ac1c0002row4_col2{\n",
              "            background-color:  #00ffff;\n",
              "            color:  #000000;\n",
              "            max-width:  50px;\n",
              "        }#T_2dab4246_8fc2_11eb_9872_0242ac1c0002row0_col6{\n",
              "            background-color:  #a45bff;\n",
              "            color:  #000000;\n",
              "            max-width:  50px;\n",
              "        }#T_2dab4246_8fc2_11eb_9872_0242ac1c0002row0_col7,#T_2dab4246_8fc2_11eb_9872_0242ac1c0002row0_col8,#T_2dab4246_8fc2_11eb_9872_0242ac1c0002row0_col9,#T_2dab4246_8fc2_11eb_9872_0242ac1c0002row1_col4,#T_2dab4246_8fc2_11eb_9872_0242ac1c0002row1_col5,#T_2dab4246_8fc2_11eb_9872_0242ac1c0002row1_col6,#T_2dab4246_8fc2_11eb_9872_0242ac1c0002row1_col7,#T_2dab4246_8fc2_11eb_9872_0242ac1c0002row1_col8,#T_2dab4246_8fc2_11eb_9872_0242ac1c0002row1_col9,#T_2dab4246_8fc2_11eb_9872_0242ac1c0002row3_col7,#T_2dab4246_8fc2_11eb_9872_0242ac1c0002row3_col8,#T_2dab4246_8fc2_11eb_9872_0242ac1c0002row3_col9,#T_2dab4246_8fc2_11eb_9872_0242ac1c0002row4_col4,#T_2dab4246_8fc2_11eb_9872_0242ac1c0002row4_col5,#T_2dab4246_8fc2_11eb_9872_0242ac1c0002row4_col6,#T_2dab4246_8fc2_11eb_9872_0242ac1c0002row4_col7,#T_2dab4246_8fc2_11eb_9872_0242ac1c0002row4_col8,#T_2dab4246_8fc2_11eb_9872_0242ac1c0002row4_col9{\n",
              "            background-color:  #000000;\n",
              "            color:  #f1f1f1;\n",
              "            max-width:  50px;\n",
              "        }#T_2dab4246_8fc2_11eb_9872_0242ac1c0002row1_col0{\n",
              "            background-color:  #26d9ff;\n",
              "            color:  #000000;\n",
              "            max-width:  50px;\n",
              "        }#T_2dab4246_8fc2_11eb_9872_0242ac1c0002row1_col1{\n",
              "            background-color:  #738cff;\n",
              "            color:  #000000;\n",
              "            max-width:  50px;\n",
              "        }#T_2dab4246_8fc2_11eb_9872_0242ac1c0002row2_col0{\n",
              "            background-color:  #04fbff;\n",
              "            color:  #000000;\n",
              "            max-width:  50px;\n",
              "        }#T_2dab4246_8fc2_11eb_9872_0242ac1c0002row2_col1{\n",
              "            background-color:  #59a6ff;\n",
              "            color:  #000000;\n",
              "            max-width:  50px;\n",
              "        }#T_2dab4246_8fc2_11eb_9872_0242ac1c0002row2_col2{\n",
              "            background-color:  #6e91ff;\n",
              "            color:  #000000;\n",
              "            max-width:  50px;\n",
              "        }#T_2dab4246_8fc2_11eb_9872_0242ac1c0002row2_col3{\n",
              "            background-color:  #9669ff;\n",
              "            color:  #000000;\n",
              "            max-width:  50px;\n",
              "        }#T_2dab4246_8fc2_11eb_9872_0242ac1c0002row2_col5{\n",
              "            background-color:  #4ab5ff;\n",
              "            color:  #000000;\n",
              "            max-width:  50px;\n",
              "        }#T_2dab4246_8fc2_11eb_9872_0242ac1c0002row2_col6{\n",
              "            background-color:  #5aa5ff;\n",
              "            color:  #000000;\n",
              "            max-width:  50px;\n",
              "        }#T_2dab4246_8fc2_11eb_9872_0242ac1c0002row2_col7{\n",
              "            background-color:  #9b64ff;\n",
              "            color:  #000000;\n",
              "            max-width:  50px;\n",
              "        }#T_2dab4246_8fc2_11eb_9872_0242ac1c0002row2_col9{\n",
              "            background-color:  #7689ff;\n",
              "            color:  #000000;\n",
              "            max-width:  50px;\n",
              "        }#T_2dab4246_8fc2_11eb_9872_0242ac1c0002row3_col0{\n",
              "            background-color:  #14ebff;\n",
              "            color:  #000000;\n",
              "            max-width:  50px;\n",
              "        }#T_2dab4246_8fc2_11eb_9872_0242ac1c0002row3_col1{\n",
              "            background-color:  #32cdff;\n",
              "            color:  #000000;\n",
              "            max-width:  50px;\n",
              "        }#T_2dab4246_8fc2_11eb_9872_0242ac1c0002row3_col2,#T_2dab4246_8fc2_11eb_9872_0242ac1c0002row4_col0{\n",
              "            background-color:  #6a95ff;\n",
              "            color:  #000000;\n",
              "            max-width:  50px;\n",
              "        }#T_2dab4246_8fc2_11eb_9872_0242ac1c0002row3_col5,#T_2dab4246_8fc2_11eb_9872_0242ac1c0002row4_col3{\n",
              "            background-color:  #16e9ff;\n",
              "            color:  #000000;\n",
              "            max-width:  50px;\n",
              "        }#T_2dab4246_8fc2_11eb_9872_0242ac1c0002row3_col6{\n",
              "            background-color:  #728dff;\n",
              "            color:  #000000;\n",
              "            max-width:  50px;\n",
              "        }</style><table id=\"T_2dab4246_8fc2_11eb_9872_0242ac1c0002\" ><thead>    <tr>        <th class=\"blank level0\" ></th>        <th class=\"col_heading level0 col0\" >0</th>        <th class=\"col_heading level0 col1\" >1</th>        <th class=\"col_heading level0 col2\" >2</th>        <th class=\"col_heading level0 col3\" >3</th>        <th class=\"col_heading level0 col4\" >4</th>        <th class=\"col_heading level0 col5\" >5</th>        <th class=\"col_heading level0 col6\" >6</th>        <th class=\"col_heading level0 col7\" >7</th>        <th class=\"col_heading level0 col8\" >8</th>        <th class=\"col_heading level0 col9\" >9</th>    </tr></thead><tbody>\n",
              "                <tr>\n",
              "                        <th id=\"T_2dab4246_8fc2_11eb_9872_0242ac1c0002level0_row0\" class=\"row_heading level0 row0\" >0</th>\n",
              "                        <td id=\"T_2dab4246_8fc2_11eb_9872_0242ac1c0002row0_col0\" class=\"data row0 col0\" >0.401</td>\n",
              "                        <td id=\"T_2dab4246_8fc2_11eb_9872_0242ac1c0002row0_col1\" class=\"data row0 col1\" >0.762</td>\n",
              "                        <td id=\"T_2dab4246_8fc2_11eb_9872_0242ac1c0002row0_col2\" class=\"data row0 col2\" >0.124</td>\n",
              "                        <td id=\"T_2dab4246_8fc2_11eb_9872_0242ac1c0002row0_col3\" class=\"data row0 col3\" >0.221</td>\n",
              "                        <td id=\"T_2dab4246_8fc2_11eb_9872_0242ac1c0002row0_col4\" class=\"data row0 col4\" >0.370</td>\n",
              "                        <td id=\"T_2dab4246_8fc2_11eb_9872_0242ac1c0002row0_col5\" class=\"data row0 col5\" >0.024</td>\n",
              "                        <td id=\"T_2dab4246_8fc2_11eb_9872_0242ac1c0002row0_col6\" class=\"data row0 col6\" >0.500</td>\n",
              "                        <td id=\"T_2dab4246_8fc2_11eb_9872_0242ac1c0002row0_col7\" class=\"data row0 col7\" >nan</td>\n",
              "                        <td id=\"T_2dab4246_8fc2_11eb_9872_0242ac1c0002row0_col8\" class=\"data row0 col8\" >nan</td>\n",
              "                        <td id=\"T_2dab4246_8fc2_11eb_9872_0242ac1c0002row0_col9\" class=\"data row0 col9\" >nan</td>\n",
              "            </tr>\n",
              "            <tr>\n",
              "                        <th id=\"T_2dab4246_8fc2_11eb_9872_0242ac1c0002level0_row1\" class=\"row_heading level0 row1\" >1</th>\n",
              "                        <td id=\"T_2dab4246_8fc2_11eb_9872_0242ac1c0002row1_col0\" class=\"data row1 col0\" >0.111</td>\n",
              "                        <td id=\"T_2dab4246_8fc2_11eb_9872_0242ac1c0002row1_col1\" class=\"data row1 col1\" >0.228</td>\n",
              "                        <td id=\"T_2dab4246_8fc2_11eb_9872_0242ac1c0002row1_col2\" class=\"data row1 col2\" >0.053</td>\n",
              "                        <td id=\"T_2dab4246_8fc2_11eb_9872_0242ac1c0002row1_col3\" class=\"data row1 col3\" >0.441</td>\n",
              "                        <td id=\"T_2dab4246_8fc2_11eb_9872_0242ac1c0002row1_col4\" class=\"data row1 col4\" >nan</td>\n",
              "                        <td id=\"T_2dab4246_8fc2_11eb_9872_0242ac1c0002row1_col5\" class=\"data row1 col5\" >nan</td>\n",
              "                        <td id=\"T_2dab4246_8fc2_11eb_9872_0242ac1c0002row1_col6\" class=\"data row1 col6\" >nan</td>\n",
              "                        <td id=\"T_2dab4246_8fc2_11eb_9872_0242ac1c0002row1_col7\" class=\"data row1 col7\" >nan</td>\n",
              "                        <td id=\"T_2dab4246_8fc2_11eb_9872_0242ac1c0002row1_col8\" class=\"data row1 col8\" >nan</td>\n",
              "                        <td id=\"T_2dab4246_8fc2_11eb_9872_0242ac1c0002row1_col9\" class=\"data row1 col9\" >nan</td>\n",
              "            </tr>\n",
              "            <tr>\n",
              "                        <th id=\"T_2dab4246_8fc2_11eb_9872_0242ac1c0002level0_row2\" class=\"row_heading level0 row2\" >2</th>\n",
              "                        <td id=\"T_2dab4246_8fc2_11eb_9872_0242ac1c0002row2_col0\" class=\"data row2 col0\" >0.044</td>\n",
              "                        <td id=\"T_2dab4246_8fc2_11eb_9872_0242ac1c0002row2_col1\" class=\"data row2 col1\" >0.176</td>\n",
              "                        <td id=\"T_2dab4246_8fc2_11eb_9872_0242ac1c0002row2_col2\" class=\"data row2 col2\" >0.209</td>\n",
              "                        <td id=\"T_2dab4246_8fc2_11eb_9872_0242ac1c0002row2_col3\" class=\"data row2 col3\" >0.270</td>\n",
              "                        <td id=\"T_2dab4246_8fc2_11eb_9872_0242ac1c0002row2_col4\" class=\"data row2 col4\" >0.434</td>\n",
              "                        <td id=\"T_2dab4246_8fc2_11eb_9872_0242ac1c0002row2_col5\" class=\"data row2 col5\" >0.153</td>\n",
              "                        <td id=\"T_2dab4246_8fc2_11eb_9872_0242ac1c0002row2_col6\" class=\"data row2 col6\" >0.178</td>\n",
              "                        <td id=\"T_2dab4246_8fc2_11eb_9872_0242ac1c0002row2_col7\" class=\"data row2 col7\" >0.278</td>\n",
              "                        <td id=\"T_2dab4246_8fc2_11eb_9872_0242ac1c0002row2_col8\" class=\"data row2 col8\" >0.037</td>\n",
              "                        <td id=\"T_2dab4246_8fc2_11eb_9872_0242ac1c0002row2_col9\" class=\"data row2 col9\" >0.220</td>\n",
              "            </tr>\n",
              "            <tr>\n",
              "                        <th id=\"T_2dab4246_8fc2_11eb_9872_0242ac1c0002level0_row3\" class=\"row_heading level0 row3\" >3</th>\n",
              "                        <td id=\"T_2dab4246_8fc2_11eb_9872_0242ac1c0002row3_col0\" class=\"data row3 col0\" >0.176</td>\n",
              "                        <td id=\"T_2dab4246_8fc2_11eb_9872_0242ac1c0002row3_col1\" class=\"data row3 col1\" >0.209</td>\n",
              "                        <td id=\"T_2dab4246_8fc2_11eb_9872_0242ac1c0002row3_col2\" class=\"data row3 col2\" >0.270</td>\n",
              "                        <td id=\"T_2dab4246_8fc2_11eb_9872_0242ac1c0002row3_col3\" class=\"data row3 col3\" >0.434</td>\n",
              "                        <td id=\"T_2dab4246_8fc2_11eb_9872_0242ac1c0002row3_col4\" class=\"data row3 col4\" >0.153</td>\n",
              "                        <td id=\"T_2dab4246_8fc2_11eb_9872_0242ac1c0002row3_col5\" class=\"data row3 col5\" >0.178</td>\n",
              "                        <td id=\"T_2dab4246_8fc2_11eb_9872_0242ac1c0002row3_col6\" class=\"data row3 col6\" >0.278</td>\n",
              "                        <td id=\"T_2dab4246_8fc2_11eb_9872_0242ac1c0002row3_col7\" class=\"data row3 col7\" >nan</td>\n",
              "                        <td id=\"T_2dab4246_8fc2_11eb_9872_0242ac1c0002row3_col8\" class=\"data row3 col8\" >nan</td>\n",
              "                        <td id=\"T_2dab4246_8fc2_11eb_9872_0242ac1c0002row3_col9\" class=\"data row3 col9\" >nan</td>\n",
              "            </tr>\n",
              "            <tr>\n",
              "                        <th id=\"T_2dab4246_8fc2_11eb_9872_0242ac1c0002level0_row4\" class=\"row_heading level0 row4\" >4</th>\n",
              "                        <td id=\"T_2dab4246_8fc2_11eb_9872_0242ac1c0002row4_col0\" class=\"data row4 col0\" >0.270</td>\n",
              "                        <td id=\"T_2dab4246_8fc2_11eb_9872_0242ac1c0002row4_col1\" class=\"data row4 col1\" >0.434</td>\n",
              "                        <td id=\"T_2dab4246_8fc2_11eb_9872_0242ac1c0002row4_col2\" class=\"data row4 col2\" >0.153</td>\n",
              "                        <td id=\"T_2dab4246_8fc2_11eb_9872_0242ac1c0002row4_col3\" class=\"data row4 col3\" >0.178</td>\n",
              "                        <td id=\"T_2dab4246_8fc2_11eb_9872_0242ac1c0002row4_col4\" class=\"data row4 col4\" >nan</td>\n",
              "                        <td id=\"T_2dab4246_8fc2_11eb_9872_0242ac1c0002row4_col5\" class=\"data row4 col5\" >nan</td>\n",
              "                        <td id=\"T_2dab4246_8fc2_11eb_9872_0242ac1c0002row4_col6\" class=\"data row4 col6\" >nan</td>\n",
              "                        <td id=\"T_2dab4246_8fc2_11eb_9872_0242ac1c0002row4_col7\" class=\"data row4 col7\" >nan</td>\n",
              "                        <td id=\"T_2dab4246_8fc2_11eb_9872_0242ac1c0002row4_col8\" class=\"data row4 col8\" >nan</td>\n",
              "                        <td id=\"T_2dab4246_8fc2_11eb_9872_0242ac1c0002row4_col9\" class=\"data row4 col9\" >nan</td>\n",
              "            </tr>\n",
              "    </tbody></table>"
            ],
            "text/plain": [
              "<pandas.io.formats.style.Styler at 0x7f83892eb450>"
            ]
          },
          "metadata": {
            "tags": []
          },
          "execution_count": 19
        }
      ]
    },
    {
      "cell_type": "code",
      "metadata": {
        "id": "cnjg3xc-lAn9",
        "colab": {
          "base_uri": "https://localhost:8080/",
          "height": 78
        },
        "outputId": "9addb7b2-f4d5-4166-c406-f134e1051a10"
      },
      "source": [
        "dhtml('Conv2d Exploration')"
      ],
      "execution_count": null,
      "outputs": [
        {
          "output_type": "display_data",
          "data": {
            "text/html": [
              "<style>\n",
              "    @import 'https://fonts.googleapis.com/css?family=Lobster&effect=3d-float';</style>\n",
              "    <h1 class='font-effect-3d-float' \n",
              "    style='font-family:Lobster; color:#11ff66; font-size:30px;'>\n",
              "    Conv2d Exploration</h1>"
            ],
            "text/plain": [
              "<IPython.core.display.HTML object>"
            ]
          },
          "metadata": {
            "tags": []
          }
        }
      ]
    },
    {
      "cell_type": "code",
      "metadata": {
        "id": "nzBmahtbxfV5",
        "colab": {
          "base_uri": "https://localhost:8080/",
          "height": 469
        },
        "outputId": "d29f73be-d156-4a90-de8e-469b180887b8"
      },
      "source": [
        "num_X=6; p=[1,1]\n",
        "X=np.random.random([num_X,num_X])\n",
        "n1=X.shape[0]+2*p[0]\n",
        "n2=X.shape[1]+2*p[1]\n",
        "X_padded=np.zeros(shape=(n1,n2))\n",
        "X_padded[p[0]:p[0]+X.shape[0],\n",
        "         p[1]:p[1]+X.shape[1]]=X\n",
        "pd.DataFrame(X_padded)\\\n",
        ".style.background_gradient(cmap='cool',axis=1)\\\n",
        ".set_properties(**{'max-width':'50px','height':'50px'})"
      ],
      "execution_count": 20,
      "outputs": [
        {
          "output_type": "execute_result",
          "data": {
            "text/html": [
              "<style  type=\"text/css\" >\n",
              "#T_3a923168_8fc2_11eb_9872_0242ac1c0002row0_col0,#T_3a923168_8fc2_11eb_9872_0242ac1c0002row0_col1,#T_3a923168_8fc2_11eb_9872_0242ac1c0002row0_col2,#T_3a923168_8fc2_11eb_9872_0242ac1c0002row0_col3,#T_3a923168_8fc2_11eb_9872_0242ac1c0002row0_col4,#T_3a923168_8fc2_11eb_9872_0242ac1c0002row0_col5,#T_3a923168_8fc2_11eb_9872_0242ac1c0002row0_col6,#T_3a923168_8fc2_11eb_9872_0242ac1c0002row0_col7,#T_3a923168_8fc2_11eb_9872_0242ac1c0002row1_col0,#T_3a923168_8fc2_11eb_9872_0242ac1c0002row1_col7,#T_3a923168_8fc2_11eb_9872_0242ac1c0002row2_col0,#T_3a923168_8fc2_11eb_9872_0242ac1c0002row2_col7,#T_3a923168_8fc2_11eb_9872_0242ac1c0002row3_col0,#T_3a923168_8fc2_11eb_9872_0242ac1c0002row3_col7,#T_3a923168_8fc2_11eb_9872_0242ac1c0002row4_col0,#T_3a923168_8fc2_11eb_9872_0242ac1c0002row4_col7,#T_3a923168_8fc2_11eb_9872_0242ac1c0002row5_col0,#T_3a923168_8fc2_11eb_9872_0242ac1c0002row5_col7,#T_3a923168_8fc2_11eb_9872_0242ac1c0002row6_col0,#T_3a923168_8fc2_11eb_9872_0242ac1c0002row6_col7,#T_3a923168_8fc2_11eb_9872_0242ac1c0002row7_col0,#T_3a923168_8fc2_11eb_9872_0242ac1c0002row7_col1,#T_3a923168_8fc2_11eb_9872_0242ac1c0002row7_col2,#T_3a923168_8fc2_11eb_9872_0242ac1c0002row7_col3,#T_3a923168_8fc2_11eb_9872_0242ac1c0002row7_col4,#T_3a923168_8fc2_11eb_9872_0242ac1c0002row7_col5,#T_3a923168_8fc2_11eb_9872_0242ac1c0002row7_col6,#T_3a923168_8fc2_11eb_9872_0242ac1c0002row7_col7{\n",
              "            background-color:  #00ffff;\n",
              "            color:  #000000;\n",
              "            max-width:  50px;\n",
              "            height:  50px;\n",
              "        }#T_3a923168_8fc2_11eb_9872_0242ac1c0002row1_col1{\n",
              "            background-color:  #a35cff;\n",
              "            color:  #000000;\n",
              "            max-width:  50px;\n",
              "            height:  50px;\n",
              "        }#T_3a923168_8fc2_11eb_9872_0242ac1c0002row1_col2{\n",
              "            background-color:  #5da2ff;\n",
              "            color:  #000000;\n",
              "            max-width:  50px;\n",
              "            height:  50px;\n",
              "        }#T_3a923168_8fc2_11eb_9872_0242ac1c0002row1_col3,#T_3a923168_8fc2_11eb_9872_0242ac1c0002row2_col3,#T_3a923168_8fc2_11eb_9872_0242ac1c0002row3_col1,#T_3a923168_8fc2_11eb_9872_0242ac1c0002row4_col6,#T_3a923168_8fc2_11eb_9872_0242ac1c0002row5_col3,#T_3a923168_8fc2_11eb_9872_0242ac1c0002row5_col6,#T_3a923168_8fc2_11eb_9872_0242ac1c0002row6_col1{\n",
              "            background-color:  #ff00ff;\n",
              "            color:  #f1f1f1;\n",
              "            max-width:  50px;\n",
              "            height:  50px;\n",
              "        }#T_3a923168_8fc2_11eb_9872_0242ac1c0002row1_col4{\n",
              "            background-color:  #e21dff;\n",
              "            color:  #f1f1f1;\n",
              "            max-width:  50px;\n",
              "            height:  50px;\n",
              "        }#T_3a923168_8fc2_11eb_9872_0242ac1c0002row1_col5{\n",
              "            background-color:  #2ed1ff;\n",
              "            color:  #000000;\n",
              "            max-width:  50px;\n",
              "            height:  50px;\n",
              "        }#T_3a923168_8fc2_11eb_9872_0242ac1c0002row1_col6{\n",
              "            background-color:  #f40bff;\n",
              "            color:  #f1f1f1;\n",
              "            max-width:  50px;\n",
              "            height:  50px;\n",
              "        }#T_3a923168_8fc2_11eb_9872_0242ac1c0002row2_col1{\n",
              "            background-color:  #49b6ff;\n",
              "            color:  #000000;\n",
              "            max-width:  50px;\n",
              "            height:  50px;\n",
              "        }#T_3a923168_8fc2_11eb_9872_0242ac1c0002row2_col2{\n",
              "            background-color:  #718eff;\n",
              "            color:  #000000;\n",
              "            max-width:  50px;\n",
              "            height:  50px;\n",
              "        }#T_3a923168_8fc2_11eb_9872_0242ac1c0002row2_col4,#T_3a923168_8fc2_11eb_9872_0242ac1c0002row6_col2{\n",
              "            background-color:  #9867ff;\n",
              "            color:  #000000;\n",
              "            max-width:  50px;\n",
              "            height:  50px;\n",
              "        }#T_3a923168_8fc2_11eb_9872_0242ac1c0002row2_col5{\n",
              "            background-color:  #bf40ff;\n",
              "            color:  #000000;\n",
              "            max-width:  50px;\n",
              "            height:  50px;\n",
              "        }#T_3a923168_8fc2_11eb_9872_0242ac1c0002row2_col6{\n",
              "            background-color:  #01feff;\n",
              "            color:  #000000;\n",
              "            max-width:  50px;\n",
              "            height:  50px;\n",
              "        }#T_3a923168_8fc2_11eb_9872_0242ac1c0002row3_col2{\n",
              "            background-color:  #5ba4ff;\n",
              "            color:  #000000;\n",
              "            max-width:  50px;\n",
              "            height:  50px;\n",
              "        }#T_3a923168_8fc2_11eb_9872_0242ac1c0002row3_col3{\n",
              "            background-color:  #fb04ff;\n",
              "            color:  #f1f1f1;\n",
              "            max-width:  50px;\n",
              "            height:  50px;\n",
              "        }#T_3a923168_8fc2_11eb_9872_0242ac1c0002row3_col4{\n",
              "            background-color:  #8a75ff;\n",
              "            color:  #000000;\n",
              "            max-width:  50px;\n",
              "            height:  50px;\n",
              "        }#T_3a923168_8fc2_11eb_9872_0242ac1c0002row3_col5{\n",
              "            background-color:  #51aeff;\n",
              "            color:  #000000;\n",
              "            max-width:  50px;\n",
              "            height:  50px;\n",
              "        }#T_3a923168_8fc2_11eb_9872_0242ac1c0002row3_col6{\n",
              "            background-color:  #46b9ff;\n",
              "            color:  #000000;\n",
              "            max-width:  50px;\n",
              "            height:  50px;\n",
              "        }#T_3a923168_8fc2_11eb_9872_0242ac1c0002row4_col1{\n",
              "            background-color:  #728dff;\n",
              "            color:  #000000;\n",
              "            max-width:  50px;\n",
              "            height:  50px;\n",
              "        }#T_3a923168_8fc2_11eb_9872_0242ac1c0002row4_col2{\n",
              "            background-color:  #926dff;\n",
              "            color:  #000000;\n",
              "            max-width:  50px;\n",
              "            height:  50px;\n",
              "        }#T_3a923168_8fc2_11eb_9872_0242ac1c0002row4_col3{\n",
              "            background-color:  #33ccff;\n",
              "            color:  #000000;\n",
              "            max-width:  50px;\n",
              "            height:  50px;\n",
              "        }#T_3a923168_8fc2_11eb_9872_0242ac1c0002row4_col4{\n",
              "            background-color:  #52adff;\n",
              "            color:  #000000;\n",
              "            max-width:  50px;\n",
              "            height:  50px;\n",
              "        }#T_3a923168_8fc2_11eb_9872_0242ac1c0002row4_col5{\n",
              "            background-color:  #9d62ff;\n",
              "            color:  #000000;\n",
              "            max-width:  50px;\n",
              "            height:  50px;\n",
              "        }#T_3a923168_8fc2_11eb_9872_0242ac1c0002row5_col1{\n",
              "            background-color:  #1de2ff;\n",
              "            color:  #000000;\n",
              "            max-width:  50px;\n",
              "            height:  50px;\n",
              "        }#T_3a923168_8fc2_11eb_9872_0242ac1c0002row5_col2{\n",
              "            background-color:  #609fff;\n",
              "            color:  #000000;\n",
              "            max-width:  50px;\n",
              "            height:  50px;\n",
              "        }#T_3a923168_8fc2_11eb_9872_0242ac1c0002row5_col4{\n",
              "            background-color:  #a55aff;\n",
              "            color:  #000000;\n",
              "            max-width:  50px;\n",
              "            height:  50px;\n",
              "        }#T_3a923168_8fc2_11eb_9872_0242ac1c0002row5_col5{\n",
              "            background-color:  #56a9ff;\n",
              "            color:  #000000;\n",
              "            max-width:  50px;\n",
              "            height:  50px;\n",
              "        }#T_3a923168_8fc2_11eb_9872_0242ac1c0002row6_col3{\n",
              "            background-color:  #a05fff;\n",
              "            color:  #000000;\n",
              "            max-width:  50px;\n",
              "            height:  50px;\n",
              "        }#T_3a923168_8fc2_11eb_9872_0242ac1c0002row6_col4{\n",
              "            background-color:  #a857ff;\n",
              "            color:  #000000;\n",
              "            max-width:  50px;\n",
              "            height:  50px;\n",
              "        }#T_3a923168_8fc2_11eb_9872_0242ac1c0002row6_col5{\n",
              "            background-color:  #738cff;\n",
              "            color:  #000000;\n",
              "            max-width:  50px;\n",
              "            height:  50px;\n",
              "        }#T_3a923168_8fc2_11eb_9872_0242ac1c0002row6_col6{\n",
              "            background-color:  #17e8ff;\n",
              "            color:  #000000;\n",
              "            max-width:  50px;\n",
              "            height:  50px;\n",
              "        }</style><table id=\"T_3a923168_8fc2_11eb_9872_0242ac1c0002\" ><thead>    <tr>        <th class=\"blank level0\" ></th>        <th class=\"col_heading level0 col0\" >0</th>        <th class=\"col_heading level0 col1\" >1</th>        <th class=\"col_heading level0 col2\" >2</th>        <th class=\"col_heading level0 col3\" >3</th>        <th class=\"col_heading level0 col4\" >4</th>        <th class=\"col_heading level0 col5\" >5</th>        <th class=\"col_heading level0 col6\" >6</th>        <th class=\"col_heading level0 col7\" >7</th>    </tr></thead><tbody>\n",
              "                <tr>\n",
              "                        <th id=\"T_3a923168_8fc2_11eb_9872_0242ac1c0002level0_row0\" class=\"row_heading level0 row0\" >0</th>\n",
              "                        <td id=\"T_3a923168_8fc2_11eb_9872_0242ac1c0002row0_col0\" class=\"data row0 col0\" >0.000</td>\n",
              "                        <td id=\"T_3a923168_8fc2_11eb_9872_0242ac1c0002row0_col1\" class=\"data row0 col1\" >0.000</td>\n",
              "                        <td id=\"T_3a923168_8fc2_11eb_9872_0242ac1c0002row0_col2\" class=\"data row0 col2\" >0.000</td>\n",
              "                        <td id=\"T_3a923168_8fc2_11eb_9872_0242ac1c0002row0_col3\" class=\"data row0 col3\" >0.000</td>\n",
              "                        <td id=\"T_3a923168_8fc2_11eb_9872_0242ac1c0002row0_col4\" class=\"data row0 col4\" >0.000</td>\n",
              "                        <td id=\"T_3a923168_8fc2_11eb_9872_0242ac1c0002row0_col5\" class=\"data row0 col5\" >0.000</td>\n",
              "                        <td id=\"T_3a923168_8fc2_11eb_9872_0242ac1c0002row0_col6\" class=\"data row0 col6\" >0.000</td>\n",
              "                        <td id=\"T_3a923168_8fc2_11eb_9872_0242ac1c0002row0_col7\" class=\"data row0 col7\" >0.000</td>\n",
              "            </tr>\n",
              "            <tr>\n",
              "                        <th id=\"T_3a923168_8fc2_11eb_9872_0242ac1c0002level0_row1\" class=\"row_heading level0 row1\" >1</th>\n",
              "                        <td id=\"T_3a923168_8fc2_11eb_9872_0242ac1c0002row1_col0\" class=\"data row1 col0\" >0.000</td>\n",
              "                        <td id=\"T_3a923168_8fc2_11eb_9872_0242ac1c0002row1_col1\" class=\"data row1 col1\" >0.619</td>\n",
              "                        <td id=\"T_3a923168_8fc2_11eb_9872_0242ac1c0002row1_col2\" class=\"data row1 col2\" >0.352</td>\n",
              "                        <td id=\"T_3a923168_8fc2_11eb_9872_0242ac1c0002row1_col3\" class=\"data row1 col3\" >0.970</td>\n",
              "                        <td id=\"T_3a923168_8fc2_11eb_9872_0242ac1c0002row1_col4\" class=\"data row1 col4\" >0.859</td>\n",
              "                        <td id=\"T_3a923168_8fc2_11eb_9872_0242ac1c0002row1_col5\" class=\"data row1 col5\" >0.177</td>\n",
              "                        <td id=\"T_3a923168_8fc2_11eb_9872_0242ac1c0002row1_col6\" class=\"data row1 col6\" >0.926</td>\n",
              "                        <td id=\"T_3a923168_8fc2_11eb_9872_0242ac1c0002row1_col7\" class=\"data row1 col7\" >0.000</td>\n",
              "            </tr>\n",
              "            <tr>\n",
              "                        <th id=\"T_3a923168_8fc2_11eb_9872_0242ac1c0002level0_row2\" class=\"row_heading level0 row2\" >2</th>\n",
              "                        <td id=\"T_3a923168_8fc2_11eb_9872_0242ac1c0002row2_col0\" class=\"data row2 col0\" >0.000</td>\n",
              "                        <td id=\"T_3a923168_8fc2_11eb_9872_0242ac1c0002row2_col1\" class=\"data row2 col1\" >0.284</td>\n",
              "                        <td id=\"T_3a923168_8fc2_11eb_9872_0242ac1c0002row2_col2\" class=\"data row2 col2\" >0.439</td>\n",
              "                        <td id=\"T_3a923168_8fc2_11eb_9872_0242ac1c0002row2_col3\" class=\"data row2 col3\" >0.987</td>\n",
              "                        <td id=\"T_3a923168_8fc2_11eb_9872_0242ac1c0002row2_col4\" class=\"data row2 col4\" >0.587</td>\n",
              "                        <td id=\"T_3a923168_8fc2_11eb_9872_0242ac1c0002row2_col5\" class=\"data row2 col5\" >0.737</td>\n",
              "                        <td id=\"T_3a923168_8fc2_11eb_9872_0242ac1c0002row2_col6\" class=\"data row2 col6\" >0.007</td>\n",
              "                        <td id=\"T_3a923168_8fc2_11eb_9872_0242ac1c0002row2_col7\" class=\"data row2 col7\" >0.000</td>\n",
              "            </tr>\n",
              "            <tr>\n",
              "                        <th id=\"T_3a923168_8fc2_11eb_9872_0242ac1c0002level0_row3\" class=\"row_heading level0 row3\" >3</th>\n",
              "                        <td id=\"T_3a923168_8fc2_11eb_9872_0242ac1c0002row3_col0\" class=\"data row3 col0\" >0.000</td>\n",
              "                        <td id=\"T_3a923168_8fc2_11eb_9872_0242ac1c0002row3_col1\" class=\"data row3 col1\" >0.844</td>\n",
              "                        <td id=\"T_3a923168_8fc2_11eb_9872_0242ac1c0002row3_col2\" class=\"data row3 col2\" >0.303</td>\n",
              "                        <td id=\"T_3a923168_8fc2_11eb_9872_0242ac1c0002row3_col3\" class=\"data row3 col3\" >0.827</td>\n",
              "                        <td id=\"T_3a923168_8fc2_11eb_9872_0242ac1c0002row3_col4\" class=\"data row3 col4\" >0.455</td>\n",
              "                        <td id=\"T_3a923168_8fc2_11eb_9872_0242ac1c0002row3_col5\" class=\"data row3 col5\" >0.269</td>\n",
              "                        <td id=\"T_3a923168_8fc2_11eb_9872_0242ac1c0002row3_col6\" class=\"data row3 col6\" >0.233</td>\n",
              "                        <td id=\"T_3a923168_8fc2_11eb_9872_0242ac1c0002row3_col7\" class=\"data row3 col7\" >0.000</td>\n",
              "            </tr>\n",
              "            <tr>\n",
              "                        <th id=\"T_3a923168_8fc2_11eb_9872_0242ac1c0002level0_row4\" class=\"row_heading level0 row4\" >4</th>\n",
              "                        <td id=\"T_3a923168_8fc2_11eb_9872_0242ac1c0002row4_col0\" class=\"data row4 col0\" >0.000</td>\n",
              "                        <td id=\"T_3a923168_8fc2_11eb_9872_0242ac1c0002row4_col1\" class=\"data row4 col1\" >0.332</td>\n",
              "                        <td id=\"T_3a923168_8fc2_11eb_9872_0242ac1c0002row4_col2\" class=\"data row4 col2\" >0.423</td>\n",
              "                        <td id=\"T_3a923168_8fc2_11eb_9872_0242ac1c0002row4_col3\" class=\"data row4 col3\" >0.149</td>\n",
              "                        <td id=\"T_3a923168_8fc2_11eb_9872_0242ac1c0002row4_col4\" class=\"data row4 col4\" >0.237</td>\n",
              "                        <td id=\"T_3a923168_8fc2_11eb_9872_0242ac1c0002row4_col5\" class=\"data row4 col5\" >0.455</td>\n",
              "                        <td id=\"T_3a923168_8fc2_11eb_9872_0242ac1c0002row4_col6\" class=\"data row4 col6\" >0.739</td>\n",
              "                        <td id=\"T_3a923168_8fc2_11eb_9872_0242ac1c0002row4_col7\" class=\"data row4 col7\" >0.000</td>\n",
              "            </tr>\n",
              "            <tr>\n",
              "                        <th id=\"T_3a923168_8fc2_11eb_9872_0242ac1c0002level0_row5\" class=\"row_heading level0 row5\" >5</th>\n",
              "                        <td id=\"T_3a923168_8fc2_11eb_9872_0242ac1c0002row5_col0\" class=\"data row5 col0\" >0.000</td>\n",
              "                        <td id=\"T_3a923168_8fc2_11eb_9872_0242ac1c0002row5_col1\" class=\"data row5 col1\" >0.095</td>\n",
              "                        <td id=\"T_3a923168_8fc2_11eb_9872_0242ac1c0002row5_col2\" class=\"data row5 col2\" >0.312</td>\n",
              "                        <td id=\"T_3a923168_8fc2_11eb_9872_0242ac1c0002row5_col3\" class=\"data row5 col3\" >0.827</td>\n",
              "                        <td id=\"T_3a923168_8fc2_11eb_9872_0242ac1c0002row5_col4\" class=\"data row5 col4\" >0.536</td>\n",
              "                        <td id=\"T_3a923168_8fc2_11eb_9872_0242ac1c0002row5_col5\" class=\"data row5 col5\" >0.280</td>\n",
              "                        <td id=\"T_3a923168_8fc2_11eb_9872_0242ac1c0002row5_col6\" class=\"data row5 col6\" >0.829</td>\n",
              "                        <td id=\"T_3a923168_8fc2_11eb_9872_0242ac1c0002row5_col7\" class=\"data row5 col7\" >0.000</td>\n",
              "            </tr>\n",
              "            <tr>\n",
              "                        <th id=\"T_3a923168_8fc2_11eb_9872_0242ac1c0002level0_row6\" class=\"row_heading level0 row6\" >6</th>\n",
              "                        <td id=\"T_3a923168_8fc2_11eb_9872_0242ac1c0002row6_col0\" class=\"data row6 col0\" >0.000</td>\n",
              "                        <td id=\"T_3a923168_8fc2_11eb_9872_0242ac1c0002row6_col1\" class=\"data row6 col1\" >0.910</td>\n",
              "                        <td id=\"T_3a923168_8fc2_11eb_9872_0242ac1c0002row6_col2\" class=\"data row6 col2\" >0.544</td>\n",
              "                        <td id=\"T_3a923168_8fc2_11eb_9872_0242ac1c0002row6_col3\" class=\"data row6 col3\" >0.571</td>\n",
              "                        <td id=\"T_3a923168_8fc2_11eb_9872_0242ac1c0002row6_col4\" class=\"data row6 col4\" >0.600</td>\n",
              "                        <td id=\"T_3a923168_8fc2_11eb_9872_0242ac1c0002row6_col5\" class=\"data row6 col5\" >0.412</td>\n",
              "                        <td id=\"T_3a923168_8fc2_11eb_9872_0242ac1c0002row6_col6\" class=\"data row6 col6\" >0.084</td>\n",
              "                        <td id=\"T_3a923168_8fc2_11eb_9872_0242ac1c0002row6_col7\" class=\"data row6 col7\" >0.000</td>\n",
              "            </tr>\n",
              "            <tr>\n",
              "                        <th id=\"T_3a923168_8fc2_11eb_9872_0242ac1c0002level0_row7\" class=\"row_heading level0 row7\" >7</th>\n",
              "                        <td id=\"T_3a923168_8fc2_11eb_9872_0242ac1c0002row7_col0\" class=\"data row7 col0\" >0.000</td>\n",
              "                        <td id=\"T_3a923168_8fc2_11eb_9872_0242ac1c0002row7_col1\" class=\"data row7 col1\" >0.000</td>\n",
              "                        <td id=\"T_3a923168_8fc2_11eb_9872_0242ac1c0002row7_col2\" class=\"data row7 col2\" >0.000</td>\n",
              "                        <td id=\"T_3a923168_8fc2_11eb_9872_0242ac1c0002row7_col3\" class=\"data row7 col3\" >0.000</td>\n",
              "                        <td id=\"T_3a923168_8fc2_11eb_9872_0242ac1c0002row7_col4\" class=\"data row7 col4\" >0.000</td>\n",
              "                        <td id=\"T_3a923168_8fc2_11eb_9872_0242ac1c0002row7_col5\" class=\"data row7 col5\" >0.000</td>\n",
              "                        <td id=\"T_3a923168_8fc2_11eb_9872_0242ac1c0002row7_col6\" class=\"data row7 col6\" >0.000</td>\n",
              "                        <td id=\"T_3a923168_8fc2_11eb_9872_0242ac1c0002row7_col7\" class=\"data row7 col7\" >0.000</td>\n",
              "            </tr>\n",
              "    </tbody></table>"
            ],
            "text/plain": [
              "<pandas.io.formats.style.Styler at 0x7f8389337590>"
            ]
          },
          "metadata": {
            "tags": []
          },
          "execution_count": 20
        }
      ]
    },
    {
      "cell_type": "code",
      "metadata": {
        "id": "4jWnA08qxms1",
        "colab": {
          "base_uri": "https://localhost:8080/",
          "height": 385
        },
        "outputId": "fbe2b00f-ddf4-4304-e074-c52725a7ad19"
      },
      "source": [
        "num_W=3\n",
        "W=np.random.random([num_W,num_W])\n",
        "W_rotated=np.array(W)[::-1,::-1]\n",
        "for m in [W,W_rotated]:\n",
        "    display(pd.DataFrame(m)\\\n",
        "    .style.background_gradient(cmap='cool',axis=1)\\\n",
        "    .set_properties(**{'max-width':'50px','height':'50px'}))"
      ],
      "execution_count": 21,
      "outputs": [
        {
          "output_type": "display_data",
          "data": {
            "text/html": [
              "<style  type=\"text/css\" >\n",
              "#T_409750ac_8fc2_11eb_9872_0242ac1c0002row0_col0,#T_409750ac_8fc2_11eb_9872_0242ac1c0002row1_col2,#T_409750ac_8fc2_11eb_9872_0242ac1c0002row2_col0{\n",
              "            background-color:  #00ffff;\n",
              "            color:  #000000;\n",
              "            max-width:  50px;\n",
              "            height:  50px;\n",
              "        }#T_409750ac_8fc2_11eb_9872_0242ac1c0002row0_col1{\n",
              "            background-color:  #6699ff;\n",
              "            color:  #000000;\n",
              "            max-width:  50px;\n",
              "            height:  50px;\n",
              "        }#T_409750ac_8fc2_11eb_9872_0242ac1c0002row0_col2,#T_409750ac_8fc2_11eb_9872_0242ac1c0002row1_col1,#T_409750ac_8fc2_11eb_9872_0242ac1c0002row2_col1{\n",
              "            background-color:  #ff00ff;\n",
              "            color:  #f1f1f1;\n",
              "            max-width:  50px;\n",
              "            height:  50px;\n",
              "        }#T_409750ac_8fc2_11eb_9872_0242ac1c0002row1_col0{\n",
              "            background-color:  #09f6ff;\n",
              "            color:  #000000;\n",
              "            max-width:  50px;\n",
              "            height:  50px;\n",
              "        }#T_409750ac_8fc2_11eb_9872_0242ac1c0002row2_col2{\n",
              "            background-color:  #7d82ff;\n",
              "            color:  #000000;\n",
              "            max-width:  50px;\n",
              "            height:  50px;\n",
              "        }</style><table id=\"T_409750ac_8fc2_11eb_9872_0242ac1c0002\" ><thead>    <tr>        <th class=\"blank level0\" ></th>        <th class=\"col_heading level0 col0\" >0</th>        <th class=\"col_heading level0 col1\" >1</th>        <th class=\"col_heading level0 col2\" >2</th>    </tr></thead><tbody>\n",
              "                <tr>\n",
              "                        <th id=\"T_409750ac_8fc2_11eb_9872_0242ac1c0002level0_row0\" class=\"row_heading level0 row0\" >0</th>\n",
              "                        <td id=\"T_409750ac_8fc2_11eb_9872_0242ac1c0002row0_col0\" class=\"data row0 col0\" >0.090</td>\n",
              "                        <td id=\"T_409750ac_8fc2_11eb_9872_0242ac1c0002row0_col1\" class=\"data row0 col1\" >0.295</td>\n",
              "                        <td id=\"T_409750ac_8fc2_11eb_9872_0242ac1c0002row0_col2\" class=\"data row0 col2\" >0.605</td>\n",
              "            </tr>\n",
              "            <tr>\n",
              "                        <th id=\"T_409750ac_8fc2_11eb_9872_0242ac1c0002level0_row1\" class=\"row_heading level0 row1\" >1</th>\n",
              "                        <td id=\"T_409750ac_8fc2_11eb_9872_0242ac1c0002row1_col0\" class=\"data row1 col0\" >0.121</td>\n",
              "                        <td id=\"T_409750ac_8fc2_11eb_9872_0242ac1c0002row1_col1\" class=\"data row1 col1\" >0.848</td>\n",
              "                        <td id=\"T_409750ac_8fc2_11eb_9872_0242ac1c0002row1_col2\" class=\"data row1 col2\" >0.092</td>\n",
              "            </tr>\n",
              "            <tr>\n",
              "                        <th id=\"T_409750ac_8fc2_11eb_9872_0242ac1c0002level0_row2\" class=\"row_heading level0 row2\" >2</th>\n",
              "                        <td id=\"T_409750ac_8fc2_11eb_9872_0242ac1c0002row2_col0\" class=\"data row2 col0\" >0.588</td>\n",
              "                        <td id=\"T_409750ac_8fc2_11eb_9872_0242ac1c0002row2_col1\" class=\"data row2 col1\" >0.876</td>\n",
              "                        <td id=\"T_409750ac_8fc2_11eb_9872_0242ac1c0002row2_col2\" class=\"data row2 col2\" >0.729</td>\n",
              "            </tr>\n",
              "    </tbody></table>"
            ],
            "text/plain": [
              "<pandas.io.formats.style.Styler at 0x7f83892e2d90>"
            ]
          },
          "metadata": {
            "tags": []
          }
        },
        {
          "output_type": "display_data",
          "data": {
            "text/html": [
              "<style  type=\"text/css\" >\n",
              "#T_4099ed44_8fc2_11eb_9872_0242ac1c0002row0_col0{\n",
              "            background-color:  #7d82ff;\n",
              "            color:  #000000;\n",
              "            max-width:  50px;\n",
              "            height:  50px;\n",
              "        }#T_4099ed44_8fc2_11eb_9872_0242ac1c0002row0_col1,#T_4099ed44_8fc2_11eb_9872_0242ac1c0002row1_col1,#T_4099ed44_8fc2_11eb_9872_0242ac1c0002row2_col0{\n",
              "            background-color:  #ff00ff;\n",
              "            color:  #f1f1f1;\n",
              "            max-width:  50px;\n",
              "            height:  50px;\n",
              "        }#T_4099ed44_8fc2_11eb_9872_0242ac1c0002row0_col2,#T_4099ed44_8fc2_11eb_9872_0242ac1c0002row1_col0,#T_4099ed44_8fc2_11eb_9872_0242ac1c0002row2_col2{\n",
              "            background-color:  #00ffff;\n",
              "            color:  #000000;\n",
              "            max-width:  50px;\n",
              "            height:  50px;\n",
              "        }#T_4099ed44_8fc2_11eb_9872_0242ac1c0002row1_col2{\n",
              "            background-color:  #09f6ff;\n",
              "            color:  #000000;\n",
              "            max-width:  50px;\n",
              "            height:  50px;\n",
              "        }#T_4099ed44_8fc2_11eb_9872_0242ac1c0002row2_col1{\n",
              "            background-color:  #6699ff;\n",
              "            color:  #000000;\n",
              "            max-width:  50px;\n",
              "            height:  50px;\n",
              "        }</style><table id=\"T_4099ed44_8fc2_11eb_9872_0242ac1c0002\" ><thead>    <tr>        <th class=\"blank level0\" ></th>        <th class=\"col_heading level0 col0\" >0</th>        <th class=\"col_heading level0 col1\" >1</th>        <th class=\"col_heading level0 col2\" >2</th>    </tr></thead><tbody>\n",
              "                <tr>\n",
              "                        <th id=\"T_4099ed44_8fc2_11eb_9872_0242ac1c0002level0_row0\" class=\"row_heading level0 row0\" >0</th>\n",
              "                        <td id=\"T_4099ed44_8fc2_11eb_9872_0242ac1c0002row0_col0\" class=\"data row0 col0\" >0.729</td>\n",
              "                        <td id=\"T_4099ed44_8fc2_11eb_9872_0242ac1c0002row0_col1\" class=\"data row0 col1\" >0.876</td>\n",
              "                        <td id=\"T_4099ed44_8fc2_11eb_9872_0242ac1c0002row0_col2\" class=\"data row0 col2\" >0.588</td>\n",
              "            </tr>\n",
              "            <tr>\n",
              "                        <th id=\"T_4099ed44_8fc2_11eb_9872_0242ac1c0002level0_row1\" class=\"row_heading level0 row1\" >1</th>\n",
              "                        <td id=\"T_4099ed44_8fc2_11eb_9872_0242ac1c0002row1_col0\" class=\"data row1 col0\" >0.092</td>\n",
              "                        <td id=\"T_4099ed44_8fc2_11eb_9872_0242ac1c0002row1_col1\" class=\"data row1 col1\" >0.848</td>\n",
              "                        <td id=\"T_4099ed44_8fc2_11eb_9872_0242ac1c0002row1_col2\" class=\"data row1 col2\" >0.121</td>\n",
              "            </tr>\n",
              "            <tr>\n",
              "                        <th id=\"T_4099ed44_8fc2_11eb_9872_0242ac1c0002level0_row2\" class=\"row_heading level0 row2\" >2</th>\n",
              "                        <td id=\"T_4099ed44_8fc2_11eb_9872_0242ac1c0002row2_col0\" class=\"data row2 col0\" >0.605</td>\n",
              "                        <td id=\"T_4099ed44_8fc2_11eb_9872_0242ac1c0002row2_col1\" class=\"data row2 col1\" >0.295</td>\n",
              "                        <td id=\"T_4099ed44_8fc2_11eb_9872_0242ac1c0002row2_col2\" class=\"data row2 col2\" >0.090</td>\n",
              "            </tr>\n",
              "    </tbody></table>"
            ],
            "text/plain": [
              "<pandas.io.formats.style.Styler at 0x7f83892e2510>"
            ]
          },
          "metadata": {
            "tags": []
          }
        }
      ]
    },
    {
      "cell_type": "code",
      "metadata": {
        "id": "6LXpG8oelC6q",
        "colab": {
          "base_uri": "https://localhost:8080/",
          "height": 481
        },
        "outputId": "ffe05990-50c8-4c28-bbfa-92d16e336b51"
      },
      "source": [
        "X0=X_padded[:num_W,:num_W]\n",
        "Y0=round(np.sum(X0*W_rotated),9)\n",
        "for m in [X0,W_rotated]:\n",
        "    display(pd.DataFrame(m)\\\n",
        "    .style.background_gradient(cmap='cool',axis=1)\\\n",
        "    .set_properties(**{'max-width':'50px','height':'50px'}))\n",
        "dhtml(7*'&#x21e3;'+'<br/>'+str(Y0))"
      ],
      "execution_count": 22,
      "outputs": [
        {
          "output_type": "display_data",
          "data": {
            "text/html": [
              "<style  type=\"text/css\" >\n",
              "#T_45edccb6_8fc2_11eb_9872_0242ac1c0002row0_col0,#T_45edccb6_8fc2_11eb_9872_0242ac1c0002row0_col1,#T_45edccb6_8fc2_11eb_9872_0242ac1c0002row0_col2,#T_45edccb6_8fc2_11eb_9872_0242ac1c0002row1_col0,#T_45edccb6_8fc2_11eb_9872_0242ac1c0002row2_col0{\n",
              "            background-color:  #00ffff;\n",
              "            color:  #000000;\n",
              "            max-width:  50px;\n",
              "            height:  50px;\n",
              "        }#T_45edccb6_8fc2_11eb_9872_0242ac1c0002row1_col1,#T_45edccb6_8fc2_11eb_9872_0242ac1c0002row2_col2{\n",
              "            background-color:  #ff00ff;\n",
              "            color:  #f1f1f1;\n",
              "            max-width:  50px;\n",
              "            height:  50px;\n",
              "        }#T_45edccb6_8fc2_11eb_9872_0242ac1c0002row1_col2{\n",
              "            background-color:  #916eff;\n",
              "            color:  #000000;\n",
              "            max-width:  50px;\n",
              "            height:  50px;\n",
              "        }#T_45edccb6_8fc2_11eb_9872_0242ac1c0002row2_col1{\n",
              "            background-color:  #a55aff;\n",
              "            color:  #000000;\n",
              "            max-width:  50px;\n",
              "            height:  50px;\n",
              "        }</style><table id=\"T_45edccb6_8fc2_11eb_9872_0242ac1c0002\" ><thead>    <tr>        <th class=\"blank level0\" ></th>        <th class=\"col_heading level0 col0\" >0</th>        <th class=\"col_heading level0 col1\" >1</th>        <th class=\"col_heading level0 col2\" >2</th>    </tr></thead><tbody>\n",
              "                <tr>\n",
              "                        <th id=\"T_45edccb6_8fc2_11eb_9872_0242ac1c0002level0_row0\" class=\"row_heading level0 row0\" >0</th>\n",
              "                        <td id=\"T_45edccb6_8fc2_11eb_9872_0242ac1c0002row0_col0\" class=\"data row0 col0\" >0.000</td>\n",
              "                        <td id=\"T_45edccb6_8fc2_11eb_9872_0242ac1c0002row0_col1\" class=\"data row0 col1\" >0.000</td>\n",
              "                        <td id=\"T_45edccb6_8fc2_11eb_9872_0242ac1c0002row0_col2\" class=\"data row0 col2\" >0.000</td>\n",
              "            </tr>\n",
              "            <tr>\n",
              "                        <th id=\"T_45edccb6_8fc2_11eb_9872_0242ac1c0002level0_row1\" class=\"row_heading level0 row1\" >1</th>\n",
              "                        <td id=\"T_45edccb6_8fc2_11eb_9872_0242ac1c0002row1_col0\" class=\"data row1 col0\" >0.000</td>\n",
              "                        <td id=\"T_45edccb6_8fc2_11eb_9872_0242ac1c0002row1_col1\" class=\"data row1 col1\" >0.619</td>\n",
              "                        <td id=\"T_45edccb6_8fc2_11eb_9872_0242ac1c0002row1_col2\" class=\"data row1 col2\" >0.352</td>\n",
              "            </tr>\n",
              "            <tr>\n",
              "                        <th id=\"T_45edccb6_8fc2_11eb_9872_0242ac1c0002level0_row2\" class=\"row_heading level0 row2\" >2</th>\n",
              "                        <td id=\"T_45edccb6_8fc2_11eb_9872_0242ac1c0002row2_col0\" class=\"data row2 col0\" >0.000</td>\n",
              "                        <td id=\"T_45edccb6_8fc2_11eb_9872_0242ac1c0002row2_col1\" class=\"data row2 col1\" >0.284</td>\n",
              "                        <td id=\"T_45edccb6_8fc2_11eb_9872_0242ac1c0002row2_col2\" class=\"data row2 col2\" >0.439</td>\n",
              "            </tr>\n",
              "    </tbody></table>"
            ],
            "text/plain": [
              "<pandas.io.formats.style.Styler at 0x7f8389336dd0>"
            ]
          },
          "metadata": {
            "tags": []
          }
        },
        {
          "output_type": "display_data",
          "data": {
            "text/html": [
              "<style  type=\"text/css\" >\n",
              "#T_45f0685e_8fc2_11eb_9872_0242ac1c0002row0_col0{\n",
              "            background-color:  #7d82ff;\n",
              "            color:  #000000;\n",
              "            max-width:  50px;\n",
              "            height:  50px;\n",
              "        }#T_45f0685e_8fc2_11eb_9872_0242ac1c0002row0_col1,#T_45f0685e_8fc2_11eb_9872_0242ac1c0002row1_col1,#T_45f0685e_8fc2_11eb_9872_0242ac1c0002row2_col0{\n",
              "            background-color:  #ff00ff;\n",
              "            color:  #f1f1f1;\n",
              "            max-width:  50px;\n",
              "            height:  50px;\n",
              "        }#T_45f0685e_8fc2_11eb_9872_0242ac1c0002row0_col2,#T_45f0685e_8fc2_11eb_9872_0242ac1c0002row1_col0,#T_45f0685e_8fc2_11eb_9872_0242ac1c0002row2_col2{\n",
              "            background-color:  #00ffff;\n",
              "            color:  #000000;\n",
              "            max-width:  50px;\n",
              "            height:  50px;\n",
              "        }#T_45f0685e_8fc2_11eb_9872_0242ac1c0002row1_col2{\n",
              "            background-color:  #09f6ff;\n",
              "            color:  #000000;\n",
              "            max-width:  50px;\n",
              "            height:  50px;\n",
              "        }#T_45f0685e_8fc2_11eb_9872_0242ac1c0002row2_col1{\n",
              "            background-color:  #6699ff;\n",
              "            color:  #000000;\n",
              "            max-width:  50px;\n",
              "            height:  50px;\n",
              "        }</style><table id=\"T_45f0685e_8fc2_11eb_9872_0242ac1c0002\" ><thead>    <tr>        <th class=\"blank level0\" ></th>        <th class=\"col_heading level0 col0\" >0</th>        <th class=\"col_heading level0 col1\" >1</th>        <th class=\"col_heading level0 col2\" >2</th>    </tr></thead><tbody>\n",
              "                <tr>\n",
              "                        <th id=\"T_45f0685e_8fc2_11eb_9872_0242ac1c0002level0_row0\" class=\"row_heading level0 row0\" >0</th>\n",
              "                        <td id=\"T_45f0685e_8fc2_11eb_9872_0242ac1c0002row0_col0\" class=\"data row0 col0\" >0.729</td>\n",
              "                        <td id=\"T_45f0685e_8fc2_11eb_9872_0242ac1c0002row0_col1\" class=\"data row0 col1\" >0.876</td>\n",
              "                        <td id=\"T_45f0685e_8fc2_11eb_9872_0242ac1c0002row0_col2\" class=\"data row0 col2\" >0.588</td>\n",
              "            </tr>\n",
              "            <tr>\n",
              "                        <th id=\"T_45f0685e_8fc2_11eb_9872_0242ac1c0002level0_row1\" class=\"row_heading level0 row1\" >1</th>\n",
              "                        <td id=\"T_45f0685e_8fc2_11eb_9872_0242ac1c0002row1_col0\" class=\"data row1 col0\" >0.092</td>\n",
              "                        <td id=\"T_45f0685e_8fc2_11eb_9872_0242ac1c0002row1_col1\" class=\"data row1 col1\" >0.848</td>\n",
              "                        <td id=\"T_45f0685e_8fc2_11eb_9872_0242ac1c0002row1_col2\" class=\"data row1 col2\" >0.121</td>\n",
              "            </tr>\n",
              "            <tr>\n",
              "                        <th id=\"T_45f0685e_8fc2_11eb_9872_0242ac1c0002level0_row2\" class=\"row_heading level0 row2\" >2</th>\n",
              "                        <td id=\"T_45f0685e_8fc2_11eb_9872_0242ac1c0002row2_col0\" class=\"data row2 col0\" >0.605</td>\n",
              "                        <td id=\"T_45f0685e_8fc2_11eb_9872_0242ac1c0002row2_col1\" class=\"data row2 col1\" >0.295</td>\n",
              "                        <td id=\"T_45f0685e_8fc2_11eb_9872_0242ac1c0002row2_col2\" class=\"data row2 col2\" >0.090</td>\n",
              "            </tr>\n",
              "    </tbody></table>"
            ],
            "text/plain": [
              "<pandas.io.formats.style.Styler at 0x7f8389336610>"
            ]
          },
          "metadata": {
            "tags": []
          }
        },
        {
          "output_type": "display_data",
          "data": {
            "text/html": [
              "\n",
              "    <style>@import 'https://fonts.googleapis.com/css?family=Lobster&effect=3d-float';</style>\n",
              "    <h1 class='font-effect-3d-float' \n",
              "    style='font-family:Lobster; \n",
              "    color:#11ff66; font-size:30px;'>\n",
              "    &#x21e3;&#x21e3;&#x21e3;&#x21e3;&#x21e3;&#x21e3;&#x21e3;<br/>0.690780512</h1>"
            ],
            "text/plain": [
              "<IPython.core.display.HTML object>"
            ]
          },
          "metadata": {
            "tags": []
          }
        }
      ]
    },
    {
      "cell_type": "code",
      "metadata": {
        "id": "OILlOX4hPPkc"
      },
      "source": [
        "def conv2d(X,W,p,s):\n",
        "    W_rotated=np.array(W)[::-1,::-1]\n",
        "    n1=X.shape[0]+2*p[0]\n",
        "    n2=X.shape[1]+2*p[1]\n",
        "    X_padded=np.zeros(shape=(n1,n2))\n",
        "    X_padded[p[0]:p[0]+X.shape[0],\n",
        "    p[1]:p[1]+X.shape[1]]=X\n",
        "    result=[]\n",
        "    l=(int((X_padded.shape[0]-W_rotated.shape[0])/s[0])+1,\n",
        "       int((X_padded.shape[1]-W_rotated.shape[1])/s[1])+1)\n",
        "    for i in range(0,l[0],s[0]):\n",
        "        result.append([])\n",
        "        for j in range(0,l[1],s[1]):\n",
        "            X_sub=X_padded[i:i+W_rotated.shape[0],\n",
        "                           j:j+W_rotated.shape[1]]\n",
        "            result[-1].append(np.sum(X_sub*W_rotated))\n",
        "    return(np.array(result))"
      ],
      "execution_count": 23,
      "outputs": []
    },
    {
      "cell_type": "code",
      "metadata": {
        "id": "8aFthDmyPXQl",
        "colab": {
          "base_uri": "https://localhost:8080/",
          "height": 314
        },
        "outputId": "81c23aa7-84d5-4cac-fec0-8405f99071a8"
      },
      "source": [
        "for el in [conv2d(X,W,p=(1,1),s=(1,1)),\n",
        "           sps.convolve2d(X,W,mode='same')]:\n",
        "    display(pd.DataFrame(el)\\\n",
        "            .style.background_gradient(cmap='cool',axis=1)\\\n",
        "            .set_properties(**{'max-width':'50px'}))"
      ],
      "execution_count": 24,
      "outputs": [
        {
          "output_type": "display_data",
          "data": {
            "text/html": [
              "<style  type=\"text/css\" >\n",
              "#T_4dd69b42_8fc2_11eb_9872_0242ac1c0002row0_col0,#T_4dd69b42_8fc2_11eb_9872_0242ac1c0002row1_col5,#T_4dd69b42_8fc2_11eb_9872_0242ac1c0002row2_col5,#T_4dd69b42_8fc2_11eb_9872_0242ac1c0002row3_col0,#T_4dd69b42_8fc2_11eb_9872_0242ac1c0002row4_col0,#T_4dd69b42_8fc2_11eb_9872_0242ac1c0002row5_col5{\n",
              "            background-color:  #00ffff;\n",
              "            color:  #000000;\n",
              "            max-width:  50px;\n",
              "        }#T_4dd69b42_8fc2_11eb_9872_0242ac1c0002row0_col1{\n",
              "            background-color:  #2cd3ff;\n",
              "            color:  #000000;\n",
              "            max-width:  50px;\n",
              "        }#T_4dd69b42_8fc2_11eb_9872_0242ac1c0002row0_col2{\n",
              "            background-color:  #e41bff;\n",
              "            color:  #f1f1f1;\n",
              "            max-width:  50px;\n",
              "        }#T_4dd69b42_8fc2_11eb_9872_0242ac1c0002row0_col3,#T_4dd69b42_8fc2_11eb_9872_0242ac1c0002row1_col2,#T_4dd69b42_8fc2_11eb_9872_0242ac1c0002row2_col2,#T_4dd69b42_8fc2_11eb_9872_0242ac1c0002row3_col3,#T_4dd69b42_8fc2_11eb_9872_0242ac1c0002row4_col5,#T_4dd69b42_8fc2_11eb_9872_0242ac1c0002row5_col2{\n",
              "            background-color:  #ff00ff;\n",
              "            color:  #f1f1f1;\n",
              "            max-width:  50px;\n",
              "        }#T_4dd69b42_8fc2_11eb_9872_0242ac1c0002row0_col4{\n",
              "            background-color:  #3ac5ff;\n",
              "            color:  #000000;\n",
              "            max-width:  50px;\n",
              "        }#T_4dd69b42_8fc2_11eb_9872_0242ac1c0002row0_col5{\n",
              "            background-color:  #916eff;\n",
              "            color:  #000000;\n",
              "            max-width:  50px;\n",
              "        }#T_4dd69b42_8fc2_11eb_9872_0242ac1c0002row1_col0{\n",
              "            background-color:  #0af5ff;\n",
              "            color:  #000000;\n",
              "            max-width:  50px;\n",
              "        }#T_4dd69b42_8fc2_11eb_9872_0242ac1c0002row1_col1{\n",
              "            background-color:  #b748ff;\n",
              "            color:  #000000;\n",
              "            max-width:  50px;\n",
              "        }#T_4dd69b42_8fc2_11eb_9872_0242ac1c0002row1_col3{\n",
              "            background-color:  #ed12ff;\n",
              "            color:  #f1f1f1;\n",
              "            max-width:  50px;\n",
              "        }#T_4dd69b42_8fc2_11eb_9872_0242ac1c0002row1_col4{\n",
              "            background-color:  #a35cff;\n",
              "            color:  #000000;\n",
              "            max-width:  50px;\n",
              "        }#T_4dd69b42_8fc2_11eb_9872_0242ac1c0002row2_col0{\n",
              "            background-color:  #19e6ff;\n",
              "            color:  #000000;\n",
              "            max-width:  50px;\n",
              "        }#T_4dd69b42_8fc2_11eb_9872_0242ac1c0002row2_col1{\n",
              "            background-color:  #7f80ff;\n",
              "            color:  #000000;\n",
              "            max-width:  50px;\n",
              "        }#T_4dd69b42_8fc2_11eb_9872_0242ac1c0002row2_col3{\n",
              "            background-color:  #cd32ff;\n",
              "            color:  #f1f1f1;\n",
              "            max-width:  50px;\n",
              "        }#T_4dd69b42_8fc2_11eb_9872_0242ac1c0002row2_col4{\n",
              "            background-color:  #55aaff;\n",
              "            color:  #000000;\n",
              "            max-width:  50px;\n",
              "        }#T_4dd69b42_8fc2_11eb_9872_0242ac1c0002row3_col1{\n",
              "            background-color:  #db24ff;\n",
              "            color:  #f1f1f1;\n",
              "            max-width:  50px;\n",
              "        }#T_4dd69b42_8fc2_11eb_9872_0242ac1c0002row3_col2{\n",
              "            background-color:  #b847ff;\n",
              "            color:  #000000;\n",
              "            max-width:  50px;\n",
              "        }#T_4dd69b42_8fc2_11eb_9872_0242ac1c0002row3_col4{\n",
              "            background-color:  #7788ff;\n",
              "            color:  #000000;\n",
              "            max-width:  50px;\n",
              "        }#T_4dd69b42_8fc2_11eb_9872_0242ac1c0002row3_col5{\n",
              "            background-color:  #38c7ff;\n",
              "            color:  #000000;\n",
              "            max-width:  50px;\n",
              "        }#T_4dd69b42_8fc2_11eb_9872_0242ac1c0002row4_col1{\n",
              "            background-color:  #da25ff;\n",
              "            color:  #f1f1f1;\n",
              "            max-width:  50px;\n",
              "        }#T_4dd69b42_8fc2_11eb_9872_0242ac1c0002row4_col2{\n",
              "            background-color:  #f10eff;\n",
              "            color:  #f1f1f1;\n",
              "            max-width:  50px;\n",
              "        }#T_4dd69b42_8fc2_11eb_9872_0242ac1c0002row4_col3{\n",
              "            background-color:  #ba45ff;\n",
              "            color:  #000000;\n",
              "            max-width:  50px;\n",
              "        }#T_4dd69b42_8fc2_11eb_9872_0242ac1c0002row4_col4{\n",
              "            background-color:  #e718ff;\n",
              "            color:  #f1f1f1;\n",
              "            max-width:  50px;\n",
              "        }#T_4dd69b42_8fc2_11eb_9872_0242ac1c0002row5_col0{\n",
              "            background-color:  #13ecff;\n",
              "            color:  #000000;\n",
              "            max-width:  50px;\n",
              "        }#T_4dd69b42_8fc2_11eb_9872_0242ac1c0002row5_col1{\n",
              "            background-color:  #7b84ff;\n",
              "            color:  #000000;\n",
              "            max-width:  50px;\n",
              "        }#T_4dd69b42_8fc2_11eb_9872_0242ac1c0002row5_col3{\n",
              "            background-color:  #f807ff;\n",
              "            color:  #f1f1f1;\n",
              "            max-width:  50px;\n",
              "        }#T_4dd69b42_8fc2_11eb_9872_0242ac1c0002row5_col4{\n",
              "            background-color:  #9867ff;\n",
              "            color:  #000000;\n",
              "            max-width:  50px;\n",
              "        }</style><table id=\"T_4dd69b42_8fc2_11eb_9872_0242ac1c0002\" ><thead>    <tr>        <th class=\"blank level0\" ></th>        <th class=\"col_heading level0 col0\" >0</th>        <th class=\"col_heading level0 col1\" >1</th>        <th class=\"col_heading level0 col2\" >2</th>        <th class=\"col_heading level0 col3\" >3</th>        <th class=\"col_heading level0 col4\" >4</th>        <th class=\"col_heading level0 col5\" >5</th>    </tr></thead><tbody>\n",
              "                <tr>\n",
              "                        <th id=\"T_4dd69b42_8fc2_11eb_9872_0242ac1c0002level0_row0\" class=\"row_heading level0 row0\" >0</th>\n",
              "                        <td id=\"T_4dd69b42_8fc2_11eb_9872_0242ac1c0002row0_col0\" class=\"data row0 col0\" >0.691</td>\n",
              "                        <td id=\"T_4dd69b42_8fc2_11eb_9872_0242ac1c0002row0_col1\" class=\"data row0 col1\" >0.863</td>\n",
              "                        <td id=\"T_4dd69b42_8fc2_11eb_9872_0242ac1c0002row0_col2\" class=\"data row0 col2\" >1.569</td>\n",
              "                        <td id=\"T_4dd69b42_8fc2_11eb_9872_0242ac1c0002row0_col3\" class=\"data row0 col3\" >1.675</td>\n",
              "                        <td id=\"T_4dd69b42_8fc2_11eb_9872_0242ac1c0002row0_col4\" class=\"data row0 col4\" >0.914</td>\n",
              "                        <td id=\"T_4dd69b42_8fc2_11eb_9872_0242ac1c0002row0_col5\" class=\"data row0 col5\" >1.249</td>\n",
              "            </tr>\n",
              "            <tr>\n",
              "                        <th id=\"T_4dd69b42_8fc2_11eb_9872_0242ac1c0002level0_row1\" class=\"row_heading level0 row1\" >1</th>\n",
              "                        <td id=\"T_4dd69b42_8fc2_11eb_9872_0242ac1c0002row1_col0\" class=\"data row1 col0\" >1.319</td>\n",
              "                        <td id=\"T_4dd69b42_8fc2_11eb_9872_0242ac1c0002row1_col1\" class=\"data row1 col1\" >2.521</td>\n",
              "                        <td id=\"T_4dd69b42_8fc2_11eb_9872_0242ac1c0002row1_col2\" class=\"data row1 col2\" >3.028</td>\n",
              "                        <td id=\"T_4dd69b42_8fc2_11eb_9872_0242ac1c0002row1_col3\" class=\"data row1 col3\" >2.899</td>\n",
              "                        <td id=\"T_4dd69b42_8fc2_11eb_9872_0242ac1c0002row1_col4\" class=\"data row1 col4\" >2.380</td>\n",
              "                        <td id=\"T_4dd69b42_8fc2_11eb_9872_0242ac1c0002row1_col5\" class=\"data row1 col5\" >1.245</td>\n",
              "            </tr>\n",
              "            <tr>\n",
              "                        <th id=\"T_4dd69b42_8fc2_11eb_9872_0242ac1c0002level0_row2\" class=\"row_heading level0 row2\" >2</th>\n",
              "                        <td id=\"T_4dd69b42_8fc2_11eb_9872_0242ac1c0002row2_col0\" class=\"data row2 col0\" >1.395</td>\n",
              "                        <td id=\"T_4dd69b42_8fc2_11eb_9872_0242ac1c0002row2_col1\" class=\"data row2 col1\" >1.945</td>\n",
              "                        <td id=\"T_4dd69b42_8fc2_11eb_9872_0242ac1c0002row2_col2\" class=\"data row2 col2\" >2.636</td>\n",
              "                        <td id=\"T_4dd69b42_8fc2_11eb_9872_0242ac1c0002row2_col3\" class=\"data row2 col3\" >2.362</td>\n",
              "                        <td id=\"T_4dd69b42_8fc2_11eb_9872_0242ac1c0002row2_col4\" class=\"data row2 col4\" >1.720</td>\n",
              "                        <td id=\"T_4dd69b42_8fc2_11eb_9872_0242ac1c0002row2_col5\" class=\"data row2 col5\" >1.259</td>\n",
              "            </tr>\n",
              "            <tr>\n",
              "                        <th id=\"T_4dd69b42_8fc2_11eb_9872_0242ac1c0002level0_row3\" class=\"row_heading level0 row3\" >3</th>\n",
              "                        <td id=\"T_4dd69b42_8fc2_11eb_9872_0242ac1c0002row3_col0\" class=\"data row3 col0\" >1.305</td>\n",
              "                        <td id=\"T_4dd69b42_8fc2_11eb_9872_0242ac1c0002row3_col1\" class=\"data row3 col1\" >1.997</td>\n",
              "                        <td id=\"T_4dd69b42_8fc2_11eb_9872_0242ac1c0002row3_col2\" class=\"data row3 col2\" >1.887</td>\n",
              "                        <td id=\"T_4dd69b42_8fc2_11eb_9872_0242ac1c0002row3_col3\" class=\"data row3 col3\" >2.112</td>\n",
              "                        <td id=\"T_4dd69b42_8fc2_11eb_9872_0242ac1c0002row3_col4\" class=\"data row3 col4\" >1.683</td>\n",
              "                        <td id=\"T_4dd69b42_8fc2_11eb_9872_0242ac1c0002row3_col5\" class=\"data row3 col5\" >1.483</td>\n",
              "            </tr>\n",
              "            <tr>\n",
              "                        <th id=\"T_4dd69b42_8fc2_11eb_9872_0242ac1c0002level0_row4\" class=\"row_heading level0 row4\" >4</th>\n",
              "                        <td id=\"T_4dd69b42_8fc2_11eb_9872_0242ac1c0002row4_col0\" class=\"data row4 col0\" >0.975</td>\n",
              "                        <td id=\"T_4dd69b42_8fc2_11eb_9872_0242ac1c0002row4_col1\" class=\"data row4 col1\" >1.835</td>\n",
              "                        <td id=\"T_4dd69b42_8fc2_11eb_9872_0242ac1c0002row4_col2\" class=\"data row4 col2\" >1.924</td>\n",
              "                        <td id=\"T_4dd69b42_8fc2_11eb_9872_0242ac1c0002row4_col3\" class=\"data row4 col3\" >1.708</td>\n",
              "                        <td id=\"T_4dd69b42_8fc2_11eb_9872_0242ac1c0002row4_col4\" class=\"data row4 col4\" >1.885</td>\n",
              "                        <td id=\"T_4dd69b42_8fc2_11eb_9872_0242ac1c0002row4_col5\" class=\"data row4 col5\" >1.982</td>\n",
              "            </tr>\n",
              "            <tr>\n",
              "                        <th id=\"T_4dd69b42_8fc2_11eb_9872_0242ac1c0002level0_row5\" class=\"row_heading level0 row5\" >5</th>\n",
              "                        <td id=\"T_4dd69b42_8fc2_11eb_9872_0242ac1c0002row5_col0\" class=\"data row5 col0\" >1.104</td>\n",
              "                        <td id=\"T_4dd69b42_8fc2_11eb_9872_0242ac1c0002row5_col1\" class=\"data row5 col1\" >1.442</td>\n",
              "                        <td id=\"T_4dd69b42_8fc2_11eb_9872_0242ac1c0002row5_col2\" class=\"data row5 col2\" >1.873</td>\n",
              "                        <td id=\"T_4dd69b42_8fc2_11eb_9872_0242ac1c0002row5_col3\" class=\"data row5 col3\" >1.848</td>\n",
              "                        <td id=\"T_4dd69b42_8fc2_11eb_9872_0242ac1c0002row5_col4\" class=\"data row5 col4\" >1.538</td>\n",
              "                        <td id=\"T_4dd69b42_8fc2_11eb_9872_0242ac1c0002row5_col5\" class=\"data row5 col5\" >1.039</td>\n",
              "            </tr>\n",
              "    </tbody></table>"
            ],
            "text/plain": [
              "<pandas.io.formats.style.Styler at 0x7f83892c0c90>"
            ]
          },
          "metadata": {
            "tags": []
          }
        },
        {
          "output_type": "display_data",
          "data": {
            "text/html": [
              "<style  type=\"text/css\" >\n",
              "#T_4ddc4cea_8fc2_11eb_9872_0242ac1c0002row0_col0,#T_4ddc4cea_8fc2_11eb_9872_0242ac1c0002row1_col5,#T_4ddc4cea_8fc2_11eb_9872_0242ac1c0002row2_col5,#T_4ddc4cea_8fc2_11eb_9872_0242ac1c0002row3_col0,#T_4ddc4cea_8fc2_11eb_9872_0242ac1c0002row4_col0,#T_4ddc4cea_8fc2_11eb_9872_0242ac1c0002row5_col5{\n",
              "            background-color:  #00ffff;\n",
              "            color:  #000000;\n",
              "            max-width:  50px;\n",
              "        }#T_4ddc4cea_8fc2_11eb_9872_0242ac1c0002row0_col1{\n",
              "            background-color:  #2cd3ff;\n",
              "            color:  #000000;\n",
              "            max-width:  50px;\n",
              "        }#T_4ddc4cea_8fc2_11eb_9872_0242ac1c0002row0_col2{\n",
              "            background-color:  #e41bff;\n",
              "            color:  #f1f1f1;\n",
              "            max-width:  50px;\n",
              "        }#T_4ddc4cea_8fc2_11eb_9872_0242ac1c0002row0_col3,#T_4ddc4cea_8fc2_11eb_9872_0242ac1c0002row1_col2,#T_4ddc4cea_8fc2_11eb_9872_0242ac1c0002row2_col2,#T_4ddc4cea_8fc2_11eb_9872_0242ac1c0002row3_col3,#T_4ddc4cea_8fc2_11eb_9872_0242ac1c0002row4_col5,#T_4ddc4cea_8fc2_11eb_9872_0242ac1c0002row5_col2{\n",
              "            background-color:  #ff00ff;\n",
              "            color:  #f1f1f1;\n",
              "            max-width:  50px;\n",
              "        }#T_4ddc4cea_8fc2_11eb_9872_0242ac1c0002row0_col4{\n",
              "            background-color:  #3ac5ff;\n",
              "            color:  #000000;\n",
              "            max-width:  50px;\n",
              "        }#T_4ddc4cea_8fc2_11eb_9872_0242ac1c0002row0_col5{\n",
              "            background-color:  #916eff;\n",
              "            color:  #000000;\n",
              "            max-width:  50px;\n",
              "        }#T_4ddc4cea_8fc2_11eb_9872_0242ac1c0002row1_col0{\n",
              "            background-color:  #0af5ff;\n",
              "            color:  #000000;\n",
              "            max-width:  50px;\n",
              "        }#T_4ddc4cea_8fc2_11eb_9872_0242ac1c0002row1_col1{\n",
              "            background-color:  #b748ff;\n",
              "            color:  #000000;\n",
              "            max-width:  50px;\n",
              "        }#T_4ddc4cea_8fc2_11eb_9872_0242ac1c0002row1_col3{\n",
              "            background-color:  #ed12ff;\n",
              "            color:  #f1f1f1;\n",
              "            max-width:  50px;\n",
              "        }#T_4ddc4cea_8fc2_11eb_9872_0242ac1c0002row1_col4{\n",
              "            background-color:  #a35cff;\n",
              "            color:  #000000;\n",
              "            max-width:  50px;\n",
              "        }#T_4ddc4cea_8fc2_11eb_9872_0242ac1c0002row2_col0{\n",
              "            background-color:  #19e6ff;\n",
              "            color:  #000000;\n",
              "            max-width:  50px;\n",
              "        }#T_4ddc4cea_8fc2_11eb_9872_0242ac1c0002row2_col1{\n",
              "            background-color:  #7f80ff;\n",
              "            color:  #000000;\n",
              "            max-width:  50px;\n",
              "        }#T_4ddc4cea_8fc2_11eb_9872_0242ac1c0002row2_col3{\n",
              "            background-color:  #cd32ff;\n",
              "            color:  #f1f1f1;\n",
              "            max-width:  50px;\n",
              "        }#T_4ddc4cea_8fc2_11eb_9872_0242ac1c0002row2_col4{\n",
              "            background-color:  #55aaff;\n",
              "            color:  #000000;\n",
              "            max-width:  50px;\n",
              "        }#T_4ddc4cea_8fc2_11eb_9872_0242ac1c0002row3_col1{\n",
              "            background-color:  #db24ff;\n",
              "            color:  #f1f1f1;\n",
              "            max-width:  50px;\n",
              "        }#T_4ddc4cea_8fc2_11eb_9872_0242ac1c0002row3_col2{\n",
              "            background-color:  #b847ff;\n",
              "            color:  #000000;\n",
              "            max-width:  50px;\n",
              "        }#T_4ddc4cea_8fc2_11eb_9872_0242ac1c0002row3_col4{\n",
              "            background-color:  #7788ff;\n",
              "            color:  #000000;\n",
              "            max-width:  50px;\n",
              "        }#T_4ddc4cea_8fc2_11eb_9872_0242ac1c0002row3_col5{\n",
              "            background-color:  #38c7ff;\n",
              "            color:  #000000;\n",
              "            max-width:  50px;\n",
              "        }#T_4ddc4cea_8fc2_11eb_9872_0242ac1c0002row4_col1{\n",
              "            background-color:  #da25ff;\n",
              "            color:  #f1f1f1;\n",
              "            max-width:  50px;\n",
              "        }#T_4ddc4cea_8fc2_11eb_9872_0242ac1c0002row4_col2{\n",
              "            background-color:  #f10eff;\n",
              "            color:  #f1f1f1;\n",
              "            max-width:  50px;\n",
              "        }#T_4ddc4cea_8fc2_11eb_9872_0242ac1c0002row4_col3{\n",
              "            background-color:  #ba45ff;\n",
              "            color:  #000000;\n",
              "            max-width:  50px;\n",
              "        }#T_4ddc4cea_8fc2_11eb_9872_0242ac1c0002row4_col4{\n",
              "            background-color:  #e718ff;\n",
              "            color:  #f1f1f1;\n",
              "            max-width:  50px;\n",
              "        }#T_4ddc4cea_8fc2_11eb_9872_0242ac1c0002row5_col0{\n",
              "            background-color:  #13ecff;\n",
              "            color:  #000000;\n",
              "            max-width:  50px;\n",
              "        }#T_4ddc4cea_8fc2_11eb_9872_0242ac1c0002row5_col1{\n",
              "            background-color:  #7b84ff;\n",
              "            color:  #000000;\n",
              "            max-width:  50px;\n",
              "        }#T_4ddc4cea_8fc2_11eb_9872_0242ac1c0002row5_col3{\n",
              "            background-color:  #f807ff;\n",
              "            color:  #f1f1f1;\n",
              "            max-width:  50px;\n",
              "        }#T_4ddc4cea_8fc2_11eb_9872_0242ac1c0002row5_col4{\n",
              "            background-color:  #9867ff;\n",
              "            color:  #000000;\n",
              "            max-width:  50px;\n",
              "        }</style><table id=\"T_4ddc4cea_8fc2_11eb_9872_0242ac1c0002\" ><thead>    <tr>        <th class=\"blank level0\" ></th>        <th class=\"col_heading level0 col0\" >0</th>        <th class=\"col_heading level0 col1\" >1</th>        <th class=\"col_heading level0 col2\" >2</th>        <th class=\"col_heading level0 col3\" >3</th>        <th class=\"col_heading level0 col4\" >4</th>        <th class=\"col_heading level0 col5\" >5</th>    </tr></thead><tbody>\n",
              "                <tr>\n",
              "                        <th id=\"T_4ddc4cea_8fc2_11eb_9872_0242ac1c0002level0_row0\" class=\"row_heading level0 row0\" >0</th>\n",
              "                        <td id=\"T_4ddc4cea_8fc2_11eb_9872_0242ac1c0002row0_col0\" class=\"data row0 col0\" >0.691</td>\n",
              "                        <td id=\"T_4ddc4cea_8fc2_11eb_9872_0242ac1c0002row0_col1\" class=\"data row0 col1\" >0.863</td>\n",
              "                        <td id=\"T_4ddc4cea_8fc2_11eb_9872_0242ac1c0002row0_col2\" class=\"data row0 col2\" >1.569</td>\n",
              "                        <td id=\"T_4ddc4cea_8fc2_11eb_9872_0242ac1c0002row0_col3\" class=\"data row0 col3\" >1.675</td>\n",
              "                        <td id=\"T_4ddc4cea_8fc2_11eb_9872_0242ac1c0002row0_col4\" class=\"data row0 col4\" >0.914</td>\n",
              "                        <td id=\"T_4ddc4cea_8fc2_11eb_9872_0242ac1c0002row0_col5\" class=\"data row0 col5\" >1.249</td>\n",
              "            </tr>\n",
              "            <tr>\n",
              "                        <th id=\"T_4ddc4cea_8fc2_11eb_9872_0242ac1c0002level0_row1\" class=\"row_heading level0 row1\" >1</th>\n",
              "                        <td id=\"T_4ddc4cea_8fc2_11eb_9872_0242ac1c0002row1_col0\" class=\"data row1 col0\" >1.319</td>\n",
              "                        <td id=\"T_4ddc4cea_8fc2_11eb_9872_0242ac1c0002row1_col1\" class=\"data row1 col1\" >2.521</td>\n",
              "                        <td id=\"T_4ddc4cea_8fc2_11eb_9872_0242ac1c0002row1_col2\" class=\"data row1 col2\" >3.028</td>\n",
              "                        <td id=\"T_4ddc4cea_8fc2_11eb_9872_0242ac1c0002row1_col3\" class=\"data row1 col3\" >2.899</td>\n",
              "                        <td id=\"T_4ddc4cea_8fc2_11eb_9872_0242ac1c0002row1_col4\" class=\"data row1 col4\" >2.380</td>\n",
              "                        <td id=\"T_4ddc4cea_8fc2_11eb_9872_0242ac1c0002row1_col5\" class=\"data row1 col5\" >1.245</td>\n",
              "            </tr>\n",
              "            <tr>\n",
              "                        <th id=\"T_4ddc4cea_8fc2_11eb_9872_0242ac1c0002level0_row2\" class=\"row_heading level0 row2\" >2</th>\n",
              "                        <td id=\"T_4ddc4cea_8fc2_11eb_9872_0242ac1c0002row2_col0\" class=\"data row2 col0\" >1.395</td>\n",
              "                        <td id=\"T_4ddc4cea_8fc2_11eb_9872_0242ac1c0002row2_col1\" class=\"data row2 col1\" >1.945</td>\n",
              "                        <td id=\"T_4ddc4cea_8fc2_11eb_9872_0242ac1c0002row2_col2\" class=\"data row2 col2\" >2.636</td>\n",
              "                        <td id=\"T_4ddc4cea_8fc2_11eb_9872_0242ac1c0002row2_col3\" class=\"data row2 col3\" >2.362</td>\n",
              "                        <td id=\"T_4ddc4cea_8fc2_11eb_9872_0242ac1c0002row2_col4\" class=\"data row2 col4\" >1.720</td>\n",
              "                        <td id=\"T_4ddc4cea_8fc2_11eb_9872_0242ac1c0002row2_col5\" class=\"data row2 col5\" >1.259</td>\n",
              "            </tr>\n",
              "            <tr>\n",
              "                        <th id=\"T_4ddc4cea_8fc2_11eb_9872_0242ac1c0002level0_row3\" class=\"row_heading level0 row3\" >3</th>\n",
              "                        <td id=\"T_4ddc4cea_8fc2_11eb_9872_0242ac1c0002row3_col0\" class=\"data row3 col0\" >1.305</td>\n",
              "                        <td id=\"T_4ddc4cea_8fc2_11eb_9872_0242ac1c0002row3_col1\" class=\"data row3 col1\" >1.997</td>\n",
              "                        <td id=\"T_4ddc4cea_8fc2_11eb_9872_0242ac1c0002row3_col2\" class=\"data row3 col2\" >1.887</td>\n",
              "                        <td id=\"T_4ddc4cea_8fc2_11eb_9872_0242ac1c0002row3_col3\" class=\"data row3 col3\" >2.112</td>\n",
              "                        <td id=\"T_4ddc4cea_8fc2_11eb_9872_0242ac1c0002row3_col4\" class=\"data row3 col4\" >1.683</td>\n",
              "                        <td id=\"T_4ddc4cea_8fc2_11eb_9872_0242ac1c0002row3_col5\" class=\"data row3 col5\" >1.483</td>\n",
              "            </tr>\n",
              "            <tr>\n",
              "                        <th id=\"T_4ddc4cea_8fc2_11eb_9872_0242ac1c0002level0_row4\" class=\"row_heading level0 row4\" >4</th>\n",
              "                        <td id=\"T_4ddc4cea_8fc2_11eb_9872_0242ac1c0002row4_col0\" class=\"data row4 col0\" >0.975</td>\n",
              "                        <td id=\"T_4ddc4cea_8fc2_11eb_9872_0242ac1c0002row4_col1\" class=\"data row4 col1\" >1.835</td>\n",
              "                        <td id=\"T_4ddc4cea_8fc2_11eb_9872_0242ac1c0002row4_col2\" class=\"data row4 col2\" >1.924</td>\n",
              "                        <td id=\"T_4ddc4cea_8fc2_11eb_9872_0242ac1c0002row4_col3\" class=\"data row4 col3\" >1.708</td>\n",
              "                        <td id=\"T_4ddc4cea_8fc2_11eb_9872_0242ac1c0002row4_col4\" class=\"data row4 col4\" >1.885</td>\n",
              "                        <td id=\"T_4ddc4cea_8fc2_11eb_9872_0242ac1c0002row4_col5\" class=\"data row4 col5\" >1.982</td>\n",
              "            </tr>\n",
              "            <tr>\n",
              "                        <th id=\"T_4ddc4cea_8fc2_11eb_9872_0242ac1c0002level0_row5\" class=\"row_heading level0 row5\" >5</th>\n",
              "                        <td id=\"T_4ddc4cea_8fc2_11eb_9872_0242ac1c0002row5_col0\" class=\"data row5 col0\" >1.104</td>\n",
              "                        <td id=\"T_4ddc4cea_8fc2_11eb_9872_0242ac1c0002row5_col1\" class=\"data row5 col1\" >1.442</td>\n",
              "                        <td id=\"T_4ddc4cea_8fc2_11eb_9872_0242ac1c0002row5_col2\" class=\"data row5 col2\" >1.873</td>\n",
              "                        <td id=\"T_4ddc4cea_8fc2_11eb_9872_0242ac1c0002row5_col3\" class=\"data row5 col3\" >1.848</td>\n",
              "                        <td id=\"T_4ddc4cea_8fc2_11eb_9872_0242ac1c0002row5_col4\" class=\"data row5 col4\" >1.538</td>\n",
              "                        <td id=\"T_4ddc4cea_8fc2_11eb_9872_0242ac1c0002row5_col5\" class=\"data row5 col5\" >1.039</td>\n",
              "            </tr>\n",
              "    </tbody></table>"
            ],
            "text/plain": [
              "<pandas.io.formats.style.Styler at 0x7f838936d390>"
            ]
          },
          "metadata": {
            "tags": []
          }
        }
      ]
    },
    {
      "cell_type": "code",
      "metadata": {
        "id": "JvvK-q3Njn3z",
        "colab": {
          "base_uri": "https://localhost:8080/",
          "height": 77
        },
        "outputId": "fb221cc2-158e-4791-bd80-9fe44c781e18"
      },
      "source": [
        "dhtml('Pooling Exploration')"
      ],
      "execution_count": 25,
      "outputs": [
        {
          "output_type": "display_data",
          "data": {
            "text/html": [
              "\n",
              "    <style>@import 'https://fonts.googleapis.com/css?family=Lobster&effect=3d-float';</style>\n",
              "    <h1 class='font-effect-3d-float' \n",
              "    style='font-family:Lobster; \n",
              "    color:#11ff66; font-size:30px;'>\n",
              "    Pooling Exploration</h1>"
            ],
            "text/plain": [
              "<IPython.core.display.HTML object>"
            ]
          },
          "metadata": {
            "tags": []
          }
        }
      ]
    },
    {
      "cell_type": "code",
      "metadata": {
        "id": "UcXpvssAjqcE",
        "colab": {
          "base_uri": "https://localhost:8080/",
          "height": 752
        },
        "outputId": "b92719ea-1667-4bfd-8a27-54728e1c322e"
      },
      "source": [
        "pool_size=3\n",
        "for [i,j] in [[0,0],[0,1],[1,0],[1,1]]:\n",
        "    display(pd.DataFrame(\n",
        "        X[i*pool_size:(i+1)*pool_size,\n",
        "        j*pool_size:(j+1)*pool_size])\\\n",
        "        .style.highlight_max(color=c2,axis=None)\\\n",
        "        .set_properties(**{'max-width':'50px','height':'50px'}))"
      ],
      "execution_count": 26,
      "outputs": [
        {
          "output_type": "display_data",
          "data": {
            "text/html": [
              "<style  type=\"text/css\" >\n",
              "#T_68734752_8fc2_11eb_9872_0242ac1c0002row0_col0,#T_68734752_8fc2_11eb_9872_0242ac1c0002row0_col1,#T_68734752_8fc2_11eb_9872_0242ac1c0002row0_col2,#T_68734752_8fc2_11eb_9872_0242ac1c0002row1_col0,#T_68734752_8fc2_11eb_9872_0242ac1c0002row1_col1,#T_68734752_8fc2_11eb_9872_0242ac1c0002row2_col0,#T_68734752_8fc2_11eb_9872_0242ac1c0002row2_col1,#T_68734752_8fc2_11eb_9872_0242ac1c0002row2_col2{\n",
              "            max-width:  50px;\n",
              "            height:  50px;\n",
              "        }#T_68734752_8fc2_11eb_9872_0242ac1c0002row1_col2{\n",
              "            background-color:  #9933ff;\n",
              "            max-width:  50px;\n",
              "            height:  50px;\n",
              "        }</style><table id=\"T_68734752_8fc2_11eb_9872_0242ac1c0002\" ><thead>    <tr>        <th class=\"blank level0\" ></th>        <th class=\"col_heading level0 col0\" >0</th>        <th class=\"col_heading level0 col1\" >1</th>        <th class=\"col_heading level0 col2\" >2</th>    </tr></thead><tbody>\n",
              "                <tr>\n",
              "                        <th id=\"T_68734752_8fc2_11eb_9872_0242ac1c0002level0_row0\" class=\"row_heading level0 row0\" >0</th>\n",
              "                        <td id=\"T_68734752_8fc2_11eb_9872_0242ac1c0002row0_col0\" class=\"data row0 col0\" >0.619</td>\n",
              "                        <td id=\"T_68734752_8fc2_11eb_9872_0242ac1c0002row0_col1\" class=\"data row0 col1\" >0.352</td>\n",
              "                        <td id=\"T_68734752_8fc2_11eb_9872_0242ac1c0002row0_col2\" class=\"data row0 col2\" >0.970</td>\n",
              "            </tr>\n",
              "            <tr>\n",
              "                        <th id=\"T_68734752_8fc2_11eb_9872_0242ac1c0002level0_row1\" class=\"row_heading level0 row1\" >1</th>\n",
              "                        <td id=\"T_68734752_8fc2_11eb_9872_0242ac1c0002row1_col0\" class=\"data row1 col0\" >0.284</td>\n",
              "                        <td id=\"T_68734752_8fc2_11eb_9872_0242ac1c0002row1_col1\" class=\"data row1 col1\" >0.439</td>\n",
              "                        <td id=\"T_68734752_8fc2_11eb_9872_0242ac1c0002row1_col2\" class=\"data row1 col2\" >0.987</td>\n",
              "            </tr>\n",
              "            <tr>\n",
              "                        <th id=\"T_68734752_8fc2_11eb_9872_0242ac1c0002level0_row2\" class=\"row_heading level0 row2\" >2</th>\n",
              "                        <td id=\"T_68734752_8fc2_11eb_9872_0242ac1c0002row2_col0\" class=\"data row2 col0\" >0.844</td>\n",
              "                        <td id=\"T_68734752_8fc2_11eb_9872_0242ac1c0002row2_col1\" class=\"data row2 col1\" >0.303</td>\n",
              "                        <td id=\"T_68734752_8fc2_11eb_9872_0242ac1c0002row2_col2\" class=\"data row2 col2\" >0.827</td>\n",
              "            </tr>\n",
              "    </tbody></table>"
            ],
            "text/plain": [
              "<pandas.io.formats.style.Styler at 0x7f83892c3d90>"
            ]
          },
          "metadata": {
            "tags": []
          }
        },
        {
          "output_type": "display_data",
          "data": {
            "text/html": [
              "<style  type=\"text/css\" >\n",
              "#T_687582b0_8fc2_11eb_9872_0242ac1c0002row0_col0,#T_687582b0_8fc2_11eb_9872_0242ac1c0002row0_col1,#T_687582b0_8fc2_11eb_9872_0242ac1c0002row1_col0,#T_687582b0_8fc2_11eb_9872_0242ac1c0002row1_col1,#T_687582b0_8fc2_11eb_9872_0242ac1c0002row1_col2,#T_687582b0_8fc2_11eb_9872_0242ac1c0002row2_col0,#T_687582b0_8fc2_11eb_9872_0242ac1c0002row2_col1,#T_687582b0_8fc2_11eb_9872_0242ac1c0002row2_col2{\n",
              "            max-width:  50px;\n",
              "            height:  50px;\n",
              "        }#T_687582b0_8fc2_11eb_9872_0242ac1c0002row0_col2{\n",
              "            background-color:  #9933ff;\n",
              "            max-width:  50px;\n",
              "            height:  50px;\n",
              "        }</style><table id=\"T_687582b0_8fc2_11eb_9872_0242ac1c0002\" ><thead>    <tr>        <th class=\"blank level0\" ></th>        <th class=\"col_heading level0 col0\" >0</th>        <th class=\"col_heading level0 col1\" >1</th>        <th class=\"col_heading level0 col2\" >2</th>    </tr></thead><tbody>\n",
              "                <tr>\n",
              "                        <th id=\"T_687582b0_8fc2_11eb_9872_0242ac1c0002level0_row0\" class=\"row_heading level0 row0\" >0</th>\n",
              "                        <td id=\"T_687582b0_8fc2_11eb_9872_0242ac1c0002row0_col0\" class=\"data row0 col0\" >0.859</td>\n",
              "                        <td id=\"T_687582b0_8fc2_11eb_9872_0242ac1c0002row0_col1\" class=\"data row0 col1\" >0.177</td>\n",
              "                        <td id=\"T_687582b0_8fc2_11eb_9872_0242ac1c0002row0_col2\" class=\"data row0 col2\" >0.926</td>\n",
              "            </tr>\n",
              "            <tr>\n",
              "                        <th id=\"T_687582b0_8fc2_11eb_9872_0242ac1c0002level0_row1\" class=\"row_heading level0 row1\" >1</th>\n",
              "                        <td id=\"T_687582b0_8fc2_11eb_9872_0242ac1c0002row1_col0\" class=\"data row1 col0\" >0.587</td>\n",
              "                        <td id=\"T_687582b0_8fc2_11eb_9872_0242ac1c0002row1_col1\" class=\"data row1 col1\" >0.737</td>\n",
              "                        <td id=\"T_687582b0_8fc2_11eb_9872_0242ac1c0002row1_col2\" class=\"data row1 col2\" >0.007</td>\n",
              "            </tr>\n",
              "            <tr>\n",
              "                        <th id=\"T_687582b0_8fc2_11eb_9872_0242ac1c0002level0_row2\" class=\"row_heading level0 row2\" >2</th>\n",
              "                        <td id=\"T_687582b0_8fc2_11eb_9872_0242ac1c0002row2_col0\" class=\"data row2 col0\" >0.455</td>\n",
              "                        <td id=\"T_687582b0_8fc2_11eb_9872_0242ac1c0002row2_col1\" class=\"data row2 col1\" >0.269</td>\n",
              "                        <td id=\"T_687582b0_8fc2_11eb_9872_0242ac1c0002row2_col2\" class=\"data row2 col2\" >0.233</td>\n",
              "            </tr>\n",
              "    </tbody></table>"
            ],
            "text/plain": [
              "<pandas.io.formats.style.Styler at 0x7f83892c3a10>"
            ]
          },
          "metadata": {
            "tags": []
          }
        },
        {
          "output_type": "display_data",
          "data": {
            "text/html": [
              "<style  type=\"text/css\" >\n",
              "#T_68782d44_8fc2_11eb_9872_0242ac1c0002row0_col0,#T_68782d44_8fc2_11eb_9872_0242ac1c0002row0_col1,#T_68782d44_8fc2_11eb_9872_0242ac1c0002row0_col2,#T_68782d44_8fc2_11eb_9872_0242ac1c0002row1_col0,#T_68782d44_8fc2_11eb_9872_0242ac1c0002row1_col1,#T_68782d44_8fc2_11eb_9872_0242ac1c0002row1_col2,#T_68782d44_8fc2_11eb_9872_0242ac1c0002row2_col1,#T_68782d44_8fc2_11eb_9872_0242ac1c0002row2_col2{\n",
              "            max-width:  50px;\n",
              "            height:  50px;\n",
              "        }#T_68782d44_8fc2_11eb_9872_0242ac1c0002row2_col0{\n",
              "            background-color:  #9933ff;\n",
              "            max-width:  50px;\n",
              "            height:  50px;\n",
              "        }</style><table id=\"T_68782d44_8fc2_11eb_9872_0242ac1c0002\" ><thead>    <tr>        <th class=\"blank level0\" ></th>        <th class=\"col_heading level0 col0\" >0</th>        <th class=\"col_heading level0 col1\" >1</th>        <th class=\"col_heading level0 col2\" >2</th>    </tr></thead><tbody>\n",
              "                <tr>\n",
              "                        <th id=\"T_68782d44_8fc2_11eb_9872_0242ac1c0002level0_row0\" class=\"row_heading level0 row0\" >0</th>\n",
              "                        <td id=\"T_68782d44_8fc2_11eb_9872_0242ac1c0002row0_col0\" class=\"data row0 col0\" >0.332</td>\n",
              "                        <td id=\"T_68782d44_8fc2_11eb_9872_0242ac1c0002row0_col1\" class=\"data row0 col1\" >0.423</td>\n",
              "                        <td id=\"T_68782d44_8fc2_11eb_9872_0242ac1c0002row0_col2\" class=\"data row0 col2\" >0.149</td>\n",
              "            </tr>\n",
              "            <tr>\n",
              "                        <th id=\"T_68782d44_8fc2_11eb_9872_0242ac1c0002level0_row1\" class=\"row_heading level0 row1\" >1</th>\n",
              "                        <td id=\"T_68782d44_8fc2_11eb_9872_0242ac1c0002row1_col0\" class=\"data row1 col0\" >0.095</td>\n",
              "                        <td id=\"T_68782d44_8fc2_11eb_9872_0242ac1c0002row1_col1\" class=\"data row1 col1\" >0.312</td>\n",
              "                        <td id=\"T_68782d44_8fc2_11eb_9872_0242ac1c0002row1_col2\" class=\"data row1 col2\" >0.827</td>\n",
              "            </tr>\n",
              "            <tr>\n",
              "                        <th id=\"T_68782d44_8fc2_11eb_9872_0242ac1c0002level0_row2\" class=\"row_heading level0 row2\" >2</th>\n",
              "                        <td id=\"T_68782d44_8fc2_11eb_9872_0242ac1c0002row2_col0\" class=\"data row2 col0\" >0.910</td>\n",
              "                        <td id=\"T_68782d44_8fc2_11eb_9872_0242ac1c0002row2_col1\" class=\"data row2 col1\" >0.544</td>\n",
              "                        <td id=\"T_68782d44_8fc2_11eb_9872_0242ac1c0002row2_col2\" class=\"data row2 col2\" >0.571</td>\n",
              "            </tr>\n",
              "    </tbody></table>"
            ],
            "text/plain": [
              "<pandas.io.formats.style.Styler at 0x7f8389352990>"
            ]
          },
          "metadata": {
            "tags": []
          }
        },
        {
          "output_type": "display_data",
          "data": {
            "text/html": [
              "<style  type=\"text/css\" >\n",
              "#T_687a1cc6_8fc2_11eb_9872_0242ac1c0002row0_col0,#T_687a1cc6_8fc2_11eb_9872_0242ac1c0002row0_col1,#T_687a1cc6_8fc2_11eb_9872_0242ac1c0002row0_col2,#T_687a1cc6_8fc2_11eb_9872_0242ac1c0002row1_col0,#T_687a1cc6_8fc2_11eb_9872_0242ac1c0002row1_col1,#T_687a1cc6_8fc2_11eb_9872_0242ac1c0002row2_col0,#T_687a1cc6_8fc2_11eb_9872_0242ac1c0002row2_col1,#T_687a1cc6_8fc2_11eb_9872_0242ac1c0002row2_col2{\n",
              "            max-width:  50px;\n",
              "            height:  50px;\n",
              "        }#T_687a1cc6_8fc2_11eb_9872_0242ac1c0002row1_col2{\n",
              "            background-color:  #9933ff;\n",
              "            max-width:  50px;\n",
              "            height:  50px;\n",
              "        }</style><table id=\"T_687a1cc6_8fc2_11eb_9872_0242ac1c0002\" ><thead>    <tr>        <th class=\"blank level0\" ></th>        <th class=\"col_heading level0 col0\" >0</th>        <th class=\"col_heading level0 col1\" >1</th>        <th class=\"col_heading level0 col2\" >2</th>    </tr></thead><tbody>\n",
              "                <tr>\n",
              "                        <th id=\"T_687a1cc6_8fc2_11eb_9872_0242ac1c0002level0_row0\" class=\"row_heading level0 row0\" >0</th>\n",
              "                        <td id=\"T_687a1cc6_8fc2_11eb_9872_0242ac1c0002row0_col0\" class=\"data row0 col0\" >0.237</td>\n",
              "                        <td id=\"T_687a1cc6_8fc2_11eb_9872_0242ac1c0002row0_col1\" class=\"data row0 col1\" >0.455</td>\n",
              "                        <td id=\"T_687a1cc6_8fc2_11eb_9872_0242ac1c0002row0_col2\" class=\"data row0 col2\" >0.739</td>\n",
              "            </tr>\n",
              "            <tr>\n",
              "                        <th id=\"T_687a1cc6_8fc2_11eb_9872_0242ac1c0002level0_row1\" class=\"row_heading level0 row1\" >1</th>\n",
              "                        <td id=\"T_687a1cc6_8fc2_11eb_9872_0242ac1c0002row1_col0\" class=\"data row1 col0\" >0.536</td>\n",
              "                        <td id=\"T_687a1cc6_8fc2_11eb_9872_0242ac1c0002row1_col1\" class=\"data row1 col1\" >0.280</td>\n",
              "                        <td id=\"T_687a1cc6_8fc2_11eb_9872_0242ac1c0002row1_col2\" class=\"data row1 col2\" >0.829</td>\n",
              "            </tr>\n",
              "            <tr>\n",
              "                        <th id=\"T_687a1cc6_8fc2_11eb_9872_0242ac1c0002level0_row2\" class=\"row_heading level0 row2\" >2</th>\n",
              "                        <td id=\"T_687a1cc6_8fc2_11eb_9872_0242ac1c0002row2_col0\" class=\"data row2 col0\" >0.600</td>\n",
              "                        <td id=\"T_687a1cc6_8fc2_11eb_9872_0242ac1c0002row2_col1\" class=\"data row2 col1\" >0.412</td>\n",
              "                        <td id=\"T_687a1cc6_8fc2_11eb_9872_0242ac1c0002row2_col2\" class=\"data row2 col2\" >0.084</td>\n",
              "            </tr>\n",
              "    </tbody></table>"
            ],
            "text/plain": [
              "<pandas.io.formats.style.Styler at 0x7f83892c3d50>"
            ]
          },
          "metadata": {
            "tags": []
          }
        }
      ]
    },
    {
      "cell_type": "code",
      "metadata": {
        "id": "DpWtYupVmOI1",
        "colab": {
          "base_uri": "https://localhost:8080/",
          "height": 82
        },
        "outputId": "dbf5f7ef-feac-4228-90b8-1cec1f4194f4"
      },
      "source": [
        "maxp=skm.block_reduce(X,(pool_size,pool_size),np.max)\n",
        "pd.DataFrame(maxp).style.bar(align='mid',color=c2)\\\n",
        ".set_properties(**{'max-width':'50px'})"
      ],
      "execution_count": 28,
      "outputs": [
        {
          "output_type": "execute_result",
          "data": {
            "text/html": [
              "<style  type=\"text/css\" >\n",
              "#T_75cff38c_8fc2_11eb_9872_0242ac1c0002row0_col0,#T_75cff38c_8fc2_11eb_9872_0242ac1c0002row0_col1{\n",
              "            width:  10em;\n",
              "             height:  80%;\n",
              "            background:  linear-gradient(90deg,#9933ff 100.0%, transparent 100.0%);\n",
              "            max-width:  50px;\n",
              "        }#T_75cff38c_8fc2_11eb_9872_0242ac1c0002row1_col0{\n",
              "            width:  10em;\n",
              "             height:  80%;\n",
              "            background:  linear-gradient(90deg,#9933ff 92.1%, transparent 92.1%);\n",
              "            max-width:  50px;\n",
              "        }#T_75cff38c_8fc2_11eb_9872_0242ac1c0002row1_col1{\n",
              "            width:  10em;\n",
              "             height:  80%;\n",
              "            background:  linear-gradient(90deg,#9933ff 89.6%, transparent 89.6%);\n",
              "            max-width:  50px;\n",
              "        }</style><table id=\"T_75cff38c_8fc2_11eb_9872_0242ac1c0002\" ><thead>    <tr>        <th class=\"blank level0\" ></th>        <th class=\"col_heading level0 col0\" >0</th>        <th class=\"col_heading level0 col1\" >1</th>    </tr></thead><tbody>\n",
              "                <tr>\n",
              "                        <th id=\"T_75cff38c_8fc2_11eb_9872_0242ac1c0002level0_row0\" class=\"row_heading level0 row0\" >0</th>\n",
              "                        <td id=\"T_75cff38c_8fc2_11eb_9872_0242ac1c0002row0_col0\" class=\"data row0 col0\" >0.987</td>\n",
              "                        <td id=\"T_75cff38c_8fc2_11eb_9872_0242ac1c0002row0_col1\" class=\"data row0 col1\" >0.926</td>\n",
              "            </tr>\n",
              "            <tr>\n",
              "                        <th id=\"T_75cff38c_8fc2_11eb_9872_0242ac1c0002level0_row1\" class=\"row_heading level0 row1\" >1</th>\n",
              "                        <td id=\"T_75cff38c_8fc2_11eb_9872_0242ac1c0002row1_col0\" class=\"data row1 col0\" >0.910</td>\n",
              "                        <td id=\"T_75cff38c_8fc2_11eb_9872_0242ac1c0002row1_col1\" class=\"data row1 col1\" >0.829</td>\n",
              "            </tr>\n",
              "    </tbody></table>"
            ],
            "text/plain": [
              "<pandas.io.formats.style.Styler at 0x7f83893376d0>"
            ]
          },
          "metadata": {
            "tags": []
          },
          "execution_count": 28
        }
      ]
    },
    {
      "cell_type": "code",
      "metadata": {
        "id": "Lh2qWb1KmkBt",
        "colab": {
          "base_uri": "https://localhost:8080/",
          "height": 82
        },
        "outputId": "5a48108b-13e0-4db1-fe81-eb3fba59e291"
      },
      "source": [
        "meanp=skm.block_reduce(X,(pool_size,pool_size),np.mean)\n",
        "pd.DataFrame(meanp).style.bar(align='mid',color=c2)\\\n",
        ".set_properties(**{'max-width':'50px'})"
      ],
      "execution_count": 29,
      "outputs": [
        {
          "output_type": "execute_result",
          "data": {
            "text/html": [
              "<style  type=\"text/css\" >\n",
              "#T_7e0f254a_8fc2_11eb_9872_0242ac1c0002row0_col0,#T_7e0f254a_8fc2_11eb_9872_0242ac1c0002row0_col1{\n",
              "            width:  10em;\n",
              "             height:  80%;\n",
              "            background:  linear-gradient(90deg,#9933ff 100.0%, transparent 100.0%);\n",
              "            max-width:  50px;\n",
              "        }#T_7e0f254a_8fc2_11eb_9872_0242ac1c0002row1_col0{\n",
              "            width:  10em;\n",
              "             height:  80%;\n",
              "            background:  linear-gradient(90deg,#9933ff 74.0%, transparent 74.0%);\n",
              "            max-width:  50px;\n",
              "        }#T_7e0f254a_8fc2_11eb_9872_0242ac1c0002row1_col1{\n",
              "            width:  10em;\n",
              "             height:  80%;\n",
              "            background:  linear-gradient(90deg,#9933ff 98.2%, transparent 98.2%);\n",
              "            max-width:  50px;\n",
              "        }</style><table id=\"T_7e0f254a_8fc2_11eb_9872_0242ac1c0002\" ><thead>    <tr>        <th class=\"blank level0\" ></th>        <th class=\"col_heading level0 col0\" >0</th>        <th class=\"col_heading level0 col1\" >1</th>    </tr></thead><tbody>\n",
              "                <tr>\n",
              "                        <th id=\"T_7e0f254a_8fc2_11eb_9872_0242ac1c0002level0_row0\" class=\"row_heading level0 row0\" >0</th>\n",
              "                        <td id=\"T_7e0f254a_8fc2_11eb_9872_0242ac1c0002row0_col0\" class=\"data row0 col0\" >0.625</td>\n",
              "                        <td id=\"T_7e0f254a_8fc2_11eb_9872_0242ac1c0002row0_col1\" class=\"data row0 col1\" >0.472</td>\n",
              "            </tr>\n",
              "            <tr>\n",
              "                        <th id=\"T_7e0f254a_8fc2_11eb_9872_0242ac1c0002level0_row1\" class=\"row_heading level0 row1\" >1</th>\n",
              "                        <td id=\"T_7e0f254a_8fc2_11eb_9872_0242ac1c0002row1_col0\" class=\"data row1 col0\" >0.462</td>\n",
              "                        <td id=\"T_7e0f254a_8fc2_11eb_9872_0242ac1c0002row1_col1\" class=\"data row1 col1\" >0.464</td>\n",
              "            </tr>\n",
              "    </tbody></table>"
            ],
            "text/plain": [
              "<pandas.io.formats.style.Styler at 0x7f83892c2f90>"
            ]
          },
          "metadata": {
            "tags": []
          },
          "execution_count": 29
        }
      ]
    },
    {
      "cell_type": "code",
      "metadata": {
        "id": "Otn7wkrzPc2n",
        "colab": {
          "base_uri": "https://localhost:8080/",
          "height": 77
        },
        "outputId": "13c7ea92-540d-43fa-a5c5-f8ed90bad62c"
      },
      "source": [
        "dhtml('Keras Conv1D/MaxPool1D & Conv2D/MaxPool2D')"
      ],
      "execution_count": 30,
      "outputs": [
        {
          "output_type": "display_data",
          "data": {
            "text/html": [
              "\n",
              "    <style>@import 'https://fonts.googleapis.com/css?family=Lobster&effect=3d-float';</style>\n",
              "    <h1 class='font-effect-3d-float' \n",
              "    style='font-family:Lobster; \n",
              "    color:#11ff66; font-size:30px;'>\n",
              "    Keras Conv1D/MaxPool1D & Conv2D/MaxPool2D</h1>"
            ],
            "text/plain": [
              "<IPython.core.display.HTML object>"
            ]
          },
          "metadata": {
            "tags": []
          }
        }
      ]
    },
    {
      "cell_type": "code",
      "metadata": {
        "id": "UnP8Zb9KPtU7"
      },
      "source": [
        "@register_line_magic\n",
        "def get_model_plot1d(pars):\n",
        "    pars=pars.split()\n",
        "    num_timesteps=int(pars[0])\n",
        "    num_features=int(pars[1])\n",
        "    num_filters=int(pars[2])\n",
        "    ks=int(pars[3])\n",
        "    ps=int(pars[4])\n",
        "    model=tf.keras.Sequential()\n",
        "    model.add(tkl.InputLayer(\n",
        "        (num_timesteps,num_features),name='input'))\n",
        "    model.add(tkl.Conv1D(\n",
        "        filters=num_filters,\n",
        "        kernel_size=ks,\n",
        "        padding='same',name='conv1d',\n",
        "        activation='relu'))\n",
        "    model.add(tkl.MaxPool1D(\n",
        "        pool_size=ps,name='pool1d'))\n",
        "    display(tku.plot_model(model,show_shapes=True))"
      ],
      "execution_count": 31,
      "outputs": []
    },
    {
      "cell_type": "code",
      "metadata": {
        "id": "hBPCSj56P3Oz",
        "colab": {
          "base_uri": "https://localhost:8080/",
          "height": 312
        },
        "outputId": "4535c860-f56a-4503-b89e-8df0493c479c"
      },
      "source": [
        "%get_model_plot1d 4 16 32 3 2"
      ],
      "execution_count": 32,
      "outputs": [
        {
          "output_type": "display_data",
          "data": {
            "image/png": "[encoded data removed]",
            "text/plain": [
              "<IPython.core.display.Image object>"
            ]
          },
          "metadata": {
            "tags": []
          }
        }
      ]
    },
    {
      "cell_type": "code",
      "metadata": {
        "id": "2ZCW3iySd2hj"
      },
      "source": [
        "@register_line_magic\n",
        "def get_model_plot2d(pars):\n",
        "    pars=pars.split()\n",
        "    img_size=int(pars[0])\n",
        "    num_channels=int(pars[1])\n",
        "    num_filters=int(pars[2])\n",
        "    ks=int(pars[3])\n",
        "    ps=int(pars[4])\n",
        "    model=tf.keras.Sequential()\n",
        "    model.add(tkl.InputLayer(\n",
        "        (img_size,img_size,num_channels),name='input'))\n",
        "    model.add(tkl.Conv2D(\n",
        "        filters=num_filters,\n",
        "        kernel_size=(ks,ks),strides=(1,1),\n",
        "        padding='same',name='conv2d',\n",
        "        activation='relu'))\n",
        "    model.add(tkl.MaxPool2D(\n",
        "        pool_size=(ps,ps),name='pool2d'))\n",
        "    display(tku.plot_model(model,show_shapes=True))"
      ],
      "execution_count": 33,
      "outputs": []
    },
    {
      "cell_type": "code",
      "metadata": {
        "id": "LfLruvEld8yG",
        "colab": {
          "base_uri": "https://localhost:8080/",
          "height": 312
        },
        "outputId": "53ac2fa2-a2b7-49a4-9745-bbfc20603b3f"
      },
      "source": [
        "%get_model_plot2d 32 3 16 5 4"
      ],
      "execution_count": 34,
      "outputs": [
        {
          "output_type": "display_data",
          "data": {
            "image/png": "[encoded data removed]",
            "text/plain": [
              "<IPython.core.display.Image object>"
            ]
          },
          "metadata": {
            "tags": []
          }
        }
      ]
    },
    {
      "cell_type": "code",
      "metadata": {
        "id": "NsQhX1qaz2yA",
        "colab": {
          "base_uri": "https://localhost:8080/",
          "height": 77
        },
        "outputId": "adad1285-9ccf-420d-af6c-f098342358ef"
      },
      "source": [
        "dhtml('Keras Dropout')"
      ],
      "execution_count": 35,
      "outputs": [
        {
          "output_type": "display_data",
          "data": {
            "text/html": [
              "\n",
              "    <style>@import 'https://fonts.googleapis.com/css?family=Lobster&effect=3d-float';</style>\n",
              "    <h1 class='font-effect-3d-float' \n",
              "    style='font-family:Lobster; \n",
              "    color:#11ff66; font-size:30px;'>\n",
              "    Keras Dropout</h1>"
            ],
            "text/plain": [
              "<IPython.core.display.HTML object>"
            ]
          },
          "metadata": {
            "tags": []
          }
        }
      ]
    },
    {
      "cell_type": "code",
      "metadata": {
        "id": "FSvDD7WJxR75",
        "colab": {
          "base_uri": "https://localhost:8080/",
          "height": 641
        },
        "outputId": "398aa743-c6f1-4306-dc30-63fe25f8d0ad"
      },
      "source": [
        "num_Y=100; dr=[.2*i for i in range(1,4)]\n",
        "Y=np.random.random(num_Y)\n",
        "pl.figure(figsize=(7,2))\n",
        "pl.scatter(range(num_Y),Y,c=c2)\n",
        "pl.title('input'); pl.grid(); pl.show()\n",
        "for i in range(3):\n",
        "    pl.figure(figsize=(7,2))\n",
        "    pl.scatter(range(num_Y),\n",
        "               tkl.Dropout(rate=dr[i])\\\n",
        "               (Y,training=True),c=c2)\n",
        "    pl.title('dropout rate: '+str(dr[i]))\n",
        "    pl.grid(); pl.show()"
      ],
      "execution_count": 36,
      "outputs": [
        {
          "output_type": "display_data",
          "data": {
            "image/png": "[encoded data removed]",
            "text/plain": [
              "<Figure size 504x144 with 1 Axes>"
            ]
          },
          "metadata": {
            "tags": [],
            "needs_background": "light"
          }
        },
        {
          "output_type": "display_data",
          "data": {
            "image/png": "[encoded data removed]",
            "text/plain": [
              "<Figure size 504x144 with 1 Axes>"
            ]
          },
          "metadata": {
            "tags": [],
            "needs_background": "light"
          }
        },
        {
          "output_type": "display_data",
          "data": {
            "image/png": "[encoded data removed]",
            "text/plain": [
              "<Figure size 504x144 with 1 Axes>"
            ]
          },
          "metadata": {
            "tags": [],
            "needs_background": "light"
          }
        },
        {
          "output_type": "display_data",
          "data": {
            "image/png": "[encoded data removed]",
            "text/plain": [
              "<Figure size 504x144 with 1 Axes>"
            ]
          },
          "metadata": {
            "tags": [],
            "needs_background": "light"
          }
        }
      ]
    }
  ]
}