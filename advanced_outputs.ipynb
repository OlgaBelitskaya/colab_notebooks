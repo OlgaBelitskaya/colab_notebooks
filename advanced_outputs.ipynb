{
  "nbformat": 4,
  "nbformat_minor": 0,
  "metadata": {
    "colab": {
      "name": "advanced_outputs.ipynb",
      "provenance": [],
      "collapsed_sections": []
    },
    "kernelspec": {
      "name": "python3",
      "display_name": "Python 3"
    },
    "widgets": {
      "application/vnd.jupyter.widget-state+json": {
        "54db6357626d4c5d86cc017884b51db8": {
          "model_module": "@jupyter-widgets/controls",
          "model_name": "VBoxModel",
          "state": {
            "_view_name": "VBoxView",
            "_dom_classes": [
              "widget-interact"
            ],
            "_model_name": "VBoxModel",
            "_view_module": "@jupyter-widgets/controls",
            "_model_module_version": "1.5.0",
            "_view_count": null,
            "_view_module_version": "1.5.0",
            "box_style": "",
            "layout": "IPY_MODEL_3cbea54493ee41b2ba5c5577c418803d",
            "_model_module": "@jupyter-widgets/controls",
            "children": [
              "IPY_MODEL_54766e72007a466ea8d6656a3a73a3cf",
              "IPY_MODEL_32604c2b782b4c51a7cba7a502f0b7d0",
              "IPY_MODEL_b12d2494fd8642bc8763cda2c8414fad",
              "IPY_MODEL_c01e0cee37794cc3b28d120e5de41898",
              "IPY_MODEL_4e87379c98c44f989ba079686368bdd3",
              "IPY_MODEL_37371aa9a6624619923ffc6343006fdb"
            ]
          }
        },
        "3cbea54493ee41b2ba5c5577c418803d": {
          "model_module": "@jupyter-widgets/base",
          "model_name": "LayoutModel",
          "state": {
            "_view_name": "LayoutView",
            "grid_template_rows": null,
            "right": null,
            "justify_content": null,
            "_view_module": "@jupyter-widgets/base",
            "overflow": null,
            "_model_module_version": "1.2.0",
            "_view_count": null,
            "flex_flow": null,
            "width": null,
            "min_width": null,
            "border": null,
            "align_items": null,
            "bottom": null,
            "_model_module": "@jupyter-widgets/base",
            "top": null,
            "grid_column": null,
            "overflow_y": null,
            "overflow_x": null,
            "grid_auto_flow": null,
            "grid_area": null,
            "grid_template_columns": null,
            "flex": null,
            "_model_name": "LayoutModel",
            "justify_items": null,
            "grid_row": null,
            "max_height": null,
            "align_content": null,
            "visibility": null,
            "align_self": null,
            "height": null,
            "min_height": null,
            "padding": null,
            "grid_auto_rows": null,
            "grid_gap": null,
            "max_width": null,
            "order": null,
            "_view_module_version": "1.2.0",
            "grid_template_areas": null,
            "object_position": null,
            "object_fit": null,
            "grid_auto_columns": null,
            "margin": null,
            "display": null,
            "left": null
          }
        },
        "54766e72007a466ea8d6656a3a73a3cf": {
          "model_module": "@jupyter-widgets/controls",
          "model_name": "IntSliderModel",
          "state": {
            "_view_name": "IntSliderView",
            "style": "IPY_MODEL_9bfbb54fe61a4671adbd5f2b7b7b3509",
            "_dom_classes": [],
            "description": "v0",
            "step": 1,
            "_model_name": "IntSliderModel",
            "orientation": "horizontal",
            "max": 100,
            "_view_module": "@jupyter-widgets/controls",
            "_model_module_version": "1.5.0",
            "value": 17,
            "_view_count": null,
            "disabled": false,
            "_view_module_version": "1.5.0",
            "min": 0,
            "continuous_update": true,
            "readout_format": "d",
            "description_tooltip": null,
            "readout": true,
            "_model_module": "@jupyter-widgets/controls",
            "layout": "IPY_MODEL_384fc2a0bfa14797b4a4b9391e251da0"
          }
        },
        "32604c2b782b4c51a7cba7a502f0b7d0": {
          "model_module": "@jupyter-widgets/controls",
          "model_name": "IntSliderModel",
          "state": {
            "_view_name": "IntSliderView",
            "style": "IPY_MODEL_adbd3be979234f99acd6871e2260fc77",
            "_dom_classes": [],
            "description": "v1",
            "step": 1,
            "_model_name": "IntSliderModel",
            "orientation": "horizontal",
            "max": 100,
            "_view_module": "@jupyter-widgets/controls",
            "_model_module_version": "1.5.0",
            "value": 18,
            "_view_count": null,
            "disabled": false,
            "_view_module_version": "1.5.0",
            "min": 0,
            "continuous_update": true,
            "readout_format": "d",
            "description_tooltip": null,
            "readout": true,
            "_model_module": "@jupyter-widgets/controls",
            "layout": "IPY_MODEL_108bd1896f054bd9b47c64696fec5e7d"
          }
        },
        "b12d2494fd8642bc8763cda2c8414fad": {
          "model_module": "@jupyter-widgets/controls",
          "model_name": "IntSliderModel",
          "state": {
            "_view_name": "IntSliderView",
            "style": "IPY_MODEL_1226972ee1fd4c72ad7a94a9a9e69c4f",
            "_dom_classes": [],
            "description": "v2",
            "step": 1,
            "_model_name": "IntSliderModel",
            "orientation": "horizontal",
            "max": 100,
            "_view_module": "@jupyter-widgets/controls",
            "_model_module_version": "1.5.0",
            "value": 52,
            "_view_count": null,
            "disabled": false,
            "_view_module_version": "1.5.0",
            "min": 0,
            "continuous_update": true,
            "readout_format": "d",
            "description_tooltip": null,
            "readout": true,
            "_model_module": "@jupyter-widgets/controls",
            "layout": "IPY_MODEL_384b819fe691459cade27b270a893835"
          }
        },
        "c01e0cee37794cc3b28d120e5de41898": {
          "model_module": "@jupyter-widgets/controls",
          "model_name": "IntSliderModel",
          "state": {
            "_view_name": "IntSliderView",
            "style": "IPY_MODEL_218c3db3690d43f284b53bdd0ef099a8",
            "_dom_classes": [],
            "description": "v3",
            "step": 1,
            "_model_name": "IntSliderModel",
            "orientation": "horizontal",
            "max": 100,
            "_view_module": "@jupyter-widgets/controls",
            "_model_module_version": "1.5.0",
            "value": 35,
            "_view_count": null,
            "disabled": false,
            "_view_module_version": "1.5.0",
            "min": 0,
            "continuous_update": true,
            "readout_format": "d",
            "description_tooltip": null,
            "readout": true,
            "_model_module": "@jupyter-widgets/controls",
            "layout": "IPY_MODEL_75bb420eb12441d190f42186b8a57730"
          }
        },
        "4e87379c98c44f989ba079686368bdd3": {
          "model_module": "@jupyter-widgets/controls",
          "model_name": "IntSliderModel",
          "state": {
            "_view_name": "IntSliderView",
            "style": "IPY_MODEL_d213e74ae57448ffaac1cd78c6a6aa1b",
            "_dom_classes": [],
            "description": "v4",
            "step": 1,
            "_model_name": "IntSliderModel",
            "orientation": "horizontal",
            "max": 100,
            "_view_module": "@jupyter-widgets/controls",
            "_model_module_version": "1.5.0",
            "value": 88,
            "_view_count": null,
            "disabled": false,
            "_view_module_version": "1.5.0",
            "min": 0,
            "continuous_update": true,
            "readout_format": "d",
            "description_tooltip": null,
            "readout": true,
            "_model_module": "@jupyter-widgets/controls",
            "layout": "IPY_MODEL_c543ea304b45428d9ffcc96c75e9a35c"
          }
        },
        "37371aa9a6624619923ffc6343006fdb": {
          "model_module": "@jupyter-widgets/output",
          "model_name": "OutputModel",
          "state": {
            "_view_name": "OutputView",
            "msg_id": "",
            "_dom_classes": [],
            "_model_name": "OutputModel",
            "outputs": [
              {
                "output_type": "display_data",
                "metadata": {
                  "tags": [],
                  "needs_background": "light"
                },
                "image/png": "iVBORw0KGgoAAAANSUhEUgAAAlAAAAD1CAYAAACfrMsxAAAABHNCSVQICAgIfAhkiAAAAAlwSFlzAAALEgAACxIB0t1+/AAAADh0RVh0U29mdHdhcmUAbWF0cGxvdGxpYiB2ZXJzaW9uMy4yLjIsIGh0dHA6Ly9tYXRwbG90bGliLm9yZy+WH4yJAAAMm0lEQVR4nO3dX4il9X3H8c83bmxiQqOJg5jdJCtoG+w/TQabIAQbW2qboF6kwVDqEoT1ImlMU1pte+FVIYFS60UpLjHBlpA/3QaUUAxi3EIpiOMfanWTam01K/6ZgNbahJqt317M0W6X3e75zcyZc3b39bqZef6cfb7Lw+6893nOPqe6OwAATO8N8x4AAOB4I6AAAAYJKACAQQIKAGCQgAIAGCSgAAAGbdvKg5155pm9c+fOrTwkAMC63H///T/o7qUjbdvSgNq5c2dWVla28pAAAOtSVU8ebZtbeAAAgwQUAMAgAQUAMEhAAQAMElAAAIMEFADAIAEFADBIQAEADNrSB2kCALNz/7X75j3CTL3/lkvmPcLrXIECABgkoAAABgkoAIBBAgoAYJCAAgAYJKAAAAYJKACAQQIKAGCQgAIAGCSgAAAGCSgAgEECCgBgkIACABgkoAAABk0VUFX1O1X1SFX9U1V9tareVFXnVNW9VfV4VX29qk6d9bAAAIvgmAFVVduTfCbJcnf/bJJTklyV5AtJburuc5O8kOSaWQ4KALAopr2Fty3Jm6tqW5LTkjyT5MNJ9k6235bkys0fDwBg8RwzoLr76SR/kuSprIXTvye5P8mL3X1wstuBJNtnNSQAwCKZ5hbeGUmuSHJOkncmeUuSy6Y9QFXtrqqVqlpZXV1d96AAAItimlt4v5zkX7t7tbt/nOSbSS5Ocvrkll6S7Ejy9JFe3N17unu5u5eXlpY2ZWgAgHmaJqCeSvKBqjqtqirJpUkeTXJPko9N9tmV5PbZjAgAsFimeQ/UvVl7s/gDSR6evGZPkuuTfK6qHk/yjiS3znBOAICFse3YuyTdfWOSGw9b/USSizZ9IgCABedJ5AAAgwQUAMAgAQUAMEhAAQAMElAAAIMEFADAIAEFADBIQAEADBJQAACDBBQAwCABBQAwSEABAAwSUAAAgwQUAMAgAQUAMEhAAQAMElAAAIMEFADAIAEFADBIQAEADBJQAACDBBQAwCABBQAwSEABAAwSUAAAgwQUAMAgAQUAMEhAAQAMElAAAIMEFADAIAEFADBIQAEADBJQAACDBBQAwCABBQAwSEABAAwSUAAAgwQUAMCgqQKqqk6vqr1V9d2q2l9VH6yqt1fVXVX12OTrGbMeFgBgEUx7BermJHd293uT/EKS/UluSHJ3d5+X5O7JMgDACe+YAVVVb0vyoSS3Jkl3v9LdLya5Isltk91uS3LlrIYEAFgk01yBOifJapIvV9WDVfXFqnpLkrO6+5nJPs8mOWtWQwIALJJpAmpbkvcl+YvuvjDJf+aw23Xd3Un6SC+uqt1VtVJVK6urqxudFwBg7qYJqANJDnT3vZPlvVkLqueq6uwkmXx9/kgv7u493b3c3ctLS0ubMTMAwFwdM6C6+9kk36+qn56sujTJo0nuSLJrsm5XkttnMiEAwILZNuV+v53kK1V1apInknwya/H1jaq6JsmTST4+mxEBABbLVAHV3Q8lWT7Cpks3dxwAgMXnSeQAAIMEFADAIAEFADBIQAEADBJQAACDBBQAwCABBQAwSEABAAwSUAAAgwQUAMAgAQUAMEhAAQAMElAAAIMEFADAoG3zHgA48Vy7vG/eI8zULSuXzHsEYM5cgQIAGCSgAAAGCSgAgEECCgBgkIACABgkoAAABgkoAIBBAgoAYJCAAgAYJKAAAAYJKACAQQIKAGCQgAIAGCSgAAAGCSgAgEECCgBgkIACABgkoAAABgkoAIBBAgoAYJCAAgAYJKAAAAYJKACAQQIKAGDQ1AFVVadU1YNV9a3J8jlVdW9VPV5VX6+qU2c3JgDA4hi5AnVdkv2HLH8hyU3dfW6SF5Jcs5mDAQAsqqkCqqp2JPlIki9OlivJh5PsnexyW5IrZzEgAMCimfYK1J8l+f0kr06W35Hkxe4+OFk+kGT7kV5YVburaqWqVlZXVzc0LADAIjhmQFXVR5M83933r+cA3b2nu5e7e3lpaWk9vwQAwELZNsU+Fye5vKp+PcmbkvxkkpuTnF5V2yZXoXYkeXp2YwIALI5jXoHq7j/o7h3dvTPJVUm+092/meSeJB+b7LYrye0zmxIAYIFs5DlQ1yf5XFU9nrX3RN26OSMBACy2aW7hva679yXZN/n+iSQXbf5IAACLzZPIAQAGCSgAgEECCgBgkIACABgkoAAABgkoAIBBQ48xAODEt+fyffMeYWZ233HJvEfgBOEKFADAIAEFADBIQAEADBJQAACDBBQAwCABBQAwSEABAAwSUAAAgwQUAMAgAQUAMEhAAQAMElAAAIMEFADAIAEFADBIQAEADBJQAACDBBQAwCABBQAwSEABAAwSUAAAgwQUAMAgAQUAMEhAAQAMElAAAIMEFADAIAEFADBIQAEADBJQAACDBBQAwCABBQAwSEABAAw6ZkBV1buq6p6qerSqHqmq6ybr315Vd1XVY5OvZ8x+XACA+ZvmCtTBJL/b3ecn+UCST1XV+UluSHJ3d5+X5O7JMgDACe+YAdXdz3T3A5Pv/yPJ/iTbk1yR5LbJbrcluXJWQwIALJKh90BV1c4kFya5N8lZ3f3MZNOzSc46ymt2V9VKVa2srq5uYFQAgMUwdUBV1VuT/E2Sz3b3S4du6+5O0kd6XXfv6e7l7l5eWlra0LAAAItgqoCqqjdmLZ6+0t3fnKx+rqrOnmw/O8nzsxkRAGCxTPO/8CrJrUn2d/efHrLpjiS7Jt/vSnL75o8HALB4tk2xz8VJfivJw1X10GTdHyb5fJJvVNU1SZ5M8vHZjAgAsFiOGVDd/fdJ6iibL93ccWDN8vZ98x5hplaevmTeIwCwAZ5EDgAwaJpbeMetqn3zHmGmui+Z9wgAcFJyBQoAYJCAAgAYJKAAAAYJKACAQQIKAGCQgAIAGCSgAAAGCSgAgEECCgBgkIACABgkoAAABgkoAIBBAgoAYJCAAgAYJKAAAAYJKACAQQIKAGCQgAIAGCSgAAAGCSgAgEECCgBgkIACABgkoAAABgkoAIBBAgoAYJCAAgAYJKAAAAYJKACAQQIKAGCQgAIAGCSgAAAGCSgAgEECCgBgkIACABgkoAAABgkoAIBBGwqoqrqsqr5XVY9X1Q2bNRQAwCJbd0BV1SlJ/jzJryU5P8knqur8zRoMAGBRbeQK1EVJHu/uJ7r7lSRfS3LF5owFALC4tm3gtduTfP+Q5QNJfvHwnapqd5Ldk8WXq+p7GzjmojszyQ+26mBVW3Wkk4Jzd3zb0vO3x/nbTFt67q517jbblp6/7NmyI73mPUfbsJGAmkp378k8fstzUFUr3b087zkY59wd35y/45dzd3w7mc/fRm7hPZ3kXYcs75isAwA4oW0koO5Lcl5VnVNVpya5KskdmzMWAMDiWvctvO4+WFWfTvLtJKck+VJ3P7Jpkx2fTopblSco5+745vwdv5y749tJe/6qu+c9AwDAccWTyAEABgkoAIBBAgoAYNDMnwN1oqqq92btyevbJ6ueTnJHd++f31Rwcpj8+due5N7ufvmQ9Zd1953zm4xjqaqLknR33zf5+K/Lkny3u/92zqMxqKr+sruvnvcc8+JN5OtQVdcn+UTWPr7mwGT1jqw9yuFr3f35ec3GxlTVJ7v7y/Oeg6Orqs8k+VSS/UkuSHJdd98+2fZAd79vnvNxdFV1Y9Y+P3Vbkruy9ukV9yT5lSTf7u4/nuN4/D+q6vDHFFWSX0rynSTp7su3fKg5E1DrUFX/nORnuvvHh60/Nckj3X3efCZjo6rqqe5+97zn4Oiq6uEkH+zul6tqZ5K9Sf6qu2+uqge7+8K5DshRTc7dBUl+IsmzSXZ090tV9easXU38+bkOyFFV1QNJHk3yxSSdtYD6atYuHKS7/25+082HW3jr82qSdyZ58rD1Z0+2scCq6h+PtinJWVs5C+vyhtdu23X3v1XVJUn2VtV7snYOWVwHu/u/k/ywqv6lu19Kku7+UVX5u3OxLSe5LskfJfm97n6oqn50MobTawTU+nw2yd1V9Vj+9wOV353k3CSfnttUTOusJL+a5IXD1leSf9j6cRj0XFVd0N0PJcnkStRHk3wpyc/NdzSO4ZWqOq27f5jk/a+trKq3xT8+F1p3v5rkpqr668nX53KSN8RJ/Ztfr+6+s6p+KslF+b9vIr9v8q8rFtu3krz1tR/Ah6qqfVs/DoOuTnLw0BXdfTDJ1VV1y3xGYkof6u7/Sl7/gfyaNybZNZ+RGNHdB5L8RlV9JMlL855nnrwHCgBgkOdAAQAMElAAAIMEFADAIAEFADBIQAEADPofgVKEzLTHDLEAAAAASUVORK5CYII=\n",
                "text/plain": "<Figure size 720x288 with 1 Axes>"
              }
            ],
            "_view_module": "@jupyter-widgets/output",
            "_model_module_version": "1.0.0",
            "_view_count": null,
            "_view_module_version": "1.0.0",
            "layout": "IPY_MODEL_cd95633ff78d4e67a1a4937662bc80fd",
            "_model_module": "@jupyter-widgets/output"
          }
        },
        "9bfbb54fe61a4671adbd5f2b7b7b3509": {
          "model_module": "@jupyter-widgets/controls",
          "model_name": "SliderStyleModel",
          "state": {
            "_view_name": "StyleView",
            "handle_color": null,
            "_model_name": "SliderStyleModel",
            "description_width": "",
            "_view_module": "@jupyter-widgets/base",
            "_model_module_version": "1.5.0",
            "_view_count": null,
            "_view_module_version": "1.2.0",
            "_model_module": "@jupyter-widgets/controls"
          }
        },
        "384fc2a0bfa14797b4a4b9391e251da0": {
          "model_module": "@jupyter-widgets/base",
          "model_name": "LayoutModel",
          "state": {
            "_view_name": "LayoutView",
            "grid_template_rows": null,
            "right": null,
            "justify_content": null,
            "_view_module": "@jupyter-widgets/base",
            "overflow": null,
            "_model_module_version": "1.2.0",
            "_view_count": null,
            "flex_flow": null,
            "width": null,
            "min_width": null,
            "border": null,
            "align_items": null,
            "bottom": null,
            "_model_module": "@jupyter-widgets/base",
            "top": null,
            "grid_column": null,
            "overflow_y": null,
            "overflow_x": null,
            "grid_auto_flow": null,
            "grid_area": null,
            "grid_template_columns": null,
            "flex": null,
            "_model_name": "LayoutModel",
            "justify_items": null,
            "grid_row": null,
            "max_height": null,
            "align_content": null,
            "visibility": null,
            "align_self": null,
            "height": null,
            "min_height": null,
            "padding": null,
            "grid_auto_rows": null,
            "grid_gap": null,
            "max_width": null,
            "order": null,
            "_view_module_version": "1.2.0",
            "grid_template_areas": null,
            "object_position": null,
            "object_fit": null,
            "grid_auto_columns": null,
            "margin": null,
            "display": null,
            "left": null
          }
        },
        "adbd3be979234f99acd6871e2260fc77": {
          "model_module": "@jupyter-widgets/controls",
          "model_name": "SliderStyleModel",
          "state": {
            "_view_name": "StyleView",
            "handle_color": null,
            "_model_name": "SliderStyleModel",
            "description_width": "",
            "_view_module": "@jupyter-widgets/base",
            "_model_module_version": "1.5.0",
            "_view_count": null,
            "_view_module_version": "1.2.0",
            "_model_module": "@jupyter-widgets/controls"
          }
        },
        "108bd1896f054bd9b47c64696fec5e7d": {
          "model_module": "@jupyter-widgets/base",
          "model_name": "LayoutModel",
          "state": {
            "_view_name": "LayoutView",
            "grid_template_rows": null,
            "right": null,
            "justify_content": null,
            "_view_module": "@jupyter-widgets/base",
            "overflow": null,
            "_model_module_version": "1.2.0",
            "_view_count": null,
            "flex_flow": null,
            "width": null,
            "min_width": null,
            "border": null,
            "align_items": null,
            "bottom": null,
            "_model_module": "@jupyter-widgets/base",
            "top": null,
            "grid_column": null,
            "overflow_y": null,
            "overflow_x": null,
            "grid_auto_flow": null,
            "grid_area": null,
            "grid_template_columns": null,
            "flex": null,
            "_model_name": "LayoutModel",
            "justify_items": null,
            "grid_row": null,
            "max_height": null,
            "align_content": null,
            "visibility": null,
            "align_self": null,
            "height": null,
            "min_height": null,
            "padding": null,
            "grid_auto_rows": null,
            "grid_gap": null,
            "max_width": null,
            "order": null,
            "_view_module_version": "1.2.0",
            "grid_template_areas": null,
            "object_position": null,
            "object_fit": null,
            "grid_auto_columns": null,
            "margin": null,
            "display": null,
            "left": null
          }
        },
        "1226972ee1fd4c72ad7a94a9a9e69c4f": {
          "model_module": "@jupyter-widgets/controls",
          "model_name": "SliderStyleModel",
          "state": {
            "_view_name": "StyleView",
            "handle_color": null,
            "_model_name": "SliderStyleModel",
            "description_width": "",
            "_view_module": "@jupyter-widgets/base",
            "_model_module_version": "1.5.0",
            "_view_count": null,
            "_view_module_version": "1.2.0",
            "_model_module": "@jupyter-widgets/controls"
          }
        },
        "384b819fe691459cade27b270a893835": {
          "model_module": "@jupyter-widgets/base",
          "model_name": "LayoutModel",
          "state": {
            "_view_name": "LayoutView",
            "grid_template_rows": null,
            "right": null,
            "justify_content": null,
            "_view_module": "@jupyter-widgets/base",
            "overflow": null,
            "_model_module_version": "1.2.0",
            "_view_count": null,
            "flex_flow": null,
            "width": null,
            "min_width": null,
            "border": null,
            "align_items": null,
            "bottom": null,
            "_model_module": "@jupyter-widgets/base",
            "top": null,
            "grid_column": null,
            "overflow_y": null,
            "overflow_x": null,
            "grid_auto_flow": null,
            "grid_area": null,
            "grid_template_columns": null,
            "flex": null,
            "_model_name": "LayoutModel",
            "justify_items": null,
            "grid_row": null,
            "max_height": null,
            "align_content": null,
            "visibility": null,
            "align_self": null,
            "height": null,
            "min_height": null,
            "padding": null,
            "grid_auto_rows": null,
            "grid_gap": null,
            "max_width": null,
            "order": null,
            "_view_module_version": "1.2.0",
            "grid_template_areas": null,
            "object_position": null,
            "object_fit": null,
            "grid_auto_columns": null,
            "margin": null,
            "display": null,
            "left": null
          }
        },
        "218c3db3690d43f284b53bdd0ef099a8": {
          "model_module": "@jupyter-widgets/controls",
          "model_name": "SliderStyleModel",
          "state": {
            "_view_name": "StyleView",
            "handle_color": null,
            "_model_name": "SliderStyleModel",
            "description_width": "",
            "_view_module": "@jupyter-widgets/base",
            "_model_module_version": "1.5.0",
            "_view_count": null,
            "_view_module_version": "1.2.0",
            "_model_module": "@jupyter-widgets/controls"
          }
        },
        "75bb420eb12441d190f42186b8a57730": {
          "model_module": "@jupyter-widgets/base",
          "model_name": "LayoutModel",
          "state": {
            "_view_name": "LayoutView",
            "grid_template_rows": null,
            "right": null,
            "justify_content": null,
            "_view_module": "@jupyter-widgets/base",
            "overflow": null,
            "_model_module_version": "1.2.0",
            "_view_count": null,
            "flex_flow": null,
            "width": null,
            "min_width": null,
            "border": null,
            "align_items": null,
            "bottom": null,
            "_model_module": "@jupyter-widgets/base",
            "top": null,
            "grid_column": null,
            "overflow_y": null,
            "overflow_x": null,
            "grid_auto_flow": null,
            "grid_area": null,
            "grid_template_columns": null,
            "flex": null,
            "_model_name": "LayoutModel",
            "justify_items": null,
            "grid_row": null,
            "max_height": null,
            "align_content": null,
            "visibility": null,
            "align_self": null,
            "height": null,
            "min_height": null,
            "padding": null,
            "grid_auto_rows": null,
            "grid_gap": null,
            "max_width": null,
            "order": null,
            "_view_module_version": "1.2.0",
            "grid_template_areas": null,
            "object_position": null,
            "object_fit": null,
            "grid_auto_columns": null,
            "margin": null,
            "display": null,
            "left": null
          }
        },
        "d213e74ae57448ffaac1cd78c6a6aa1b": {
          "model_module": "@jupyter-widgets/controls",
          "model_name": "SliderStyleModel",
          "state": {
            "_view_name": "StyleView",
            "handle_color": null,
            "_model_name": "SliderStyleModel",
            "description_width": "",
            "_view_module": "@jupyter-widgets/base",
            "_model_module_version": "1.5.0",
            "_view_count": null,
            "_view_module_version": "1.2.0",
            "_model_module": "@jupyter-widgets/controls"
          }
        },
        "c543ea304b45428d9ffcc96c75e9a35c": {
          "model_module": "@jupyter-widgets/base",
          "model_name": "LayoutModel",
          "state": {
            "_view_name": "LayoutView",
            "grid_template_rows": null,
            "right": null,
            "justify_content": null,
            "_view_module": "@jupyter-widgets/base",
            "overflow": null,
            "_model_module_version": "1.2.0",
            "_view_count": null,
            "flex_flow": null,
            "width": null,
            "min_width": null,
            "border": null,
            "align_items": null,
            "bottom": null,
            "_model_module": "@jupyter-widgets/base",
            "top": null,
            "grid_column": null,
            "overflow_y": null,
            "overflow_x": null,
            "grid_auto_flow": null,
            "grid_area": null,
            "grid_template_columns": null,
            "flex": null,
            "_model_name": "LayoutModel",
            "justify_items": null,
            "grid_row": null,
            "max_height": null,
            "align_content": null,
            "visibility": null,
            "align_self": null,
            "height": null,
            "min_height": null,
            "padding": null,
            "grid_auto_rows": null,
            "grid_gap": null,
            "max_width": null,
            "order": null,
            "_view_module_version": "1.2.0",
            "grid_template_areas": null,
            "object_position": null,
            "object_fit": null,
            "grid_auto_columns": null,
            "margin": null,
            "display": null,
            "left": null
          }
        },
        "cd95633ff78d4e67a1a4937662bc80fd": {
          "model_module": "@jupyter-widgets/base",
          "model_name": "LayoutModel",
          "state": {
            "_view_name": "LayoutView",
            "grid_template_rows": null,
            "right": null,
            "justify_content": null,
            "_view_module": "@jupyter-widgets/base",
            "overflow": null,
            "_model_module_version": "1.2.0",
            "_view_count": null,
            "flex_flow": null,
            "width": null,
            "min_width": null,
            "border": null,
            "align_items": null,
            "bottom": null,
            "_model_module": "@jupyter-widgets/base",
            "top": null,
            "grid_column": null,
            "overflow_y": null,
            "overflow_x": null,
            "grid_auto_flow": null,
            "grid_area": null,
            "grid_template_columns": null,
            "flex": null,
            "_model_name": "LayoutModel",
            "justify_items": null,
            "grid_row": null,
            "max_height": null,
            "align_content": null,
            "visibility": null,
            "align_self": null,
            "height": null,
            "min_height": null,
            "padding": null,
            "grid_auto_rows": null,
            "grid_gap": null,
            "max_width": null,
            "order": null,
            "_view_module_version": "1.2.0",
            "grid_template_areas": null,
            "object_position": null,
            "object_fit": null,
            "grid_auto_columns": null,
            "margin": null,
            "display": null,
            "left": null
          }
        },
        "9d7db61b43db4c1e830d86d7cc568949": {
          "model_module": "@jupyter-widgets/controls",
          "model_name": "VBoxModel",
          "state": {
            "_view_name": "VBoxView",
            "_dom_classes": [
              "widget-interact"
            ],
            "_model_name": "VBoxModel",
            "_view_module": "@jupyter-widgets/controls",
            "_model_module_version": "1.5.0",
            "_view_count": null,
            "_view_module_version": "1.5.0",
            "box_style": "",
            "layout": "IPY_MODEL_137898c671904581b2ab6fe97512fcff",
            "_model_module": "@jupyter-widgets/controls",
            "children": [
              "IPY_MODEL_892305fbfa0e4551bc408f6fce3e50e0",
              "IPY_MODEL_d971e8caf41d482d8cd5b374d37a0204"
            ]
          }
        },
        "137898c671904581b2ab6fe97512fcff": {
          "model_module": "@jupyter-widgets/base",
          "model_name": "LayoutModel",
          "state": {
            "_view_name": "LayoutView",
            "grid_template_rows": null,
            "right": null,
            "justify_content": null,
            "_view_module": "@jupyter-widgets/base",
            "overflow": null,
            "_model_module_version": "1.2.0",
            "_view_count": null,
            "flex_flow": null,
            "width": null,
            "min_width": null,
            "border": null,
            "align_items": null,
            "bottom": null,
            "_model_module": "@jupyter-widgets/base",
            "top": null,
            "grid_column": null,
            "overflow_y": null,
            "overflow_x": null,
            "grid_auto_flow": null,
            "grid_area": null,
            "grid_template_columns": null,
            "flex": null,
            "_model_name": "LayoutModel",
            "justify_items": null,
            "grid_row": null,
            "max_height": null,
            "align_content": null,
            "visibility": null,
            "align_self": null,
            "height": null,
            "min_height": null,
            "padding": null,
            "grid_auto_rows": null,
            "grid_gap": null,
            "max_width": null,
            "order": null,
            "_view_module_version": "1.2.0",
            "grid_template_areas": null,
            "object_position": null,
            "object_fit": null,
            "grid_auto_columns": null,
            "margin": null,
            "display": null,
            "left": null
          }
        },
        "892305fbfa0e4551bc408f6fce3e50e0": {
          "model_module": "@jupyter-widgets/controls",
          "model_name": "SelectMultipleModel",
          "state": {
            "_options_labels": [
              "MSFT",
              "AMZN",
              "IBM",
              "GOOG",
              "AAPL"
            ],
            "_view_name": "SelectMultipleView",
            "style": "IPY_MODEL_88313260340d45559755a54b329d1c00",
            "rows": 5,
            "_dom_classes": [],
            "description": "SYMBOLS",
            "_model_name": "SelectMultipleModel",
            "index": [
              3,
              4
            ],
            "_view_module": "@jupyter-widgets/controls",
            "_model_module_version": "1.5.0",
            "_view_count": null,
            "disabled": false,
            "_view_module_version": "1.5.0",
            "description_tooltip": null,
            "_model_module": "@jupyter-widgets/controls",
            "layout": "IPY_MODEL_9ac73f250d0a457386c4b0f1b3120704"
          }
        },
        "d971e8caf41d482d8cd5b374d37a0204": {
          "model_module": "@jupyter-widgets/output",
          "model_name": "OutputModel",
          "state": {
            "_view_name": "OutputView",
            "msg_id": "",
            "_dom_classes": [],
            "_model_name": "OutputModel",
            "outputs": [
              {
                "output_type": "display_data",
                "metadata": {
                  "tags": []
                },
                "text/html": "<style  type=\"text/css\" >\n    #T_f3dbdf08_804e_11eb_8762_0242ac1c0002 th {\n          font-size: 12pt;\n          color: white;\n          min-width: 70px;\n          height: 30px;\n    }    #T_f3dbdf08_804e_11eb_8762_0242ac1c0002 td {\n          font-size: 10pt;\n          color: whitesmoke;\n          padding: 0em 0em;\n          min-width: 170px;\n          height: 30px;\n    }    #T_f3dbdf08_804e_11eb_8762_0242ac1c0002 tr:hover th:hover {\n          font-size: 16pt;\n          text-shadow: 3px 3px 3px #aaa;\n    }    #T_f3dbdf08_804e_11eb_8762_0242ac1c0002 tr:hover td:hover {\n          font-size: 12pt;\n          text-shadow: 3px 3px 3px #aaa;\n    }</style><table id=\"T_f3dbdf08_804e_11eb_8762_0242ac1c0002\" ><thead>    <tr>        <th class=\"blank level0\" ></th>        <th class=\"col_heading level0 col0\" >369</th>        <th class=\"col_heading level0 col1\" >370</th>        <th class=\"col_heading level0 col2\" >371</th>    </tr></thead><tbody>\n                <tr>\n                        <th id=\"T_f3dbdf08_804e_11eb_8762_0242ac1c0002level0_row0\" class=\"row_heading level0 row0\" >symbol</th>\n                        <td id=\"T_f3dbdf08_804e_11eb_8762_0242ac1c0002row0_col0\" class=\"data row0 col0\" >GOOG</td>\n                        <td id=\"T_f3dbdf08_804e_11eb_8762_0242ac1c0002row0_col1\" class=\"data row0 col1\" >GOOG</td>\n                        <td id=\"T_f3dbdf08_804e_11eb_8762_0242ac1c0002row0_col2\" class=\"data row0 col2\" >GOOG</td>\n            </tr>\n            <tr>\n                        <th id=\"T_f3dbdf08_804e_11eb_8762_0242ac1c0002level0_row1\" class=\"row_heading level0 row1\" >date</th>\n                        <td id=\"T_f3dbdf08_804e_11eb_8762_0242ac1c0002row1_col0\" class=\"data row1 col0\" >2004-08-01 00:00:00</td>\n                        <td id=\"T_f3dbdf08_804e_11eb_8762_0242ac1c0002row1_col1\" class=\"data row1 col1\" >2004-09-01 00:00:00</td>\n                        <td id=\"T_f3dbdf08_804e_11eb_8762_0242ac1c0002row1_col2\" class=\"data row1 col2\" >2004-10-01 00:00:00</td>\n            </tr>\n            <tr>\n                        <th id=\"T_f3dbdf08_804e_11eb_8762_0242ac1c0002level0_row2\" class=\"row_heading level0 row2\" >price</th>\n                        <td id=\"T_f3dbdf08_804e_11eb_8762_0242ac1c0002row2_col0\" class=\"data row2 col0\" >102.370000</td>\n                        <td id=\"T_f3dbdf08_804e_11eb_8762_0242ac1c0002row2_col1\" class=\"data row2 col1\" >129.600000</td>\n                        <td id=\"T_f3dbdf08_804e_11eb_8762_0242ac1c0002row2_col2\" class=\"data row2 col2\" >190.640000</td>\n            </tr>\n    </tbody></table>",
                "text/plain": "<pandas.io.formats.style.Styler at 0x7f21264f9090>"
              },
              {
                "output_type": "display_data",
                "metadata": {
                  "tags": []
                },
                "text/plain": "alt.Chart(...)",
                "text/html": "\n<div id=\"altair-viz-ec22b7f38bf349db8849c9d03ff679d8\"></div>\n<script type=\"text/javascript\">\n  (function(spec, embedOpt){\n    let outputDiv = document.currentScript.previousElementSibling;\n    if (outputDiv.id !== \"altair-viz-ec22b7f38bf349db8849c9d03ff679d8\") {\n      outputDiv = document.getElementById(\"altair-viz-ec22b7f38bf349db8849c9d03ff679d8\");\n    }\n    const paths = {\n      \"vega\": \"https://cdn.jsdelivr.net/npm//vega@5?noext\",\n      \"vega-lib\": \"https://cdn.jsdelivr.net/npm//vega-lib?noext\",\n      \"vega-lite\": \"https://cdn.jsdelivr.net/npm//vega-lite@4.8.1?noext\",\n      \"vega-embed\": \"https://cdn.jsdelivr.net/npm//vega-embed@6?noext\",\n    };\n\n    function loadScript(lib) {\n      return new Promise(function(resolve, reject) {\n        var s = document.createElement('script');\n        s.src = paths[lib];\n        s.async = true;\n        s.onload = () => resolve(paths[lib]);\n        s.onerror = () => reject(`Error loading script: ${paths[lib]}`);\n        document.getElementsByTagName(\"head\")[0].appendChild(s);\n      });\n    }\n\n    function showError(err) {\n      outputDiv.innerHTML = `<div class=\"error\" style=\"color:red;\">${err}</div>`;\n      throw err;\n    }\n\n    function displayChart(vegaEmbed) {\n      vegaEmbed(outputDiv, spec, embedOpt)\n        .catch(err => showError(`Javascript Error: ${err.message}<br>This usually means there's a typo in your chart specification. See the javascript console for the full traceback.`));\n    }\n\n    if(typeof define === \"function\" && define.amd) {\n      requirejs.config({paths});\n      require([\"vega-embed\"], displayChart, err => showError(`Error loading script: ${err.message}`));\n    } else if (typeof vegaEmbed === \"function\") {\n      displayChart(vegaEmbed);\n    } else {\n      loadScript(\"vega\")\n        .then(() => loadScript(\"vega-lite\"))\n        .then(() => loadScript(\"vega-embed\"))\n        .catch(showError)\n        .then(() => displayChart(vegaEmbed));\n    }\n  })({\"config\": {\"view\": {\"continuousWidth\": 400, \"continuousHeight\": 300}}, \"data\": {\"name\": \"data-fe7b25b9044ddc15b92e70b27a4bac1f\"}, \"mark\": \"line\", \"encoding\": {\"color\": {\"type\": \"nominal\", \"field\": \"symbol\"}, \"strokeDash\": {\"type\": \"nominal\", \"field\": \"symbol\"}, \"x\": {\"type\": \"temporal\", \"field\": \"date\"}, \"y\": {\"type\": \"quantitative\", \"field\": \"price\"}}, \"$schema\": \"https://vega.github.io/schema/vega-lite/v4.8.1.json\", \"datasets\": {\"data-fe7b25b9044ddc15b92e70b27a4bac1f\": [{\"symbol\": \"GOOG\", \"date\": \"2004-08-01T00:00:00\", \"price\": 102.37}, {\"symbol\": \"GOOG\", \"date\": \"2004-09-01T00:00:00\", \"price\": 129.6}, {\"symbol\": \"GOOG\", \"date\": \"2004-10-01T00:00:00\", \"price\": 190.64}, {\"symbol\": \"GOOG\", \"date\": \"2004-11-01T00:00:00\", \"price\": 181.98}, {\"symbol\": \"GOOG\", \"date\": \"2004-12-01T00:00:00\", \"price\": 192.79}, {\"symbol\": \"GOOG\", \"date\": \"2005-01-01T00:00:00\", \"price\": 195.62}, {\"symbol\": \"GOOG\", \"date\": \"2005-02-01T00:00:00\", \"price\": 187.99}, {\"symbol\": \"GOOG\", \"date\": \"2005-03-01T00:00:00\", \"price\": 180.51}, {\"symbol\": \"GOOG\", \"date\": \"2005-04-01T00:00:00\", \"price\": 220.0}, {\"symbol\": \"GOOG\", \"date\": \"2005-05-01T00:00:00\", \"price\": 277.27}, {\"symbol\": \"GOOG\", \"date\": \"2005-06-01T00:00:00\", \"price\": 294.15}, {\"symbol\": \"GOOG\", \"date\": \"2005-07-01T00:00:00\", \"price\": 287.76}, {\"symbol\": \"GOOG\", \"date\": \"2005-08-01T00:00:00\", \"price\": 286.0}, {\"symbol\": \"GOOG\", \"date\": \"2005-09-01T00:00:00\", \"price\": 316.46}, {\"symbol\": \"GOOG\", \"date\": \"2005-10-01T00:00:00\", \"price\": 372.14}, {\"symbol\": \"GOOG\", \"date\": \"2005-11-01T00:00:00\", \"price\": 404.91}, {\"symbol\": \"GOOG\", \"date\": \"2005-12-01T00:00:00\", \"price\": 414.86}, {\"symbol\": \"GOOG\", \"date\": \"2006-01-01T00:00:00\", \"price\": 432.66}, {\"symbol\": \"GOOG\", \"date\": \"2006-02-01T00:00:00\", \"price\": 362.62}, {\"symbol\": \"GOOG\", \"date\": \"2006-03-01T00:00:00\", \"price\": 390.0}, {\"symbol\": \"GOOG\", \"date\": \"2006-04-01T00:00:00\", \"price\": 417.94}, {\"symbol\": \"GOOG\", \"date\": \"2006-05-01T00:00:00\", \"price\": 371.82}, {\"symbol\": \"GOOG\", \"date\": \"2006-06-01T00:00:00\", \"price\": 419.33}, {\"symbol\": \"GOOG\", \"date\": \"2006-07-01T00:00:00\", \"price\": 386.6}, {\"symbol\": \"GOOG\", \"date\": \"2006-08-01T00:00:00\", \"price\": 378.53}, {\"symbol\": \"GOOG\", \"date\": \"2006-09-01T00:00:00\", \"price\": 401.9}, {\"symbol\": \"GOOG\", \"date\": \"2006-10-01T00:00:00\", \"price\": 476.39}, {\"symbol\": \"GOOG\", \"date\": \"2006-11-01T00:00:00\", \"price\": 484.81}, {\"symbol\": \"GOOG\", \"date\": \"2006-12-01T00:00:00\", \"price\": 460.48}, {\"symbol\": \"GOOG\", \"date\": \"2007-01-01T00:00:00\", \"price\": 501.5}, {\"symbol\": \"GOOG\", \"date\": \"2007-02-01T00:00:00\", \"price\": 449.45}, {\"symbol\": \"GOOG\", \"date\": \"2007-03-01T00:00:00\", \"price\": 458.16}, {\"symbol\": \"GOOG\", \"date\": \"2007-04-01T00:00:00\", \"price\": 471.38}, {\"symbol\": \"GOOG\", \"date\": \"2007-05-01T00:00:00\", \"price\": 497.91}, {\"symbol\": \"GOOG\", \"date\": \"2007-06-01T00:00:00\", \"price\": 522.7}, {\"symbol\": \"GOOG\", \"date\": \"2007-07-01T00:00:00\", \"price\": 510.0}, {\"symbol\": \"GOOG\", \"date\": \"2007-08-01T00:00:00\", \"price\": 515.25}, {\"symbol\": \"GOOG\", \"date\": \"2007-09-01T00:00:00\", \"price\": 567.27}, {\"symbol\": \"GOOG\", \"date\": \"2007-10-01T00:00:00\", \"price\": 707.0}, {\"symbol\": \"GOOG\", \"date\": \"2007-11-01T00:00:00\", \"price\": 693.0}, {\"symbol\": \"GOOG\", \"date\": \"2007-12-01T00:00:00\", \"price\": 691.48}, {\"symbol\": \"GOOG\", \"date\": \"2008-01-01T00:00:00\", \"price\": 564.3}, {\"symbol\": \"GOOG\", \"date\": \"2008-02-01T00:00:00\", \"price\": 471.18}, {\"symbol\": \"GOOG\", \"date\": \"2008-03-01T00:00:00\", \"price\": 440.47}, {\"symbol\": \"GOOG\", \"date\": \"2008-04-01T00:00:00\", \"price\": 574.29}, {\"symbol\": \"GOOG\", \"date\": \"2008-05-01T00:00:00\", \"price\": 585.8}, {\"symbol\": \"GOOG\", \"date\": \"2008-06-01T00:00:00\", \"price\": 526.42}, {\"symbol\": \"GOOG\", \"date\": \"2008-07-01T00:00:00\", \"price\": 473.75}, {\"symbol\": \"GOOG\", \"date\": \"2008-08-01T00:00:00\", \"price\": 463.29}, {\"symbol\": \"GOOG\", \"date\": \"2008-09-01T00:00:00\", \"price\": 400.52}, {\"symbol\": \"GOOG\", \"date\": \"2008-10-01T00:00:00\", \"price\": 359.36}, {\"symbol\": \"GOOG\", \"date\": \"2008-11-01T00:00:00\", \"price\": 292.96}, {\"symbol\": \"GOOG\", \"date\": \"2008-12-01T00:00:00\", \"price\": 307.65}, {\"symbol\": \"GOOG\", \"date\": \"2009-01-01T00:00:00\", \"price\": 338.53}, {\"symbol\": \"GOOG\", \"date\": \"2009-02-01T00:00:00\", \"price\": 337.99}, {\"symbol\": \"GOOG\", \"date\": \"2009-03-01T00:00:00\", \"price\": 348.06}, {\"symbol\": \"GOOG\", \"date\": \"2009-04-01T00:00:00\", \"price\": 395.97}, {\"symbol\": \"GOOG\", \"date\": \"2009-05-01T00:00:00\", \"price\": 417.23}, {\"symbol\": \"GOOG\", \"date\": \"2009-06-01T00:00:00\", \"price\": 421.59}, {\"symbol\": \"GOOG\", \"date\": \"2009-07-01T00:00:00\", \"price\": 443.05}, {\"symbol\": \"GOOG\", \"date\": \"2009-08-01T00:00:00\", \"price\": 461.67}, {\"symbol\": \"GOOG\", \"date\": \"2009-09-01T00:00:00\", \"price\": 495.85}, {\"symbol\": \"GOOG\", \"date\": \"2009-10-01T00:00:00\", \"price\": 536.12}, {\"symbol\": \"GOOG\", \"date\": \"2009-11-01T00:00:00\", \"price\": 583.0}, {\"symbol\": \"GOOG\", \"date\": \"2009-12-01T00:00:00\", \"price\": 619.98}, {\"symbol\": \"GOOG\", \"date\": \"2010-01-01T00:00:00\", \"price\": 529.94}, {\"symbol\": \"GOOG\", \"date\": \"2010-02-01T00:00:00\", \"price\": 526.8}, {\"symbol\": \"GOOG\", \"date\": \"2010-03-01T00:00:00\", \"price\": 560.19}, {\"symbol\": \"AAPL\", \"date\": \"2000-01-01T00:00:00\", \"price\": 25.94}, {\"symbol\": \"AAPL\", \"date\": \"2000-02-01T00:00:00\", \"price\": 28.66}, {\"symbol\": \"AAPL\", \"date\": \"2000-03-01T00:00:00\", \"price\": 33.95}, {\"symbol\": \"AAPL\", \"date\": \"2000-04-01T00:00:00\", \"price\": 31.01}, {\"symbol\": \"AAPL\", \"date\": \"2000-05-01T00:00:00\", \"price\": 21.0}, {\"symbol\": \"AAPL\", \"date\": \"2000-06-01T00:00:00\", \"price\": 26.19}, {\"symbol\": \"AAPL\", \"date\": \"2000-07-01T00:00:00\", \"price\": 25.41}, {\"symbol\": \"AAPL\", \"date\": \"2000-08-01T00:00:00\", \"price\": 30.47}, {\"symbol\": \"AAPL\", \"date\": \"2000-09-01T00:00:00\", \"price\": 12.88}, {\"symbol\": \"AAPL\", \"date\": \"2000-10-01T00:00:00\", \"price\": 9.78}, {\"symbol\": \"AAPL\", \"date\": \"2000-11-01T00:00:00\", \"price\": 8.25}, {\"symbol\": \"AAPL\", \"date\": \"2000-12-01T00:00:00\", \"price\": 7.44}, {\"symbol\": \"AAPL\", \"date\": \"2001-01-01T00:00:00\", \"price\": 10.81}, {\"symbol\": \"AAPL\", \"date\": \"2001-02-01T00:00:00\", \"price\": 9.12}, {\"symbol\": \"AAPL\", \"date\": \"2001-03-01T00:00:00\", \"price\": 11.03}, {\"symbol\": \"AAPL\", \"date\": \"2001-04-01T00:00:00\", \"price\": 12.74}, {\"symbol\": \"AAPL\", \"date\": \"2001-05-01T00:00:00\", \"price\": 9.98}, {\"symbol\": \"AAPL\", \"date\": \"2001-06-01T00:00:00\", \"price\": 11.62}, {\"symbol\": \"AAPL\", \"date\": \"2001-07-01T00:00:00\", \"price\": 9.4}, {\"symbol\": \"AAPL\", \"date\": \"2001-08-01T00:00:00\", \"price\": 9.27}, {\"symbol\": \"AAPL\", \"date\": \"2001-09-01T00:00:00\", \"price\": 7.76}, {\"symbol\": \"AAPL\", \"date\": \"2001-10-01T00:00:00\", \"price\": 8.78}, {\"symbol\": \"AAPL\", \"date\": \"2001-11-01T00:00:00\", \"price\": 10.65}, {\"symbol\": \"AAPL\", \"date\": \"2001-12-01T00:00:00\", \"price\": 10.95}, {\"symbol\": \"AAPL\", \"date\": \"2002-01-01T00:00:00\", \"price\": 12.36}, {\"symbol\": \"AAPL\", \"date\": \"2002-02-01T00:00:00\", \"price\": 10.85}, {\"symbol\": \"AAPL\", \"date\": \"2002-03-01T00:00:00\", \"price\": 11.84}, {\"symbol\": \"AAPL\", \"date\": \"2002-04-01T00:00:00\", \"price\": 12.14}, {\"symbol\": \"AAPL\", \"date\": \"2002-05-01T00:00:00\", \"price\": 11.65}, {\"symbol\": \"AAPL\", \"date\": \"2002-06-01T00:00:00\", \"price\": 8.86}, {\"symbol\": \"AAPL\", \"date\": \"2002-07-01T00:00:00\", \"price\": 7.63}, {\"symbol\": \"AAPL\", \"date\": \"2002-08-01T00:00:00\", \"price\": 7.38}, {\"symbol\": \"AAPL\", \"date\": \"2002-09-01T00:00:00\", \"price\": 7.25}, {\"symbol\": \"AAPL\", \"date\": \"2002-10-01T00:00:00\", \"price\": 8.03}, {\"symbol\": \"AAPL\", \"date\": \"2002-11-01T00:00:00\", \"price\": 7.75}, {\"symbol\": \"AAPL\", \"date\": \"2002-12-01T00:00:00\", \"price\": 7.16}, {\"symbol\": \"AAPL\", \"date\": \"2003-01-01T00:00:00\", \"price\": 7.18}, {\"symbol\": \"AAPL\", \"date\": \"2003-02-01T00:00:00\", \"price\": 7.51}, {\"symbol\": \"AAPL\", \"date\": \"2003-03-01T00:00:00\", \"price\": 7.07}, {\"symbol\": \"AAPL\", \"date\": \"2003-04-01T00:00:00\", \"price\": 7.11}, {\"symbol\": \"AAPL\", \"date\": \"2003-05-01T00:00:00\", \"price\": 8.98}, {\"symbol\": \"AAPL\", \"date\": \"2003-06-01T00:00:00\", \"price\": 9.53}, {\"symbol\": \"AAPL\", \"date\": \"2003-07-01T00:00:00\", \"price\": 10.54}, {\"symbol\": \"AAPL\", \"date\": \"2003-08-01T00:00:00\", \"price\": 11.31}, {\"symbol\": \"AAPL\", \"date\": \"2003-09-01T00:00:00\", \"price\": 10.36}, {\"symbol\": \"AAPL\", \"date\": \"2003-10-01T00:00:00\", \"price\": 11.44}, {\"symbol\": \"AAPL\", \"date\": \"2003-11-01T00:00:00\", \"price\": 10.45}, {\"symbol\": \"AAPL\", \"date\": \"2003-12-01T00:00:00\", \"price\": 10.69}, {\"symbol\": \"AAPL\", \"date\": \"2004-01-01T00:00:00\", \"price\": 11.28}, {\"symbol\": \"AAPL\", \"date\": \"2004-02-01T00:00:00\", \"price\": 11.96}, {\"symbol\": \"AAPL\", \"date\": \"2004-03-01T00:00:00\", \"price\": 13.52}, {\"symbol\": \"AAPL\", \"date\": \"2004-04-01T00:00:00\", \"price\": 12.89}, {\"symbol\": \"AAPL\", \"date\": \"2004-05-01T00:00:00\", \"price\": 14.03}, {\"symbol\": \"AAPL\", \"date\": \"2004-06-01T00:00:00\", \"price\": 16.27}, {\"symbol\": \"AAPL\", \"date\": \"2004-07-01T00:00:00\", \"price\": 16.17}, {\"symbol\": \"AAPL\", \"date\": \"2004-08-01T00:00:00\", \"price\": 17.25}, {\"symbol\": \"AAPL\", \"date\": \"2004-09-01T00:00:00\", \"price\": 19.38}, {\"symbol\": \"AAPL\", \"date\": \"2004-10-01T00:00:00\", \"price\": 26.2}, {\"symbol\": \"AAPL\", \"date\": \"2004-11-01T00:00:00\", \"price\": 33.53}, {\"symbol\": \"AAPL\", \"date\": \"2004-12-01T00:00:00\", \"price\": 32.2}, {\"symbol\": \"AAPL\", \"date\": \"2005-01-01T00:00:00\", \"price\": 38.45}, {\"symbol\": \"AAPL\", \"date\": \"2005-02-01T00:00:00\", \"price\": 44.86}, {\"symbol\": \"AAPL\", \"date\": \"2005-03-01T00:00:00\", \"price\": 41.67}, {\"symbol\": \"AAPL\", \"date\": \"2005-04-01T00:00:00\", \"price\": 36.06}, {\"symbol\": \"AAPL\", \"date\": \"2005-05-01T00:00:00\", \"price\": 39.76}, {\"symbol\": \"AAPL\", \"date\": \"2005-06-01T00:00:00\", \"price\": 36.81}, {\"symbol\": \"AAPL\", \"date\": \"2005-07-01T00:00:00\", \"price\": 42.65}, {\"symbol\": \"AAPL\", \"date\": \"2005-08-01T00:00:00\", \"price\": 46.89}, {\"symbol\": \"AAPL\", \"date\": \"2005-09-01T00:00:00\", \"price\": 53.61}, {\"symbol\": \"AAPL\", \"date\": \"2005-10-01T00:00:00\", \"price\": 57.59}, {\"symbol\": \"AAPL\", \"date\": \"2005-11-01T00:00:00\", \"price\": 67.82}, {\"symbol\": \"AAPL\", \"date\": \"2005-12-01T00:00:00\", \"price\": 71.89}, {\"symbol\": \"AAPL\", \"date\": \"2006-01-01T00:00:00\", \"price\": 75.51}, {\"symbol\": \"AAPL\", \"date\": \"2006-02-01T00:00:00\", \"price\": 68.49}, {\"symbol\": \"AAPL\", \"date\": \"2006-03-01T00:00:00\", \"price\": 62.72}, {\"symbol\": \"AAPL\", \"date\": \"2006-04-01T00:00:00\", \"price\": 70.39}, {\"symbol\": \"AAPL\", \"date\": \"2006-05-01T00:00:00\", \"price\": 59.77}, {\"symbol\": \"AAPL\", \"date\": \"2006-06-01T00:00:00\", \"price\": 57.27}, {\"symbol\": \"AAPL\", \"date\": \"2006-07-01T00:00:00\", \"price\": 67.96}, {\"symbol\": \"AAPL\", \"date\": \"2006-08-01T00:00:00\", \"price\": 67.85}, {\"symbol\": \"AAPL\", \"date\": \"2006-09-01T00:00:00\", \"price\": 76.98}, {\"symbol\": \"AAPL\", \"date\": \"2006-10-01T00:00:00\", \"price\": 81.08}, {\"symbol\": \"AAPL\", \"date\": \"2006-11-01T00:00:00\", \"price\": 91.66}, {\"symbol\": \"AAPL\", \"date\": \"2006-12-01T00:00:00\", \"price\": 84.84}, {\"symbol\": \"AAPL\", \"date\": \"2007-01-01T00:00:00\", \"price\": 85.73}, {\"symbol\": \"AAPL\", \"date\": \"2007-02-01T00:00:00\", \"price\": 84.61}, {\"symbol\": \"AAPL\", \"date\": \"2007-03-01T00:00:00\", \"price\": 92.91}, {\"symbol\": \"AAPL\", \"date\": \"2007-04-01T00:00:00\", \"price\": 99.8}, {\"symbol\": \"AAPL\", \"date\": \"2007-05-01T00:00:00\", \"price\": 121.19}, {\"symbol\": \"AAPL\", \"date\": \"2007-06-01T00:00:00\", \"price\": 122.04}, {\"symbol\": \"AAPL\", \"date\": \"2007-07-01T00:00:00\", \"price\": 131.76}, {\"symbol\": \"AAPL\", \"date\": \"2007-08-01T00:00:00\", \"price\": 138.48}, {\"symbol\": \"AAPL\", \"date\": \"2007-09-01T00:00:00\", \"price\": 153.47}, {\"symbol\": \"AAPL\", \"date\": \"2007-10-01T00:00:00\", \"price\": 189.95}, {\"symbol\": \"AAPL\", \"date\": \"2007-11-01T00:00:00\", \"price\": 182.22}, {\"symbol\": \"AAPL\", \"date\": \"2007-12-01T00:00:00\", \"price\": 198.08}, {\"symbol\": \"AAPL\", \"date\": \"2008-01-01T00:00:00\", \"price\": 135.36}, {\"symbol\": \"AAPL\", \"date\": \"2008-02-01T00:00:00\", \"price\": 125.02}, {\"symbol\": \"AAPL\", \"date\": \"2008-03-01T00:00:00\", \"price\": 143.5}, {\"symbol\": \"AAPL\", \"date\": \"2008-04-01T00:00:00\", \"price\": 173.95}, {\"symbol\": \"AAPL\", \"date\": \"2008-05-01T00:00:00\", \"price\": 188.75}, {\"symbol\": \"AAPL\", \"date\": \"2008-06-01T00:00:00\", \"price\": 167.44}, {\"symbol\": \"AAPL\", \"date\": \"2008-07-01T00:00:00\", \"price\": 158.95}, {\"symbol\": \"AAPL\", \"date\": \"2008-08-01T00:00:00\", \"price\": 169.53}, {\"symbol\": \"AAPL\", \"date\": \"2008-09-01T00:00:00\", \"price\": 113.66}, {\"symbol\": \"AAPL\", \"date\": \"2008-10-01T00:00:00\", \"price\": 107.59}, {\"symbol\": \"AAPL\", \"date\": \"2008-11-01T00:00:00\", \"price\": 92.67}, {\"symbol\": \"AAPL\", \"date\": \"2008-12-01T00:00:00\", \"price\": 85.35}, {\"symbol\": \"AAPL\", \"date\": \"2009-01-01T00:00:00\", \"price\": 90.13}, {\"symbol\": \"AAPL\", \"date\": \"2009-02-01T00:00:00\", \"price\": 89.31}, {\"symbol\": \"AAPL\", \"date\": \"2009-03-01T00:00:00\", \"price\": 105.12}, {\"symbol\": \"AAPL\", \"date\": \"2009-04-01T00:00:00\", \"price\": 125.83}, {\"symbol\": \"AAPL\", \"date\": \"2009-05-01T00:00:00\", \"price\": 135.81}, {\"symbol\": \"AAPL\", \"date\": \"2009-06-01T00:00:00\", \"price\": 142.43}, {\"symbol\": \"AAPL\", \"date\": \"2009-07-01T00:00:00\", \"price\": 163.39}, {\"symbol\": \"AAPL\", \"date\": \"2009-08-01T00:00:00\", \"price\": 168.21}, {\"symbol\": \"AAPL\", \"date\": \"2009-09-01T00:00:00\", \"price\": 185.35}, {\"symbol\": \"AAPL\", \"date\": \"2009-10-01T00:00:00\", \"price\": 188.5}, {\"symbol\": \"AAPL\", \"date\": \"2009-11-01T00:00:00\", \"price\": 199.91}, {\"symbol\": \"AAPL\", \"date\": \"2009-12-01T00:00:00\", \"price\": 210.73}, {\"symbol\": \"AAPL\", \"date\": \"2010-01-01T00:00:00\", \"price\": 192.06}, {\"symbol\": \"AAPL\", \"date\": \"2010-02-01T00:00:00\", \"price\": 204.62}, {\"symbol\": \"AAPL\", \"date\": \"2010-03-01T00:00:00\", \"price\": 223.02}]}}, {\"mode\": \"vega-lite\"});\n</script>"
              }
            ],
            "_view_module": "@jupyter-widgets/output",
            "_model_module_version": "1.0.0",
            "_view_count": null,
            "_view_module_version": "1.0.0",
            "layout": "IPY_MODEL_8a72baa84fb34a97b315a82f0407c449",
            "_model_module": "@jupyter-widgets/output"
          }
        },
        "88313260340d45559755a54b329d1c00": {
          "model_module": "@jupyter-widgets/controls",
          "model_name": "DescriptionStyleModel",
          "state": {
            "_view_name": "StyleView",
            "_model_name": "DescriptionStyleModel",
            "description_width": "",
            "_view_module": "@jupyter-widgets/base",
            "_model_module_version": "1.5.0",
            "_view_count": null,
            "_view_module_version": "1.2.0",
            "_model_module": "@jupyter-widgets/controls"
          }
        },
        "9ac73f250d0a457386c4b0f1b3120704": {
          "model_module": "@jupyter-widgets/base",
          "model_name": "LayoutModel",
          "state": {
            "_view_name": "LayoutView",
            "grid_template_rows": null,
            "right": null,
            "justify_content": null,
            "_view_module": "@jupyter-widgets/base",
            "overflow": null,
            "_model_module_version": "1.2.0",
            "_view_count": null,
            "flex_flow": null,
            "width": null,
            "min_width": null,
            "border": null,
            "align_items": null,
            "bottom": null,
            "_model_module": "@jupyter-widgets/base",
            "top": null,
            "grid_column": null,
            "overflow_y": null,
            "overflow_x": null,
            "grid_auto_flow": null,
            "grid_area": null,
            "grid_template_columns": null,
            "flex": null,
            "_model_name": "LayoutModel",
            "justify_items": null,
            "grid_row": null,
            "max_height": null,
            "align_content": null,
            "visibility": null,
            "align_self": null,
            "height": null,
            "min_height": null,
            "padding": null,
            "grid_auto_rows": null,
            "grid_gap": null,
            "max_width": null,
            "order": null,
            "_view_module_version": "1.2.0",
            "grid_template_areas": null,
            "object_position": null,
            "object_fit": null,
            "grid_auto_columns": null,
            "margin": null,
            "display": null,
            "left": null
          }
        },
        "8a72baa84fb34a97b315a82f0407c449": {
          "model_module": "@jupyter-widgets/base",
          "model_name": "LayoutModel",
          "state": {
            "_view_name": "LayoutView",
            "grid_template_rows": null,
            "right": null,
            "justify_content": null,
            "_view_module": "@jupyter-widgets/base",
            "overflow": null,
            "_model_module_version": "1.2.0",
            "_view_count": null,
            "flex_flow": null,
            "width": null,
            "min_width": null,
            "border": null,
            "align_items": null,
            "bottom": null,
            "_model_module": "@jupyter-widgets/base",
            "top": null,
            "grid_column": null,
            "overflow_y": null,
            "overflow_x": null,
            "grid_auto_flow": null,
            "grid_area": null,
            "grid_template_columns": null,
            "flex": null,
            "_model_name": "LayoutModel",
            "justify_items": null,
            "grid_row": null,
            "max_height": null,
            "align_content": null,
            "visibility": null,
            "align_self": null,
            "height": null,
            "min_height": null,
            "padding": null,
            "grid_auto_rows": null,
            "grid_gap": null,
            "max_width": null,
            "order": null,
            "_view_module_version": "1.2.0",
            "grid_template_areas": null,
            "object_position": null,
            "object_fit": null,
            "grid_auto_columns": null,
            "margin": null,
            "display": null,
            "left": null
          }
        }
      }
    }
  },
  "cells": [
    {
      "cell_type": "markdown",
      "metadata": {
        "id": "FDhdHXZ3F7jm"
      },
      "source": [
        "# ✒️ Executing JavaScript & HTML from Python"
      ]
    },
    {
      "cell_type": "code",
      "metadata": {
        "id": "dEvQz7uh29PJ"
      },
      "source": [
        "from IPython.display import display,HTML,Javascript,JSON\n",
        "from google.colab import output"
      ],
      "execution_count": 93,
      "outputs": []
    },
    {
      "cell_type": "code",
      "metadata": {
        "colab": {
          "base_uri": "https://localhost:8080/",
          "height": 35
        },
        "id": "rgEwvNmSKM8o",
        "outputId": "c28f3904-cb2b-48ca-ca6f-06ae55db2fc1"
      },
      "source": [
        "display(Javascript(\"\"\"\n",
        "  window.someValue=new Promise(resolve=>{\n",
        "      setTimeout(()=>{resolve('😋 😌 😍 😎 😏 HELLO!!!');},100);});\n",
        "\"\"\"))\n",
        "output.eval_js('someValue')"
      ],
      "execution_count": 94,
      "outputs": [
        {
          "output_type": "display_data",
          "data": {
            "application/javascript": [
              "\n",
              "  window.someValue=new Promise(resolve=>{\n",
              "      setTimeout(()=>{resolve('😋 😌 😍 😎 😏 HELLO!!!');},100);});\n"
            ],
            "text/plain": [
              "<IPython.core.display.Javascript object>"
            ]
          },
          "metadata": {
            "tags": []
          }
        },
        {
          "output_type": "execute_result",
          "data": {
            "application/vnd.google.colaboratory.intrinsic+json": {
              "type": "string"
            },
            "text/plain": [
              "'😋 😌 😍 😎 😏 HELLO!!!'"
            ]
          },
          "metadata": {
            "tags": []
          },
          "execution_count": 94
        }
      ]
    },
    {
      "cell_type": "code",
      "metadata": {
        "colab": {
          "base_uri": "https://localhost:8080/",
          "height": 47
        },
        "id": "NkbZzKu6_rEM",
        "outputId": "df366517-1f7b-42a6-bc10-79339c905551"
      },
      "source": [
        "js_str=\"\"\"\n",
        "var out1=document.querySelector('#output-area'),\n",
        "    text1=document.createElement('text'),\n",
        "    str1='😋 😌 😍 😎 😏 HELLO!!!';\n",
        "text1.appendChild(document.createTextNode(str1));\n",
        "out1.appendChild(text1);\n",
        "text1.id='text1'; text1.style.padding='20px';\n",
        "out1.style.border='double'; out1.style.width='50%';\n",
        "var tc=setInterval(function() {\n",
        "  var doc=document.getElementById('text1');\n",
        "  var sec=Math.floor(new Date().getTime()%60000/1000);\n",
        "  var col='rgb('+(10+Math.abs(245-8*sec))+',0,'+\n",
        "          (255-Math.abs(245-8*sec))+')';\n",
        "  doc.style.color=col;}, 1000);  \n",
        "\"\"\"\n",
        "display(Javascript(js_str))"
      ],
      "execution_count": 95,
      "outputs": [
        {
          "output_type": "display_data",
          "data": {
            "application/javascript": [
              "\n",
              "var out1=document.querySelector('#output-area'),\n",
              "    text1=document.createElement('text'),\n",
              "    str1='😋 😌 😍 😎 😏 HELLO!!!';\n",
              "text1.appendChild(document.createTextNode(str1));\n",
              "out1.appendChild(text1);\n",
              "text1.id='text1'; text1.style.padding='20px';\n",
              "out1.style.border='double'; out1.style.width='50%';\n",
              "var tc=setInterval(function() {\n",
              "  var doc=document.getElementById('text1');\n",
              "  var sec=Math.floor(new Date().getTime()%60000/1000);\n",
              "  var col='rgb('+(10+Math.abs(245-8*sec))+',0,'+\n",
              "          (255-Math.abs(245-8*sec))+')';\n",
              "  doc.style.color=col;}, 1000);  \n"
            ],
            "text/plain": [
              "<IPython.core.display.Javascript object>"
            ]
          },
          "metadata": {
            "tags": []
          }
        }
      ]
    },
    {
      "cell_type": "code",
      "metadata": {
        "colab": {
          "base_uri": "https://localhost:8080/",
          "height": 162
        },
        "id": "ZUIyX-Gn1kJb",
        "outputId": "f9e3ce38-294f-4656-c116-60f282291bbe"
      },
      "source": [
        "html_str=\"\"\"\n",
        "<script>\n",
        "function addTextNode(text){\n",
        "  var newtext=document.createTextNode(text),\n",
        "      p1=document.getElementById('p1');\n",
        "  p1.appendChild(newtext);}\n",
        "var tc=setInterval(function() {\n",
        "  var doc=document.getElementById('p1'),\n",
        "      but1=document.getElementById('button1'),\n",
        "      but2=document.getElementById('button2');\n",
        "  var sec=Math.floor(new Date().getTime()%60000/1000);\n",
        "  var col='rgb('+(10+Math.abs(245-8*sec))+',0,'+\n",
        "          (255-Math.abs(245-8*sec))+')';\n",
        "  but1.style.background=col; but2.style.background=col;\n",
        "  doc.style.color=col;}, 1000);  \n",
        "</script>\n",
        "<button id='button1' onclick='addTextNode(&#34;&nbsp;YES! &#34;);'>YES!</button>\n",
        "<button id='button2' onclick='addTextNode(&#34;&nbsp;NO! &#34;);'>NO!</button>\n",
        "<hr align='left' style='width:50%;'/><hr align='left' style='width:50%;'/>\n",
        "<p id='p1' style='font-size:30px;'>Text Nodes:<br/></p>\n",
        "<hr align='left' style='width:50%;'/><hr align='left' style='width:50%;'/>\n",
        "\"\"\"\n",
        "display(HTML(html_str))"
      ],
      "execution_count": 96,
      "outputs": [
        {
          "output_type": "display_data",
          "data": {
            "text/html": [
              "\n",
              "<script>\n",
              "function addTextNode(text){\n",
              "  var newtext=document.createTextNode(text),\n",
              "      p1=document.getElementById('p1');\n",
              "  p1.appendChild(newtext);}\n",
              "var tc=setInterval(function() {\n",
              "  var doc=document.getElementById('p1'),\n",
              "      but1=document.getElementById('button1'),\n",
              "      but2=document.getElementById('button2');\n",
              "  var sec=Math.floor(new Date().getTime()%60000/1000);\n",
              "  var col='rgb('+(10+Math.abs(245-8*sec))+',0,'+\n",
              "          (255-Math.abs(245-8*sec))+')';\n",
              "  but1.style.background=col; but2.style.background=col;\n",
              "  doc.style.color=col;}, 1000);  \n",
              "</script>\n",
              "<button id='button1' onclick='addTextNode(&#34;&nbsp;YES! &#34;);'>YES!</button>\n",
              "<button id='button2' onclick='addTextNode(&#34;&nbsp;NO! &#34;);'>NO!</button>\n",
              "<hr align='left' style='width:50%;'/><hr align='left' style='width:50%;'/>\n",
              "<p id='p1' style='font-size:30px;'>Text Nodes:<br/></p>\n",
              "<hr align='left' style='width:50%;'/><hr align='left' style='width:50%;'/>\n"
            ],
            "text/plain": [
              "<IPython.core.display.HTML object>"
            ]
          },
          "metadata": {
            "tags": []
          }
        }
      ]
    },
    {
      "cell_type": "markdown",
      "metadata": {
        "id": "SkOlFYkmfNyW"
      },
      "source": [
        "#✒️ Tagged Outputs"
      ]
    },
    {
      "cell_type": "code",
      "metadata": {
        "id": "OfzolVbifKDP"
      },
      "source": [
        "import sys,time"
      ],
      "execution_count": 174,
      "outputs": []
    },
    {
      "cell_type": "code",
      "metadata": {
        "colab": {
          "base_uri": "https://localhost:8080/"
        },
        "id": "j4QezM2VfDoZ",
        "outputId": "92265c20-3140-41bd-baf6-8f9c2840adf5"
      },
      "source": [
        "print('The process is starting')\n",
        "with output.use_tags('tagged_outputs'):\n",
        "    for el in ['working \\n','=> => => \\n','still working \\n']:\n",
        "        sys.stdout.write('working \\n')\n",
        "        sys.stdout.flush(); time.sleep(5)\n",
        "output.clear(output_tags='tagged_outputs')\n",
        "print('Outputs have cleared')"
      ],
      "execution_count": 178,
      "outputs": [
        {
          "output_type": "stream",
          "text": [
            "The process is starting\n",
            "Outputs have cleared\n"
          ],
          "name": "stdout"
        }
      ]
    },
    {
      "cell_type": "markdown",
      "metadata": {
        "id": "T5t86ADAQAyA"
      },
      "source": [
        "# ✒️ Widgets"
      ]
    },
    {
      "cell_type": "code",
      "metadata": {
        "id": "WsVvCUYYQ3dF"
      },
      "source": [
        "import pandas as pd,ipywidgets as iw\n",
        "import altair as alt,pylab as pl\n",
        "from vega_datasets import data"
      ],
      "execution_count": 158,
      "outputs": []
    },
    {
      "cell_type": "code",
      "metadata": {
        "colab": {
          "base_uri": "https://localhost:8080/",
          "height": 422,
          "referenced_widgets": [
            "54db6357626d4c5d86cc017884b51db8",
            "3cbea54493ee41b2ba5c5577c418803d",
            "54766e72007a466ea8d6656a3a73a3cf",
            "32604c2b782b4c51a7cba7a502f0b7d0",
            "b12d2494fd8642bc8763cda2c8414fad",
            "c01e0cee37794cc3b28d120e5de41898",
            "4e87379c98c44f989ba079686368bdd3",
            "37371aa9a6624619923ffc6343006fdb",
            "9bfbb54fe61a4671adbd5f2b7b7b3509",
            "384fc2a0bfa14797b4a4b9391e251da0",
            "adbd3be979234f99acd6871e2260fc77",
            "108bd1896f054bd9b47c64696fec5e7d",
            "1226972ee1fd4c72ad7a94a9a9e69c4f",
            "384b819fe691459cade27b270a893835",
            "218c3db3690d43f284b53bdd0ef099a8",
            "75bb420eb12441d190f42186b8a57730",
            "d213e74ae57448ffaac1cd78c6a6aa1b",
            "c543ea304b45428d9ffcc96c75e9a35c",
            "cd95633ff78d4e67a1a4937662bc80fd"
          ]
        },
        "id": "eKaehfR1WArF",
        "outputId": "c9370578-b139-4553-e46e-c3fd1ae9d754"
      },
      "source": [
        "starts=[17,67,52,35,88]; n=len(starts)\n",
        "sliders=[iw.IntSlider(starts[i],min=0,max=100) \n",
        "         for i in range(n)]\n",
        "colors=[(i/5.,i/10.,.75) for i in range(n)]\n",
        "@widgets.interact(\n",
        "    v0=sliders[0],v1=sliders[1],v2=sliders[2],\n",
        "    v3=sliders[3],v4=sliders[4])\n",
        "def render(v0,v1,v2,v3,v4):\n",
        "    values=[v0,v1,v2,v3,v4]; n=len(values)\n",
        "    df=pd.DataFrame([range(n),values],index=['x','y']).T\n",
        "    df.y.plot.bar(figsize=(10,4),color=colors); pl.show()"
      ],
      "execution_count": 230,
      "outputs": [
        {
          "output_type": "display_data",
          "data": {
            "application/vnd.jupyter.widget-view+json": {
              "model_id": "54db6357626d4c5d86cc017884b51db8",
              "version_minor": 0,
              "version_major": 2
            },
            "text/plain": [
              "interactive(children=(IntSlider(value=17, description='v0'), IntSlider(value=67, description='v1'), IntSlider(…"
            ]
          },
          "metadata": {
            "tags": []
          }
        }
      ]
    },
    {
      "cell_type": "code",
      "metadata": {
        "id": "2eM_AjILhV5A"
      },
      "source": [
        "def pd_style():\n",
        "    return [dict(selector='th',\n",
        "                 props=[('font-size','12pt'),('color','white'),\n",
        "                        ('min-width','70px'),('height','30px')]),\n",
        "            dict(selector='td',\n",
        "                 props=[('font-size','10pt'),('color','whitesmoke'),\n",
        "                        ('padding','0em 0em'),\n",
        "                        ('min-width','170px'),('height','30px')]),\n",
        "            dict(selector='tr:hover th:hover',\n",
        "                 props=[('font-size','16pt'),\n",
        "                        ('text-shadow','3px 3px 3px #aaa')]),\n",
        "            dict(selector='tr:hover td:hover',\n",
        "                 props=[('font-size','12pt'),\n",
        "                        ('text-shadow','3px 3px 3px #aaa')])]"
      ],
      "execution_count": 213,
      "outputs": []
    },
    {
      "cell_type": "code",
      "metadata": {
        "colab": {
          "base_uri": "https://localhost:8080/",
          "height": 600,
          "referenced_widgets": [
            "9d7db61b43db4c1e830d86d7cc568949",
            "137898c671904581b2ab6fe97512fcff",
            "892305fbfa0e4551bc408f6fce3e50e0",
            "d971e8caf41d482d8cd5b374d37a0204",
            "88313260340d45559755a54b329d1c00",
            "9ac73f250d0a457386c4b0f1b3120704",
            "8a72baa84fb34a97b315a82f0407c449"
          ]
        },
        "id": "ZDy03Q-WO5oO",
        "outputId": "9953c306-af41-475e-e47f-b0d8cfd907ae"
      },
      "source": [
        "source=data.stocks()\n",
        "stock_picker=widgets.SelectMultiple(\n",
        "    options=source.symbol.unique(),\n",
        "    value=list(source.symbol.unique()),\n",
        "    description='SYMBOLS')\n",
        "@widgets.interact(symbols=stock_picker)\n",
        "def render(symbols):\n",
        "  selected=source.symbol.isin(list(symbols))\n",
        "  display(source[selected].head(3).T\\\n",
        "          .style.set_table_styles(pd_style()))\n",
        "  chart=alt.Chart(source[selected]).mark_line().encode(\n",
        "      x='date',y='price',color='symbol',strokeDash='symbol')\n",
        "  return chart"
      ],
      "execution_count": 219,
      "outputs": [
        {
          "output_type": "display_data",
          "data": {
            "application/vnd.jupyter.widget-view+json": {
              "model_id": "9d7db61b43db4c1e830d86d7cc568949",
              "version_minor": 0,
              "version_major": 2
            },
            "text/plain": [
              "interactive(children=(SelectMultiple(description='SYMBOLS', index=(0, 1, 2, 3, 4), options=('MSFT', 'AMZN', 'I…"
            ]
          },
          "metadata": {
            "tags": []
          }
        }
      ]
    }
  ]
}