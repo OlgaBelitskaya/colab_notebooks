{
 "cells": [
  {
   "cell_type": "markdown",
   "metadata": {},
   "source": [
    "# Codejam Kickstart H 2018\n",
    "[codejam.kickstart](https://codejam.withgoogle.com/codejam/kickstart/)"
   ]
  },
  {
   "cell_type": "markdown",
   "metadata": {},
   "source": [
    "## Problem A. Big Buttons\n",
    "\n",
    "You are a contestant on a popular new game show and are playing for the grand prize!\n",
    "\n",
    "There are two big buttons, a `red` one and a `black` one. \n",
    "\n",
    "You will make a sequence of exactly $N$ button presses.\n",
    "\n",
    "There are lots of different sequences of presses you could make, \n",
    "\n",
    "but there are $P$ forbidden prefixes, each of length no greater than $N$. \n",
    "\n",
    "If you make a sequence of presses which begins with any of the forbidden sequences, you will not win the grand prize. \n",
    "\n",
    "It is fine for your sequence to contain one or more forbidden prefixes \n",
    "\n",
    "as long as they do not appear at the start of your sequence.\n",
    "\n",
    "A _winning_ sequence \n",
    "\n",
    "- must consist of exactly $N$ button presses and \n",
    "\n",
    "- must not begin with one of the forbidden prefixes. \n",
    "\n",
    "__How many different winning sequences are there?__\n",
    "\n",
    "\n",
    "_Input_\n",
    "\n",
    "The first line of the input gives the number of test cases, $T$. \n",
    "\n",
    "$T$ test cases follow. \n",
    "\n",
    "Each test case starts with a line containing two integers $N$ and $P$, as described above. \n",
    "\n",
    "Then, there are $P$ more lines, each of which contains a string of between 1 and $N$ characters, inclusive, \n",
    "\n",
    "describing one of the forbidden sequences of presses. \n",
    "\n",
    "An `R` represents pressing the red button, whereas a `B` represents pressing the black button.\n",
    "\n",
    "_Output_\n",
    "\n",
    "For each test case, output one line containing $Case \\ \\#x: y$, where \n",
    "\n",
    "- $x$ is the test case number (starting from 1) and \n",
    "\n",
    "- $y$ is the number of winning sequences, as desribed above.\n",
    "\n",
    "_Limits_\n",
    "\n",
    "$1 \\leq T \\leq 100$.\n",
    "\n",
    "$1 \\leq P \\leq \\min(2N, 100)$.\n",
    "\n",
    "Each forbidden prefix is between 1 and $N$ characters long, inclusive.\n",
    "\n",
    "No two forbidden prefixes will be the same.\n",
    "\n",
    "Small dataset\n",
    "\n",
    "$1 \\leq N \\leq 10$.\n",
    "\n",
    "Large dataset\n",
    "\n",
    "$1 \\leq N \\leq 50$."
   ]
  },
  {
   "cell_type": "markdown",
   "metadata": {},
   "source": [
    "## Sample\n",
    "\n",
    "| - | Input | - | Output |\n",
    "| :-: | :-: | :-: | :-: |\n",
    "| T | 4 | - | - |\n",
    "| N P | 3 2 | Number of Winning Sequences | `Case #1: 5` |\n",
    "| Forbidden Sequences | $BBB$ | - | - |\n",
    "| Forbidden Sequences | $RB$ | - | - |\n",
    "| N P | 5 1 | Number of Winning Sequences | `Case #2: 16` |\n",
    "| Forbidden Sequences | $R$ | - | - |\n",
    "| N P | 4 3 | Number of Winning Sequences | `Case #3: 0` |\n",
    "| Forbidden Sequences | $R$ | - | - |\n",
    "| Forbidden Sequences | $B$ | - | - |\n",
    "| Forbidden Sequences | $RBRB$ | - | - |\n",
    "| N P | 50 5 | Number of Winning Sequences | `Case #4: 1125556309458944` |\n",
    "| Forbidden Sequences | $BRBRBBBRBRRRBBB$ | - | - |\n",
    "| Forbidden Sequences | $BRBRBRRRBRRRBRB$ | - | - |\n",
    "| Forbidden Sequences | $BBBRBBBRBRRRBBB$ | - | - |\n",
    "| Forbidden Sequences | $BRBRBRRRBRRRB$ | - | - |\n",
    "| Forbidden Sequences | $BRBRBBBRBBBRB$ | - | - |\n"
   ]
  },
  {
   "cell_type": "markdown",
   "metadata": {},
   "source": [
    "## Problem A. Decision\n",
    "\n",
    "In the case of two buttons (`black` and `red`), \n",
    "\n",
    "the total number of different variants for a sequence of $N$ presses is equal to $2^N$.\n",
    "\n",
    "Each forbidden beginning with the length S exclude the certain number of variant which is equal to $2^{N-S}$.\n",
    "\n",
    "If the beginning of one of the forbidden sequences completely coincides with the other forbidden sequence, \n",
    "\n",
    "then we should not include this longer sequence in the calculation of banned variants \n",
    "\n",
    "(all these variants have already been taken into account during the counting for the shorter sequence).\n",
    "\n",
    "For example, we have to press three times (N = 3) and the banned prefixes are {`R`, `BR`, `BRB`}.\n",
    "\n",
    "All possible press variants:\n",
    "\n",
    "$\\begin {cases}\n",
    "BBB \\\\ BBR \\\\ BRB \\\\ BRR \\\\ RBB \\\\ RBR \\\\ RRB \\\\RRR\n",
    "\\end{cases}$\n",
    "\n",
    "We should exclude the cases `R..`, `BR.`, `BRB`:\n",
    "\n",
    "$\\begin {cases}\n",
    "RBB \\\\ RBR \\\\ RRB \\\\ RRR \\\\ -- \\\\ BRB \\\\ BRR \n",
    "\\end{cases}$\n",
    "\n",
    "The number of winning sequences (`BBB`, `BBR`) is equal to\n",
    "\n",
    "$2^3 - 2^{3-1} - 2^{3-2} = 2$.\n",
    "\n",
    "`BR` is in the beginning of `BRB`, so `BRB` does not need in the calculation process."
   ]
  },
  {
   "cell_type": "code",
   "execution_count": 1,
   "metadata": {},
   "outputs": [
    {
     "name": "stdout",
     "output_type": "stream",
     "text": [
      "Case #1: 5 \n",
      "\n",
      "Case #2: 16 \n",
      "\n",
      "Case #3: 0 \n",
      "\n",
      "Case #4: 1125556309458944 \n",
      "\n"
     ]
    }
   ],
   "source": [
    "with open('A-small-attempt1.txt', 'r') as f:\n",
    "    A = [x for x in f.readlines()]\n",
    "    \n",
    "T, I, C = int(A[0][:-1]), 1, 1, \n",
    "X = T*[0]\n",
    "\n",
    "while I < len(A):\n",
    "    N, P = int(A[I][:-1].split(' ')[0]), int(A[I][:-1].split(' ')[1])\n",
    "    S, X[C-1] = [], 2 ** N\n",
    "    for J in range(I+1, P+I+1):\n",
    "        S.append(list(A[J][:-1])) \n",
    "    I += P + 1\n",
    "    \n",
    "    K = []\n",
    "    for i in range(P):\n",
    "        for j in range(P):\n",
    "            if (j != i) and (len(S[i]) < len(S[j])):\n",
    "                t = []\n",
    "                for n in range(len(S[i])):\n",
    "                    t.append(S[j][n] == S[i][n])\n",
    "                if sum(t) == len(S[i]):                        \n",
    "                    if j not in K:\n",
    "                        K.append(j)\n",
    "    for k in K:\n",
    "        S = S[:k] + S[k + 1:]        \n",
    "        \n",
    "    for j in range(len(S)):\n",
    "        X[C-1] = X[C-1] - 2 ** (N - len(S[j]))\n",
    "\n",
    "    if X[C-1] < 0: X[C-1] = 0\n",
    "    C +=1\n",
    "        \n",
    "with open('A-small-attempt1-out.txt', 'w') as f:\n",
    "    for c in range(T):  \n",
    "        print('Case #{}: {} \\n'.format(c+1, X[c]))\n",
    "        f.write('Case #{}: {} \\n'.format(c+1, X[c]))"
   ]
  },
  {
   "cell_type": "code",
   "execution_count": 2,
   "metadata": {
    "scrolled": false
   },
   "outputs": [
    {
     "name": "stdout",
     "output_type": "stream",
     "text": [
      "Case #1: 5 \n",
      "\n",
      "Case #2: 16 \n",
      "\n",
      "Case #3: 0 \n",
      "\n",
      "Case #4: 768 \n",
      "\n",
      "Case #5: 176 \n",
      "\n",
      "Case #6: 0 \n",
      "\n",
      "Case #7: 0 \n",
      "\n",
      "Case #8: 1016 \n",
      "\n",
      "Case #9: 896 \n",
      "\n",
      "Case #10: 0 \n",
      "\n",
      "Case #11: 0 \n",
      "\n",
      "Case #12: 512 \n",
      "\n",
      "Case #13: 0 \n",
      "\n",
      "Case #14: 0 \n",
      "\n",
      "Case #15: 992 \n",
      "\n",
      "Case #16: 863 \n",
      "\n",
      "Case #17: 1023 \n",
      "\n",
      "Case #18: 160 \n",
      "\n",
      "Case #19: 324 \n",
      "\n",
      "Case #20: 968 \n",
      "\n",
      "Case #21: 1023 \n",
      "\n",
      "Case #22: 857 \n",
      "\n",
      "Case #23: 0 \n",
      "\n",
      "Case #24: 148 \n",
      "\n",
      "Case #25: 968 \n",
      "\n",
      "Case #26: 0 \n",
      "\n",
      "Case #27: 1022 \n",
      "\n",
      "Case #28: 0 \n",
      "\n",
      "Case #29: 1023 \n",
      "\n",
      "Case #30: 0 \n",
      "\n",
      "Case #31: 0 \n",
      "\n",
      "Case #32: 856 \n",
      "\n",
      "Case #33: 0 \n",
      "\n",
      "Case #34: 0 \n",
      "\n",
      "Case #35: 0 \n",
      "\n",
      "Case #36: 0 \n",
      "\n",
      "Case #37: 0 \n",
      "\n",
      "Case #38: 772 \n",
      "\n",
      "Case #39: 865 \n",
      "\n",
      "Case #40: 0 \n",
      "\n",
      "Case #41: 1023 \n",
      "\n",
      "Case #42: 1020 \n",
      "\n",
      "Case #43: 0 \n",
      "\n",
      "Case #44: 880 \n",
      "\n",
      "Case #45: 0 \n",
      "\n",
      "Case #46: 883 \n",
      "\n",
      "Case #47: 992 \n",
      "\n",
      "Case #48: 0 \n",
      "\n",
      "Case #49: 865 \n",
      "\n",
      "Case #50: 832 \n",
      "\n",
      "Case #51: 1008 \n",
      "\n",
      "Case #52: 0 \n",
      "\n",
      "Case #53: 344 \n",
      "\n",
      "Case #54: 0 \n",
      "\n",
      "Case #55: 875 \n",
      "\n",
      "Case #56: 768 \n",
      "\n",
      "Case #57: 0 \n",
      "\n",
      "Case #58: 384 \n",
      "\n",
      "Case #59: 512 \n",
      "\n",
      "Case #60: 869 \n",
      "\n",
      "Case #61: 838 \n",
      "\n",
      "Case #62: 1 \n",
      "\n",
      "Case #63: 0 \n",
      "\n",
      "Case #64: 832 \n",
      "\n",
      "Case #65: 0 \n",
      "\n",
      "Case #66: 0 \n",
      "\n",
      "Case #67: 0 \n",
      "\n",
      "Case #68: 840 \n",
      "\n",
      "Case #69: 0 \n",
      "\n",
      "Case #70: 838 \n",
      "\n",
      "Case #71: 828 \n",
      "\n",
      "Case #72: 294 \n",
      "\n",
      "Case #73: 864 \n",
      "\n",
      "Case #74: 768 \n",
      "\n",
      "Case #75: 0 \n",
      "\n",
      "Case #76: 0 \n",
      "\n",
      "Case #77: 858 \n",
      "\n",
      "Case #78: 206 \n",
      "\n",
      "Case #79: 0 \n",
      "\n",
      "Case #80: 1023 \n",
      "\n",
      "Case #81: 896 \n",
      "\n",
      "Case #82: 0 \n",
      "\n",
      "Case #83: 0 \n",
      "\n",
      "Case #84: 867 \n",
      "\n",
      "Case #85: 879 \n",
      "\n",
      "Case #86: 0 \n",
      "\n",
      "Case #87: 0 \n",
      "\n",
      "Case #88: 826 \n",
      "\n",
      "Case #89: 0 \n",
      "\n",
      "Case #90: 1016 \n",
      "\n",
      "Case #91: 1008 \n",
      "\n",
      "Case #92: 0 \n",
      "\n",
      "Case #93: 960 \n",
      "\n",
      "Case #94: 0 \n",
      "\n",
      "Case #95: 0 \n",
      "\n",
      "Case #96: 0 \n",
      "\n",
      "Case #97: 864 \n",
      "\n",
      "Case #98: 962 \n",
      "\n",
      "Case #99: 0 \n",
      "\n",
      "Case #100: 0 \n",
      "\n"
     ]
    }
   ],
   "source": [
    "with open('A-small-attempt0.txt', 'r') as f:\n",
    "    A = [x for x in f.readlines()]\n",
    "    \n",
    "T, I, C = int(A[0][:-1]), 1, 1, \n",
    "X = T*[0]\n",
    "\n",
    "while I < len(A):\n",
    "    N, P = int(A[I][:-1].split(' ')[0]), int(A[I][:-1].split(' ')[1])\n",
    "    S, X[C-1] = [], 2 ** N\n",
    "    for J in range(I+1, P+I+1):\n",
    "        S.append(list(A[J][:-1])) \n",
    "    I += P + 1\n",
    "    \n",
    "    K = []\n",
    "    for i in range(P):\n",
    "        for j in range(P):\n",
    "            if (j != i) and (len(S[i]) < len(S[j])):\n",
    "                t = []\n",
    "                for n in range(len(S[i])):\n",
    "                    t.append(S[j][n] == S[i][n])\n",
    "                if sum(t) == len(S[i]):                        \n",
    "                    if j not in K:\n",
    "                        K.append(j)\n",
    "    for k in K:\n",
    "        S = S[:k] + S[k + 1:]        \n",
    "        \n",
    "    for j in range(len(S)):\n",
    "        X[C-1] = X[C-1] - 2 ** (N - len(S[j]))\n",
    "\n",
    "    if X[C-1] < 0: X[C-1] = 0\n",
    "    C +=1\n",
    "        \n",
    "with open('A-small-attempt0-out.txt', 'w') as f:\n",
    "    for c in range(T):  \n",
    "        print('Case #{}: {} \\n'.format(c+1, X[c]))\n",
    "        f.write('Case #{}: {} \\n'.format(c+1, X[c]))"
   ]
  },
  {
   "cell_type": "markdown",
   "metadata": {},
   "source": [
    "## Problem B. Mural\n",
    "\n",
    "Thanh wants to paint a wonderful mural on a wall that is $N$ sections long. \n",
    "\n",
    "Each section of the wall has a beauty score, which indicates how beautiful it will look if it is painted. \n",
    "\n",
    "Unfortunately, the wall is starting to crumble due to a recent flood, so he will need to work fast!\n",
    "\n",
    "At the beginning of each day, Thanh will paint one of the sections of the wall. \n",
    "\n",
    "On the first day, he is free to paint any section he likes. \n",
    "\n",
    "On each subsequent day, he must paint a new section that is next to a section he has already painted, \n",
    "\n",
    "since he does not want to split up the mural.\n",
    "\n",
    "At the end of each day, one section of the wall will be destroyed. \n",
    "\n",
    "It is always a section of wall that is adjacent to only one other section and is unpainted \n",
    "\n",
    "(Thanh is using a waterproof paint, so painted sections can't be destroyed).\n",
    "\n",
    "The total beauty of Thanh's mural will be equal to the sum of the beauty scores of the sections he has painted. \n",
    "\n",
    "Thanh would like to guarantee that, no matter how the wall is destroyed, \n",
    "\n",
    "he can still achieve a total beauty of at least $B$. \n",
    "\n",
    "__What's the maximum value of B for which he can make this guarantee?__\n",
    "\n",
    "_Input_\n",
    "\n",
    "The first line of the input gives the number of test cases, $T$. \n",
    "\n",
    "$T$ test cases follow. \n",
    "\n",
    "Each test case starts with a line containing an integer $N$. \n",
    "\n",
    "Then, another line follows containing a string of $N$ digits from 0 to 9. \n",
    "\n",
    "The i-th digit represents the beauty score of the i-th section of the wall.\n",
    "\n",
    "_Output_\n",
    "\n",
    "For each test case, output one line containing $Case \\ \\#x: y$, where \n",
    "\n",
    "- $x$ is the test case number (starting from 1) and \n",
    "- $y$ is the maximum beauty score \n",
    "\n",
    "that Thanh can guarantee that he can achieve, as described above.\n",
    "\n",
    "_Limits_\n",
    "\n",
    "$1 \\leq T \\leq 100$.\n",
    "\n",
    "Small dataset\n",
    "\n",
    "$2 \\leq N \\leq 100$.\n",
    "\n",
    "Large dataset\n",
    "\n",
    "For exactly 1 case, $N = 5 \\times 106$; \n",
    "\n",
    "for the other $T - 1$ cases, $2 \\leq N \\leq 100$."
   ]
  },
  {
   "cell_type": "markdown",
   "metadata": {},
   "source": [
    "## Sample\n",
    "\n",
    "| - | Input | - | Output |\n",
    "| :-: | :-: | :-: | :-: |\n",
    "| T | 4 | - | - |\n",
    "| N | 4 | B | `Case #1: 6` |\n",
    "| Beauty Scores | $1332$ | - | - |\n",
    "| N | 4 | B | `Case #2: 14` |\n",
    "| Beauty Scores | $9583$ | - | - |\n",
    "| N | 3 | B | `Case #3: 7` |\n",
    "| Beauty Scores | $616$ | - | - |\n",
    "| N | 10 | B | `Case #4: 31` |\n",
    "| Beauty Scores | $1029384756$ | - | - |"
   ]
  },
  {
   "cell_type": "markdown",
   "metadata": {},
   "source": [
    "## Problem B. Decision\n",
    "\n",
    "Let's create a visualization of the decision making process.\n",
    "\n",
    "Of course, Thanh should choose from the possible options a wall with the best estimate of beauty in the beginning."
   ]
  },
  {
   "cell_type": "code",
   "execution_count": 1,
   "metadata": {},
   "outputs": [],
   "source": [
    "import networkx as nx\n",
    "import pydot\n",
    "from networkx.drawing.nx_pydot import graphviz_layout\n",
    "\n",
    "import matplotlib.pyplot as plt\n",
    "%matplotlib inline"
   ]
  },
  {
   "cell_type": "code",
   "execution_count": 12,
   "metadata": {},
   "outputs": [],
   "source": [
    "# P - the score of a painted wall, D - the score of a destroyed wall\n",
    "def draw_digraph(GG, edge_labels):\n",
    "    plt.figure(figsize=(7,7))\n",
    "    pos = graphviz_layout(GG, prog='dot')\n",
    "\n",
    "    node_colors = 4 * ['lightsteelblue'] + ['#36ff36', '#ff3636']\n",
    "\n",
    "    nx.draw_networkx_nodes(GG, pos, node_size=3000, \n",
    "                           node_shape='h', node_color=node_colors)\n",
    "    nx.draw_networkx_edges(GG, pos, width=3, alpha=0.5, \n",
    "                           edge_color='slategray',\n",
    "                           arrowsize=50, arrowstyle='-|>')\n",
    "\n",
    "    nx.draw_networkx_edge_labels(GG, pos, edge_labels, \n",
    "                             font_size=25, font_weight='bold')\n",
    "    nx.draw_networkx_labels(GG, pos, font_size=25, font_weight='bold')\n",
    "\n",
    "    plt.axis('equal'); plt.axis('off');"
   ]
  },
  {
   "cell_type": "code",
   "execution_count": 13,
   "metadata": {},
   "outputs": [
    {
     "data": {
      "image/png": "[encoded data removed]",
      "text/plain": [
       "<Figure size 504x504 with 1 Axes>"
      ]
     },
     "metadata": {},
     "output_type": "display_data"
    },
    {
     "data": {
      "image/png": "[encoded data removed]",
      "text/plain": [
       "<Figure size 504x504 with 1 Axes>"
      ]
     },
     "metadata": {},
     "output_type": "display_data"
    }
   ],
   "source": [
    "# Case 1\n",
    "GG1 = nx.DiGraph()\n",
    "GG1.add_edges_from([('1332','12'), ('1332','13'), ('1332','32'),\n",
    "                    ('12','B=5'), ('13','B=6'), ('32','B=6')])\n",
    "edge_labels1 = {('1332','12'):'P3D3', ('1332','13'):'P3D2', ('1332','32'):'P3D1',\n",
    "               ('12','B=5'):'P2D1', ('13','B=6'):'P3D1', ('32','B=6'):'P3D2'}\n",
    "# Case 2\n",
    "GG2 = nx.DiGraph()\n",
    "GG2.add_edges_from([('9583','53'), ('9583','58'), ('9583','83'), \n",
    "                    ('53','B=14'), ('58','B=14'), ('83','B=17')])\n",
    "edge_labels2 = {('9583','53'):'P9D8', ('9583','58'):'P9D3', ('9583','83'):'P9D5',\n",
    "                ('53','B=14'):'P5D3', ('58','B=14'):'P5D8', ('83','B=17'):'P8D3'}\n",
    "\n",
    "draw_digraph(GG1, edge_labels1); draw_digraph(GG2, edge_labels2)"
   ]
  },
  {
   "cell_type": "code",
   "execution_count": null,
   "metadata": {},
   "outputs": [],
   "source": []
  },
  {
   "cell_type": "code",
   "execution_count": null,
   "metadata": {},
   "outputs": [],
   "source": []
  },
  {
   "cell_type": "markdown",
   "metadata": {},
   "source": [
    "## Problem C. Let Me Count The Ways\n",
    "\n",
    "To celebrate the anniversary of Googleland, $N$ couples are going to go for a boat ride in a rowboat. \n",
    "\n",
    "The rowboat is very long, but it is only one person wide, so the people will sit in a line from front to back.\n",
    "\n",
    "However, during a rehearsal of the voyage, the boat did not move! \n",
    "\n",
    "After investigating, the organizers found that some newlywed couples were not rowing, but writing love poems for each other the whole time. \n",
    "\n",
    "Specifically, there are $M$ pairs of newlywed couples. \n",
    "\n",
    "If the two members of a newlywed couple are sitting next to each other, they will be so busy writing poems that they will not row.\n",
    "\n",
    "Now the organizers have come to you, the smartest person in Googleland, to ask, \n",
    "\n",
    "__how many possible ways are there to arrange all 2N people on the rowboat,__ \n",
    "\n",
    "__such that for each of the M newlywed couples, the two members are not sitting next to each other?__ \n",
    "\n",
    "Two ways are different if there is some position in the boat at which the two ways use different people. \n",
    "\n",
    "Notice that for the purpose of counting the number of ways, the two members of a couple are not considered to be interchangeable. \n",
    "\n",
    "Since the number can be very large, \n",
    "\n",
    "the organizers only want to know the value of the answer modulo $1000000007(109+7)$.\n",
    "\n",
    "_Input_\n",
    "\n",
    "The first line of the input gives the number of test cases, $T$. \n",
    "\n",
    "$T$ test cases follow. \n",
    "\n",
    "Each test case consists of one line with two integers $N$ and $M$ as described above.\n",
    "\n",
    "_Output_\n",
    "\n",
    "For each test case, output one line containing $Case \\ \\#x: y$, where \n",
    "\n",
    "- $x$ is the test case number (starting from 1) and \n",
    "- $y$ is the number of possible arrangements, modulo $1000000007(109+7)$.\n",
    "\n",
    "_Limits_\n",
    "\n",
    "$1 \\leq T \\leq 100$.\n",
    "\n",
    "Small dataset\n",
    "\n",
    "$1 \\leq M \\leq N \\leq 100$.\n",
    "\n",
    "Large dataset\n",
    "\n",
    "$1 \\leq M \\leq N \\leq 100000$."
   ]
  },
  {
   "cell_type": "markdown",
   "metadata": {},
   "source": [
    "## Sample\n",
    "\n",
    "| - | Input | - | Output |\n",
    "| :-: | :-: | :-: | :-: |\n",
    "| T | 5 | - | - |\n",
    "| N M | 2 1 | Number of Possible Arrangements | `Case #1: 12` |\n",
    "| N M | 2 2 | Number of Possible Arrangements | `Case #2: 8` |\n",
    "| N M | 3 1 | Number of Possible Arrangements | `Case #3: 480` |\n",
    "| N M | 3 2  | Number of Possible Arrangements | `Case #4: 336` |\n",
    "| N M | 10 5 | Number of Possible Arrangements | `Case #5: 560963525` |\n"
   ]
  },
  {
   "cell_type": "markdown",
   "metadata": {},
   "source": [
    "## Problem C. Decision"
   ]
  },
  {
   "cell_type": "markdown",
   "metadata": {},
   "source": [
    "Let's generate simulation of this problem in trivial cases. "
   ]
  },
  {
   "cell_type": "code",
   "execution_count": 610,
   "metadata": {},
   "outputs": [
    {
     "data": {
      "text/plain": [
       "([1, 2, 3, 6, 9, 18], 720)"
      ]
     },
     "execution_count": 610,
     "metadata": {},
     "output_type": "execute_result"
    }
   ],
   "source": [
    "from itertools import permutations\n",
    "import string\n",
    "\n",
    "def factors(x):    \n",
    "    l1, l2 = [], []\n",
    "    for i in range(1, int(x ** 0.5) + 1):\n",
    "        q, r = x // i, x % i     \n",
    "        if r == 0:\n",
    "            l1.append(i) \n",
    "            l2.append(q)    \n",
    "    if l1[-1] == l2[-1]:   \n",
    "        l1.pop()\n",
    "    l2.reverse()\n",
    "    return l1 + l2\n",
    "\n",
    "def factorial(x):\n",
    "    if x < 2: return 1\n",
    "    return x * factorial(x - 1)\n",
    "\n",
    "def simulation(N, M):\n",
    "    L = list(string.ascii_lowercase)[:2 * N]\n",
    "    P = [''.join(list(l)) for l in list(permutations(L))]\n",
    "    F = P\n",
    "    LC = [[L[i] + L[i+1], L[i+1] + L[i]] for i in range(0, 2*M, 2)]\n",
    "    for el in LC:\n",
    "        for j in range(2):\n",
    "            F = [x.replace(el[j],'') for x in F]\n",
    "    F = [x for x in F if len(x) == len(L)]\n",
    "    return (L, P, F, LC, N, M)\n",
    "\n",
    "def start_letter(L, F):\n",
    "    C = len(L) * [0]\n",
    "    for i in range(len(L)):\n",
    "        c = 0\n",
    "        for j in range(len(F)):\n",
    "            if L[i] == F[j][0]: c += 1\n",
    "        C[i] = c\n",
    "    return C\n",
    "\n",
    "factors(18), factorial(6)"
   ]
  },
  {
   "cell_type": "code",
   "execution_count": 611,
   "metadata": {},
   "outputs": [
    {
     "name": "stdout",
     "output_type": "stream",
     "text": [
      "  ['a', 'b', 'c', 'd'] \n",
      "\n",
      "  ['abcd', 'abdc', 'acbd', 'acdb', 'adbc', 'adcb', 'bacd', 'badc', 'bcad', 'bcda', 'bdac', 'bdca', 'cabd', 'cadb', 'cbad', 'cbda', 'cdab', 'cdba', 'dabc', 'dacb', 'dbac', 'dbca', 'dcab', 'dcba'] \n",
      "\n",
      "  ['acbd', 'acdb', 'adbc', 'adcb', 'bcad', 'bcda', 'bdac', 'bdca', 'cadb', 'cbda', 'dacb', 'dbca'] \n",
      "\n",
      "  [['ab', 'ba']] \n",
      "\n",
      "  2 1 12\n"
     ]
    },
    {
     "data": {
      "text/plain": [
       "([4, 4, 2, 2], 24)"
      ]
     },
     "execution_count": 611,
     "metadata": {},
     "output_type": "execute_result"
    }
   ],
   "source": [
    "L, P, F, LC, N, M = simulation(2, 1)\n",
    "print(' ', L, '\\n\\n ', P, '\\n\\n ', F, '\\n\\n ', LC, '\\n\\n ', N, M, len(F))\n",
    "start_letter(L, F), factorial(2 * N)"
   ]
  },
  {
   "cell_type": "code",
   "execution_count": 596,
   "metadata": {},
   "outputs": [
    {
     "name": "stdout",
     "output_type": "stream",
     "text": [
      "  ['a', 'b', 'c', 'd'] \n",
      "\n",
      "  ['abcd', 'abdc', 'acbd', 'acdb', 'adbc', 'adcb', 'bacd', 'badc', 'bcad', 'bcda', 'bdac', 'bdca', 'cabd', 'cadb', 'cbad', 'cbda', 'cdab', 'cdba', 'dabc', 'dacb', 'dbac', 'dbca', 'dcab', 'dcba'] \n",
      "\n",
      "  ['acbd', 'adbc', 'bcad', 'bdac', 'cadb', 'cbda', 'dacb', 'dbca'] \n",
      "\n",
      "  [['ab', 'ba'], ['cd', 'dc']] \n",
      "\n",
      "  2 2 8\n"
     ]
    },
    {
     "data": {
      "text/plain": [
       "([2, 2, 2, 2], 24)"
      ]
     },
     "execution_count": 596,
     "metadata": {},
     "output_type": "execute_result"
    }
   ],
   "source": [
    "L, P, F, LC, N, M = simulation(2, 2)\n",
    "print(' ', L, '\\n\\n ', P, '\\n\\n ', F, '\\n\\n ', LC, '\\n\\n ', N, M, len(F))\n",
    "start_letter(L, F), factorial(2 * N)"
   ]
  },
  {
   "cell_type": "code",
   "execution_count": 597,
   "metadata": {},
   "outputs": [
    {
     "name": "stdout",
     "output_type": "stream",
     "text": [
      "  ['a', 'b', 'c', 'd', 'e', 'f'] \n",
      "\n",
      "  [['ab', 'ba']] \n",
      "\n",
      "  3 1 480\n"
     ]
    },
    {
     "data": {
      "text/plain": [
       "([96, 96, 72, 72, 72, 72], 720)"
      ]
     },
     "execution_count": 597,
     "metadata": {},
     "output_type": "execute_result"
    }
   ],
   "source": [
    "L, P, F, LC, N, M = simulation(3, 1)\n",
    "print(' ', L, '\\n\\n ', LC, '\\n\\n ', N, M, len(F))\n",
    "start_letter(L, F), factorial(2 * N)"
   ]
  },
  {
   "cell_type": "code",
   "execution_count": 598,
   "metadata": {},
   "outputs": [
    {
     "name": "stdout",
     "output_type": "stream",
     "text": [
      "  ['a', 'b', 'c', 'd', 'e', 'f'] \n",
      "\n",
      "  [['ab', 'ba'], ['cd', 'dc']] \n",
      "\n",
      "  3 2 336\n"
     ]
    },
    {
     "data": {
      "text/plain": [
       "([60, 60, 60, 60, 48, 48], 720)"
      ]
     },
     "execution_count": 598,
     "metadata": {},
     "output_type": "execute_result"
    }
   ],
   "source": [
    "L, P, F, LC, N, M = simulation(3, 2)\n",
    "print(' ', L, '\\n\\n ', LC, '\\n\\n ', N, M, len(F))\n",
    "start_letter(L, F), factorial(2 * N)"
   ]
  },
  {
   "cell_type": "code",
   "execution_count": 599,
   "metadata": {},
   "outputs": [
    {
     "name": "stdout",
     "output_type": "stream",
     "text": [
      "  ['a', 'b', 'c', 'd', 'e', 'f'] \n",
      "\n",
      "  ['acbedf', 'acbfde', 'acebdf', 'acebfd', 'acedbf', 'acedfb', 'acfbde', 'acfbed', 'acfdbe', 'acfdeb', 'adbecf', 'adbfce', 'adebcf', 'adebfc', 'adecbf', 'adecfb', 'adfbce', 'adfbec', 'adfcbe', 'adfceb', 'aebcfd', 'aebdfc', 'aecbdf', 'aecbfd', 'aecfbd', 'aecfdb', 'aedbcf', 'aedbfc', 'aedfbc', 'aedfcb', 'afbced', 'afbdec', 'afcbde', 'afcbed', 'afcebd', 'afcedb', 'afdbce', 'afdbec', 'afdebc', 'afdecb', 'bcaedf', 'bcafde', 'bceadf', 'bceafd', 'bcedaf', 'bcedfa', 'bcfade', 'bcfaed', 'bcfdae', 'bcfdea', 'bdaecf', 'bdafce', 'bdeacf', 'bdeafc', 'bdecaf', 'bdecfa', 'bdface', 'bdfaec', 'bdfcae', 'bdfcea', 'beacfd', 'beadfc', 'becadf', 'becafd', 'becfad', 'becfda', 'bedacf', 'bedafc', 'bedfac', 'bedfca', 'bfaced', 'bfadec', 'bfcade', 'bfcaed', 'bfcead', 'bfceda', 'bfdace', 'bfdaec', 'bfdeac', 'bfdeca', 'cadebf', 'cadfbe', 'caebdf', 'caebfd', 'caedbf', 'caedfb', 'cafbde', 'cafbed', 'cafdbe', 'cafdeb', 'cbdeaf', 'cbdfae', 'cbeadf', 'cbeafd', 'cbedaf', 'cbedfa', 'cbfade', 'cbfaed', 'cbfdae', 'cbfdea', 'ceadbf', 'ceadfb', 'ceafbd', 'ceafdb', 'cebdaf', 'cebdfa', 'cebfad', 'cebfda', 'cedafb', 'cedbfa', 'cfadbe', 'cfadeb', 'cfaebd', 'cfaedb', 'cfbdae', 'cfbdea', 'cfbead', 'cfbeda', 'cfdaeb', 'cfdbea', 'dacebf', 'dacfbe', 'daebcf', 'daebfc', 'daecbf', 'daecfb', 'dafbce', 'dafbec', 'dafcbe', 'dafceb', 'dbceaf', 'dbcfae', 'dbeacf', 'dbeafc', 'dbecaf', 'dbecfa', 'dbface', 'dbfaec', 'dbfcae', 'dbfcea', 'deacbf', 'deacfb', 'deafbc', 'deafcb', 'debcaf', 'debcfa', 'debfac', 'debfca', 'decafb', 'decbfa', 'dfacbe', 'dfaceb', 'dfaebc', 'dfaecb', 'dfbcae', 'dfbcea', 'dfbeac', 'dfbeca', 'dfcaeb', 'dfcbea', 'eacbdf', 'eacbfd', 'eacfbd', 'eacfdb', 'eadbcf', 'eadbfc', 'eadfbc', 'eadfcb', 'eafcbd', 'eafdbc', 'ebcadf', 'ebcafd', 'ebcfad', 'ebcfda', 'ebdacf', 'ebdafc', 'ebdfac', 'ebdfca', 'ebfcad', 'ebfdac', 'ecadbf', 'ecadfb', 'ecafbd', 'ecafdb', 'ecbdaf', 'ecbdfa', 'ecbfad', 'ecbfda', 'ecfadb', 'ecfbda', 'edacbf', 'edacfb', 'edafbc', 'edafcb', 'edbcaf', 'edbcfa', 'edbfac', 'edbfca', 'edfacb', 'edfbca', 'facbde', 'facbed', 'facebd', 'facedb', 'fadbce', 'fadbec', 'fadebc', 'fadecb', 'faecbd', 'faedbc', 'fbcade', 'fbcaed', 'fbcead', 'fbceda', 'fbdace', 'fbdaec', 'fbdeac', 'fbdeca', 'fbecad', 'fbedac', 'fcadbe', 'fcadeb', 'fcaebd', 'fcaedb', 'fcbdae', 'fcbdea', 'fcbead', 'fcbeda', 'fceadb', 'fcebda', 'fdacbe', 'fdaceb', 'fdaebc', 'fdaecb', 'fdbcae', 'fdbcea', 'fdbeac', 'fdbeca', 'fdeacb', 'fdebca'] \n",
      "\n",
      "  [['ab', 'ba'], ['cd', 'dc'], ['ef', 'fe']] \n",
      "\n",
      "  3 3 240\n"
     ]
    },
    {
     "data": {
      "text/plain": [
       "([40, 40, 40, 40, 40, 40], 720)"
      ]
     },
     "execution_count": 599,
     "metadata": {},
     "output_type": "execute_result"
    }
   ],
   "source": [
    "L, P, F, LC, N, M = simulation(3, 3)\n",
    "print(' ', L, '\\n\\n ', F, '\\n\\n ', LC, '\\n\\n ', N, M, len(F))\n",
    "start_letter(L, F), factorial(2 * N)"
   ]
  },
  {
   "cell_type": "code",
   "execution_count": 600,
   "metadata": {},
   "outputs": [
    {
     "name": "stdout",
     "output_type": "stream",
     "text": [
      "  ['a', 'b', 'c', 'd', 'e', 'f', 'g', 'h'] \n",
      "\n",
      "  [['ab', 'ba']] \n",
      "\n",
      "  4 1 30240\n"
     ]
    },
    {
     "data": {
      "text/plain": [
       "([4320, 4320, 3600, 3600, 3600, 3600, 3600, 3600], 40320)"
      ]
     },
     "execution_count": 600,
     "metadata": {},
     "output_type": "execute_result"
    }
   ],
   "source": [
    "L, P, F, LC, N, M = simulation(4, 1)\n",
    "print(' ', L, '\\n\\n ', LC, '\\n\\n ', N, M, len(F))\n",
    "start_letter(L, F), factorial(2 * N)"
   ]
  },
  {
   "cell_type": "code",
   "execution_count": 601,
   "metadata": {},
   "outputs": [
    {
     "name": "stdout",
     "output_type": "stream",
     "text": [
      "  ['a', 'b', 'c', 'd', 'e', 'f', 'g', 'h'] \n",
      "\n",
      "  [['ab', 'ba'], ['cd', 'dc']] \n",
      "\n",
      "  4 2 23040\n"
     ]
    },
    {
     "data": {
      "text/plain": [
       "([3120, 3120, 3120, 3120, 2640, 2640, 2640, 2640], 40320)"
      ]
     },
     "execution_count": 601,
     "metadata": {},
     "output_type": "execute_result"
    }
   ],
   "source": [
    "L, P, F, LC, N, M = simulation(4, 2)\n",
    "print(' ', L, '\\n\\n ', LC, '\\n\\n ', N, M, len(F))\n",
    "start_letter(L, F), factorial(2 * N)"
   ]
  },
  {
   "cell_type": "code",
   "execution_count": 602,
   "metadata": {},
   "outputs": [
    {
     "name": "stdout",
     "output_type": "stream",
     "text": [
      "  ['a', 'b', 'c', 'd', 'e', 'f', 'g', 'h'] \n",
      "\n",
      "  [['ab', 'ba'], ['cd', 'dc'], ['ef', 'fe']] \n",
      "\n",
      "  4 3 17760\n"
     ]
    },
    {
     "data": {
      "text/plain": [
       "([2304, 2304, 2304, 2304, 2304, 2304, 1968, 1968], 40320)"
      ]
     },
     "execution_count": 602,
     "metadata": {},
     "output_type": "execute_result"
    }
   ],
   "source": [
    "L, P, F, LC, N, M = simulation(4, 3)\n",
    "print(' ', L, '\\n\\n ', LC, '\\n\\n ', N, M, len(F))\n",
    "start_letter(L, F), factorial(2 * N) "
   ]
  },
  {
   "cell_type": "code",
   "execution_count": 603,
   "metadata": {},
   "outputs": [
    {
     "name": "stdout",
     "output_type": "stream",
     "text": [
      "  ['a', 'b', 'c', 'd', 'e', 'f', 'g', 'h'] \n",
      "\n",
      "  [['ab', 'ba'], ['cd', 'dc'], ['ef', 'fe'], ['gh', 'hg']] \n",
      "\n",
      "  4 4 13824\n"
     ]
    },
    {
     "data": {
      "text/plain": [
       "([1728, 1728, 1728, 1728, 1728, 1728, 1728, 1728], 40320)"
      ]
     },
     "execution_count": 603,
     "metadata": {},
     "output_type": "execute_result"
    }
   ],
   "source": [
    "L, P, F, LC, N, M = simulation(4, 4)\n",
    "print(' ', L, '\\n\\n ', LC, '\\n\\n ', N, M, len(F))\n",
    "start_letter(L, F), factorial(2 * N)"
   ]
  },
  {
   "cell_type": "code",
   "execution_count": null,
   "metadata": {},
   "outputs": [],
   "source": []
  },
  {
   "cell_type": "code",
   "execution_count": null,
   "metadata": {},
   "outputs": [],
   "source": []
  }
 ],
 "metadata": {
  "kernelspec": {
   "display_name": "Python 3",
   "language": "python",
   "name": "python3"
  },
  "language_info": {
   "codemirror_mode": {
    "name": "ipython",
    "version": 3
   },
   "file_extension": ".py",
   "mimetype": "text/x-python",
   "name": "python",
   "nbconvert_exporter": "python",
   "pygments_lexer": "ipython3",
   "version": "3.6.4"
  }
 },
 "nbformat": 4,
 "nbformat_minor": 2
}
